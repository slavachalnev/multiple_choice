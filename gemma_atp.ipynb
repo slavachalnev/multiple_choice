{
 "cells": [
  {
   "cell_type": "code",
   "execution_count": 1,
   "metadata": {},
   "outputs": [
    {
     "name": "stderr",
     "output_type": "stream",
     "text": [
      "WARNING:root:float16 models may not work on CPU. Consider using a GPU or bfloat16.\n",
      "WARNING:root:With reduced precision, it is advised to use `from_pretrained_no_processing` instead of `from_pretrained`.\n"
     ]
    },
    {
     "name": "stdout",
     "output_type": "stream",
     "text": [
      "Loaded pretrained model gpt2 into HookedTransformer\n"
     ]
    }
   ],
   "source": [
    "import torch\n",
    "import numpy as np\n",
    "import random\n",
    "from transformer_lens import HookedTransformer, ActivationCache\n",
    "import transformer_lens.utils as utils\n",
    "import plotly.express as px\n",
    "\n",
    "\n",
    "SEED = 42\n",
    "torch.manual_seed(SEED)\n",
    "np.random.seed(SEED)\n",
    "random.seed(SEED)\n",
    "\n",
    "# %%\n",
    "model = HookedTransformer.from_pretrained('gpt2', dtype=torch.float16)"
   ]
  },
  {
   "cell_type": "code",
   "execution_count": 17,
   "metadata": {},
   "outputs": [],
   "source": [
    "from atp import Patching\n",
    "model.eval()\n",
    "model.set_use_attn_result(True)\n",
    "model.set_use_attn_in(True)\n",
    "model.set_use_hook_mlp_in(True)\n",
    "model.set_use_split_qkv_input(True)\n",
    "\n",
    "from importlib import reload\n",
    "import atp\n",
    "reload(atp)\n",
    "\n",
    "patching = atp.Patching(model, 'ap')"
   ]
  },
  {
   "cell_type": "code",
   "execution_count": 3,
   "metadata": {},
   "outputs": [
    {
     "name": "stderr",
     "output_type": "stream",
     "text": [
      "huggingface/tokenizers: The current process just got forked, after parallelism has already been used. Disabling parallelism to avoid deadlocks...\n",
      "To disable this warning, you can either:\n",
      "\t- Avoid using `tokenizers` before the fork if possible\n",
      "\t- Explicitly set the environment variable TOKENIZERS_PARALLELISM=(true | false)\n"
     ]
    },
    {
     "data": {
      "application/vnd.jupyter.widget-view+json": {
       "model_id": "83500d54074c4e3cad71a995f962d141",
       "version_major": 2,
       "version_minor": 0
      },
      "text/plain": [
       "Downloading readme:   0%|          | 0.00/53.2k [00:00<?, ?B/s]"
      ]
     },
     "metadata": {},
     "output_type": "display_data"
    },
    {
     "data": {
      "application/vnd.jupyter.widget-view+json": {
       "model_id": "be225670f5054d7ea99daceca9bfbbc3",
       "version_major": 2,
       "version_minor": 0
      },
      "text/plain": [
       "Downloading metadata:   0%|          | 0.00/138k [00:00<?, ?B/s]"
      ]
     },
     "metadata": {},
     "output_type": "display_data"
    },
    {
     "data": {
      "application/vnd.jupyter.widget-view+json": {
       "model_id": "71e53e72846a43078ac6736f1d3c7d10",
       "version_major": 2,
       "version_minor": 0
      },
      "text/plain": [
       "Downloading data:   0%|          | 0.00/62.7k [00:00<?, ?B/s]"
      ]
     },
     "metadata": {},
     "output_type": "display_data"
    },
    {
     "data": {
      "application/vnd.jupyter.widget-view+json": {
       "model_id": "59a54f8a74b742978440a96b32907182",
       "version_major": 2,
       "version_minor": 0
      },
      "text/plain": [
       "Downloading data:   0%|          | 0.00/10.6k [00:00<?, ?B/s]"
      ]
     },
     "metadata": {},
     "output_type": "display_data"
    },
    {
     "data": {
      "application/vnd.jupyter.widget-view+json": {
       "model_id": "c70a256cb03e405f8cc06e63d0043116",
       "version_major": 2,
       "version_minor": 0
      },
      "text/plain": [
       "Downloading data:   0%|          | 0.00/4.94k [00:00<?, ?B/s]"
      ]
     },
     "metadata": {},
     "output_type": "display_data"
    },
    {
     "data": {
      "application/vnd.jupyter.widget-view+json": {
       "model_id": "ceb447be1d5d4811ac0264ea52e50b84",
       "version_major": 2,
       "version_minor": 0
      },
      "text/plain": [
       "Generating test split:   0%|          | 0/310 [00:00<?, ? examples/s]"
      ]
     },
     "metadata": {},
     "output_type": "display_data"
    },
    {
     "data": {
      "application/vnd.jupyter.widget-view+json": {
       "model_id": "d94c59bd368e4056add14be9d12f10d8",
       "version_major": 2,
       "version_minor": 0
      },
      "text/plain": [
       "Generating validation split:   0%|          | 0/32 [00:00<?, ? examples/s]"
      ]
     },
     "metadata": {},
     "output_type": "display_data"
    },
    {
     "data": {
      "application/vnd.jupyter.widget-view+json": {
       "model_id": "83aea9c558f14909be334aa0b9f9e26c",
       "version_major": 2,
       "version_minor": 0
      },
      "text/plain": [
       "Generating dev split:   0%|          | 0/5 [00:00<?, ? examples/s]"
      ]
     },
     "metadata": {},
     "output_type": "display_data"
    }
   ],
   "source": [
    "from datasets import load_dataset\n",
    "\n",
    "dataset = load_dataset(\"cais/mmlu\", \"high_school_biology\")"
   ]
  },
  {
   "cell_type": "code",
   "execution_count": 7,
   "metadata": {},
   "outputs": [],
   "source": [
    "letters = ['A', 'B', 'C', 'D']\n",
    "prelude = \"A highly knowledgeable and intelligent AI answers multiple-choice questions about Biology. \"\n",
    "post_text = \"Answer: (\"\n",
    "\n",
    "def get_prompt_pair(i):\n",
    "    correct_id = dataset[\"test\"][i][\"answer\"]\n",
    "    question = dataset[\"test\"][i][\"question\"] + ':\\n'\n",
    "\n",
    "    clean_answers = f\"\"\"\n",
    "(A) {dataset[\"test\"][i][\"choices\"][0][:-1]}\n",
    "(B) {dataset[\"test\"][i][\"choices\"][1][:-1]}\n",
    "(C) {dataset[\"test\"][i][\"choices\"][2][:-1]}\n",
    "(D) {dataset[\"test\"][i][\"choices\"][3][:-1]}\n",
    "\"\"\"\n",
    "\n",
    "    corrupted_answers = f\"\"\"\n",
    "(A) {dataset[\"test\"][i][\"choices\"][1][:-1]}\n",
    "(B) {dataset[\"test\"][i][\"choices\"][2][:-1]}\n",
    "(C) {dataset[\"test\"][i][\"choices\"][3][:-1]}\n",
    "(D) {dataset[\"test\"][i][\"choices\"][0][:-1]}\n",
    "\"\"\"\n",
    "\n",
    "    clean = prelude + question + clean_answers + post_text\n",
    "    corrupted = prelude + question + corrupted_answers + post_text\n",
    "\n",
    "    return clean, corrupted, letters[correct_id]"
   ]
  },
  {
   "cell_type": "code",
   "execution_count": 8,
   "metadata": {},
   "outputs": [
    {
     "name": "stdout",
     "output_type": "stream",
     "text": [
      "A highly knowledgeable and intelligent AI answers multiple-choice questions about Biology. In a population of giraffes, an environmental change occurs that favors individuals that are tallest. As a result, more of the taller individuals are able to obtain nutrients and survive to pass along their genetic information. This is an example of:\n",
      "\n",
      "(A) directional selection\n",
      "(B) stabilizing selection\n",
      "(C) sexual selection\n",
      "(D) disruptive selection\n",
      "Answer: (\n",
      "A highly knowledgeable and intelligent AI answers multiple-choice questions about Biology. In a population of giraffes, an environmental change occurs that favors individuals that are tallest. As a result, more of the taller individuals are able to obtain nutrients and survive to pass along their genetic information. This is an example of:\n",
      "\n",
      "(A) stabilizing selection\n",
      "(B) sexual selection\n",
      "(C) disruptive selection\n",
      "(D) directional selection\n",
      "Answer: (\n",
      "A\n"
     ]
    }
   ],
   "source": [
    "x_clean, x_corr, a_clean = get_prompt_pair(0)\n",
    "print(x_clean)\n",
    "print(x_corr)\n",
    "print(a_clean)"
   ]
  },
  {
   "cell_type": "code",
   "execution_count": null,
   "metadata": {},
   "outputs": [],
   "source": [
    "# Check if the model can generate the correct answer\n",
    "print(model.generate(x_clean), max_new_tokens=1)"
   ]
  },
  {
   "cell_type": "code",
   "execution_count": 18,
   "metadata": {},
   "outputs": [
    {
     "name": "stdout",
     "output_type": "stream",
     "text": [
      "Clean logit difference: 3.055\n",
      "Corrupted logit difference: 3.094\n",
      "Patching...\n"
     ]
    },
    {
     "name": "stderr",
     "output_type": "stream",
     "text": [
      "100%|██████████| 12/12 [02:09<00:00, 10.77s/it]\n"
     ]
    }
   ],
   "source": [
    "patching.patching(x_clean, a_clean, x_corr, \"D\", component='attn_out') # mlp_post / attn_out"
   ]
  },
  {
   "cell_type": "code",
   "execution_count": 19,
   "metadata": {},
   "outputs": [
    {
     "data": {
      "application/vnd.plotly.v1+json": {
       "config": {
        "plotlyServerURL": "https://plot.ly"
       },
       "data": [
        {
         "coloraxis": "coloraxis",
         "hovertemplate": "x: %{x}<br>y: %{y}<br>color: %{z}<extra></extra>",
         "name": "0",
         "type": "heatmap",
         "x": [
          "<|endoftext|> (0)",
          "A (1)",
          " highly (2)",
          " knowledgeable (3)",
          " and (4)",
          " intelligent (5)",
          " AI (6)",
          " answers (7)",
          " multiple (8)",
          "- (9)",
          "choice (10)",
          " questions (11)",
          " about (12)",
          " Biology (13)",
          ". (14)",
          " In (15)",
          " a (16)",
          " population (17)",
          " of (18)",
          " gir (19)",
          "aff (20)",
          "es (21)",
          ", (22)",
          " an (23)",
          " environmental (24)",
          " change (25)",
          " occurs (26)",
          " that (27)",
          " favors (28)",
          " individuals (29)",
          " that (30)",
          " are (31)",
          " tallest (32)",
          ". (33)",
          " As (34)",
          " a (35)",
          " result (36)",
          ", (37)",
          " more (38)",
          " of (39)",
          " the (40)",
          " taller (41)",
          " individuals (42)",
          " are (43)",
          " able (44)",
          " to (45)",
          " obtain (46)",
          " nutrients (47)",
          " and (48)",
          " survive (49)",
          " to (50)",
          " pass (51)",
          " along (52)",
          " their (53)",
          " genetic (54)",
          " information (55)",
          ". (56)",
          " This (57)",
          " is (58)",
          " an (59)",
          " example (60)",
          " of (61)",
          ": (62)",
          "\n (63)",
          "\n (64)",
          "( (65)",
          "A (66)",
          ") (67)",
          " directional (68)",
          " selection (69)",
          "\n (70)",
          "( (71)",
          "B (72)",
          ") (73)",
          " stabil (74)",
          "izing (75)",
          " selection (76)",
          "\n (77)",
          "( (78)",
          "C (79)",
          ") (80)",
          " sexual (81)",
          " selection (82)",
          "\n (83)",
          "( (84)",
          "D (85)",
          ") (86)",
          " disruptive (87)",
          " selection (88)",
          "\n (89)",
          "Answer (90)",
          ": (91)",
          " ( (92)"
         ],
         "xaxis": "x",
         "y": [
          "L0",
          "L1",
          "L2",
          "L3",
          "L4",
          "L5",
          "L6",
          "L7",
          "L8",
          "L9",
          "L10",
          "L11"
         ],
         "yaxis": "y",
         "z": [
          [
           0,
           0,
           0,
           0,
           0,
           0,
           0,
           0,
           0,
           0,
           0,
           0,
           0,
           0,
           0,
           0,
           0,
           0,
           0,
           0,
           0,
           0,
           0,
           0,
           0,
           0,
           0,
           0,
           0,
           0,
           0,
           0,
           0,
           0,
           0,
           0,
           0,
           0,
           0,
           0,
           0,
           0,
           0,
           0,
           0,
           0,
           0,
           0,
           0,
           0,
           0,
           0,
           0,
           0,
           0,
           0,
           0,
           0,
           0,
           0,
           0,
           0,
           0,
           0,
           0,
           0,
           0,
           0,
           0.60009766,
           -2,
           -1.2001953,
           0.19995117,
           0.60009766,
           1,
           -1,
           0.39990234,
           -0.19995117,
           -0.19995117,
           0.19995117,
           0,
           -0.19995117,
           -0.39990234,
           0,
           0.19995117,
           0,
           0,
           0,
           -0.60009766,
           0,
           0,
           0.60009766,
           0,
           0.39990234
          ],
          [
           0,
           0,
           0,
           0,
           0,
           0,
           0,
           0,
           0,
           0,
           0,
           0,
           0,
           0,
           0,
           0,
           0,
           0,
           0,
           0,
           0,
           0,
           0,
           0,
           0,
           0,
           0,
           0,
           0,
           0,
           0,
           0,
           0,
           0,
           0,
           0,
           0,
           0,
           0,
           0,
           0,
           0,
           0,
           0,
           0,
           0,
           0,
           0,
           0,
           0,
           0,
           0,
           0,
           0,
           0,
           0,
           0,
           0,
           0,
           0,
           0,
           0,
           0,
           0,
           0,
           0,
           0,
           0,
           0.19995117,
           -0.39990234,
           0.60009766,
           0,
           -1,
           0.19995117,
           -0.19995117,
           -0.19995117,
           -0.19995117,
           0,
           0.19995117,
           0.39990234,
           0,
           -0.39990234,
           0,
           0.19995117,
           0.19995117,
           0.19995117,
           0.19995117,
           0,
           -0.19995117,
           0.19995117,
           -0.19995117,
           0,
           -0.19995117
          ],
          [
           0,
           0,
           0,
           0,
           0,
           0,
           0,
           0,
           0,
           0,
           0,
           0,
           0,
           0,
           0,
           0,
           0,
           0,
           0,
           0,
           0,
           0,
           0,
           0,
           0,
           0,
           0,
           0,
           0,
           0,
           0,
           0,
           0,
           0,
           0,
           0,
           0,
           0,
           0,
           0,
           0,
           0,
           0,
           0,
           0,
           0,
           0,
           0,
           0,
           0,
           0,
           0,
           0,
           0,
           0,
           0,
           0,
           0,
           0,
           0,
           0,
           0,
           0,
           0,
           0,
           0,
           0,
           0,
           -0.19995117,
           0,
           0,
           0.60009766,
           0.39990234,
           0.39990234,
           0.39990234,
           0.19995117,
           0.39990234,
           0.60009766,
           -0.19995117,
           0.19995117,
           0,
           -0.60009766,
           0,
           0,
           0.19995117,
           0.39990234,
           -0.19995117,
           0.19995117,
           0,
           0.39990234,
           0.19995117,
           0.39990234,
           0.39990234
          ],
          [
           0,
           0,
           0,
           0,
           0,
           0,
           0,
           0,
           0,
           0,
           0,
           0,
           0,
           0,
           0,
           0,
           0,
           0,
           0,
           0,
           0,
           0,
           0,
           0,
           0,
           0,
           0,
           0,
           0,
           0,
           0,
           0,
           0,
           0,
           0,
           0,
           0,
           0,
           0,
           0,
           0,
           0,
           0,
           0,
           0,
           0,
           0,
           0,
           0,
           0,
           0,
           0,
           0,
           0,
           0,
           0,
           0,
           0,
           0,
           0,
           0,
           0,
           0,
           0,
           0,
           0,
           0,
           0,
           -0.39990234,
           0.7998047,
           -0.19995117,
           0.19995117,
           -0.39990234,
           0.19995117,
           0.19995117,
           0.19995117,
           0,
           0.19995117,
           -0.19995117,
           0,
           0.19995117,
           0,
           0,
           0.19995117,
           0,
           0.39990234,
           -0.19995117,
           0,
           0,
           0.39990234,
           0.39990234,
           0.39990234,
           -0.39990234
          ],
          [
           0,
           0,
           0,
           0,
           0,
           0,
           0,
           0,
           0,
           0,
           0,
           0,
           0,
           0,
           0,
           0,
           0,
           0,
           0,
           0,
           0,
           0,
           0,
           0,
           0,
           0,
           0,
           0,
           0,
           0,
           0,
           0,
           0,
           0,
           0,
           0,
           0,
           0,
           0,
           0,
           0,
           0,
           0,
           0,
           0,
           0,
           0,
           0,
           0,
           0,
           0,
           0,
           0,
           0,
           0,
           0,
           0,
           0,
           0,
           0,
           0,
           0,
           0,
           0,
           0,
           0,
           0,
           0,
           0,
           0.19995117,
           -0.60009766,
           0.7998047,
           -2.1992188,
           -3,
           0.19995117,
           0,
           0.19995117,
           0.19995117,
           0.19995117,
           0,
           0,
           0.19995117,
           0,
           0.39990234,
           0.19995117,
           -0.39990234,
           0.19995117,
           0,
           0,
           0,
           -0.60009766,
           0,
           0.19995117
          ],
          [
           0,
           0,
           0,
           0,
           0,
           0,
           0,
           0,
           0,
           0,
           0,
           0,
           0,
           0,
           0,
           0,
           0,
           0,
           0,
           0,
           0,
           0,
           0,
           0,
           0,
           0,
           0,
           0,
           0,
           0,
           0,
           0,
           0,
           0,
           0,
           0,
           0,
           0,
           0,
           0,
           0,
           0,
           0,
           0,
           0,
           0,
           0,
           0,
           0,
           0,
           0,
           0,
           0,
           0,
           0,
           0,
           0,
           0,
           0,
           0,
           0,
           0,
           0,
           0,
           0,
           0,
           0,
           0,
           0,
           -0.19995117,
           -0.60009766,
           0.60009766,
           0.60009766,
           3,
           0,
           -0.19995117,
           0,
           0.19995117,
           0.19995117,
           0.19995117,
           0.19995117,
           0.19995117,
           0.60009766,
           0.19995117,
           0.19995117,
           0,
           0.19995117,
           0,
           -0.19995117,
           0,
           0.60009766,
           0.39990234,
           0
          ],
          [
           0,
           0,
           0,
           0,
           0,
           0,
           0,
           0,
           0,
           0,
           0,
           0,
           0,
           0,
           0,
           0,
           0,
           0,
           0,
           0,
           0,
           0,
           0,
           0,
           0,
           0,
           0,
           0,
           0,
           0,
           0,
           0,
           0,
           0,
           0,
           0,
           0,
           0,
           0,
           0,
           0,
           0,
           0,
           0,
           0,
           0,
           0,
           0,
           0,
           0,
           0,
           0,
           0,
           0,
           0,
           0,
           0,
           0,
           0,
           0,
           0,
           0,
           0,
           0,
           0,
           0,
           0,
           0,
           0.19995117,
           0,
           -0.7998047,
           -0.39990234,
           0.7998047,
           0.7998047,
           -0.19995117,
           0,
           0,
           0,
           -0.19995117,
           -0.60009766,
           -0.19995117,
           0,
           0,
           0,
           0,
           0.60009766,
           0,
           0,
           0,
           0,
           -0.19995117,
           1,
           1
          ],
          [
           0,
           0,
           0,
           0,
           0,
           0,
           0,
           0,
           0,
           0,
           0,
           0,
           0,
           0,
           0,
           0,
           0,
           0,
           0,
           0,
           0,
           0,
           0,
           0,
           0,
           0,
           0,
           0,
           0,
           0,
           0,
           0,
           0,
           0,
           0,
           0,
           0,
           0,
           0,
           0,
           0,
           0,
           0,
           0,
           0,
           0,
           0,
           0,
           0,
           0,
           0,
           0,
           0,
           0,
           0,
           0,
           0,
           0,
           0,
           0,
           0,
           0,
           0,
           0,
           0,
           0,
           0,
           0,
           0,
           0,
           0,
           0,
           -1.7998047,
           0.39990234,
           -0.19995117,
           0,
           0,
           0,
           0,
           0.39990234,
           0.19995117,
           -0.19995117,
           0,
           0,
           0.19995117,
           -0.39990234,
           0,
           0,
           0,
           0,
           0,
           -1,
           -0.7998047
          ],
          [
           0,
           0,
           0,
           0,
           0,
           0,
           0,
           0,
           0,
           0,
           0,
           0,
           0,
           0,
           0,
           0,
           0,
           0,
           0,
           0,
           0,
           0,
           0,
           0,
           0,
           0,
           0,
           0,
           0,
           0,
           0,
           0,
           0,
           0,
           0,
           0,
           0,
           0,
           0,
           0,
           0,
           0,
           0,
           0,
           0,
           0,
           0,
           0,
           0,
           0,
           0,
           0,
           0,
           0,
           0,
           0,
           0,
           0,
           0,
           0,
           0,
           0,
           0,
           0,
           0,
           0,
           0,
           0,
           -0.19995117,
           0,
           0,
           0.19995117,
           -1.2001953,
           0.39990234,
           -0.19995117,
           0,
           0,
           0,
           0,
           -0.39990234,
           0,
           -0.19995117,
           0,
           -0.19995117,
           0,
           -0.39990234,
           0,
           0.19995117,
           0,
           0,
           0,
           0.39990234,
           0
          ],
          [
           0,
           0,
           0,
           0,
           0,
           0,
           0,
           0,
           0,
           0,
           0,
           0,
           0,
           0,
           0,
           0,
           0,
           0,
           0,
           0,
           0,
           0,
           0,
           0,
           0,
           0,
           0,
           0,
           0,
           0,
           0,
           0,
           0,
           0,
           0,
           0,
           0,
           0,
           0,
           0,
           0,
           0,
           0,
           0,
           0,
           0,
           0,
           0,
           0,
           0,
           0,
           0,
           0,
           0,
           0,
           0,
           0,
           0,
           0,
           0,
           0,
           0,
           0,
           0,
           0,
           0,
           0,
           0,
           0,
           0,
           0,
           -0.19995117,
           -0.39990234,
           0,
           0,
           0,
           0,
           0,
           0,
           0,
           0,
           0,
           0,
           0,
           0,
           0,
           0,
           0,
           0,
           0,
           0,
           0.60009766,
           0.39990234
          ],
          [
           0,
           0,
           0,
           0,
           0,
           0,
           0,
           0,
           0,
           0,
           0,
           0,
           0,
           0,
           0,
           0,
           0,
           0,
           0,
           0,
           0,
           0,
           0,
           0,
           0,
           0,
           0,
           0,
           0,
           0,
           0,
           0,
           0,
           0,
           0,
           0,
           0,
           0,
           0,
           0,
           0,
           0,
           0,
           0,
           0,
           0,
           0,
           0,
           0,
           0,
           0,
           0,
           0,
           0,
           0,
           0,
           0,
           0,
           0,
           0,
           0,
           0,
           0,
           0,
           0,
           0,
           0,
           0,
           0,
           0,
           0,
           0,
           0,
           0,
           0,
           0,
           0,
           0,
           0,
           0,
           0,
           0,
           0,
           0,
           0,
           0,
           0,
           0,
           0,
           0,
           0,
           0.39990234,
           2.1992188
          ],
          [
           0,
           0,
           0,
           0,
           0,
           0,
           0,
           0,
           0,
           0,
           0,
           0,
           0,
           0,
           0,
           0,
           0,
           0,
           0,
           0,
           0,
           0,
           0,
           0,
           0,
           0,
           0,
           0,
           0,
           0,
           0,
           0,
           0,
           0,
           0,
           0,
           0,
           0,
           0,
           0,
           0,
           0,
           0,
           0,
           0,
           0,
           0,
           0,
           0,
           0,
           0,
           0,
           0,
           0,
           0,
           0,
           0,
           0,
           0,
           0,
           0,
           0,
           0,
           0,
           0,
           0,
           0,
           0,
           0,
           0,
           0,
           0,
           0,
           0,
           0,
           0,
           0,
           0,
           0,
           0,
           0,
           0,
           0,
           0,
           0,
           0,
           0,
           0,
           0,
           0,
           0,
           0,
           -0.39990234
          ]
         ]
        }
       ],
       "layout": {
        "coloraxis": {
         "cmax": 1,
         "cmin": -1,
         "colorscale": [
          [
           0,
           "rgb(103,0,31)"
          ],
          [
           0.1,
           "rgb(178,24,43)"
          ],
          [
           0.2,
           "rgb(214,96,77)"
          ],
          [
           0.3,
           "rgb(244,165,130)"
          ],
          [
           0.4,
           "rgb(253,219,199)"
          ],
          [
           0.5,
           "rgb(247,247,247)"
          ],
          [
           0.6,
           "rgb(209,229,240)"
          ],
          [
           0.7,
           "rgb(146,197,222)"
          ],
          [
           0.8,
           "rgb(67,147,195)"
          ],
          [
           0.9,
           "rgb(33,102,172)"
          ],
          [
           1,
           "rgb(5,48,97)"
          ]
         ]
        },
        "height": 800,
        "template": {
         "data": {
          "bar": [
           {
            "error_x": {
             "color": "#2a3f5f"
            },
            "error_y": {
             "color": "#2a3f5f"
            },
            "marker": {
             "line": {
              "color": "#E5ECF6",
              "width": 0.5
             },
             "pattern": {
              "fillmode": "overlay",
              "size": 10,
              "solidity": 0.2
             }
            },
            "type": "bar"
           }
          ],
          "barpolar": [
           {
            "marker": {
             "line": {
              "color": "#E5ECF6",
              "width": 0.5
             },
             "pattern": {
              "fillmode": "overlay",
              "size": 10,
              "solidity": 0.2
             }
            },
            "type": "barpolar"
           }
          ],
          "carpet": [
           {
            "aaxis": {
             "endlinecolor": "#2a3f5f",
             "gridcolor": "white",
             "linecolor": "white",
             "minorgridcolor": "white",
             "startlinecolor": "#2a3f5f"
            },
            "baxis": {
             "endlinecolor": "#2a3f5f",
             "gridcolor": "white",
             "linecolor": "white",
             "minorgridcolor": "white",
             "startlinecolor": "#2a3f5f"
            },
            "type": "carpet"
           }
          ],
          "choropleth": [
           {
            "colorbar": {
             "outlinewidth": 0,
             "ticks": ""
            },
            "type": "choropleth"
           }
          ],
          "contour": [
           {
            "colorbar": {
             "outlinewidth": 0,
             "ticks": ""
            },
            "colorscale": [
             [
              0,
              "#0d0887"
             ],
             [
              0.1111111111111111,
              "#46039f"
             ],
             [
              0.2222222222222222,
              "#7201a8"
             ],
             [
              0.3333333333333333,
              "#9c179e"
             ],
             [
              0.4444444444444444,
              "#bd3786"
             ],
             [
              0.5555555555555556,
              "#d8576b"
             ],
             [
              0.6666666666666666,
              "#ed7953"
             ],
             [
              0.7777777777777778,
              "#fb9f3a"
             ],
             [
              0.8888888888888888,
              "#fdca26"
             ],
             [
              1,
              "#f0f921"
             ]
            ],
            "type": "contour"
           }
          ],
          "contourcarpet": [
           {
            "colorbar": {
             "outlinewidth": 0,
             "ticks": ""
            },
            "type": "contourcarpet"
           }
          ],
          "heatmap": [
           {
            "colorbar": {
             "outlinewidth": 0,
             "ticks": ""
            },
            "colorscale": [
             [
              0,
              "#0d0887"
             ],
             [
              0.1111111111111111,
              "#46039f"
             ],
             [
              0.2222222222222222,
              "#7201a8"
             ],
             [
              0.3333333333333333,
              "#9c179e"
             ],
             [
              0.4444444444444444,
              "#bd3786"
             ],
             [
              0.5555555555555556,
              "#d8576b"
             ],
             [
              0.6666666666666666,
              "#ed7953"
             ],
             [
              0.7777777777777778,
              "#fb9f3a"
             ],
             [
              0.8888888888888888,
              "#fdca26"
             ],
             [
              1,
              "#f0f921"
             ]
            ],
            "type": "heatmap"
           }
          ],
          "heatmapgl": [
           {
            "colorbar": {
             "outlinewidth": 0,
             "ticks": ""
            },
            "colorscale": [
             [
              0,
              "#0d0887"
             ],
             [
              0.1111111111111111,
              "#46039f"
             ],
             [
              0.2222222222222222,
              "#7201a8"
             ],
             [
              0.3333333333333333,
              "#9c179e"
             ],
             [
              0.4444444444444444,
              "#bd3786"
             ],
             [
              0.5555555555555556,
              "#d8576b"
             ],
             [
              0.6666666666666666,
              "#ed7953"
             ],
             [
              0.7777777777777778,
              "#fb9f3a"
             ],
             [
              0.8888888888888888,
              "#fdca26"
             ],
             [
              1,
              "#f0f921"
             ]
            ],
            "type": "heatmapgl"
           }
          ],
          "histogram": [
           {
            "marker": {
             "pattern": {
              "fillmode": "overlay",
              "size": 10,
              "solidity": 0.2
             }
            },
            "type": "histogram"
           }
          ],
          "histogram2d": [
           {
            "colorbar": {
             "outlinewidth": 0,
             "ticks": ""
            },
            "colorscale": [
             [
              0,
              "#0d0887"
             ],
             [
              0.1111111111111111,
              "#46039f"
             ],
             [
              0.2222222222222222,
              "#7201a8"
             ],
             [
              0.3333333333333333,
              "#9c179e"
             ],
             [
              0.4444444444444444,
              "#bd3786"
             ],
             [
              0.5555555555555556,
              "#d8576b"
             ],
             [
              0.6666666666666666,
              "#ed7953"
             ],
             [
              0.7777777777777778,
              "#fb9f3a"
             ],
             [
              0.8888888888888888,
              "#fdca26"
             ],
             [
              1,
              "#f0f921"
             ]
            ],
            "type": "histogram2d"
           }
          ],
          "histogram2dcontour": [
           {
            "colorbar": {
             "outlinewidth": 0,
             "ticks": ""
            },
            "colorscale": [
             [
              0,
              "#0d0887"
             ],
             [
              0.1111111111111111,
              "#46039f"
             ],
             [
              0.2222222222222222,
              "#7201a8"
             ],
             [
              0.3333333333333333,
              "#9c179e"
             ],
             [
              0.4444444444444444,
              "#bd3786"
             ],
             [
              0.5555555555555556,
              "#d8576b"
             ],
             [
              0.6666666666666666,
              "#ed7953"
             ],
             [
              0.7777777777777778,
              "#fb9f3a"
             ],
             [
              0.8888888888888888,
              "#fdca26"
             ],
             [
              1,
              "#f0f921"
             ]
            ],
            "type": "histogram2dcontour"
           }
          ],
          "mesh3d": [
           {
            "colorbar": {
             "outlinewidth": 0,
             "ticks": ""
            },
            "type": "mesh3d"
           }
          ],
          "parcoords": [
           {
            "line": {
             "colorbar": {
              "outlinewidth": 0,
              "ticks": ""
             }
            },
            "type": "parcoords"
           }
          ],
          "pie": [
           {
            "automargin": true,
            "type": "pie"
           }
          ],
          "scatter": [
           {
            "fillpattern": {
             "fillmode": "overlay",
             "size": 10,
             "solidity": 0.2
            },
            "type": "scatter"
           }
          ],
          "scatter3d": [
           {
            "line": {
             "colorbar": {
              "outlinewidth": 0,
              "ticks": ""
             }
            },
            "marker": {
             "colorbar": {
              "outlinewidth": 0,
              "ticks": ""
             }
            },
            "type": "scatter3d"
           }
          ],
          "scattercarpet": [
           {
            "marker": {
             "colorbar": {
              "outlinewidth": 0,
              "ticks": ""
             }
            },
            "type": "scattercarpet"
           }
          ],
          "scattergeo": [
           {
            "marker": {
             "colorbar": {
              "outlinewidth": 0,
              "ticks": ""
             }
            },
            "type": "scattergeo"
           }
          ],
          "scattergl": [
           {
            "marker": {
             "colorbar": {
              "outlinewidth": 0,
              "ticks": ""
             }
            },
            "type": "scattergl"
           }
          ],
          "scattermapbox": [
           {
            "marker": {
             "colorbar": {
              "outlinewidth": 0,
              "ticks": ""
             }
            },
            "type": "scattermapbox"
           }
          ],
          "scatterpolar": [
           {
            "marker": {
             "colorbar": {
              "outlinewidth": 0,
              "ticks": ""
             }
            },
            "type": "scatterpolar"
           }
          ],
          "scatterpolargl": [
           {
            "marker": {
             "colorbar": {
              "outlinewidth": 0,
              "ticks": ""
             }
            },
            "type": "scatterpolargl"
           }
          ],
          "scatterternary": [
           {
            "marker": {
             "colorbar": {
              "outlinewidth": 0,
              "ticks": ""
             }
            },
            "type": "scatterternary"
           }
          ],
          "surface": [
           {
            "colorbar": {
             "outlinewidth": 0,
             "ticks": ""
            },
            "colorscale": [
             [
              0,
              "#0d0887"
             ],
             [
              0.1111111111111111,
              "#46039f"
             ],
             [
              0.2222222222222222,
              "#7201a8"
             ],
             [
              0.3333333333333333,
              "#9c179e"
             ],
             [
              0.4444444444444444,
              "#bd3786"
             ],
             [
              0.5555555555555556,
              "#d8576b"
             ],
             [
              0.6666666666666666,
              "#ed7953"
             ],
             [
              0.7777777777777778,
              "#fb9f3a"
             ],
             [
              0.8888888888888888,
              "#fdca26"
             ],
             [
              1,
              "#f0f921"
             ]
            ],
            "type": "surface"
           }
          ],
          "table": [
           {
            "cells": {
             "fill": {
              "color": "#EBF0F8"
             },
             "line": {
              "color": "white"
             }
            },
            "header": {
             "fill": {
              "color": "#C8D4E3"
             },
             "line": {
              "color": "white"
             }
            },
            "type": "table"
           }
          ]
         },
         "layout": {
          "annotationdefaults": {
           "arrowcolor": "#2a3f5f",
           "arrowhead": 0,
           "arrowwidth": 1
          },
          "autotypenumbers": "strict",
          "coloraxis": {
           "colorbar": {
            "outlinewidth": 0,
            "ticks": ""
           }
          },
          "colorscale": {
           "diverging": [
            [
             0,
             "#8e0152"
            ],
            [
             0.1,
             "#c51b7d"
            ],
            [
             0.2,
             "#de77ae"
            ],
            [
             0.3,
             "#f1b6da"
            ],
            [
             0.4,
             "#fde0ef"
            ],
            [
             0.5,
             "#f7f7f7"
            ],
            [
             0.6,
             "#e6f5d0"
            ],
            [
             0.7,
             "#b8e186"
            ],
            [
             0.8,
             "#7fbc41"
            ],
            [
             0.9,
             "#4d9221"
            ],
            [
             1,
             "#276419"
            ]
           ],
           "sequential": [
            [
             0,
             "#0d0887"
            ],
            [
             0.1111111111111111,
             "#46039f"
            ],
            [
             0.2222222222222222,
             "#7201a8"
            ],
            [
             0.3333333333333333,
             "#9c179e"
            ],
            [
             0.4444444444444444,
             "#bd3786"
            ],
            [
             0.5555555555555556,
             "#d8576b"
            ],
            [
             0.6666666666666666,
             "#ed7953"
            ],
            [
             0.7777777777777778,
             "#fb9f3a"
            ],
            [
             0.8888888888888888,
             "#fdca26"
            ],
            [
             1,
             "#f0f921"
            ]
           ],
           "sequentialminus": [
            [
             0,
             "#0d0887"
            ],
            [
             0.1111111111111111,
             "#46039f"
            ],
            [
             0.2222222222222222,
             "#7201a8"
            ],
            [
             0.3333333333333333,
             "#9c179e"
            ],
            [
             0.4444444444444444,
             "#bd3786"
            ],
            [
             0.5555555555555556,
             "#d8576b"
            ],
            [
             0.6666666666666666,
             "#ed7953"
            ],
            [
             0.7777777777777778,
             "#fb9f3a"
            ],
            [
             0.8888888888888888,
             "#fdca26"
            ],
            [
             1,
             "#f0f921"
            ]
           ]
          },
          "colorway": [
           "#636efa",
           "#EF553B",
           "#00cc96",
           "#ab63fa",
           "#FFA15A",
           "#19d3f3",
           "#FF6692",
           "#B6E880",
           "#FF97FF",
           "#FECB52"
          ],
          "font": {
           "color": "#2a3f5f"
          },
          "geo": {
           "bgcolor": "white",
           "lakecolor": "white",
           "landcolor": "#E5ECF6",
           "showlakes": true,
           "showland": true,
           "subunitcolor": "white"
          },
          "hoverlabel": {
           "align": "left"
          },
          "hovermode": "closest",
          "mapbox": {
           "style": "light"
          },
          "paper_bgcolor": "white",
          "plot_bgcolor": "#E5ECF6",
          "polar": {
           "angularaxis": {
            "gridcolor": "white",
            "linecolor": "white",
            "ticks": ""
           },
           "bgcolor": "#E5ECF6",
           "radialaxis": {
            "gridcolor": "white",
            "linecolor": "white",
            "ticks": ""
           }
          },
          "scene": {
           "xaxis": {
            "backgroundcolor": "#E5ECF6",
            "gridcolor": "white",
            "gridwidth": 2,
            "linecolor": "white",
            "showbackground": true,
            "ticks": "",
            "zerolinecolor": "white"
           },
           "yaxis": {
            "backgroundcolor": "#E5ECF6",
            "gridcolor": "white",
            "gridwidth": 2,
            "linecolor": "white",
            "showbackground": true,
            "ticks": "",
            "zerolinecolor": "white"
           },
           "zaxis": {
            "backgroundcolor": "#E5ECF6",
            "gridcolor": "white",
            "gridwidth": 2,
            "linecolor": "white",
            "showbackground": true,
            "ticks": "",
            "zerolinecolor": "white"
           }
          },
          "shapedefaults": {
           "line": {
            "color": "#2a3f5f"
           }
          },
          "ternary": {
           "aaxis": {
            "gridcolor": "white",
            "linecolor": "white",
            "ticks": ""
           },
           "baxis": {
            "gridcolor": "white",
            "linecolor": "white",
            "ticks": ""
           },
           "bgcolor": "#E5ECF6",
           "caxis": {
            "gridcolor": "white",
            "linecolor": "white",
            "ticks": ""
           }
          },
          "title": {
           "x": 0.05
          },
          "xaxis": {
           "automargin": true,
           "gridcolor": "white",
           "linecolor": "white",
           "ticks": "",
           "title": {
            "standoff": 15
           },
           "zerolinecolor": "white",
           "zerolinewidth": 2
          },
          "yaxis": {
           "automargin": true,
           "gridcolor": "white",
           "linecolor": "white",
           "ticks": "",
           "title": {
            "standoff": 15
           },
           "zerolinecolor": "white",
           "zerolinewidth": 2
          }
         }
        },
        "title": {
         "text": "Patching results for ap method"
        },
        "width": 1200,
        "xaxis": {
         "anchor": "y",
         "domain": [
          0,
          1
         ]
        },
        "yaxis": {
         "anchor": "x",
         "autorange": "reversed",
         "domain": [
          0,
          1
         ]
        }
       }
      }
     },
     "metadata": {},
     "output_type": "display_data"
    }
   ],
   "source": [
    "patching.plot_patch(width=1200, height=800)"
   ]
  },
  {
   "cell_type": "code",
   "execution_count": 25,
   "metadata": {},
   "outputs": [
    {
     "name": "stdout",
     "output_type": "stream",
     "text": [
      "Next token: A tensor(32)\n"
     ]
    },
    {
     "data": {
      "application/vnd.plotly.v1+json": {
       "config": {
        "plotlyServerURL": "https://plot.ly"
       },
       "data": [
        {
         "showscale": true,
         "text": [
          [
           " from",
           " which",
           " than",
           " the",
           " same",
           " than",
           " who",
           " not",
           " to",
           " be",
           "als",
           " from",
           " then",
           " in",
           " be",
           " through",
           " the",
           " own",
           "ists",
           " from",
           "\n",
           " year",
           " not",
           " new",
           ",",
           " the",
           "\n",
           "\n",
           "\n",
           "1",
           " new",
           ")",
           " way",
           " time",
           "\n",
           "1",
           "b",
           ")",
           "ational",
           " your",
           " of",
           "\n",
           "1",
           "Q",
           ")",
           "ually",
           " time",
           "\n",
           "1",
           "ell",
           ")",
           " and",
           " time",
           "\n",
           ":",
           " The",
           "1"
          ],
          [
           " of",
           " though",
           " than",
           " the",
           " same",
           " than",
           " who",
           " not",
           "'t",
           " be",
           " a",
           " and",
           " then",
           "ings",
           " be",
           " through",
           " the",
           " own",
           "ists",
           " from",
           "\n",
           " year",
           " also",
           " new",
           " of",
           " the",
           " A",
           "\n",
           "\"",
           "1",
           " good",
           " –",
           " way",
           " of",
           "\n",
           "1",
           "Q",
           " –",
           "ational",
           " your",
           " of",
           "\n",
           "e",
           "Q",
           " –",
           "ity",
           "ists",
           "\n",
           "Q",
           "Q",
           " –",
           " and",
           " of",
           "\n",
           ":",
           " The",
           "1"
          ],
          [
           " of",
           " though",
           " than",
           " the",
           " same",
           " than",
           " who",
           " not",
           "'t",
           " make",
           " a",
           " from",
           " then",
           " the",
           " make",
           " through",
           " the",
           " own",
           "ists",
           " and",
           "\n",
           " year",
           " also",
           " very",
           " of",
           " the",
           " A",
           "\"",
           "\"",
           "1",
           ")",
           " –",
           " way",
           " of",
           "\n",
           "e",
           "K",
           " –",
           "ational",
           " your",
           " for",
           "\n",
           "e",
           "Q",
           " –",
           "ity",
           " from",
           "\n",
           "e",
           ")",
           " –",
           " and",
           " of",
           "\n",
           ":",
           " The",
           "1"
          ],
          [
           ",",
           " though",
           " than",
           " the",
           " same",
           " than",
           " who",
           " not",
           "'t",
           " make",
           " a",
           " from",
           " then",
           " the",
           " make",
           " through",
           " the",
           " own",
           "ists",
           " and",
           "\n",
           " year",
           " also",
           " very",
           " of",
           " the",
           " A",
           "\n",
           "\"",
           "1",
           ")",
           " –",
           "ally",
           "ary",
           "\n",
           "e",
           "K",
           " –",
           "ational",
           " the",
           " for",
           "\n",
           "e",
           ")",
           " C",
           " or",
           " (",
           "\n",
           "e",
           ")",
           " –",
           " and",
           "ary",
           "\n",
           ":",
           " A",
           "1"
          ],
          [
           ",",
           " we",
           " than",
           " than",
           " same",
           " than",
           " who",
           " not",
           "'t",
           " make",
           " a",
           " from",
           " then",
           " the",
           " make",
           " through",
           " the",
           " own",
           "ists",
           ".",
           "\n",
           " is",
           " also",
           " very",
           " of",
           " the",
           " \"",
           "\n",
           "\"",
           "1",
           ")",
           " –",
           "ally",
           "ary",
           "\n",
           "e",
           ")",
           " –",
           "ational",
           " the",
           " for",
           "\n",
           "e",
           ")",
           " –",
           "ity",
           " (",
           "\n",
           "e",
           ")",
           " –",
           " and",
           " (",
           "\n",
           ":",
           " A",
           "1"
          ],
          [
           ",",
           " we",
           " than",
           " than",
           " world",
           " than",
           " who",
           " not",
           " to",
           " make",
           " a",
           " from",
           " then",
           " the",
           " make",
           " through",
           " the",
           " own",
           "ists",
           ".",
           "\n",
           " year",
           " not",
           " very",
           " of",
           " the",
           " \"",
           "\n",
           "\"",
           "1",
           ")",
           " –",
           "ally",
           "ary",
           "\n",
           "e",
           ")",
           " –",
           "ise",
           "ly",
           "\n",
           "\n",
           "C",
           ")",
           " prov",
           "ity",
           "\n",
           "\n",
           "C",
           ")",
           " the",
           " inter",
           "\n",
           "\n",
           "able",
           " The",
           "1"
          ],
          [
           ",",
           " we",
           " than",
           " the",
           " same",
           " than",
           " who",
           " not",
           " to",
           " make",
           " a",
           " from",
           " then",
           " the",
           " make",
           " through",
           " the",
           " own",
           "ist",
           ".",
           " This",
           " is",
           " also",
           " very",
           " of",
           " the",
           " \"",
           "\"",
           "The",
           "1",
           ")",
           " A",
           "ally",
           " between",
           "\n",
           "a",
           ")",
           " the",
           "ise",
           "ly",
           " (",
           "\n",
           "C",
           ")",
           " dec",
           "ity",
           ";",
           "\n",
           "C",
           ")",
           " co",
           " and",
           "\n",
           "\n",
           "able",
           " The",
           "1"
          ],
          [
           ",",
           " the",
           " than",
           " the",
           " same",
           " than",
           " are",
           " still",
           " to",
           " make",
           " their",
           " from",
           " other",
           " through",
           " get",
           " through",
           " their",
           " own",
           "ist",
           ".",
           " This",
           " is",
           " not",
           " very",
           " of",
           " the",
           "\n",
           "\n",
           "\"",
           "1",
           ")",
           " A",
           "ally",
           " for",
           "\n",
           "A",
           ")",
           " inter",
           "ise",
           " and",
           "\n",
           "\n",
           "B",
           ")",
           " inter",
           "ity",
           "\n",
           "\n",
           "C",
           ")",
           " inter",
           " or",
           "\n",
           "\n",
           ":",
           " If",
           "1"
          ],
          [
           ",",
           " many",
           " than",
           " these",
           " same",
           " people",
           " are",
           " still",
           " to",
           " get",
           " their",
           " and",
           " other",
           " the",
           " the",
           " through",
           " their",
           " own",
           "ist",
           ".",
           " This",
           " is",
           " also",
           " very",
           " of",
           " how",
           " \"",
           "\n",
           "\"",
           "1",
           ")",
           " A",
           " and",
           " for",
           "\n",
           "B",
           ")",
           " inter",
           "ise",
           " and",
           "\n",
           "\n",
           "B",
           ")",
           " inter",
           "ity",
           "\n",
           "\n",
           "C",
           ")",
           " inter",
           " or",
           "\n",
           "\n",
           ":",
           " If",
           "1"
          ],
          [
           ",",
           " many",
           " than",
           " us",
           " people",
           " people",
           " are",
           " still",
           " to",
           " get",
           " their",
           " and",
           " other",
           " the",
           " the",
           " through",
           " their",
           " own",
           "-",
           " to",
           " This",
           " is",
           " a",
           " very",
           " of",
           " how",
           " \"",
           "\n",
           "\"",
           "1",
           ")",
           " The",
           " and",
           " for",
           "\n",
           "B",
           ")",
           " inter",
           "ise",
           " or",
           "\n",
           "\n",
           "C",
           ")",
           " inter",
           "ity",
           "\n",
           "\n",
           "D",
           ")",
           " inter",
           " or",
           "\n",
           "\n",
           ":",
           " The",
           "1"
          ],
          [
           ",",
           " the",
           " than",
           " us",
           " same",
           " people",
           " are",
           " being",
           " to",
           " get",
           " a",
           " and",
           " other",
           " in",
           " the",
           " through",
           " their",
           " own",
           " and",
           " to",
           " This",
           " is",
           " what",
           " act",
           " of",
           " how",
           "\n",
           "\n",
           "The",
           "1",
           ")",
           " The",
           " and",
           " for",
           "\n",
           "B",
           ")",
           " the",
           "ise",
           " of",
           "\n",
           "\n",
           "C",
           ")",
           " inter",
           " and",
           "\n",
           "\n",
           "D",
           ")",
           " inter",
           " or",
           "\n",
           "\n",
           ":",
           " The",
           "A"
          ],
          [
           ",",
           " the",
           " and",
           " the",
           " world",
           " people",
           " are",
           " not",
           " to",
           " be",
           " the",
           " from",
           " other",
           " in",
           " the",
           " through",
           " their",
           " new",
           " and",
           ".",
           " The",
           " is",
           " a",
           " even",
           " of",
           " a",
           "\n",
           "\n",
           "\"",
           "1",
           ")",
           " The",
           " and",
           ".",
           "\n",
           "B",
           ")",
           " the",
           "iz",
           " of",
           "\n",
           "\n",
           "C",
           ")",
           " the",
           " and",
           "\n",
           "\n",
           "D",
           ")",
           " the",
           " and",
           "\n",
           "\n",
           ":",
           "\n",
           "A"
          ]
         ],
         "texttemplate": "%{text}",
         "type": "heatmap",
         "z": [
          [
           0.10687256,
           0.16809082,
           0.9941406,
           0.8886719,
           0.8588867,
           0.7988281,
           0.21789551,
           0.4597168,
           0.38232422,
           0.43847656,
           0.16125488,
           0.18041992,
           0.67333984,
           0.116760254,
           0.44604492,
           0.75439453,
           0.7607422,
           0.99902344,
           0.22875977,
           0.28564453,
           0.22180176,
           0.59277344,
           0.6689453,
           0.16723633,
           0.13183594,
           0.9165039,
           0.1484375,
           0.9013672,
           0.84472656,
           0.12390137,
           0.09863281,
           0.09197998,
           0.58984375,
           0.32177734,
           0.75,
           0.10449219,
           0.5263672,
           0.1628418,
           0.49316406,
           0.20410156,
           0.29248047,
           0.71728516,
           0.10040283,
           0.52685547,
           0.1751709,
           0.16015625,
           0.21716309,
           0.7348633,
           0.09576416,
           0.39575195,
           0.1706543,
           0.06237793,
           0.24780273,
           0.7011719,
           0.6586914,
           0.1295166,
           0.14550781
          ],
          [
           0.24780273,
           0.20153809,
           0.99902344,
           0.9038086,
           0.8491211,
           0.97802734,
           0.6176758,
           0.66015625,
           0.5136719,
           0.5366211,
           0.23840332,
           0.21203613,
           0.74658203,
           0.11853027,
           0.41235352,
           0.85498047,
           0.7402344,
           1,
           0.74316406,
           0.17736816,
           0.2783203,
           0.67578125,
           0.4880371,
           0.22875977,
           0.31152344,
           0.91259766,
           0.23120117,
           0.39013672,
           0.33911133,
           0.13537598,
           0.13208008,
           0.40307617,
           0.4609375,
           0.45239258,
           0.29101562,
           0.10345459,
           0.22131348,
           0.33740234,
           0.40820312,
           0.5986328,
           0.28833008,
           0.35595703,
           0.12915039,
           0.7597656,
           0.24084473,
           0.73046875,
           0.19616699,
           0.35888672,
           0.11206055,
           0.7133789,
           0.26953125,
           0.1743164,
           0.26098633,
           0.3947754,
           0.75683594,
           0.12817383,
           0.15368652
          ],
          [
           0.2836914,
           0.46411133,
           1,
           0.8432617,
           0.8642578,
           0.9970703,
           0.45825195,
           0.6616211,
           0.5883789,
           0.37182617,
           0.28076172,
           0.3149414,
           0.7792969,
           0.3125,
           0.37963867,
           0.90771484,
           0.6899414,
           1,
           0.8647461,
           0.20178223,
           0.26538086,
           0.5708008,
           0.50878906,
           0.54296875,
           0.54052734,
           0.8798828,
           0.31933594,
           0.25097656,
           0.34814453,
           0.2331543,
           0.5966797,
           0.21875,
           0.42236328,
           0.2076416,
           0.49194336,
           0.19335938,
           0.15856934,
           0.4880371,
           0.39575195,
           0.23657227,
           0.22143555,
           0.61083984,
           0.19006348,
           0.32861328,
           0.30249023,
           0.62841797,
           0.10217285,
           0.51220703,
           0.16992188,
           0.42407227,
           0.37475586,
           0.16186523,
           0.11639404,
           0.5654297,
           0.9038086,
           0.2512207,
           0.3852539
          ],
          [
           0.4736328,
           0.5883789,
           1,
           0.390625,
           0.66064453,
           0.9892578,
           0.6176758,
           0.73828125,
           0.5541992,
           0.4736328,
           0.35888672,
           0.38183594,
           0.62841797,
           0.31811523,
           0.36035156,
           0.97265625,
           0.6279297,
           1,
           0.84765625,
           0.25073242,
           0.24499512,
           0.4555664,
           0.5317383,
           0.78564453,
           0.81591797,
           0.8798828,
           0.31860352,
           0.26831055,
           0.39404297,
           0.1784668,
           0.7314453,
           0.12634277,
           0.63720703,
           0.15234375,
           0.7402344,
           0.44726562,
           0.2208252,
           0.28125,
           0.5751953,
           0.18493652,
           0.19824219,
           0.87060547,
           0.41430664,
           0.5415039,
           0.19812012,
           0.2475586,
           0.1607666,
           0.86865234,
           0.27319336,
           0.77978516,
           0.21789551,
           0.17675781,
           0.13085938,
           0.9111328,
           0.86035156,
           0.1998291,
           0.45996094
          ],
          [
           0.48168945,
           0.26538086,
           1,
           0.4951172,
           0.6484375,
           0.99609375,
           0.7553711,
           0.63183594,
           0.65283203,
           0.5751953,
           0.42114258,
           0.39819336,
           0.8359375,
           0.20898438,
           0.54833984,
           0.9560547,
           0.56884766,
           1,
           0.4975586,
           0.2006836,
           0.44726562,
           0.40478516,
           0.57666016,
           0.94970703,
           0.93359375,
           0.7685547,
           0.3881836,
           0.5605469,
           0.44091797,
           0.32348633,
           0.9741211,
           0.23852539,
           0.74853516,
           0.2524414,
           0.7558594,
           0.4267578,
           0.32910156,
           0.58935547,
           0.31518555,
           0.22241211,
           0.2800293,
           0.90478516,
           0.43676758,
           0.87890625,
           0.5410156,
           0.42358398,
           0.14221191,
           0.9560547,
           0.27807617,
           0.9291992,
           0.62890625,
           0.26757812,
           0.14208984,
           0.95166016,
           0.48168945,
           0.3684082,
           0.6621094
          ],
          [
           0.6767578,
           0.46044922,
           1,
           0.7573242,
           0.7915039,
           0.99316406,
           0.5253906,
           0.59375,
           0.5131836,
           0.55126953,
           0.43945312,
           0.5776367,
           0.6591797,
           0.29296875,
           0.6201172,
           0.7402344,
           0.6591797,
           1,
           0.4038086,
           0.42626953,
           0.25097656,
           0.4802246,
           0.5258789,
           0.96972656,
           0.9633789,
           0.39990234,
           0.27148438,
           0.43798828,
           0.2854004,
           0.74072266,
           0.99121094,
           0.26904297,
           0.6699219,
           0.119628906,
           0.96972656,
           0.3083496,
           0.9375,
           0.0949707,
           0.37426758,
           0.35375977,
           0.1673584,
           0.91015625,
           0.16308594,
           0.97998047,
           0.13012695,
           0.3642578,
           0.3708496,
           0.91748047,
           0.16064453,
           0.96875,
           0.08514404,
           0.19689941,
           0.61572266,
           0.8051758,
           0.54003906,
           0.23376465,
           0.9038086
          ],
          [
           0.8178711,
           0.3383789,
           0.99902344,
           0.35253906,
           0.66845703,
           0.9980469,
           0.7573242,
           0.42285156,
           0.6635742,
           0.45239258,
           0.45825195,
           0.6352539,
           0.49609375,
           0.2668457,
           0.65625,
           0.7285156,
           0.41015625,
           1,
           0.5883789,
           0.7480469,
           0.3100586,
           0.38671875,
           0.6113281,
           0.97802734,
           0.99316406,
           0.37841797,
           0.51708984,
           0.41625977,
           0.39135742,
           0.65966797,
           0.9980469,
           0.2746582,
           0.72802734,
           0.30249023,
           0.98291016,
           0.44482422,
           0.98828125,
           0.0680542,
           0.8251953,
           0.33081055,
           0.14123535,
           0.9472656,
           0.4338379,
           0.984375,
           0.15917969,
           0.7553711,
           0.3466797,
           0.9428711,
           0.43359375,
           0.9741211,
           0.09588623,
           0.19213867,
           0.57666016,
           0.90234375,
           0.8178711,
           0.2697754,
           0.88134766
          ],
          [
           0.8886719,
           0.2154541,
           0.9951172,
           0.3869629,
           0.6591797,
           0.9404297,
           0.4194336,
           0.60253906,
           0.9658203,
           0.43920898,
           0.36499023,
           0.45361328,
           0.796875,
           0.22558594,
           0.41333008,
           0.8745117,
           0.3725586,
           1,
           0.6567383,
           0.9326172,
           0.45581055,
           0.8144531,
           0.45361328,
           0.97998047,
           0.9980469,
           0.35986328,
           0.4440918,
           0.5004883,
           0.63134766,
           0.92822266,
           1,
           0.43432617,
           0.35180664,
           0.19042969,
           0.99902344,
           0.546875,
           0.99902344,
           0.20043945,
           0.50146484,
           0.27124023,
           0.80322266,
           0.9980469,
           0.6972656,
           0.9980469,
           0.25927734,
           0.91015625,
           0.9003906,
           0.9970703,
           0.98095703,
           0.9970703,
           0.21069336,
           0.20446777,
           0.9902344,
           0.984375,
           0.4440918,
           0.28295898,
           0.94189453
          ],
          [
           0.9819336,
           0.38354492,
           0.9658203,
           0.40307617,
           0.55126953,
           0.94189453,
           0.8286133,
           0.43359375,
           0.9980469,
           0.3918457,
           0.39013672,
           0.57666016,
           0.8535156,
           0.30908203,
           0.33813477,
           0.90527344,
           0.42138672,
           1,
           0.390625,
           0.8642578,
           0.5498047,
           0.9589844,
           0.49365234,
           0.86865234,
           0.9951172,
           0.66845703,
           0.37182617,
           0.4248047,
           0.46044922,
           0.95947266,
           1,
           0.5229492,
           0.17932129,
           0.14709473,
           1,
           0.9375,
           1,
           0.34545898,
           0.71875,
           0.38354492,
           0.99121094,
           0.99902344,
           0.86865234,
           1,
           0.3203125,
           0.8183594,
           0.9941406,
           0.99902344,
           1,
           1,
           0.5151367,
           0.23596191,
           0.99902344,
           0.9970703,
           0.8203125,
           0.3762207,
           0.8642578
          ],
          [
           0.99902344,
           0.38256836,
           0.875,
           0.29833984,
           0.3503418,
           0.99316406,
           0.95703125,
           0.35546875,
           1,
           0.45825195,
           0.7133789,
           0.6166992,
           0.82666016,
           0.21057129,
           0.5209961,
           0.65722656,
           0.76416016,
           1,
           0.23376465,
           0.74560547,
           0.91503906,
           0.9633789,
           0.21179199,
           0.50927734,
           0.99902344,
           0.82666016,
           0.5854492,
           0.6621094,
           0.72265625,
           0.9741211,
           1,
           0.63720703,
           0.1538086,
           0.18591309,
           1,
           0.9980469,
           1,
           0.6303711,
           0.6870117,
           0.4008789,
           0.9560547,
           0.99902344,
           0.9970703,
           1,
           0.6040039,
           0.7182617,
           0.9863281,
           0.99902344,
           0.9707031,
           1,
           0.78515625,
           0.7451172,
           0.9819336,
           0.99902344,
           0.8598633,
           0.3466797,
           0.73583984
          ],
          [
           0.9951172,
           0.29833984,
           0.74365234,
           0.36010742,
           0.32080078,
           0.98535156,
           0.94140625,
           0.18029785,
           1,
           0.4177246,
           0.28930664,
           0.4025879,
           0.49560547,
           0.32226562,
           0.4567871,
           0.3935547,
           0.93359375,
           0.9658203,
           0.13806152,
           0.6484375,
           0.7949219,
           0.8720703,
           0.20397949,
           0.1940918,
           1,
           0.69921875,
           0.44262695,
           0.99902344,
           0.34399414,
           0.8198242,
           1,
           0.62841797,
           0.20581055,
           0.20178223,
           1,
           1,
           1,
           0.25854492,
           0.43017578,
           0.2709961,
           0.93115234,
           1,
           0.99902344,
           1,
           0.37573242,
           0.2454834,
           0.98291016,
           1,
           1,
           1,
           0.625,
           0.60253906,
           0.96875,
           1,
           0.83447266,
           0.33740234,
           0.88183594
          ],
          [
           0.8984375,
           0.28320312,
           0.44799805,
           0.4428711,
           0.17651367,
           0.32958984,
           0.50634766,
           0.078308105,
           0.9970703,
           0.13745117,
           0.27563477,
           0.26416016,
           0.14282227,
           0.22631836,
           0.5214844,
           0.30688477,
           0.52734375,
           0.22558594,
           0.22595215,
           0.41381836,
           0.26000977,
           0.4946289,
           0.23571777,
           0.15966797,
           0.96875,
           0.32641602,
           0.3005371,
           0.9980469,
           0.19384766,
           0.47802734,
           0.9316406,
           0.23144531,
           0.16516113,
           0.1439209,
           1,
           0.96240234,
           0.99902344,
           0.27148438,
           0.46411133,
           0.17199707,
           0.6166992,
           0.99902344,
           0.96240234,
           0.99902344,
           0.111694336,
           0.32910156,
           0.72314453,
           0.99902344,
           0.97802734,
           0.99902344,
           0.12524414,
           0.2866211,
           0.7163086,
           0.9980469,
           0.3173828,
           0.3894043,
           0.62158203
          ]
         ]
        }
       ],
       "layout": {
        "height": 800,
        "template": {
         "data": {
          "bar": [
           {
            "error_x": {
             "color": "#2a3f5f"
            },
            "error_y": {
             "color": "#2a3f5f"
            },
            "marker": {
             "line": {
              "color": "#E5ECF6",
              "width": 0.5
             },
             "pattern": {
              "fillmode": "overlay",
              "size": 10,
              "solidity": 0.2
             }
            },
            "type": "bar"
           }
          ],
          "barpolar": [
           {
            "marker": {
             "line": {
              "color": "#E5ECF6",
              "width": 0.5
             },
             "pattern": {
              "fillmode": "overlay",
              "size": 10,
              "solidity": 0.2
             }
            },
            "type": "barpolar"
           }
          ],
          "carpet": [
           {
            "aaxis": {
             "endlinecolor": "#2a3f5f",
             "gridcolor": "white",
             "linecolor": "white",
             "minorgridcolor": "white",
             "startlinecolor": "#2a3f5f"
            },
            "baxis": {
             "endlinecolor": "#2a3f5f",
             "gridcolor": "white",
             "linecolor": "white",
             "minorgridcolor": "white",
             "startlinecolor": "#2a3f5f"
            },
            "type": "carpet"
           }
          ],
          "choropleth": [
           {
            "colorbar": {
             "outlinewidth": 0,
             "ticks": ""
            },
            "type": "choropleth"
           }
          ],
          "contour": [
           {
            "colorbar": {
             "outlinewidth": 0,
             "ticks": ""
            },
            "colorscale": [
             [
              0,
              "#0d0887"
             ],
             [
              0.1111111111111111,
              "#46039f"
             ],
             [
              0.2222222222222222,
              "#7201a8"
             ],
             [
              0.3333333333333333,
              "#9c179e"
             ],
             [
              0.4444444444444444,
              "#bd3786"
             ],
             [
              0.5555555555555556,
              "#d8576b"
             ],
             [
              0.6666666666666666,
              "#ed7953"
             ],
             [
              0.7777777777777778,
              "#fb9f3a"
             ],
             [
              0.8888888888888888,
              "#fdca26"
             ],
             [
              1,
              "#f0f921"
             ]
            ],
            "type": "contour"
           }
          ],
          "contourcarpet": [
           {
            "colorbar": {
             "outlinewidth": 0,
             "ticks": ""
            },
            "type": "contourcarpet"
           }
          ],
          "heatmap": [
           {
            "colorbar": {
             "outlinewidth": 0,
             "ticks": ""
            },
            "colorscale": [
             [
              0,
              "#0d0887"
             ],
             [
              0.1111111111111111,
              "#46039f"
             ],
             [
              0.2222222222222222,
              "#7201a8"
             ],
             [
              0.3333333333333333,
              "#9c179e"
             ],
             [
              0.4444444444444444,
              "#bd3786"
             ],
             [
              0.5555555555555556,
              "#d8576b"
             ],
             [
              0.6666666666666666,
              "#ed7953"
             ],
             [
              0.7777777777777778,
              "#fb9f3a"
             ],
             [
              0.8888888888888888,
              "#fdca26"
             ],
             [
              1,
              "#f0f921"
             ]
            ],
            "type": "heatmap"
           }
          ],
          "heatmapgl": [
           {
            "colorbar": {
             "outlinewidth": 0,
             "ticks": ""
            },
            "colorscale": [
             [
              0,
              "#0d0887"
             ],
             [
              0.1111111111111111,
              "#46039f"
             ],
             [
              0.2222222222222222,
              "#7201a8"
             ],
             [
              0.3333333333333333,
              "#9c179e"
             ],
             [
              0.4444444444444444,
              "#bd3786"
             ],
             [
              0.5555555555555556,
              "#d8576b"
             ],
             [
              0.6666666666666666,
              "#ed7953"
             ],
             [
              0.7777777777777778,
              "#fb9f3a"
             ],
             [
              0.8888888888888888,
              "#fdca26"
             ],
             [
              1,
              "#f0f921"
             ]
            ],
            "type": "heatmapgl"
           }
          ],
          "histogram": [
           {
            "marker": {
             "pattern": {
              "fillmode": "overlay",
              "size": 10,
              "solidity": 0.2
             }
            },
            "type": "histogram"
           }
          ],
          "histogram2d": [
           {
            "colorbar": {
             "outlinewidth": 0,
             "ticks": ""
            },
            "colorscale": [
             [
              0,
              "#0d0887"
             ],
             [
              0.1111111111111111,
              "#46039f"
             ],
             [
              0.2222222222222222,
              "#7201a8"
             ],
             [
              0.3333333333333333,
              "#9c179e"
             ],
             [
              0.4444444444444444,
              "#bd3786"
             ],
             [
              0.5555555555555556,
              "#d8576b"
             ],
             [
              0.6666666666666666,
              "#ed7953"
             ],
             [
              0.7777777777777778,
              "#fb9f3a"
             ],
             [
              0.8888888888888888,
              "#fdca26"
             ],
             [
              1,
              "#f0f921"
             ]
            ],
            "type": "histogram2d"
           }
          ],
          "histogram2dcontour": [
           {
            "colorbar": {
             "outlinewidth": 0,
             "ticks": ""
            },
            "colorscale": [
             [
              0,
              "#0d0887"
             ],
             [
              0.1111111111111111,
              "#46039f"
             ],
             [
              0.2222222222222222,
              "#7201a8"
             ],
             [
              0.3333333333333333,
              "#9c179e"
             ],
             [
              0.4444444444444444,
              "#bd3786"
             ],
             [
              0.5555555555555556,
              "#d8576b"
             ],
             [
              0.6666666666666666,
              "#ed7953"
             ],
             [
              0.7777777777777778,
              "#fb9f3a"
             ],
             [
              0.8888888888888888,
              "#fdca26"
             ],
             [
              1,
              "#f0f921"
             ]
            ],
            "type": "histogram2dcontour"
           }
          ],
          "mesh3d": [
           {
            "colorbar": {
             "outlinewidth": 0,
             "ticks": ""
            },
            "type": "mesh3d"
           }
          ],
          "parcoords": [
           {
            "line": {
             "colorbar": {
              "outlinewidth": 0,
              "ticks": ""
             }
            },
            "type": "parcoords"
           }
          ],
          "pie": [
           {
            "automargin": true,
            "type": "pie"
           }
          ],
          "scatter": [
           {
            "fillpattern": {
             "fillmode": "overlay",
             "size": 10,
             "solidity": 0.2
            },
            "type": "scatter"
           }
          ],
          "scatter3d": [
           {
            "line": {
             "colorbar": {
              "outlinewidth": 0,
              "ticks": ""
             }
            },
            "marker": {
             "colorbar": {
              "outlinewidth": 0,
              "ticks": ""
             }
            },
            "type": "scatter3d"
           }
          ],
          "scattercarpet": [
           {
            "marker": {
             "colorbar": {
              "outlinewidth": 0,
              "ticks": ""
             }
            },
            "type": "scattercarpet"
           }
          ],
          "scattergeo": [
           {
            "marker": {
             "colorbar": {
              "outlinewidth": 0,
              "ticks": ""
             }
            },
            "type": "scattergeo"
           }
          ],
          "scattergl": [
           {
            "marker": {
             "colorbar": {
              "outlinewidth": 0,
              "ticks": ""
             }
            },
            "type": "scattergl"
           }
          ],
          "scattermapbox": [
           {
            "marker": {
             "colorbar": {
              "outlinewidth": 0,
              "ticks": ""
             }
            },
            "type": "scattermapbox"
           }
          ],
          "scatterpolar": [
           {
            "marker": {
             "colorbar": {
              "outlinewidth": 0,
              "ticks": ""
             }
            },
            "type": "scatterpolar"
           }
          ],
          "scatterpolargl": [
           {
            "marker": {
             "colorbar": {
              "outlinewidth": 0,
              "ticks": ""
             }
            },
            "type": "scatterpolargl"
           }
          ],
          "scatterternary": [
           {
            "marker": {
             "colorbar": {
              "outlinewidth": 0,
              "ticks": ""
             }
            },
            "type": "scatterternary"
           }
          ],
          "surface": [
           {
            "colorbar": {
             "outlinewidth": 0,
             "ticks": ""
            },
            "colorscale": [
             [
              0,
              "#0d0887"
             ],
             [
              0.1111111111111111,
              "#46039f"
             ],
             [
              0.2222222222222222,
              "#7201a8"
             ],
             [
              0.3333333333333333,
              "#9c179e"
             ],
             [
              0.4444444444444444,
              "#bd3786"
             ],
             [
              0.5555555555555556,
              "#d8576b"
             ],
             [
              0.6666666666666666,
              "#ed7953"
             ],
             [
              0.7777777777777778,
              "#fb9f3a"
             ],
             [
              0.8888888888888888,
              "#fdca26"
             ],
             [
              1,
              "#f0f921"
             ]
            ],
            "type": "surface"
           }
          ],
          "table": [
           {
            "cells": {
             "fill": {
              "color": "#EBF0F8"
             },
             "line": {
              "color": "white"
             }
            },
            "header": {
             "fill": {
              "color": "#C8D4E3"
             },
             "line": {
              "color": "white"
             }
            },
            "type": "table"
           }
          ]
         },
         "layout": {
          "annotationdefaults": {
           "arrowcolor": "#2a3f5f",
           "arrowhead": 0,
           "arrowwidth": 1
          },
          "autotypenumbers": "strict",
          "coloraxis": {
           "colorbar": {
            "outlinewidth": 0,
            "ticks": ""
           }
          },
          "colorscale": {
           "diverging": [
            [
             0,
             "#8e0152"
            ],
            [
             0.1,
             "#c51b7d"
            ],
            [
             0.2,
             "#de77ae"
            ],
            [
             0.3,
             "#f1b6da"
            ],
            [
             0.4,
             "#fde0ef"
            ],
            [
             0.5,
             "#f7f7f7"
            ],
            [
             0.6,
             "#e6f5d0"
            ],
            [
             0.7,
             "#b8e186"
            ],
            [
             0.8,
             "#7fbc41"
            ],
            [
             0.9,
             "#4d9221"
            ],
            [
             1,
             "#276419"
            ]
           ],
           "sequential": [
            [
             0,
             "#0d0887"
            ],
            [
             0.1111111111111111,
             "#46039f"
            ],
            [
             0.2222222222222222,
             "#7201a8"
            ],
            [
             0.3333333333333333,
             "#9c179e"
            ],
            [
             0.4444444444444444,
             "#bd3786"
            ],
            [
             0.5555555555555556,
             "#d8576b"
            ],
            [
             0.6666666666666666,
             "#ed7953"
            ],
            [
             0.7777777777777778,
             "#fb9f3a"
            ],
            [
             0.8888888888888888,
             "#fdca26"
            ],
            [
             1,
             "#f0f921"
            ]
           ],
           "sequentialminus": [
            [
             0,
             "#0d0887"
            ],
            [
             0.1111111111111111,
             "#46039f"
            ],
            [
             0.2222222222222222,
             "#7201a8"
            ],
            [
             0.3333333333333333,
             "#9c179e"
            ],
            [
             0.4444444444444444,
             "#bd3786"
            ],
            [
             0.5555555555555556,
             "#d8576b"
            ],
            [
             0.6666666666666666,
             "#ed7953"
            ],
            [
             0.7777777777777778,
             "#fb9f3a"
            ],
            [
             0.8888888888888888,
             "#fdca26"
            ],
            [
             1,
             "#f0f921"
            ]
           ]
          },
          "colorway": [
           "#636efa",
           "#EF553B",
           "#00cc96",
           "#ab63fa",
           "#FFA15A",
           "#19d3f3",
           "#FF6692",
           "#B6E880",
           "#FF97FF",
           "#FECB52"
          ],
          "font": {
           "color": "#2a3f5f"
          },
          "geo": {
           "bgcolor": "white",
           "lakecolor": "white",
           "landcolor": "#E5ECF6",
           "showlakes": true,
           "showland": true,
           "subunitcolor": "white"
          },
          "hoverlabel": {
           "align": "left"
          },
          "hovermode": "closest",
          "mapbox": {
           "style": "light"
          },
          "paper_bgcolor": "white",
          "plot_bgcolor": "#E5ECF6",
          "polar": {
           "angularaxis": {
            "gridcolor": "white",
            "linecolor": "white",
            "ticks": ""
           },
           "bgcolor": "#E5ECF6",
           "radialaxis": {
            "gridcolor": "white",
            "linecolor": "white",
            "ticks": ""
           }
          },
          "scene": {
           "xaxis": {
            "backgroundcolor": "#E5ECF6",
            "gridcolor": "white",
            "gridwidth": 2,
            "linecolor": "white",
            "showbackground": true,
            "ticks": "",
            "zerolinecolor": "white"
           },
           "yaxis": {
            "backgroundcolor": "#E5ECF6",
            "gridcolor": "white",
            "gridwidth": 2,
            "linecolor": "white",
            "showbackground": true,
            "ticks": "",
            "zerolinecolor": "white"
           },
           "zaxis": {
            "backgroundcolor": "#E5ECF6",
            "gridcolor": "white",
            "gridwidth": 2,
            "linecolor": "white",
            "showbackground": true,
            "ticks": "",
            "zerolinecolor": "white"
           }
          },
          "shapedefaults": {
           "line": {
            "color": "#2a3f5f"
           }
          },
          "ternary": {
           "aaxis": {
            "gridcolor": "white",
            "linecolor": "white",
            "ticks": ""
           },
           "baxis": {
            "gridcolor": "white",
            "linecolor": "white",
            "ticks": ""
           },
           "bgcolor": "#E5ECF6",
           "caxis": {
            "gridcolor": "white",
            "linecolor": "white",
            "ticks": ""
           }
          },
          "title": {
           "x": 0.05
          },
          "xaxis": {
           "automargin": true,
           "gridcolor": "white",
           "linecolor": "white",
           "ticks": "",
           "title": {
            "standoff": 15
           },
           "zerolinecolor": "white",
           "zerolinewidth": 2
          },
          "yaxis": {
           "automargin": true,
           "gridcolor": "white",
           "linecolor": "white",
           "ticks": "",
           "title": {
            "standoff": 15
           },
           "zerolinecolor": "white",
           "zerolinewidth": 2
          }
         }
        },
        "title": {
         "text": "LogitLens - probs - resid_post"
        },
        "xaxis": {
         "ticktext": [
          " result",
          ",",
          " more",
          " of",
          " the",
          " taller",
          " individuals",
          " are",
          " able",
          " to",
          " obtain",
          " nutrients",
          " and",
          " survive",
          " to",
          " pass",
          " along",
          " their",
          " genetic",
          " information",
          ".",
          " This",
          " is",
          " an",
          " example",
          " of",
          ":",
          "\n",
          "\n",
          "(",
          "A",
          ")",
          " directional",
          " selection",
          "\n",
          "(",
          "B",
          ")",
          " stabil",
          "izing",
          " selection",
          "\n",
          "(",
          "C",
          ")",
          " sexual",
          " selection",
          "\n",
          "(",
          "D",
          ")",
          " disruptive",
          " selection",
          "\n",
          "Answer",
          ":",
          " ("
         ],
         "tickvals": [
          0,
          1,
          2,
          3,
          4,
          5,
          6,
          7,
          8,
          9,
          10,
          11,
          12,
          13,
          14,
          15,
          16,
          17,
          18,
          19,
          20,
          21,
          22,
          23,
          24,
          25,
          26,
          27,
          28,
          29,
          30,
          31,
          32,
          33,
          34,
          35,
          36,
          37,
          38,
          39,
          40,
          41,
          42,
          43,
          44,
          45,
          46,
          47,
          48,
          49,
          50,
          51,
          52,
          53,
          54,
          55,
          56
         ],
         "title": {
          "text": "Tokens"
         }
        },
        "yaxis": {
         "title": {
          "text": "Layers"
         }
        }
       }
      }
     },
     "metadata": {},
     "output_type": "display_data"
    }
   ],
   "source": [
    "from logitlens import plot_logit_lens\n",
    "\n",
    "fig = plot_logit_lens(model, x_clean, what='probs', component='resid_post', tok_id=None, cutoff=35)\n",
    "fig.update_layout(height=800)\n",
    "fig.show()"
   ]
  },
  {
   "cell_type": "code",
   "execution_count": null,
   "metadata": {},
   "outputs": [],
   "source": []
  }
 ],
 "metadata": {
  "kernelspec": {
   "display_name": ".venv",
   "language": "python",
   "name": "python3"
  },
  "language_info": {
   "codemirror_mode": {
    "name": "ipython",
    "version": 3
   },
   "file_extension": ".py",
   "mimetype": "text/x-python",
   "name": "python",
   "nbconvert_exporter": "python",
   "pygments_lexer": "ipython3",
   "version": "3.11.4"
  }
 },
 "nbformat": 4,
 "nbformat_minor": 2
}
