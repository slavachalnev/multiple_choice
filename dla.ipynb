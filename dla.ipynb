{
  "cells": [
    {
      "cell_type": "code",
      "execution_count": 4,
      "metadata": {
        "colab": {
          "base_uri": "https://localhost:8080/"
        },
        "id": "CFKzKnVpQFvY",
        "outputId": "aa42b8d4-13a1-4e34-8bc0-0623f3ae9ff7"
      },
      "outputs": [
        {
          "name": "stdout",
          "output_type": "stream",
          "text": [
            "\n",
            "    _|    _|  _|    _|    _|_|_|    _|_|_|  _|_|_|  _|      _|    _|_|_|      _|_|_|_|    _|_|      _|_|_|  _|_|_|_|\n",
            "    _|    _|  _|    _|  _|        _|          _|    _|_|    _|  _|            _|        _|    _|  _|        _|\n",
            "    _|_|_|_|  _|    _|  _|  _|_|  _|  _|_|    _|    _|  _|  _|  _|  _|_|      _|_|_|    _|_|_|_|  _|        _|_|_|\n",
            "    _|    _|  _|    _|  _|    _|  _|    _|    _|    _|    _|_|  _|    _|      _|        _|    _|  _|        _|\n",
            "    _|    _|    _|_|      _|_|_|    _|_|_|  _|_|_|  _|      _|    _|_|_|      _|        _|    _|    _|_|_|  _|_|_|_|\n",
            "\n",
            "    To login, `huggingface_hub` requires a token generated from https://huggingface.co/settings/tokens .\n",
            "Enter your token (input will not be visible): \n",
            "Add token as git credential? (Y/n) Y\n",
            "Token is valid (permission: read).\n",
            "\u001b[1m\u001b[31mCannot authenticate through git-credential as no helper is defined on your machine.\n",
            "You might have to re-authenticate when pushing to the Hugging Face Hub.\n",
            "Run the following command in your terminal in case you want to set the 'store' credential helper as default.\n",
            "\n",
            "git config --global credential.helper store\n",
            "\n",
            "Read https://git-scm.com/book/en/v2/Git-Tools-Credential-Storage for more details.\u001b[0m\n",
            "Token has not been saved to git credential helper.\n",
            "Your token has been saved to /root/.cache/huggingface/token\n",
            "Login successful\n"
          ]
        }
      ],
      "source": [
        "!huggingface-cli login"
      ]
    },
    {
      "cell_type": "code",
      "execution_count": 1,
      "metadata": {
        "colab": {
          "base_uri": "https://localhost:8080/",
          "height": 1000,
          "referenced_widgets": [
            "64d7a3f3c6e74c46b44c8d1eac9dbdc4",
            "2703b69563c4444b94d67e91425dac36",
            "75a2f8b3dca4440fb0bdbfc54466a925",
            "c5f64d92cdfe4d589000998826bfd8a8",
            "341f9b58831d4848af5e7de8a8ef523c",
            "0e54ca4b712a419490d82bee4f3a830e",
            "f252d65eb47c40db8f77be7903831ab2",
            "ce1e025a4a724c919efb3954bf49b372",
            "34a9ed4a739b4812894ae49b25fa812a",
            "cf31691074b14e05a8d9ddf3d771d391",
            "79a958b524944db3bb3b10dec8634d28",
            "63ef9ed75ef942388a46c8a674040055",
            "ce9339584ffd4e3eb744dd0b45cf8bf8",
            "db7c772287cc498c93034ced61ae2e8a",
            "37f47dc0aa134d7d8d2bc27f4735a1d2",
            "a765b9a9d98a4d46beabff997bae3de0",
            "c2d51ced7054455687044955d9f3395b",
            "b5f31d0446c5469f8d1912a11dce78a0",
            "2c2d2f8d73fb44689fd77efa460f1db0",
            "7a38bc65b9f84536a45f4abe93552445",
            "c999ab242d6b4f169740e350212b2333",
            "04fccfc223f741a1902cf028f232d0b6"
          ]
        },
        "id": "ucMsRO2DPjNI",
        "outputId": "a24be857-b913-4615-c426-4dcb1a1e992a"
      },
      "outputs": [
        {
          "name": "stderr",
          "output_type": "stream",
          "text": [
            "WARNING:root:float16 models may not work on CPU. Consider using a GPU or bfloat16.\n"
          ]
        },
        {
          "data": {
            "application/vnd.jupyter.widget-view+json": {
              "model_id": "844ad288368e434aa33657f22b3dcf85",
              "version_major": 2,
              "version_minor": 0
            },
            "text/plain": [
              "config.json:   0%|          | 0.00/629 [00:00<?, ?B/s]"
            ]
          },
          "metadata": {},
          "output_type": "display_data"
        },
        {
          "data": {
            "application/vnd.jupyter.widget-view+json": {
              "model_id": "fd51d0044e4c42b1897f21cb8b51c566",
              "version_major": 2,
              "version_minor": 0
            },
            "text/plain": [
              "model.safetensors.index.json:   0%|          | 0.00/20.9k [00:00<?, ?B/s]"
            ]
          },
          "metadata": {},
          "output_type": "display_data"
        },
        {
          "data": {
            "application/vnd.jupyter.widget-view+json": {
              "model_id": "633d6a563d03475d9eef20027ab4d397",
              "version_major": 2,
              "version_minor": 0
            },
            "text/plain": [
              "Downloading shards:   0%|          | 0/4 [00:00<?, ?it/s]"
            ]
          },
          "metadata": {},
          "output_type": "display_data"
        },
        {
          "data": {
            "application/vnd.jupyter.widget-view+json": {
              "model_id": "a526dc9965de425b93120fd45524b1c3",
              "version_major": 2,
              "version_minor": 0
            },
            "text/plain": [
              "model-00001-of-00004.safetensors:   0%|          | 0.00/5.00G [00:00<?, ?B/s]"
            ]
          },
          "metadata": {},
          "output_type": "display_data"
        },
        {
          "data": {
            "application/vnd.jupyter.widget-view+json": {
              "model_id": "d59bcdf61aa04673a54314bbc2fc1657",
              "version_major": 2,
              "version_minor": 0
            },
            "text/plain": [
              "model-00002-of-00004.safetensors:   0%|          | 0.00/4.98G [00:00<?, ?B/s]"
            ]
          },
          "metadata": {},
          "output_type": "display_data"
        },
        {
          "data": {
            "application/vnd.jupyter.widget-view+json": {
              "model_id": "e16bd2283d4940719711de3dcae2d494",
              "version_major": 2,
              "version_minor": 0
            },
            "text/plain": [
              "model-00003-of-00004.safetensors:   0%|          | 0.00/4.98G [00:00<?, ?B/s]"
            ]
          },
          "metadata": {},
          "output_type": "display_data"
        },
        {
          "data": {
            "application/vnd.jupyter.widget-view+json": {
              "model_id": "aea803b2a02441548c7a06601b52816b",
              "version_major": 2,
              "version_minor": 0
            },
            "text/plain": [
              "model-00004-of-00004.safetensors:   0%|          | 0.00/2.11G [00:00<?, ?B/s]"
            ]
          },
          "metadata": {},
          "output_type": "display_data"
        },
        {
          "data": {
            "application/vnd.jupyter.widget-view+json": {
              "model_id": "ad8a8a06a4144c078d8adc12869131cd",
              "version_major": 2,
              "version_minor": 0
            },
            "text/plain": [
              "Loading checkpoint shards:   0%|          | 0/4 [00:00<?, ?it/s]"
            ]
          },
          "metadata": {},
          "output_type": "display_data"
        },
        {
          "data": {
            "application/vnd.jupyter.widget-view+json": {
              "model_id": "0207582dfbc84df396402a83657a6cee",
              "version_major": 2,
              "version_minor": 0
            },
            "text/plain": [
              "generation_config.json:   0%|          | 0.00/137 [00:00<?, ?B/s]"
            ]
          },
          "metadata": {},
          "output_type": "display_data"
        },
        {
          "data": {
            "application/vnd.jupyter.widget-view+json": {
              "model_id": "63625c5695ca4d70bceb5168bfb3ef3f",
              "version_major": 2,
              "version_minor": 0
            },
            "text/plain": [
              "tokenizer_config.json:   0%|          | 0.00/33.6k [00:00<?, ?B/s]"
            ]
          },
          "metadata": {},
          "output_type": "display_data"
        },
        {
          "data": {
            "application/vnd.jupyter.widget-view+json": {
              "model_id": "cf74bda22c59403aa4d3574b68b2237a",
              "version_major": 2,
              "version_minor": 0
            },
            "text/plain": [
              "tokenizer.model:   0%|          | 0.00/4.24M [00:00<?, ?B/s]"
            ]
          },
          "metadata": {},
          "output_type": "display_data"
        },
        {
          "data": {
            "application/vnd.jupyter.widget-view+json": {
              "model_id": "6b8f86823fe745398b8903193ff3a83f",
              "version_major": 2,
              "version_minor": 0
            },
            "text/plain": [
              "tokenizer.json:   0%|          | 0.00/17.5M [00:00<?, ?B/s]"
            ]
          },
          "metadata": {},
          "output_type": "display_data"
        },
        {
          "data": {
            "application/vnd.jupyter.widget-view+json": {
              "model_id": "820a4f35f9574bad94aa4a69b9ed6175",
              "version_major": 2,
              "version_minor": 0
            },
            "text/plain": [
              "special_tokens_map.json:   0%|          | 0.00/636 [00:00<?, ?B/s]"
            ]
          },
          "metadata": {},
          "output_type": "display_data"
        },
        {
          "name": "stderr",
          "output_type": "stream",
          "text": [
            "WARNING:root:With reduced precision, it is advised to use `from_pretrained_no_processing` instead of `from_pretrained`.\n",
            "WARNING:root:You are not using LayerNorm, so the writing weights can't be centered! Skipping\n"
          ]
        },
        {
          "name": "stdout",
          "output_type": "stream",
          "text": [
            "Loaded pretrained model gemma-7b into HookedTransformer\n",
            "HookedTransformer(\n",
            "  (embed): Embed()\n",
            "  (hook_embed): HookPoint()\n",
            "  (blocks): ModuleList(\n",
            "    (0-27): 28 x TransformerBlock(\n",
            "      (ln1): RMSNormPre(\n",
            "        (hook_scale): HookPoint()\n",
            "        (hook_normalized): HookPoint()\n",
            "      )\n",
            "      (ln2): RMSNormPre(\n",
            "        (hook_scale): HookPoint()\n",
            "        (hook_normalized): HookPoint()\n",
            "      )\n",
            "      (attn): GroupedQueryAttention(\n",
            "        (hook_k): HookPoint()\n",
            "        (hook_q): HookPoint()\n",
            "        (hook_v): HookPoint()\n",
            "        (hook_z): HookPoint()\n",
            "        (hook_attn_scores): HookPoint()\n",
            "        (hook_pattern): HookPoint()\n",
            "        (hook_result): HookPoint()\n",
            "        (hook_rot_k): HookPoint()\n",
            "        (hook_rot_q): HookPoint()\n",
            "      )\n",
            "      (mlp): GatedMLP(\n",
            "        (hook_pre): HookPoint()\n",
            "        (hook_pre_linear): HookPoint()\n",
            "        (hook_post): HookPoint()\n",
            "      )\n",
            "      (hook_attn_in): HookPoint()\n",
            "      (hook_q_input): HookPoint()\n",
            "      (hook_k_input): HookPoint()\n",
            "      (hook_v_input): HookPoint()\n",
            "      (hook_mlp_in): HookPoint()\n",
            "      (hook_attn_out): HookPoint()\n",
            "      (hook_mlp_out): HookPoint()\n",
            "      (hook_resid_pre): HookPoint()\n",
            "      (hook_resid_mid): HookPoint()\n",
            "      (hook_resid_post): HookPoint()\n",
            "    )\n",
            "  )\n",
            "  (ln_final): RMSNormPre(\n",
            "    (hook_scale): HookPoint()\n",
            "    (hook_normalized): HookPoint()\n",
            "  )\n",
            "  (unembed): Unembed()\n",
            ")\n"
          ]
        },
        {
          "data": {
            "application/vnd.jupyter.widget-view+json": {
              "model_id": "070a826043af43a896e2636c08d3d750",
              "version_major": 2,
              "version_minor": 0
            },
            "text/plain": [
              "  0%|          | 0/10 [00:00<?, ?it/s]"
            ]
          },
          "metadata": {},
          "output_type": "display_data"
        },
        {
          "name": "stdout",
          "output_type": "stream",
          "text": [
            "Hi, my name is Stacy.  I am a mental health professional offering\n",
            "['<bos>', 'A', ' highly', ' knowledgeable', ' and', ' intelligent', ' AI', ' answers', ' multiple', '-', 'choice', ' questions', ' about', ' Biology', '.', ' To', ' prevent', ' desic', 'cation', ' and', ' injury', ',', ' the', ' embryos', ' of', ' terrestrial', ' vertebrates', ' are', ' encased', ' within', ' a', ' fluid', ' secreted', ' by', ' the', ':', '\\n', '(', 'A', ')', ' am', 'nion', '\\n', '(', 'B', ')', ' chor', 'ion', '\\n', '(', 'C', ')', ' all', 'anto', 'is', '\\n', '(', 'D', ')', ' yolk', ' sac', '\\n', 'Answer', ':', ' (']\n",
            "Tokenized prompt: ['<bos>', 'A', ' highly', ' knowledgeable', ' and', ' intelligent', ' AI', ' answers', ' multiple', '-', 'choice', ' questions', ' about', ' Biology', '.', ' To', ' prevent', ' desic', 'cation', ' and', ' injury', ',', ' the', ' embryos', ' of', ' terrestrial', ' vertebrates', ' are', ' encased', ' within', ' a', ' fluid', ' secreted', ' by', ' the', ':', '\\n', '(', 'A', ')', ' am', 'nion', '\\n', '(', 'B', ')', ' chor', 'ion', '\\n', '(', 'C', ')', ' all', 'anto', 'is', '\\n', '(', 'D', ')', ' yolk', ' sac', '\\n', 'Answer', ':', ' (']\n",
            "Tokenized answer: ['A']\n"
          ]
        },
        {
          "data": {
            "text/html": [
              "<pre style=\"white-space:pre;overflow-x:auto;line-height:normal;font-family:Menlo,'DejaVu Sans Mono',consolas,'Courier New',monospace\">Performance on answer token:\n",
              "<span style=\"font-weight: bold\">Rank: </span><span style=\"color: #008080; text-decoration-color: #008080; font-weight: bold\">0</span><span style=\"font-weight: bold\">        Logit: </span><span style=\"color: #008080; text-decoration-color: #008080; font-weight: bold\">25.86</span><span style=\"font-weight: bold\"> Prob: </span><span style=\"color: #008080; text-decoration-color: #008080; font-weight: bold\">89.89</span><span style=\"font-weight: bold\">% Token: |A|</span>\n",
              "</pre>\n"
            ],
            "text/plain": [
              "Performance on answer token:\n",
              "\u001b[1mRank: \u001b[0m\u001b[1;36m0\u001b[0m\u001b[1m        Logit: \u001b[0m\u001b[1;36m25.86\u001b[0m\u001b[1m Prob: \u001b[0m\u001b[1;36m89.89\u001b[0m\u001b[1m% Token: |A|\u001b[0m\n"
            ]
          },
          "metadata": {},
          "output_type": "display_data"
        },
        {
          "name": "stdout",
          "output_type": "stream",
          "text": [
            "Top 0th token. Logit: 25.86 Prob: 89.89% Token: |A|\n",
            "Top 1th token. Logit: 22.75 Prob:  4.01% Token: |B|\n",
            "Top 2th token. Logit: 22.27 Prob:  2.47% Token: |C|\n",
            "Top 3th token. Logit: 21.83 Prob:  1.60% Token: |D|\n",
            "Top 4th token. Logit: 21.69 Prob:  1.39% Token: |a|\n",
            "Top 5th token. Logit: 18.92 Prob:  0.09% Token: |b|\n",
            "Top 6th token. Logit: 18.92 Prob:  0.09% Token: |1|\n",
            "Top 7th token. Logit: 18.78 Prob:  0.08% Token: |c|\n",
            "Top 8th token. Logit: 18.55 Prob:  0.06% Token: |d|\n",
            "Top 9th token. Logit: 18.53 Prob:  0.06% Token: | A|\n"
          ]
        },
        {
          "data": {
            "text/html": [
              "<pre style=\"white-space:pre;overflow-x:auto;line-height:normal;font-family:Menlo,'DejaVu Sans Mono',consolas,'Courier New',monospace\"><span style=\"font-weight: bold\">Ranks of the answer tokens:</span> <span style=\"font-weight: bold\">[(</span><span style=\"color: #008000; text-decoration-color: #008000\">'A'</span>, <span style=\"color: #008080; text-decoration-color: #008080; font-weight: bold\">0</span><span style=\"font-weight: bold\">)]</span>\n",
              "</pre>\n"
            ],
            "text/plain": [
              "\u001b[1mRanks of the answer tokens:\u001b[0m \u001b[1m[\u001b[0m\u001b[1m(\u001b[0m\u001b[32m'A'\u001b[0m, \u001b[1;36m0\u001b[0m\u001b[1m)\u001b[0m\u001b[1m]\u001b[0m\n"
            ]
          },
          "metadata": {},
          "output_type": "display_data"
        }
      ],
      "source": [
        "# %%\n",
        "import torch\n",
        "import numpy as np\n",
        "import random\n",
        "from transformer_lens import HookedTransformer, ActivationCache\n",
        "import transformer_lens.utils as utils\n",
        "import plotly.express as px\n",
        "\n",
        "torch.set_grad_enabled(False)\n",
        "\n",
        "SEED = 42\n",
        "torch.manual_seed(SEED)\n",
        "np.random.seed(SEED)\n",
        "random.seed(SEED)\n",
        "\n",
        "# %%\n",
        "model = HookedTransformer.from_pretrained('gemma-7b', dtype=torch.float16)\n",
        "print(model)\n",
        "\n",
        "# %%\n",
        "out = model.generate(\"Hi, my name is\")\n",
        "print(out)\n",
        "\n",
        "# %%\n",
        "\n",
        "n_layers = model.cfg.n_layers\n",
        "d_model = model.cfg.d_model\n",
        "n_heads = model.cfg.n_heads\n",
        "d_head = model.cfg.d_head\n",
        "d_mlp = model.cfg.d_mlp\n",
        "d_vocab = model.cfg.d_vocab\n",
        "\n",
        "\n",
        "# %%\n",
        "prelude = \"A highly knowledgeable and intelligent AI answers multiple-choice questions about Biology. \"\n",
        "question = \"To prevent desiccation and injury, the embryos of terrestrial vertebrates are encased within a fluid secreted by the:\"\n",
        "answers = \"\"\"\n",
        "(A) amnion\n",
        "(B) chorion\n",
        "(C) allantois\n",
        "(D) yolk sac\n",
        "\"\"\"\n",
        "post_text = \"Answer: (\"\n",
        "\n",
        "answer_token = \"A\"\n",
        "\n",
        "text = prelude + question + answers + post_text\n",
        "print(model.to_str_tokens(text))\n",
        "\n",
        "utils.test_prompt(text, answer_token, model, prepend_space_to_answer=False)\n",
        "# %%\n",
        "# DLA\n",
        "\n",
        "logits, cache = model.run_with_cache(text)\n",
        "cache: ActivationCache\n"
      ]
    },
    {
      "cell_type": "code",
      "execution_count": 2,
      "metadata": {
        "id": "B0bLtgOqYTLq"
      },
      "outputs": [
        {
          "data": {
            "application/vnd.jupyter.widget-view+json": {
              "model_id": "e82d322b63784ef08dc7293262db369f",
              "version_major": 2,
              "version_minor": 0
            },
            "text/plain": [
              "Downloading data:   0%|          | 0.00/62.7k [00:00<?, ?B/s]"
            ]
          },
          "metadata": {},
          "output_type": "display_data"
        },
        {
          "data": {
            "application/vnd.jupyter.widget-view+json": {
              "model_id": "0b93e2ef53c241c48dd4a2941031438c",
              "version_major": 2,
              "version_minor": 0
            },
            "text/plain": [
              "Downloading data:   0%|          | 0.00/10.6k [00:00<?, ?B/s]"
            ]
          },
          "metadata": {},
          "output_type": "display_data"
        },
        {
          "data": {
            "application/vnd.jupyter.widget-view+json": {
              "model_id": "7dfd1c68846f4fc0986e93c0e2711be3",
              "version_major": 2,
              "version_minor": 0
            },
            "text/plain": [
              "Downloading data:   0%|          | 0.00/4.94k [00:00<?, ?B/s]"
            ]
          },
          "metadata": {},
          "output_type": "display_data"
        },
        {
          "data": {
            "application/vnd.jupyter.widget-view+json": {
              "model_id": "a3ba55e080d74528b23400337a37c3de",
              "version_major": 2,
              "version_minor": 0
            },
            "text/plain": [
              "Generating test split:   0%|          | 0/310 [00:00<?, ? examples/s]"
            ]
          },
          "metadata": {},
          "output_type": "display_data"
        },
        {
          "data": {
            "application/vnd.jupyter.widget-view+json": {
              "model_id": "d05dae6930e840bb8c52e7fdadd7df4e",
              "version_major": 2,
              "version_minor": 0
            },
            "text/plain": [
              "Generating validation split:   0%|          | 0/32 [00:00<?, ? examples/s]"
            ]
          },
          "metadata": {},
          "output_type": "display_data"
        },
        {
          "data": {
            "application/vnd.jupyter.widget-view+json": {
              "model_id": "18b02accd1b54f8697687adc1dcef927",
              "version_major": 2,
              "version_minor": 0
            },
            "text/plain": [
              "Generating dev split:   0%|          | 0/5 [00:00<?, ? examples/s]"
            ]
          },
          "metadata": {},
          "output_type": "display_data"
        }
      ],
      "source": [
        "from datasets import load_dataset\n",
        "\n",
        "dataset = load_dataset(\"cais/mmlu\", \"high_school_biology\")"
      ]
    },
    {
      "cell_type": "code",
      "execution_count": 3,
      "metadata": {
        "id": "os85tUjvY7gf"
      },
      "outputs": [],
      "source": [
        "prompts = []\n",
        "correct_answers = []\n",
        "\n",
        "letters = ['A', 'B', 'C', 'D']\n",
        "\n",
        "prelude = \"A highly knowledgeable and intelligent AI answers multiple-choice questions about Biology. \"\n",
        "post_text = \"Answer: (\"\n",
        "\n",
        "for i in range(100):\n",
        "  question = dataset[\"test\"][i][\"question\"] + ':\\n'\n",
        "\n",
        "  answers = f\"\"\"\n",
        "(A) {dataset[\"test\"][i][\"choices\"][0]}\n",
        "(B) {dataset[\"test\"][i][\"choices\"][1]}\n",
        "(C) {dataset[\"test\"][i][\"choices\"][2]}\n",
        "(D) {dataset[\"test\"][i][\"choices\"][3]}\n",
        "\"\"\"\n",
        "\n",
        "  correct_answers.append(dataset[\"test\"][i][\"answer\"])\n",
        "\n",
        "  prompts.append(prelude + question + answers + post_text)"
      ]
    },
    {
      "cell_type": "code",
      "execution_count": 4,
      "metadata": {
        "colab": {
          "base_uri": "https://localhost:8080/"
        },
        "id": "iKlYfhnxZ-Wk",
        "outputId": "433417cb-b8e3-4002-b148-7d69136bf4c0"
      },
      "outputs": [
        {
          "name": "stdout",
          "output_type": "stream",
          "text": [
            "A highly knowledgeable and intelligent AI answers multiple-choice questions about Biology. In a population of giraffes, an environmental change occurs that favors individuals that are tallest. As a result, more of the taller individuals are able to obtain nutrients and survive to pass along their genetic information. This is an example of:\n",
            "\n",
            "(A) directional selection.\n",
            "(B) stabilizing selection.\n",
            "(C) sexual selection.\n",
            "(D) disruptive selection.\n",
            "Answer: (\n"
          ]
        }
      ],
      "source": [
        "print(prompts[0])"
      ]
    },
    {
      "cell_type": "code",
      "execution_count": 9,
      "metadata": {
        "colab": {
          "base_uri": "https://localhost:8080/",
          "height": 561
        },
        "id": "J9vXOnORaLli",
        "outputId": "80a43c04-b646-4baa-f7cc-90986e76715d"
      },
      "outputs": [
        {
          "name": "stdout",
          "output_type": "stream",
          "text": [
            "Tried to stack head results when they weren't cached. Computing head results now\n",
            "Tried to stack head results when they weren't cached. Computing head results now\n",
            "Tried to stack head results when they weren't cached. Computing head results now\n",
            "Tried to stack head results when they weren't cached. Computing head results now\n",
            "Tried to stack head results when they weren't cached. Computing head results now\n",
            "Tried to stack head results when they weren't cached. Computing head results now\n",
            "Tried to stack head results when they weren't cached. Computing head results now\n",
            "Tried to stack head results when they weren't cached. Computing head results now\n",
            "Tried to stack head results when they weren't cached. Computing head results now\n",
            "Tried to stack head results when they weren't cached. Computing head results now\n",
            "Tried to stack head results when they weren't cached. Computing head results now\n",
            "Tried to stack head results when they weren't cached. Computing head results now\n",
            "Tried to stack head results when they weren't cached. Computing head results now\n",
            "Tried to stack head results when they weren't cached. Computing head results now\n",
            "Tried to stack head results when they weren't cached. Computing head results now\n",
            "Tried to stack head results when they weren't cached. Computing head results now\n",
            "Tried to stack head results when they weren't cached. Computing head results now\n",
            "Tried to stack head results when they weren't cached. Computing head results now\n",
            "Tried to stack head results when they weren't cached. Computing head results now\n",
            "Tried to stack head results when they weren't cached. Computing head results now\n",
            "Tried to stack head results when they weren't cached. Computing head results now\n",
            "Tried to stack head results when they weren't cached. Computing head results now\n",
            "Tried to stack head results when they weren't cached. Computing head results now\n",
            "Tried to stack head results when they weren't cached. Computing head results now\n",
            "Tried to stack head results when they weren't cached. Computing head results now\n",
            "Tried to stack head results when they weren't cached. Computing head results now\n",
            "Tried to stack head results when they weren't cached. Computing head results now\n",
            "Tried to stack head results when they weren't cached. Computing head results now\n",
            "Tried to stack head results when they weren't cached. Computing head results now\n",
            "Tried to stack head results when they weren't cached. Computing head results now\n",
            "Tried to stack head results when they weren't cached. Computing head results now\n",
            "Tried to stack head results when they weren't cached. Computing head results now\n",
            "Tried to stack head results when they weren't cached. Computing head results now\n",
            "Tried to stack head results when they weren't cached. Computing head results now\n",
            "Tried to stack head results when they weren't cached. Computing head results now\n",
            "Tried to stack head results when they weren't cached. Computing head results now\n",
            "Tried to stack head results when they weren't cached. Computing head results now\n",
            "Tried to stack head results when they weren't cached. Computing head results now\n",
            "Tried to stack head results when they weren't cached. Computing head results now\n",
            "Tried to stack head results when they weren't cached. Computing head results now\n",
            "Tried to stack head results when they weren't cached. Computing head results now\n",
            "Tried to stack head results when they weren't cached. Computing head results now\n",
            "Tried to stack head results when they weren't cached. Computing head results now\n",
            "Tried to stack head results when they weren't cached. Computing head results now\n",
            "Tried to stack head results when they weren't cached. Computing head results now\n",
            "Tried to stack head results when they weren't cached. Computing head results now\n",
            "Tried to stack head results when they weren't cached. Computing head results now\n",
            "Tried to stack head results when they weren't cached. Computing head results now\n",
            "Tried to stack head results when they weren't cached. Computing head results now\n",
            "Tried to stack head results when they weren't cached. Computing head results now\n",
            "Tried to stack head results when they weren't cached. Computing head results now\n",
            "Tried to stack head results when they weren't cached. Computing head results now\n",
            "Tried to stack head results when they weren't cached. Computing head results now\n",
            "Tried to stack head results when they weren't cached. Computing head results now\n",
            "Tried to stack head results when they weren't cached. Computing head results now\n",
            "Tried to stack head results when they weren't cached. Computing head results now\n",
            "Tried to stack head results when they weren't cached. Computing head results now\n",
            "Tried to stack head results when they weren't cached. Computing head results now\n",
            "Tried to stack head results when they weren't cached. Computing head results now\n",
            "Tried to stack head results when they weren't cached. Computing head results now\n",
            "Tried to stack head results when they weren't cached. Computing head results now\n",
            "Tried to stack head results when they weren't cached. Computing head results now\n",
            "Tried to stack head results when they weren't cached. Computing head results now\n",
            "Tried to stack head results when they weren't cached. Computing head results now\n",
            "Tried to stack head results when they weren't cached. Computing head results now\n",
            "Tried to stack head results when they weren't cached. Computing head results now\n",
            "Tried to stack head results when they weren't cached. Computing head results now\n",
            "Tried to stack head results when they weren't cached. Computing head results now\n",
            "Tried to stack head results when they weren't cached. Computing head results now\n",
            "Tried to stack head results when they weren't cached. Computing head results now\n",
            "Tried to stack head results when they weren't cached. Computing head results now\n",
            "Tried to stack head results when they weren't cached. Computing head results now\n",
            "Tried to stack head results when they weren't cached. Computing head results now\n",
            "Tried to stack head results when they weren't cached. Computing head results now\n",
            "Tried to stack head results when they weren't cached. Computing head results now\n",
            "Tried to stack head results when they weren't cached. Computing head results now\n",
            "Tried to stack head results when they weren't cached. Computing head results now\n",
            "Tried to stack head results when they weren't cached. Computing head results now\n",
            "Tried to stack head results when they weren't cached. Computing head results now\n",
            "Tried to stack head results when they weren't cached. Computing head results now\n",
            "Tried to stack head results when they weren't cached. Computing head results now\n",
            "Tried to stack head results when they weren't cached. Computing head results now\n",
            "Tried to stack head results when they weren't cached. Computing head results now\n",
            "Tried to stack head results when they weren't cached. Computing head results now\n",
            "Tried to stack head results when they weren't cached. Computing head results now\n",
            "Tried to stack head results when they weren't cached. Computing head results now\n",
            "Tried to stack head results when they weren't cached. Computing head results now\n",
            "Tried to stack head results when they weren't cached. Computing head results now\n",
            "Tried to stack head results when they weren't cached. Computing head results now\n",
            "Tried to stack head results when they weren't cached. Computing head results now\n",
            "Tried to stack head results when they weren't cached. Computing head results now\n",
            "Tried to stack head results when they weren't cached. Computing head results now\n",
            "Tried to stack head results when they weren't cached. Computing head results now\n",
            "Tried to stack head results when they weren't cached. Computing head results now\n",
            "Tried to stack head results when they weren't cached. Computing head results now\n",
            "Tried to stack head results when they weren't cached. Computing head results now\n",
            "Tried to stack head results when they weren't cached. Computing head results now\n",
            "Tried to stack head results when they weren't cached. Computing head results now\n",
            "Tried to stack head results when they weren't cached. Computing head results now\n",
            "Tried to stack head results when they weren't cached. Computing head results now\n"
          ]
        }
      ],
      "source": [
        "batch_size = 1\n",
        "\n",
        "stacked_components = []\n",
        "\n",
        "for b in range(0, 100, batch_size):\n",
        "  _, cache = model.run_with_cache(model.to_tokens(prompts[b:b+batch_size]))\n",
        "\n",
        "  decomposed, component_labels = cache.decompose_resid(layer=-1, return_labels=True, pos_slice=-1)\n",
        "  stacked_mlps = decomposed[2::2, :, :]\n",
        "  component_labels = component_labels[2::2]\n",
        "\n",
        "  stacked_heads, head_labels = cache.stack_head_results(layer=-1, pos_slice=-1, return_labels=True)\n",
        "\n",
        "  stacked_components.append(torch.cat([stacked_mlps, stacked_heads]))\n",
        "\n",
        "component_labels.extend(head_labels)\n",
        "stacked_components = torch.cat(stacked_components, dim=1) # [n_components, 100, d_model]"
      ]
    },
    {
      "cell_type": "code",
      "execution_count": 6,
      "metadata": {
        "colab": {
          "base_uri": "https://localhost:8080/"
        },
        "id": "dFiHys-cbO12",
        "outputId": "7562f14e-1592-43d3-b22a-ad85b2346c47"
      },
      "outputs": [
        {
          "data": {
            "text/plain": [
              "torch.Size([476, 100, 3072])"
            ]
          },
          "execution_count": 6,
          "metadata": {},
          "output_type": "execute_result"
        }
      ],
      "source": [
        "stacked_components.shape"
      ]
    },
    {
      "cell_type": "code",
      "execution_count": 10,
      "metadata": {
        "id": "vsyytLdRPjNM"
      },
      "outputs": [],
      "source": [
        "#decomposed, component_labels = cache.decompose_resid(layer=-1, return_labels=True, pos_slice=-1)\n",
        "#stacked_mlps = decomposed[2::2, :, :]\n",
        "#component_labels = component_labels[2::2]\n",
        "#\n",
        "#stacked_heads, head_labels = cache.stack_head_results(layer=-1, pos_slice=-1, return_labels=True)\n",
        "#\n",
        "#stacked_components = torch.cat([stacked_mlps, stacked_heads])\n",
        "#component_labels.extend(head_labels)"
      ]
    },
    {
      "cell_type": "code",
      "execution_count": 31,
      "metadata": {
        "colab": {
          "base_uri": "https://localhost:8080/"
        },
        "id": "iqi1t32RP91p",
        "outputId": "5b4fc39c-0714-4c36-95e8-4a8682a5ebad"
      },
      "outputs": [
        {
          "name": "stdout",
          "output_type": "stream",
          "text": [
            "dla shape torch.Size([100, 4, 476])\n"
          ]
        }
      ],
      "source": [
        "letter_tokens = model.to_tokens(['A', 'B', 'C', 'D'], prepend_bos=False)\n",
        "\n",
        "dla_letters = torch.cat([cache.logit_attrs(stacked_components[:, i], letter_tokens).to('cpu')[None] for i in range(100)], 0)\n",
        "\n",
        "print('dla shape', dla_letters.shape)"
      ]
    },
    {
      "cell_type": "code",
      "execution_count": 46,
      "metadata": {},
      "outputs": [
        {
          "data": {
            "text/plain": [
              "(torch.Size([100, 4, 476]), torch.Size([100, 1, 476]))"
            ]
          },
          "execution_count": 46,
          "metadata": {},
          "output_type": "execute_result"
        }
      ],
      "source": [
        "dla_letters.shape, torch.tensor(correct_answers)[:, None, None].expand(-1, -1, 476).shape"
      ]
    },
    {
      "cell_type": "code",
      "execution_count": 48,
      "metadata": {},
      "outputs": [],
      "source": [
        "correct_letter_attr = torch.gather(dla_letters, 1, torch.tensor(correct_answers)[:, None, None].expand(-1, -1, 476))\n",
        "all_letters_attr = dla_letters.mean(1)[:, None]"
      ]
    },
    {
      "cell_type": "code",
      "execution_count": 49,
      "metadata": {},
      "outputs": [
        {
          "data": {
            "text/plain": [
              "(torch.Size([100, 1, 476]), torch.Size([100, 1, 476]))"
            ]
          },
          "execution_count": 49,
          "metadata": {},
          "output_type": "execute_result"
        }
      ],
      "source": [
        "correct_letter_attr.shape, all_letters_attr.shape"
      ]
    },
    {
      "cell_type": "code",
      "execution_count": 56,
      "metadata": {
        "id": "cbtfgp8RS_c5"
      },
      "outputs": [],
      "source": [
        "logit_attr = (correct_letter_attr - all_letters_attr).mean(0)[0].cpu().type(torch.float32)"
      ]
    },
    {
      "cell_type": "code",
      "execution_count": 59,
      "metadata": {
        "id": "p_48IMD8TNkn"
      },
      "outputs": [],
      "source": [
        "top_k_values, top_k_indices = torch.topk(logit_attr, 40)\n",
        "top_labels = [component_labels[i] for i in top_k_indices]"
      ]
    },
    {
      "cell_type": "code",
      "execution_count": 60,
      "metadata": {
        "colab": {
          "base_uri": "https://localhost:8080/",
          "height": 542
        },
        "id": "bue2OwPsPjNM",
        "outputId": "7d769b25-bd15-4f4e-e5a6-e3dd80e6b2ca"
      },
      "outputs": [
        {
          "data": {
            "application/vnd.plotly.v1+json": {
              "config": {
                "plotlyServerURL": "https://plot.ly"
              },
              "data": [
                {
                  "alignmentgroup": "True",
                  "hovertemplate": "x=%{x}<br>y=%{y}<extra></extra>",
                  "legendgroup": "",
                  "marker": {
                    "color": "#636efa",
                    "pattern": {
                      "shape": ""
                    }
                  },
                  "name": "",
                  "offsetgroup": "",
                  "orientation": "v",
                  "showlegend": false,
                  "textposition": "auto",
                  "type": "bar",
                  "x": [
                    "L0H4",
                    "L26H14",
                    "24_mlp_out",
                    "22_mlp_out",
                    "25_mlp_out",
                    "L21H2",
                    "23_mlp_out",
                    "L21H5",
                    "0_mlp_out",
                    "L25H4",
                    "L27H5",
                    "21_mlp_out",
                    "L26H9",
                    "L21H1",
                    "L23H14",
                    "L0H0",
                    "L25H2",
                    "L22H11",
                    "L23H4",
                    "1_mlp_out",
                    "L27H14",
                    "14_mlp_out",
                    "L2H0",
                    "L3H7",
                    "L19H15",
                    "8_mlp_out",
                    "L22H12",
                    "L0H1",
                    "L2H3",
                    "L3H15",
                    "L1H7",
                    "L3H9",
                    "L27H1",
                    "L1H8",
                    "L13H4",
                    "L1H12",
                    "L24H12",
                    "L17H2",
                    "L3H11",
                    "L0H9"
                  ],
                  "xaxis": "x",
                  "y": [
                    1.2177734375,
                    0.98828125,
                    0.859375,
                    0.76904296875,
                    0.6865234375,
                    0.45068359375,
                    0.31494140625,
                    0.254638671875,
                    0.173095703125,
                    0.1572265625,
                    0.1304931640625,
                    0.108642578125,
                    0.10400390625,
                    0.08477783203125,
                    0.080810546875,
                    0.0626220703125,
                    0.05816650390625,
                    0.053680419921875,
                    0.04461669921875,
                    0.034576416015625,
                    0.03436279296875,
                    0.031005859375,
                    0.02899169921875,
                    0.0283660888671875,
                    0.02435302734375,
                    0.02288818359375,
                    0.022613525390625,
                    0.0218658447265625,
                    0.0207672119140625,
                    0.0192413330078125,
                    0.0167999267578125,
                    0.0167236328125,
                    0.01500701904296875,
                    0.01483917236328125,
                    0.01464080810546875,
                    0.01374053955078125,
                    0.01351165771484375,
                    0.01336669921875,
                    0.013092041015625,
                    0.01308441162109375
                  ],
                  "yaxis": "y"
                }
              ],
              "layout": {
                "barmode": "relative",
                "legend": {
                  "tracegroupgap": 0
                },
                "margin": {
                  "t": 60
                },
                "template": {
                  "data": {
                    "bar": [
                      {
                        "error_x": {
                          "color": "#2a3f5f"
                        },
                        "error_y": {
                          "color": "#2a3f5f"
                        },
                        "marker": {
                          "line": {
                            "color": "#E5ECF6",
                            "width": 0.5
                          },
                          "pattern": {
                            "fillmode": "overlay",
                            "size": 10,
                            "solidity": 0.2
                          }
                        },
                        "type": "bar"
                      }
                    ],
                    "barpolar": [
                      {
                        "marker": {
                          "line": {
                            "color": "#E5ECF6",
                            "width": 0.5
                          },
                          "pattern": {
                            "fillmode": "overlay",
                            "size": 10,
                            "solidity": 0.2
                          }
                        },
                        "type": "barpolar"
                      }
                    ],
                    "carpet": [
                      {
                        "aaxis": {
                          "endlinecolor": "#2a3f5f",
                          "gridcolor": "white",
                          "linecolor": "white",
                          "minorgridcolor": "white",
                          "startlinecolor": "#2a3f5f"
                        },
                        "baxis": {
                          "endlinecolor": "#2a3f5f",
                          "gridcolor": "white",
                          "linecolor": "white",
                          "minorgridcolor": "white",
                          "startlinecolor": "#2a3f5f"
                        },
                        "type": "carpet"
                      }
                    ],
                    "choropleth": [
                      {
                        "colorbar": {
                          "outlinewidth": 0,
                          "ticks": ""
                        },
                        "type": "choropleth"
                      }
                    ],
                    "contour": [
                      {
                        "colorbar": {
                          "outlinewidth": 0,
                          "ticks": ""
                        },
                        "colorscale": [
                          [
                            0,
                            "#0d0887"
                          ],
                          [
                            0.1111111111111111,
                            "#46039f"
                          ],
                          [
                            0.2222222222222222,
                            "#7201a8"
                          ],
                          [
                            0.3333333333333333,
                            "#9c179e"
                          ],
                          [
                            0.4444444444444444,
                            "#bd3786"
                          ],
                          [
                            0.5555555555555556,
                            "#d8576b"
                          ],
                          [
                            0.6666666666666666,
                            "#ed7953"
                          ],
                          [
                            0.7777777777777778,
                            "#fb9f3a"
                          ],
                          [
                            0.8888888888888888,
                            "#fdca26"
                          ],
                          [
                            1,
                            "#f0f921"
                          ]
                        ],
                        "type": "contour"
                      }
                    ],
                    "contourcarpet": [
                      {
                        "colorbar": {
                          "outlinewidth": 0,
                          "ticks": ""
                        },
                        "type": "contourcarpet"
                      }
                    ],
                    "heatmap": [
                      {
                        "colorbar": {
                          "outlinewidth": 0,
                          "ticks": ""
                        },
                        "colorscale": [
                          [
                            0,
                            "#0d0887"
                          ],
                          [
                            0.1111111111111111,
                            "#46039f"
                          ],
                          [
                            0.2222222222222222,
                            "#7201a8"
                          ],
                          [
                            0.3333333333333333,
                            "#9c179e"
                          ],
                          [
                            0.4444444444444444,
                            "#bd3786"
                          ],
                          [
                            0.5555555555555556,
                            "#d8576b"
                          ],
                          [
                            0.6666666666666666,
                            "#ed7953"
                          ],
                          [
                            0.7777777777777778,
                            "#fb9f3a"
                          ],
                          [
                            0.8888888888888888,
                            "#fdca26"
                          ],
                          [
                            1,
                            "#f0f921"
                          ]
                        ],
                        "type": "heatmap"
                      }
                    ],
                    "heatmapgl": [
                      {
                        "colorbar": {
                          "outlinewidth": 0,
                          "ticks": ""
                        },
                        "colorscale": [
                          [
                            0,
                            "#0d0887"
                          ],
                          [
                            0.1111111111111111,
                            "#46039f"
                          ],
                          [
                            0.2222222222222222,
                            "#7201a8"
                          ],
                          [
                            0.3333333333333333,
                            "#9c179e"
                          ],
                          [
                            0.4444444444444444,
                            "#bd3786"
                          ],
                          [
                            0.5555555555555556,
                            "#d8576b"
                          ],
                          [
                            0.6666666666666666,
                            "#ed7953"
                          ],
                          [
                            0.7777777777777778,
                            "#fb9f3a"
                          ],
                          [
                            0.8888888888888888,
                            "#fdca26"
                          ],
                          [
                            1,
                            "#f0f921"
                          ]
                        ],
                        "type": "heatmapgl"
                      }
                    ],
                    "histogram": [
                      {
                        "marker": {
                          "pattern": {
                            "fillmode": "overlay",
                            "size": 10,
                            "solidity": 0.2
                          }
                        },
                        "type": "histogram"
                      }
                    ],
                    "histogram2d": [
                      {
                        "colorbar": {
                          "outlinewidth": 0,
                          "ticks": ""
                        },
                        "colorscale": [
                          [
                            0,
                            "#0d0887"
                          ],
                          [
                            0.1111111111111111,
                            "#46039f"
                          ],
                          [
                            0.2222222222222222,
                            "#7201a8"
                          ],
                          [
                            0.3333333333333333,
                            "#9c179e"
                          ],
                          [
                            0.4444444444444444,
                            "#bd3786"
                          ],
                          [
                            0.5555555555555556,
                            "#d8576b"
                          ],
                          [
                            0.6666666666666666,
                            "#ed7953"
                          ],
                          [
                            0.7777777777777778,
                            "#fb9f3a"
                          ],
                          [
                            0.8888888888888888,
                            "#fdca26"
                          ],
                          [
                            1,
                            "#f0f921"
                          ]
                        ],
                        "type": "histogram2d"
                      }
                    ],
                    "histogram2dcontour": [
                      {
                        "colorbar": {
                          "outlinewidth": 0,
                          "ticks": ""
                        },
                        "colorscale": [
                          [
                            0,
                            "#0d0887"
                          ],
                          [
                            0.1111111111111111,
                            "#46039f"
                          ],
                          [
                            0.2222222222222222,
                            "#7201a8"
                          ],
                          [
                            0.3333333333333333,
                            "#9c179e"
                          ],
                          [
                            0.4444444444444444,
                            "#bd3786"
                          ],
                          [
                            0.5555555555555556,
                            "#d8576b"
                          ],
                          [
                            0.6666666666666666,
                            "#ed7953"
                          ],
                          [
                            0.7777777777777778,
                            "#fb9f3a"
                          ],
                          [
                            0.8888888888888888,
                            "#fdca26"
                          ],
                          [
                            1,
                            "#f0f921"
                          ]
                        ],
                        "type": "histogram2dcontour"
                      }
                    ],
                    "mesh3d": [
                      {
                        "colorbar": {
                          "outlinewidth": 0,
                          "ticks": ""
                        },
                        "type": "mesh3d"
                      }
                    ],
                    "parcoords": [
                      {
                        "line": {
                          "colorbar": {
                            "outlinewidth": 0,
                            "ticks": ""
                          }
                        },
                        "type": "parcoords"
                      }
                    ],
                    "pie": [
                      {
                        "automargin": true,
                        "type": "pie"
                      }
                    ],
                    "scatter": [
                      {
                        "fillpattern": {
                          "fillmode": "overlay",
                          "size": 10,
                          "solidity": 0.2
                        },
                        "type": "scatter"
                      }
                    ],
                    "scatter3d": [
                      {
                        "line": {
                          "colorbar": {
                            "outlinewidth": 0,
                            "ticks": ""
                          }
                        },
                        "marker": {
                          "colorbar": {
                            "outlinewidth": 0,
                            "ticks": ""
                          }
                        },
                        "type": "scatter3d"
                      }
                    ],
                    "scattercarpet": [
                      {
                        "marker": {
                          "colorbar": {
                            "outlinewidth": 0,
                            "ticks": ""
                          }
                        },
                        "type": "scattercarpet"
                      }
                    ],
                    "scattergeo": [
                      {
                        "marker": {
                          "colorbar": {
                            "outlinewidth": 0,
                            "ticks": ""
                          }
                        },
                        "type": "scattergeo"
                      }
                    ],
                    "scattergl": [
                      {
                        "marker": {
                          "colorbar": {
                            "outlinewidth": 0,
                            "ticks": ""
                          }
                        },
                        "type": "scattergl"
                      }
                    ],
                    "scattermapbox": [
                      {
                        "marker": {
                          "colorbar": {
                            "outlinewidth": 0,
                            "ticks": ""
                          }
                        },
                        "type": "scattermapbox"
                      }
                    ],
                    "scatterpolar": [
                      {
                        "marker": {
                          "colorbar": {
                            "outlinewidth": 0,
                            "ticks": ""
                          }
                        },
                        "type": "scatterpolar"
                      }
                    ],
                    "scatterpolargl": [
                      {
                        "marker": {
                          "colorbar": {
                            "outlinewidth": 0,
                            "ticks": ""
                          }
                        },
                        "type": "scatterpolargl"
                      }
                    ],
                    "scatterternary": [
                      {
                        "marker": {
                          "colorbar": {
                            "outlinewidth": 0,
                            "ticks": ""
                          }
                        },
                        "type": "scatterternary"
                      }
                    ],
                    "surface": [
                      {
                        "colorbar": {
                          "outlinewidth": 0,
                          "ticks": ""
                        },
                        "colorscale": [
                          [
                            0,
                            "#0d0887"
                          ],
                          [
                            0.1111111111111111,
                            "#46039f"
                          ],
                          [
                            0.2222222222222222,
                            "#7201a8"
                          ],
                          [
                            0.3333333333333333,
                            "#9c179e"
                          ],
                          [
                            0.4444444444444444,
                            "#bd3786"
                          ],
                          [
                            0.5555555555555556,
                            "#d8576b"
                          ],
                          [
                            0.6666666666666666,
                            "#ed7953"
                          ],
                          [
                            0.7777777777777778,
                            "#fb9f3a"
                          ],
                          [
                            0.8888888888888888,
                            "#fdca26"
                          ],
                          [
                            1,
                            "#f0f921"
                          ]
                        ],
                        "type": "surface"
                      }
                    ],
                    "table": [
                      {
                        "cells": {
                          "fill": {
                            "color": "#EBF0F8"
                          },
                          "line": {
                            "color": "white"
                          }
                        },
                        "header": {
                          "fill": {
                            "color": "#C8D4E3"
                          },
                          "line": {
                            "color": "white"
                          }
                        },
                        "type": "table"
                      }
                    ]
                  },
                  "layout": {
                    "annotationdefaults": {
                      "arrowcolor": "#2a3f5f",
                      "arrowhead": 0,
                      "arrowwidth": 1
                    },
                    "autotypenumbers": "strict",
                    "coloraxis": {
                      "colorbar": {
                        "outlinewidth": 0,
                        "ticks": ""
                      }
                    },
                    "colorscale": {
                      "diverging": [
                        [
                          0,
                          "#8e0152"
                        ],
                        [
                          0.1,
                          "#c51b7d"
                        ],
                        [
                          0.2,
                          "#de77ae"
                        ],
                        [
                          0.3,
                          "#f1b6da"
                        ],
                        [
                          0.4,
                          "#fde0ef"
                        ],
                        [
                          0.5,
                          "#f7f7f7"
                        ],
                        [
                          0.6,
                          "#e6f5d0"
                        ],
                        [
                          0.7,
                          "#b8e186"
                        ],
                        [
                          0.8,
                          "#7fbc41"
                        ],
                        [
                          0.9,
                          "#4d9221"
                        ],
                        [
                          1,
                          "#276419"
                        ]
                      ],
                      "sequential": [
                        [
                          0,
                          "#0d0887"
                        ],
                        [
                          0.1111111111111111,
                          "#46039f"
                        ],
                        [
                          0.2222222222222222,
                          "#7201a8"
                        ],
                        [
                          0.3333333333333333,
                          "#9c179e"
                        ],
                        [
                          0.4444444444444444,
                          "#bd3786"
                        ],
                        [
                          0.5555555555555556,
                          "#d8576b"
                        ],
                        [
                          0.6666666666666666,
                          "#ed7953"
                        ],
                        [
                          0.7777777777777778,
                          "#fb9f3a"
                        ],
                        [
                          0.8888888888888888,
                          "#fdca26"
                        ],
                        [
                          1,
                          "#f0f921"
                        ]
                      ],
                      "sequentialminus": [
                        [
                          0,
                          "#0d0887"
                        ],
                        [
                          0.1111111111111111,
                          "#46039f"
                        ],
                        [
                          0.2222222222222222,
                          "#7201a8"
                        ],
                        [
                          0.3333333333333333,
                          "#9c179e"
                        ],
                        [
                          0.4444444444444444,
                          "#bd3786"
                        ],
                        [
                          0.5555555555555556,
                          "#d8576b"
                        ],
                        [
                          0.6666666666666666,
                          "#ed7953"
                        ],
                        [
                          0.7777777777777778,
                          "#fb9f3a"
                        ],
                        [
                          0.8888888888888888,
                          "#fdca26"
                        ],
                        [
                          1,
                          "#f0f921"
                        ]
                      ]
                    },
                    "colorway": [
                      "#636efa",
                      "#EF553B",
                      "#00cc96",
                      "#ab63fa",
                      "#FFA15A",
                      "#19d3f3",
                      "#FF6692",
                      "#B6E880",
                      "#FF97FF",
                      "#FECB52"
                    ],
                    "font": {
                      "color": "#2a3f5f"
                    },
                    "geo": {
                      "bgcolor": "white",
                      "lakecolor": "white",
                      "landcolor": "#E5ECF6",
                      "showlakes": true,
                      "showland": true,
                      "subunitcolor": "white"
                    },
                    "hoverlabel": {
                      "align": "left"
                    },
                    "hovermode": "closest",
                    "mapbox": {
                      "style": "light"
                    },
                    "paper_bgcolor": "white",
                    "plot_bgcolor": "#E5ECF6",
                    "polar": {
                      "angularaxis": {
                        "gridcolor": "white",
                        "linecolor": "white",
                        "ticks": ""
                      },
                      "bgcolor": "#E5ECF6",
                      "radialaxis": {
                        "gridcolor": "white",
                        "linecolor": "white",
                        "ticks": ""
                      }
                    },
                    "scene": {
                      "xaxis": {
                        "backgroundcolor": "#E5ECF6",
                        "gridcolor": "white",
                        "gridwidth": 2,
                        "linecolor": "white",
                        "showbackground": true,
                        "ticks": "",
                        "zerolinecolor": "white"
                      },
                      "yaxis": {
                        "backgroundcolor": "#E5ECF6",
                        "gridcolor": "white",
                        "gridwidth": 2,
                        "linecolor": "white",
                        "showbackground": true,
                        "ticks": "",
                        "zerolinecolor": "white"
                      },
                      "zaxis": {
                        "backgroundcolor": "#E5ECF6",
                        "gridcolor": "white",
                        "gridwidth": 2,
                        "linecolor": "white",
                        "showbackground": true,
                        "ticks": "",
                        "zerolinecolor": "white"
                      }
                    },
                    "shapedefaults": {
                      "line": {
                        "color": "#2a3f5f"
                      }
                    },
                    "ternary": {
                      "aaxis": {
                        "gridcolor": "white",
                        "linecolor": "white",
                        "ticks": ""
                      },
                      "baxis": {
                        "gridcolor": "white",
                        "linecolor": "white",
                        "ticks": ""
                      },
                      "bgcolor": "#E5ECF6",
                      "caxis": {
                        "gridcolor": "white",
                        "linecolor": "white",
                        "ticks": ""
                      }
                    },
                    "title": {
                      "x": 0.05
                    },
                    "xaxis": {
                      "automargin": true,
                      "gridcolor": "white",
                      "linecolor": "white",
                      "ticks": "",
                      "title": {
                        "standoff": 15
                      },
                      "zerolinecolor": "white",
                      "zerolinewidth": 2
                    },
                    "yaxis": {
                      "automargin": true,
                      "gridcolor": "white",
                      "linecolor": "white",
                      "ticks": "",
                      "title": {
                        "standoff": 15
                      },
                      "zerolinecolor": "white",
                      "zerolinewidth": 2
                    }
                  }
                },
                "xaxis": {
                  "anchor": "y",
                  "domain": [
                    0,
                    1
                  ],
                  "title": {
                    "text": "x"
                  }
                },
                "yaxis": {
                  "anchor": "x",
                  "domain": [
                    0,
                    1
                  ],
                  "title": {
                    "text": "y"
                  }
                }
              }
            },
            "text/html": [
              "<div>                            <div id=\"c696b6ce-4321-482e-87b1-7a75b8155fcd\" class=\"plotly-graph-div\" style=\"height:525px; width:100%;\"></div>            <script type=\"text/javascript\">                require([\"plotly\"], function(Plotly) {                    window.PLOTLYENV=window.PLOTLYENV || {};                                    if (document.getElementById(\"c696b6ce-4321-482e-87b1-7a75b8155fcd\")) {                    Plotly.newPlot(                        \"c696b6ce-4321-482e-87b1-7a75b8155fcd\",                        [{\"alignmentgroup\":\"True\",\"hovertemplate\":\"x=%{x}\\u003cbr\\u003ey=%{y}\\u003cextra\\u003e\\u003c\\u002fextra\\u003e\",\"legendgroup\":\"\",\"marker\":{\"color\":\"#636efa\",\"pattern\":{\"shape\":\"\"}},\"name\":\"\",\"offsetgroup\":\"\",\"orientation\":\"v\",\"showlegend\":false,\"textposition\":\"auto\",\"x\":[\"L0H4\",\"L26H14\",\"24_mlp_out\",\"22_mlp_out\",\"25_mlp_out\",\"L21H2\",\"23_mlp_out\",\"L21H5\",\"0_mlp_out\",\"L25H4\",\"L27H5\",\"21_mlp_out\",\"L26H9\",\"L21H1\",\"L23H14\",\"L0H0\",\"L25H2\",\"L22H11\",\"L23H4\",\"1_mlp_out\",\"L27H14\",\"14_mlp_out\",\"L2H0\",\"L3H7\",\"L19H15\",\"8_mlp_out\",\"L22H12\",\"L0H1\",\"L2H3\",\"L3H15\",\"L1H7\",\"L3H9\",\"L27H1\",\"L1H8\",\"L13H4\",\"L1H12\",\"L24H12\",\"L17H2\",\"L3H11\",\"L0H9\"],\"xaxis\":\"x\",\"y\":[1.2177734375,0.98828125,0.859375,0.76904296875,0.6865234375,0.45068359375,0.31494140625,0.254638671875,0.173095703125,0.1572265625,0.1304931640625,0.108642578125,0.10400390625,0.08477783203125,0.080810546875,0.0626220703125,0.05816650390625,0.053680419921875,0.04461669921875,0.034576416015625,0.03436279296875,0.031005859375,0.02899169921875,0.0283660888671875,0.02435302734375,0.02288818359375,0.022613525390625,0.0218658447265625,0.0207672119140625,0.0192413330078125,0.0167999267578125,0.0167236328125,0.01500701904296875,0.01483917236328125,0.01464080810546875,0.01374053955078125,0.01351165771484375,0.01336669921875,0.013092041015625,0.01308441162109375],\"yaxis\":\"y\",\"type\":\"bar\"}],                        {\"template\":{\"data\":{\"histogram2dcontour\":[{\"type\":\"histogram2dcontour\",\"colorbar\":{\"outlinewidth\":0,\"ticks\":\"\"},\"colorscale\":[[0.0,\"#0d0887\"],[0.1111111111111111,\"#46039f\"],[0.2222222222222222,\"#7201a8\"],[0.3333333333333333,\"#9c179e\"],[0.4444444444444444,\"#bd3786\"],[0.5555555555555556,\"#d8576b\"],[0.6666666666666666,\"#ed7953\"],[0.7777777777777778,\"#fb9f3a\"],[0.8888888888888888,\"#fdca26\"],[1.0,\"#f0f921\"]]}],\"choropleth\":[{\"type\":\"choropleth\",\"colorbar\":{\"outlinewidth\":0,\"ticks\":\"\"}}],\"histogram2d\":[{\"type\":\"histogram2d\",\"colorbar\":{\"outlinewidth\":0,\"ticks\":\"\"},\"colorscale\":[[0.0,\"#0d0887\"],[0.1111111111111111,\"#46039f\"],[0.2222222222222222,\"#7201a8\"],[0.3333333333333333,\"#9c179e\"],[0.4444444444444444,\"#bd3786\"],[0.5555555555555556,\"#d8576b\"],[0.6666666666666666,\"#ed7953\"],[0.7777777777777778,\"#fb9f3a\"],[0.8888888888888888,\"#fdca26\"],[1.0,\"#f0f921\"]]}],\"heatmap\":[{\"type\":\"heatmap\",\"colorbar\":{\"outlinewidth\":0,\"ticks\":\"\"},\"colorscale\":[[0.0,\"#0d0887\"],[0.1111111111111111,\"#46039f\"],[0.2222222222222222,\"#7201a8\"],[0.3333333333333333,\"#9c179e\"],[0.4444444444444444,\"#bd3786\"],[0.5555555555555556,\"#d8576b\"],[0.6666666666666666,\"#ed7953\"],[0.7777777777777778,\"#fb9f3a\"],[0.8888888888888888,\"#fdca26\"],[1.0,\"#f0f921\"]]}],\"heatmapgl\":[{\"type\":\"heatmapgl\",\"colorbar\":{\"outlinewidth\":0,\"ticks\":\"\"},\"colorscale\":[[0.0,\"#0d0887\"],[0.1111111111111111,\"#46039f\"],[0.2222222222222222,\"#7201a8\"],[0.3333333333333333,\"#9c179e\"],[0.4444444444444444,\"#bd3786\"],[0.5555555555555556,\"#d8576b\"],[0.6666666666666666,\"#ed7953\"],[0.7777777777777778,\"#fb9f3a\"],[0.8888888888888888,\"#fdca26\"],[1.0,\"#f0f921\"]]}],\"contourcarpet\":[{\"type\":\"contourcarpet\",\"colorbar\":{\"outlinewidth\":0,\"ticks\":\"\"}}],\"contour\":[{\"type\":\"contour\",\"colorbar\":{\"outlinewidth\":0,\"ticks\":\"\"},\"colorscale\":[[0.0,\"#0d0887\"],[0.1111111111111111,\"#46039f\"],[0.2222222222222222,\"#7201a8\"],[0.3333333333333333,\"#9c179e\"],[0.4444444444444444,\"#bd3786\"],[0.5555555555555556,\"#d8576b\"],[0.6666666666666666,\"#ed7953\"],[0.7777777777777778,\"#fb9f3a\"],[0.8888888888888888,\"#fdca26\"],[1.0,\"#f0f921\"]]}],\"surface\":[{\"type\":\"surface\",\"colorbar\":{\"outlinewidth\":0,\"ticks\":\"\"},\"colorscale\":[[0.0,\"#0d0887\"],[0.1111111111111111,\"#46039f\"],[0.2222222222222222,\"#7201a8\"],[0.3333333333333333,\"#9c179e\"],[0.4444444444444444,\"#bd3786\"],[0.5555555555555556,\"#d8576b\"],[0.6666666666666666,\"#ed7953\"],[0.7777777777777778,\"#fb9f3a\"],[0.8888888888888888,\"#fdca26\"],[1.0,\"#f0f921\"]]}],\"mesh3d\":[{\"type\":\"mesh3d\",\"colorbar\":{\"outlinewidth\":0,\"ticks\":\"\"}}],\"scatter\":[{\"fillpattern\":{\"fillmode\":\"overlay\",\"size\":10,\"solidity\":0.2},\"type\":\"scatter\"}],\"parcoords\":[{\"type\":\"parcoords\",\"line\":{\"colorbar\":{\"outlinewidth\":0,\"ticks\":\"\"}}}],\"scatterpolargl\":[{\"type\":\"scatterpolargl\",\"marker\":{\"colorbar\":{\"outlinewidth\":0,\"ticks\":\"\"}}}],\"bar\":[{\"error_x\":{\"color\":\"#2a3f5f\"},\"error_y\":{\"color\":\"#2a3f5f\"},\"marker\":{\"line\":{\"color\":\"#E5ECF6\",\"width\":0.5},\"pattern\":{\"fillmode\":\"overlay\",\"size\":10,\"solidity\":0.2}},\"type\":\"bar\"}],\"scattergeo\":[{\"type\":\"scattergeo\",\"marker\":{\"colorbar\":{\"outlinewidth\":0,\"ticks\":\"\"}}}],\"scatterpolar\":[{\"type\":\"scatterpolar\",\"marker\":{\"colorbar\":{\"outlinewidth\":0,\"ticks\":\"\"}}}],\"histogram\":[{\"marker\":{\"pattern\":{\"fillmode\":\"overlay\",\"size\":10,\"solidity\":0.2}},\"type\":\"histogram\"}],\"scattergl\":[{\"type\":\"scattergl\",\"marker\":{\"colorbar\":{\"outlinewidth\":0,\"ticks\":\"\"}}}],\"scatter3d\":[{\"type\":\"scatter3d\",\"line\":{\"colorbar\":{\"outlinewidth\":0,\"ticks\":\"\"}},\"marker\":{\"colorbar\":{\"outlinewidth\":0,\"ticks\":\"\"}}}],\"scattermapbox\":[{\"type\":\"scattermapbox\",\"marker\":{\"colorbar\":{\"outlinewidth\":0,\"ticks\":\"\"}}}],\"scatterternary\":[{\"type\":\"scatterternary\",\"marker\":{\"colorbar\":{\"outlinewidth\":0,\"ticks\":\"\"}}}],\"scattercarpet\":[{\"type\":\"scattercarpet\",\"marker\":{\"colorbar\":{\"outlinewidth\":0,\"ticks\":\"\"}}}],\"carpet\":[{\"aaxis\":{\"endlinecolor\":\"#2a3f5f\",\"gridcolor\":\"white\",\"linecolor\":\"white\",\"minorgridcolor\":\"white\",\"startlinecolor\":\"#2a3f5f\"},\"baxis\":{\"endlinecolor\":\"#2a3f5f\",\"gridcolor\":\"white\",\"linecolor\":\"white\",\"minorgridcolor\":\"white\",\"startlinecolor\":\"#2a3f5f\"},\"type\":\"carpet\"}],\"table\":[{\"cells\":{\"fill\":{\"color\":\"#EBF0F8\"},\"line\":{\"color\":\"white\"}},\"header\":{\"fill\":{\"color\":\"#C8D4E3\"},\"line\":{\"color\":\"white\"}},\"type\":\"table\"}],\"barpolar\":[{\"marker\":{\"line\":{\"color\":\"#E5ECF6\",\"width\":0.5},\"pattern\":{\"fillmode\":\"overlay\",\"size\":10,\"solidity\":0.2}},\"type\":\"barpolar\"}],\"pie\":[{\"automargin\":true,\"type\":\"pie\"}]},\"layout\":{\"autotypenumbers\":\"strict\",\"colorway\":[\"#636efa\",\"#EF553B\",\"#00cc96\",\"#ab63fa\",\"#FFA15A\",\"#19d3f3\",\"#FF6692\",\"#B6E880\",\"#FF97FF\",\"#FECB52\"],\"font\":{\"color\":\"#2a3f5f\"},\"hovermode\":\"closest\",\"hoverlabel\":{\"align\":\"left\"},\"paper_bgcolor\":\"white\",\"plot_bgcolor\":\"#E5ECF6\",\"polar\":{\"bgcolor\":\"#E5ECF6\",\"angularaxis\":{\"gridcolor\":\"white\",\"linecolor\":\"white\",\"ticks\":\"\"},\"radialaxis\":{\"gridcolor\":\"white\",\"linecolor\":\"white\",\"ticks\":\"\"}},\"ternary\":{\"bgcolor\":\"#E5ECF6\",\"aaxis\":{\"gridcolor\":\"white\",\"linecolor\":\"white\",\"ticks\":\"\"},\"baxis\":{\"gridcolor\":\"white\",\"linecolor\":\"white\",\"ticks\":\"\"},\"caxis\":{\"gridcolor\":\"white\",\"linecolor\":\"white\",\"ticks\":\"\"}},\"coloraxis\":{\"colorbar\":{\"outlinewidth\":0,\"ticks\":\"\"}},\"colorscale\":{\"sequential\":[[0.0,\"#0d0887\"],[0.1111111111111111,\"#46039f\"],[0.2222222222222222,\"#7201a8\"],[0.3333333333333333,\"#9c179e\"],[0.4444444444444444,\"#bd3786\"],[0.5555555555555556,\"#d8576b\"],[0.6666666666666666,\"#ed7953\"],[0.7777777777777778,\"#fb9f3a\"],[0.8888888888888888,\"#fdca26\"],[1.0,\"#f0f921\"]],\"sequentialminus\":[[0.0,\"#0d0887\"],[0.1111111111111111,\"#46039f\"],[0.2222222222222222,\"#7201a8\"],[0.3333333333333333,\"#9c179e\"],[0.4444444444444444,\"#bd3786\"],[0.5555555555555556,\"#d8576b\"],[0.6666666666666666,\"#ed7953\"],[0.7777777777777778,\"#fb9f3a\"],[0.8888888888888888,\"#fdca26\"],[1.0,\"#f0f921\"]],\"diverging\":[[0,\"#8e0152\"],[0.1,\"#c51b7d\"],[0.2,\"#de77ae\"],[0.3,\"#f1b6da\"],[0.4,\"#fde0ef\"],[0.5,\"#f7f7f7\"],[0.6,\"#e6f5d0\"],[0.7,\"#b8e186\"],[0.8,\"#7fbc41\"],[0.9,\"#4d9221\"],[1,\"#276419\"]]},\"xaxis\":{\"gridcolor\":\"white\",\"linecolor\":\"white\",\"ticks\":\"\",\"title\":{\"standoff\":15},\"zerolinecolor\":\"white\",\"automargin\":true,\"zerolinewidth\":2},\"yaxis\":{\"gridcolor\":\"white\",\"linecolor\":\"white\",\"ticks\":\"\",\"title\":{\"standoff\":15},\"zerolinecolor\":\"white\",\"automargin\":true,\"zerolinewidth\":2},\"scene\":{\"xaxis\":{\"backgroundcolor\":\"#E5ECF6\",\"gridcolor\":\"white\",\"linecolor\":\"white\",\"showbackground\":true,\"ticks\":\"\",\"zerolinecolor\":\"white\",\"gridwidth\":2},\"yaxis\":{\"backgroundcolor\":\"#E5ECF6\",\"gridcolor\":\"white\",\"linecolor\":\"white\",\"showbackground\":true,\"ticks\":\"\",\"zerolinecolor\":\"white\",\"gridwidth\":2},\"zaxis\":{\"backgroundcolor\":\"#E5ECF6\",\"gridcolor\":\"white\",\"linecolor\":\"white\",\"showbackground\":true,\"ticks\":\"\",\"zerolinecolor\":\"white\",\"gridwidth\":2}},\"shapedefaults\":{\"line\":{\"color\":\"#2a3f5f\"}},\"annotationdefaults\":{\"arrowcolor\":\"#2a3f5f\",\"arrowhead\":0,\"arrowwidth\":1},\"geo\":{\"bgcolor\":\"white\",\"landcolor\":\"#E5ECF6\",\"subunitcolor\":\"white\",\"showland\":true,\"showlakes\":true,\"lakecolor\":\"white\"},\"title\":{\"x\":0.05},\"mapbox\":{\"style\":\"light\"}}},\"xaxis\":{\"anchor\":\"y\",\"domain\":[0.0,1.0],\"title\":{\"text\":\"x\"}},\"yaxis\":{\"anchor\":\"x\",\"domain\":[0.0,1.0],\"title\":{\"text\":\"y\"}},\"legend\":{\"tracegroupgap\":0},\"margin\":{\"t\":60},\"barmode\":\"relative\"},                        {\"responsive\": true}                    ).then(function(){\n",
              "                            \n",
              "var gd = document.getElementById('c696b6ce-4321-482e-87b1-7a75b8155fcd');\n",
              "var x = new MutationObserver(function (mutations, observer) {{\n",
              "        var display = window.getComputedStyle(gd).display;\n",
              "        if (!display || display === 'none') {{\n",
              "            console.log([gd, 'removed!']);\n",
              "            Plotly.purge(gd);\n",
              "            observer.disconnect();\n",
              "        }}\n",
              "}});\n",
              "\n",
              "// Listen for the removal of the full notebook cells\n",
              "var notebookContainer = gd.closest('#notebook-container');\n",
              "if (notebookContainer) {{\n",
              "    x.observe(notebookContainer, {childList: true});\n",
              "}}\n",
              "\n",
              "// Listen for the clearing of the current output cell\n",
              "var outputEl = gd.closest('.output');\n",
              "if (outputEl) {{\n",
              "    x.observe(outputEl, {childList: true});\n",
              "}}\n",
              "\n",
              "                        })                };                });            </script>        </div>"
            ]
          },
          "metadata": {},
          "output_type": "display_data"
        }
      ],
      "source": [
        "fig = px.bar(y=top_k_values, x=top_labels)\n",
        "fig.show()"
      ]
    },
    {
      "cell_type": "code",
      "execution_count": 61,
      "metadata": {
        "colab": {
          "base_uri": "https://localhost:8080/"
        },
        "id": "b2iphsEcUhld",
        "outputId": "93d4c5a8-05fa-429e-f1cc-a454203ae6e4"
      },
      "outputs": [
        {
          "data": {
            "text/plain": [
              "tensor([ 32, 458,  24,  22,  25, 366,  23, 369,   0, 432, 465,  21, 453, 365,\n",
              "        410,  28, 430, 391, 400,   1, 474,  14,  60,  83, 347,   8, 392,  29,\n",
              "         63,  91,  51,  85, 461,  52, 240,  56, 424, 302,  87,  37])"
            ]
          },
          "execution_count": 61,
          "metadata": {},
          "output_type": "execute_result"
        }
      ],
      "source": [
        "top_k_indices"
      ]
    },
    {
      "cell_type": "code",
      "execution_count": 72,
      "metadata": {},
      "outputs": [
        {
          "name": "stdout",
          "output_type": "stream",
          "text": [
            "A highly knowledgeable and intelligent AI answers multiple-choice questions about Biology. Which of the following theories is based on the notion that mitochondria and chloroplasts evolved from prokaryotic cells?:\n",
            "\n",
            "(A) Fluid mosaic model\n",
            "(B) Endosymbiotic model\n",
            "(C) Taxonomic model\n",
            "(D) Respiration feedback model\n",
            "Answer: ( 1\n"
          ]
        }
      ],
      "source": [
        "print(prompts[-1], correct_answers[-1])"
      ]
    },
    {
      "cell_type": "code",
      "execution_count": 66,
      "metadata": {
        "id": "qyh3yrEAT8_D"
      },
      "outputs": [],
      "source": [
        "from torchtyping import TensorType as TT\n",
        "import einops\n",
        "\n",
        "def stack_head_pattern_from_cache(\n",
        "        cache,\n",
        "    ) -> TT[\"layer_and_head_index\", \"batch\", \"dest_pos\", \"src_pos\"]:\n",
        "        \"\"\"Stacks the head patterns from the cache into a single tensor.\"\"\"\n",
        "        stacked_head_pattern = torch.stack(\n",
        "            [cache[\"pattern\", l] for l in range(model.cfg.n_layers)], dim=0\n",
        "        )\n",
        "        stacked_head_pattern = einops.rearrange(\n",
        "            stacked_head_pattern,\n",
        "            \"layer batch head_index dest_pos src_pos -> (layer head_index) batch dest_pos src_pos\",\n",
        "        )\n",
        "        return stacked_head_pattern"
      ]
    },
    {
      "cell_type": "code",
      "execution_count": 67,
      "metadata": {
        "id": "ufgz9s5bUWvu"
      },
      "outputs": [],
      "source": [
        "patterns = stack_head_pattern_from_cache(cache).cpu()"
      ]
    },
    {
      "cell_type": "code",
      "execution_count": 68,
      "metadata": {},
      "outputs": [
        {
          "data": {
            "text/plain": [
              "torch.Size([448, 1, 69, 69])"
            ]
          },
          "execution_count": 68,
          "metadata": {},
          "output_type": "execute_result"
        }
      ],
      "source": [
        "patterns.shape"
      ]
    },
    {
      "cell_type": "code",
      "execution_count": 76,
      "metadata": {
        "colab": {
          "base_uri": "https://localhost:8080/",
          "height": 1000
        },
        "id": "DBHsGv_CTuEZ",
        "outputId": "a4a37ffd-db49-4923-853b-1a63cf1eb5c5"
      },
      "outputs": [
        {
          "data": {
            "application/vnd.plotly.v1+json": {
              "config": {
                "plotlyServerURL": "https://plot.ly"
              },
              "data": [
                {
                  "coloraxis": "coloraxis",
                  "hovertemplate": "x: %{x}<br>y: %{y}<br>color: %{z}<extra></extra>",
                  "name": "0",
                  "type": "heatmap",
                  "x": [
                    "<bos> (0)",
                    "A (1)",
                    " highly (2)",
                    " knowledgeable (3)",
                    " and (4)",
                    " intelligent (5)",
                    " AI (6)",
                    " answers (7)",
                    " multiple (8)",
                    "- (9)",
                    "choice (10)",
                    " questions (11)",
                    " about (12)",
                    " Biology (13)",
                    ". (14)",
                    " Which (15)",
                    " of (16)",
                    " the (17)",
                    " following (18)",
                    " theories (19)",
                    " is (20)",
                    " based (21)",
                    " on (22)",
                    " the (23)",
                    " notion (24)",
                    " that (25)",
                    " mitochondria (26)",
                    " and (27)",
                    " chlor (28)",
                    "oplasts (29)",
                    " evolved (30)",
                    " from (31)",
                    " prokary (32)",
                    "otic (33)",
                    " cells (34)",
                    "?: (35)",
                    "\n\n (36)",
                    "( (37)",
                    "A (38)",
                    ") (39)",
                    " Fluid (40)",
                    " mosaic (41)",
                    " model (42)",
                    "\n (43)",
                    "( (44)",
                    "B (45)",
                    ") (46)",
                    " End (47)",
                    "osy (48)",
                    "mb (49)",
                    "iotic (50)",
                    " model (51)",
                    "\n (52)",
                    "( (53)",
                    "C (54)",
                    ") (55)",
                    " Taxonomic (56)",
                    " model (57)",
                    "\n (58)",
                    "( (59)",
                    "D (60)",
                    ") (61)",
                    " Respiration (62)",
                    " feedback (63)",
                    " model (64)",
                    "\n (65)",
                    "Answer (66)",
                    ": (67)",
                    " ( (68)"
                  ],
                  "xaxis": "x",
                  "y": [
                    "<bos> (0)",
                    "A (1)",
                    " highly (2)",
                    " knowledgeable (3)",
                    " and (4)",
                    " intelligent (5)",
                    " AI (6)",
                    " answers (7)",
                    " multiple (8)",
                    "- (9)",
                    "choice (10)",
                    " questions (11)",
                    " about (12)",
                    " Biology (13)",
                    ". (14)",
                    " Which (15)",
                    " of (16)",
                    " the (17)",
                    " following (18)",
                    " theories (19)",
                    " is (20)",
                    " based (21)",
                    " on (22)",
                    " the (23)",
                    " notion (24)",
                    " that (25)",
                    " mitochondria (26)",
                    " and (27)",
                    " chlor (28)",
                    "oplasts (29)",
                    " evolved (30)",
                    " from (31)",
                    " prokary (32)",
                    "otic (33)",
                    " cells (34)",
                    "?: (35)",
                    "\n\n (36)",
                    "( (37)",
                    "A (38)",
                    ") (39)",
                    " Fluid (40)",
                    " mosaic (41)",
                    " model (42)",
                    "\n (43)",
                    "( (44)",
                    "B (45)",
                    ") (46)",
                    " End (47)",
                    "osy (48)",
                    "mb (49)",
                    "iotic (50)",
                    " model (51)",
                    "\n (52)",
                    "( (53)",
                    "C (54)",
                    ") (55)",
                    " Taxonomic (56)",
                    " model (57)",
                    "\n (58)",
                    "( (59)",
                    "D (60)",
                    ") (61)",
                    " Respiration (62)",
                    " feedback (63)",
                    " model (64)",
                    "\n (65)",
                    "Answer (66)",
                    ": (67)",
                    " ( (68)"
                  ],
                  "yaxis": "y",
                  "z": [
                    [
                      1,
                      0,
                      0,
                      0,
                      0,
                      0,
                      0,
                      0,
                      0,
                      0,
                      0,
                      0,
                      0,
                      0,
                      0,
                      0,
                      0,
                      0,
                      0,
                      0,
                      0,
                      0,
                      0,
                      0,
                      0,
                      0,
                      0,
                      0,
                      0,
                      0,
                      0,
                      0,
                      0,
                      0,
                      0,
                      0,
                      0,
                      0,
                      0,
                      0,
                      0,
                      0,
                      0,
                      0,
                      0,
                      0,
                      0,
                      0,
                      0,
                      0,
                      0,
                      0,
                      0,
                      0,
                      0,
                      0,
                      0,
                      0,
                      0,
                      0,
                      0,
                      0,
                      0,
                      0,
                      0,
                      0,
                      0,
                      0,
                      0
                    ],
                    [
                      0.9599401354789734,
                      0.040059804916381836,
                      0,
                      0,
                      0,
                      0,
                      0,
                      0,
                      0,
                      0,
                      0,
                      0,
                      0,
                      0,
                      0,
                      0,
                      0,
                      0,
                      0,
                      0,
                      0,
                      0,
                      0,
                      0,
                      0,
                      0,
                      0,
                      0,
                      0,
                      0,
                      0,
                      0,
                      0,
                      0,
                      0,
                      0,
                      0,
                      0,
                      0,
                      0,
                      0,
                      0,
                      0,
                      0,
                      0,
                      0,
                      0,
                      0,
                      0,
                      0,
                      0,
                      0,
                      0,
                      0,
                      0,
                      0,
                      0,
                      0,
                      0,
                      0,
                      0,
                      0,
                      0,
                      0,
                      0,
                      0,
                      0,
                      0,
                      0
                    ],
                    [
                      0.6904385089874268,
                      0.01206318847835064,
                      0.29749828577041626,
                      0,
                      0,
                      0,
                      0,
                      0,
                      0,
                      0,
                      0,
                      0,
                      0,
                      0,
                      0,
                      0,
                      0,
                      0,
                      0,
                      0,
                      0,
                      0,
                      0,
                      0,
                      0,
                      0,
                      0,
                      0,
                      0,
                      0,
                      0,
                      0,
                      0,
                      0,
                      0,
                      0,
                      0,
                      0,
                      0,
                      0,
                      0,
                      0,
                      0,
                      0,
                      0,
                      0,
                      0,
                      0,
                      0,
                      0,
                      0,
                      0,
                      0,
                      0,
                      0,
                      0,
                      0,
                      0,
                      0,
                      0,
                      0,
                      0,
                      0,
                      0,
                      0,
                      0,
                      0,
                      0,
                      0
                    ],
                    [
                      0.894016444683075,
                      0.07447493821382523,
                      0.0027185159269720316,
                      0.028790106996893883,
                      0,
                      0,
                      0,
                      0,
                      0,
                      0,
                      0,
                      0,
                      0,
                      0,
                      0,
                      0,
                      0,
                      0,
                      0,
                      0,
                      0,
                      0,
                      0,
                      0,
                      0,
                      0,
                      0,
                      0,
                      0,
                      0,
                      0,
                      0,
                      0,
                      0,
                      0,
                      0,
                      0,
                      0,
                      0,
                      0,
                      0,
                      0,
                      0,
                      0,
                      0,
                      0,
                      0,
                      0,
                      0,
                      0,
                      0,
                      0,
                      0,
                      0,
                      0,
                      0,
                      0,
                      0,
                      0,
                      0,
                      0,
                      0,
                      0,
                      0,
                      0,
                      0,
                      0,
                      0,
                      0
                    ],
                    [
                      0.7074465751647949,
                      0.01138451136648655,
                      0.06471395492553711,
                      0.04317044839262962,
                      0.17328456044197083,
                      0,
                      0,
                      0,
                      0,
                      0,
                      0,
                      0,
                      0,
                      0,
                      0,
                      0,
                      0,
                      0,
                      0,
                      0,
                      0,
                      0,
                      0,
                      0,
                      0,
                      0,
                      0,
                      0,
                      0,
                      0,
                      0,
                      0,
                      0,
                      0,
                      0,
                      0,
                      0,
                      0,
                      0,
                      0,
                      0,
                      0,
                      0,
                      0,
                      0,
                      0,
                      0,
                      0,
                      0,
                      0,
                      0,
                      0,
                      0,
                      0,
                      0,
                      0,
                      0,
                      0,
                      0,
                      0,
                      0,
                      0,
                      0,
                      0,
                      0,
                      0,
                      0,
                      0,
                      0
                    ],
                    [
                      0.7914875149726868,
                      0.0743560940027237,
                      0.0030500914435833693,
                      0.10947811603546143,
                      0.002747660968452692,
                      0.018880512565374374,
                      0,
                      0,
                      0,
                      0,
                      0,
                      0,
                      0,
                      0,
                      0,
                      0,
                      0,
                      0,
                      0,
                      0,
                      0,
                      0,
                      0,
                      0,
                      0,
                      0,
                      0,
                      0,
                      0,
                      0,
                      0,
                      0,
                      0,
                      0,
                      0,
                      0,
                      0,
                      0,
                      0,
                      0,
                      0,
                      0,
                      0,
                      0,
                      0,
                      0,
                      0,
                      0,
                      0,
                      0,
                      0,
                      0,
                      0,
                      0,
                      0,
                      0,
                      0,
                      0,
                      0,
                      0,
                      0,
                      0,
                      0,
                      0,
                      0,
                      0,
                      0,
                      0,
                      0
                    ],
                    [
                      0.5043662786483765,
                      0.01853717677295208,
                      0.0014670826494693756,
                      0.018116608262062073,
                      0.001327879843302071,
                      0.06485053896903992,
                      0.3913344144821167,
                      0,
                      0,
                      0,
                      0,
                      0,
                      0,
                      0,
                      0,
                      0,
                      0,
                      0,
                      0,
                      0,
                      0,
                      0,
                      0,
                      0,
                      0,
                      0,
                      0,
                      0,
                      0,
                      0,
                      0,
                      0,
                      0,
                      0,
                      0,
                      0,
                      0,
                      0,
                      0,
                      0,
                      0,
                      0,
                      0,
                      0,
                      0,
                      0,
                      0,
                      0,
                      0,
                      0,
                      0,
                      0,
                      0,
                      0,
                      0,
                      0,
                      0,
                      0,
                      0,
                      0,
                      0,
                      0,
                      0,
                      0,
                      0,
                      0,
                      0,
                      0,
                      0
                    ],
                    [
                      0.8535599708557129,
                      0.01830403506755829,
                      0.0004672314098570496,
                      0.0064611416310071945,
                      0.0003372548089828342,
                      0.009146197699010372,
                      0.04119737073779106,
                      0.07052680104970932,
                      0,
                      0,
                      0,
                      0,
                      0,
                      0,
                      0,
                      0,
                      0,
                      0,
                      0,
                      0,
                      0,
                      0,
                      0,
                      0,
                      0,
                      0,
                      0,
                      0,
                      0,
                      0,
                      0,
                      0,
                      0,
                      0,
                      0,
                      0,
                      0,
                      0,
                      0,
                      0,
                      0,
                      0,
                      0,
                      0,
                      0,
                      0,
                      0,
                      0,
                      0,
                      0,
                      0,
                      0,
                      0,
                      0,
                      0,
                      0,
                      0,
                      0,
                      0,
                      0,
                      0,
                      0,
                      0,
                      0,
                      0,
                      0,
                      0,
                      0,
                      0
                    ],
                    [
                      0.5599370002746582,
                      0.014139920473098755,
                      0.000989220687188208,
                      0.009964212775230408,
                      0.0005771820433437824,
                      0.020466238260269165,
                      0.10050379484891891,
                      0.13843905925750732,
                      0.1549832820892334,
                      0,
                      0,
                      0,
                      0,
                      0,
                      0,
                      0,
                      0,
                      0,
                      0,
                      0,
                      0,
                      0,
                      0,
                      0,
                      0,
                      0,
                      0,
                      0,
                      0,
                      0,
                      0,
                      0,
                      0,
                      0,
                      0,
                      0,
                      0,
                      0,
                      0,
                      0,
                      0,
                      0,
                      0,
                      0,
                      0,
                      0,
                      0,
                      0,
                      0,
                      0,
                      0,
                      0,
                      0,
                      0,
                      0,
                      0,
                      0,
                      0,
                      0,
                      0,
                      0,
                      0,
                      0,
                      0,
                      0,
                      0,
                      0,
                      0,
                      0
                    ],
                    [
                      0.8285772204399109,
                      0.002166277961805463,
                      0.0024862615391612053,
                      0.004285466857254505,
                      0.0004914949531666934,
                      0.005685725249350071,
                      0.016305308789014816,
                      0.013460150919854641,
                      0.05605214834213257,
                      0.07048995792865753,
                      0,
                      0,
                      0,
                      0,
                      0,
                      0,
                      0,
                      0,
                      0,
                      0,
                      0,
                      0,
                      0,
                      0,
                      0,
                      0,
                      0,
                      0,
                      0,
                      0,
                      0,
                      0,
                      0,
                      0,
                      0,
                      0,
                      0,
                      0,
                      0,
                      0,
                      0,
                      0,
                      0,
                      0,
                      0,
                      0,
                      0,
                      0,
                      0,
                      0,
                      0,
                      0,
                      0,
                      0,
                      0,
                      0,
                      0,
                      0,
                      0,
                      0,
                      0,
                      0,
                      0,
                      0,
                      0,
                      0,
                      0,
                      0,
                      0
                    ],
                    [
                      0.4549914002418518,
                      0.021337280049920082,
                      0.000609861221164465,
                      0.017793089151382446,
                      0.0004182735865470022,
                      0.03920591622591019,
                      0.13192933797836304,
                      0.1187547892332077,
                      0.11010873317718506,
                      0.004862483590841293,
                      0.09998885542154312,
                      0,
                      0,
                      0,
                      0,
                      0,
                      0,
                      0,
                      0,
                      0,
                      0,
                      0,
                      0,
                      0,
                      0,
                      0,
                      0,
                      0,
                      0,
                      0,
                      0,
                      0,
                      0,
                      0,
                      0,
                      0,
                      0,
                      0,
                      0,
                      0,
                      0,
                      0,
                      0,
                      0,
                      0,
                      0,
                      0,
                      0,
                      0,
                      0,
                      0,
                      0,
                      0,
                      0,
                      0,
                      0,
                      0,
                      0,
                      0,
                      0,
                      0,
                      0,
                      0,
                      0,
                      0,
                      0,
                      0,
                      0,
                      0
                    ],
                    [
                      0.6313135623931885,
                      0.013934550806879997,
                      0.0010990449227392673,
                      0.008434878662228584,
                      0.0004684303712565452,
                      0.008559232577681541,
                      0.032815732061862946,
                      0.12315164506435394,
                      0.015693169087171555,
                      0.0025691671762615442,
                      0.015927603468298912,
                      0.14603300392627716,
                      0,
                      0,
                      0,
                      0,
                      0,
                      0,
                      0,
                      0,
                      0,
                      0,
                      0,
                      0,
                      0,
                      0,
                      0,
                      0,
                      0,
                      0,
                      0,
                      0,
                      0,
                      0,
                      0,
                      0,
                      0,
                      0,
                      0,
                      0,
                      0,
                      0,
                      0,
                      0,
                      0,
                      0,
                      0,
                      0,
                      0,
                      0,
                      0,
                      0,
                      0,
                      0,
                      0,
                      0,
                      0,
                      0,
                      0,
                      0,
                      0,
                      0,
                      0,
                      0,
                      0,
                      0,
                      0,
                      0,
                      0
                    ],
                    [
                      0.7731612920761108,
                      0.004767893813550472,
                      0.0005511834169737995,
                      0.0016902820207178593,
                      0.00006710259185638279,
                      0.0029769781976938248,
                      0.06915217638015747,
                      0.02035471983253956,
                      0.004835918080061674,
                      0.0005162002635188401,
                      0.01069449633359909,
                      0.003757515223696828,
                      0.10747428983449936,
                      0,
                      0,
                      0,
                      0,
                      0,
                      0,
                      0,
                      0,
                      0,
                      0,
                      0,
                      0,
                      0,
                      0,
                      0,
                      0,
                      0,
                      0,
                      0,
                      0,
                      0,
                      0,
                      0,
                      0,
                      0,
                      0,
                      0,
                      0,
                      0,
                      0,
                      0,
                      0,
                      0,
                      0,
                      0,
                      0,
                      0,
                      0,
                      0,
                      0,
                      0,
                      0,
                      0,
                      0,
                      0,
                      0,
                      0,
                      0,
                      0,
                      0,
                      0,
                      0,
                      0,
                      0,
                      0,
                      0
                    ],
                    [
                      0.40147116780281067,
                      0.0023295143619179726,
                      0.0003811125352513045,
                      0.0010306818876415491,
                      0.00007208027818705887,
                      0.0011153408559039235,
                      0.01887352578341961,
                      0.0035758360754698515,
                      0.005045595113188028,
                      0.0011917812516912818,
                      0.018359726294875145,
                      0.06742536276578903,
                      0.027283720672130585,
                      0.4518445134162903,
                      0,
                      0,
                      0,
                      0,
                      0,
                      0,
                      0,
                      0,
                      0,
                      0,
                      0,
                      0,
                      0,
                      0,
                      0,
                      0,
                      0,
                      0,
                      0,
                      0,
                      0,
                      0,
                      0,
                      0,
                      0,
                      0,
                      0,
                      0,
                      0,
                      0,
                      0,
                      0,
                      0,
                      0,
                      0,
                      0,
                      0,
                      0,
                      0,
                      0,
                      0,
                      0,
                      0,
                      0,
                      0,
                      0,
                      0,
                      0,
                      0,
                      0,
                      0,
                      0,
                      0,
                      0,
                      0
                    ],
                    [
                      0.3428211808204651,
                      0.005759336519986391,
                      0.0006254902109503746,
                      0.002193180611357093,
                      0.00036773181636817753,
                      0.001718347193673253,
                      0.1248469352722168,
                      0.019542519003152847,
                      0.0034459431190043688,
                      0.0015739600639790297,
                      0.01792643964290619,
                      0.00846049003303051,
                      0.009107079356908798,
                      0.04648449644446373,
                      0.41512686014175415,
                      0,
                      0,
                      0,
                      0,
                      0,
                      0,
                      0,
                      0,
                      0,
                      0,
                      0,
                      0,
                      0,
                      0,
                      0,
                      0,
                      0,
                      0,
                      0,
                      0,
                      0,
                      0,
                      0,
                      0,
                      0,
                      0,
                      0,
                      0,
                      0,
                      0,
                      0,
                      0,
                      0,
                      0,
                      0,
                      0,
                      0,
                      0,
                      0,
                      0,
                      0,
                      0,
                      0,
                      0,
                      0,
                      0,
                      0,
                      0,
                      0,
                      0,
                      0,
                      0,
                      0,
                      0
                    ],
                    [
                      0.23289640247821808,
                      0.0016795338597148657,
                      0.0009946012869477272,
                      0.0031052776612341404,
                      0.000317027181154117,
                      0.0034203692339360714,
                      0.05288488417863846,
                      0.01160101406276226,
                      0.009766209870576859,
                      0.002362253610044718,
                      0.046822838485240936,
                      0.0043290783651173115,
                      0.021575450897216797,
                      0.1544756144285202,
                      0.1532820463180542,
                      0.3004874289035797,
                      0,
                      0,
                      0,
                      0,
                      0,
                      0,
                      0,
                      0,
                      0,
                      0,
                      0,
                      0,
                      0,
                      0,
                      0,
                      0,
                      0,
                      0,
                      0,
                      0,
                      0,
                      0,
                      0,
                      0,
                      0,
                      0,
                      0,
                      0,
                      0,
                      0,
                      0,
                      0,
                      0,
                      0,
                      0,
                      0,
                      0,
                      0,
                      0,
                      0,
                      0,
                      0,
                      0,
                      0,
                      0,
                      0,
                      0,
                      0,
                      0,
                      0,
                      0,
                      0,
                      0
                    ],
                    [
                      0.17457279562950134,
                      0.0005421212408691645,
                      0.00018386193551123142,
                      0.0002595416153781116,
                      0.000036978199204895645,
                      0.0003132102719973773,
                      0.03845774009823799,
                      0.07995638996362686,
                      0.0009527531801722944,
                      0.0004470441199373454,
                      0.005704907234758139,
                      0.0023437736090272665,
                      0.04792994633316994,
                      0.03168639913201332,
                      0.342113196849823,
                      0.048178039491176605,
                      0.22632138431072235,
                      0,
                      0,
                      0,
                      0,
                      0,
                      0,
                      0,
                      0,
                      0,
                      0,
                      0,
                      0,
                      0,
                      0,
                      0,
                      0,
                      0,
                      0,
                      0,
                      0,
                      0,
                      0,
                      0,
                      0,
                      0,
                      0,
                      0,
                      0,
                      0,
                      0,
                      0,
                      0,
                      0,
                      0,
                      0,
                      0,
                      0,
                      0,
                      0,
                      0,
                      0,
                      0,
                      0,
                      0,
                      0,
                      0,
                      0,
                      0,
                      0,
                      0,
                      0,
                      0
                    ],
                    [
                      0.09694772213697433,
                      0.002931499620899558,
                      0.0018011280335485935,
                      0.004199462477117777,
                      0.0007804680499248207,
                      0.0035074586048722267,
                      0.02832990512251854,
                      0.005227656103670597,
                      0.009856405667960644,
                      0.0033188387751579285,
                      0.05096209794282913,
                      0.0038831380661576986,
                      0.023482514545321465,
                      0.11359477043151855,
                      0.06824222952127457,
                      0.36913001537323,
                      0.027290409430861473,
                      0.18651430308818817,
                      0,
                      0,
                      0,
                      0,
                      0,
                      0,
                      0,
                      0,
                      0,
                      0,
                      0,
                      0,
                      0,
                      0,
                      0,
                      0,
                      0,
                      0,
                      0,
                      0,
                      0,
                      0,
                      0,
                      0,
                      0,
                      0,
                      0,
                      0,
                      0,
                      0,
                      0,
                      0,
                      0,
                      0,
                      0,
                      0,
                      0,
                      0,
                      0,
                      0,
                      0,
                      0,
                      0,
                      0,
                      0,
                      0,
                      0,
                      0,
                      0,
                      0,
                      0
                    ],
                    [
                      0.11247364431619644,
                      0.0009118366870097816,
                      0.0003688006545417011,
                      0.004079416394233704,
                      0.0004346644564066082,
                      0.004719412885606289,
                      0.0315895676612854,
                      0.007858242839574814,
                      0.01730155199766159,
                      0.0030268989503383636,
                      0.07067016512155533,
                      0.0056091779842972755,
                      0.01245860755443573,
                      0.08408848941326141,
                      0.06658954173326492,
                      0.3516250550746918,
                      0.007781635969877243,
                      0.056148771196603775,
                      0.16226451098918915,
                      0,
                      0,
                      0,
                      0,
                      0,
                      0,
                      0,
                      0,
                      0,
                      0,
                      0,
                      0,
                      0,
                      0,
                      0,
                      0,
                      0,
                      0,
                      0,
                      0,
                      0,
                      0,
                      0,
                      0,
                      0,
                      0,
                      0,
                      0,
                      0,
                      0,
                      0,
                      0,
                      0,
                      0,
                      0,
                      0,
                      0,
                      0,
                      0,
                      0,
                      0,
                      0,
                      0,
                      0,
                      0,
                      0,
                      0,
                      0,
                      0,
                      0
                    ],
                    [
                      0.22894133627414703,
                      0.0005710555124096572,
                      0.0003684554831124842,
                      0.0007687404868192971,
                      0.00026119494577869773,
                      0.0006927693611942232,
                      0.0065797362476587296,
                      0.01700502820312977,
                      0.0008486072765663266,
                      0.00019869337847921997,
                      0.0010028484975919127,
                      0.014240823686122894,
                      0.010465011931955814,
                      0.003454948775470257,
                      0.0419008694589138,
                      0.033735379576683044,
                      0.055225543677806854,
                      0.009120021015405655,
                      0.048738762736320496,
                      0.5258801579475403,
                      0,
                      0,
                      0,
                      0,
                      0,
                      0,
                      0,
                      0,
                      0,
                      0,
                      0,
                      0,
                      0,
                      0,
                      0,
                      0,
                      0,
                      0,
                      0,
                      0,
                      0,
                      0,
                      0,
                      0,
                      0,
                      0,
                      0,
                      0,
                      0,
                      0,
                      0,
                      0,
                      0,
                      0,
                      0,
                      0,
                      0,
                      0,
                      0,
                      0,
                      0,
                      0,
                      0,
                      0,
                      0,
                      0,
                      0,
                      0,
                      0
                    ],
                    [
                      0.11854024976491928,
                      0.0006205867393873632,
                      0.00017423676035832614,
                      0.0007619161042384803,
                      0.00008094498480204493,
                      0.0005807640263810754,
                      0.019462956115603447,
                      0.041749171912670135,
                      0.0007205422152765095,
                      0.0002177437418140471,
                      0.002205128548666835,
                      0.0037578565534204245,
                      0.01635054126381874,
                      0.01427226047962904,
                      0.2041100412607193,
                      0.03633800148963928,
                      0.21007007360458374,
                      0.005864300765097141,
                      0.00810916442424059,
                      0.03807269036769867,
                      0.2779407501220703,
                      0,
                      0,
                      0,
                      0,
                      0,
                      0,
                      0,
                      0,
                      0,
                      0,
                      0,
                      0,
                      0,
                      0,
                      0,
                      0,
                      0,
                      0,
                      0,
                      0,
                      0,
                      0,
                      0,
                      0,
                      0,
                      0,
                      0,
                      0,
                      0,
                      0,
                      0,
                      0,
                      0,
                      0,
                      0,
                      0,
                      0,
                      0,
                      0,
                      0,
                      0,
                      0,
                      0,
                      0,
                      0,
                      0,
                      0,
                      0
                    ],
                    [
                      0.3775324523448944,
                      0.0019608878064900637,
                      0.001014904584735632,
                      0.0023304482456296682,
                      0.0008334929589182138,
                      0.0014180599246174097,
                      0.005864487029612064,
                      0.009587573818862438,
                      0.0021428479813039303,
                      0.0007479559280909598,
                      0.003492724848911166,
                      0.02737957239151001,
                      0.011310610920190811,
                      0.015805330127477646,
                      0.04778467118740082,
                      0.04308787360787392,
                      0.02156364545226097,
                      0.014962056651711464,
                      0.024035131558775902,
                      0.09101532399654388,
                      0.18956777453422546,
                      0.10656218975782394,
                      0,
                      0,
                      0,
                      0,
                      0,
                      0,
                      0,
                      0,
                      0,
                      0,
                      0,
                      0,
                      0,
                      0,
                      0,
                      0,
                      0,
                      0,
                      0,
                      0,
                      0,
                      0,
                      0,
                      0,
                      0,
                      0,
                      0,
                      0,
                      0,
                      0,
                      0,
                      0,
                      0,
                      0,
                      0,
                      0,
                      0,
                      0,
                      0,
                      0,
                      0,
                      0,
                      0,
                      0,
                      0,
                      0,
                      0
                    ],
                    [
                      0.2865811884403229,
                      0.0005937943933531642,
                      0.0004322484601289034,
                      0.0007674976368434727,
                      0.00008411207818426192,
                      0.0005429154261946678,
                      0.01618497259914875,
                      0.00812677200883627,
                      0.0017599924467504025,
                      0.0011941115371882915,
                      0.006606067530810833,
                      0.0021712558809667826,
                      0.012880838476121426,
                      0.02325858175754547,
                      0.11199680715799332,
                      0.020818473771214485,
                      0.03629705309867859,
                      0.005133550614118576,
                      0.006028937175869942,
                      0.01202950719743967,
                      0.030828095972537994,
                      0.004138643853366375,
                      0.4115446209907532,
                      0,
                      0,
                      0,
                      0,
                      0,
                      0,
                      0,
                      0,
                      0,
                      0,
                      0,
                      0,
                      0,
                      0,
                      0,
                      0,
                      0,
                      0,
                      0,
                      0,
                      0,
                      0,
                      0,
                      0,
                      0,
                      0,
                      0,
                      0,
                      0,
                      0,
                      0,
                      0,
                      0,
                      0,
                      0,
                      0,
                      0,
                      0,
                      0,
                      0,
                      0,
                      0,
                      0,
                      0,
                      0,
                      0
                    ],
                    [
                      0.24297776818275452,
                      0.0025078640319406986,
                      0.0005600026343017817,
                      0.0011885488638654351,
                      0.00026246681227348745,
                      0.0015421191928908229,
                      0.020272554829716682,
                      0.001395082683302462,
                      0.0017241326859220862,
                      0.001128409756347537,
                      0.015103341080248356,
                      0.0009361497941426933,
                      0.012287784367799759,
                      0.035851236432790756,
                      0.06627581268548965,
                      0.03720502182841301,
                      0.0034206495620310307,
                      0.032245274633169174,
                      0.018516791984438896,
                      0.0059473877772688866,
                      0.012417396530508995,
                      0.0019627022556960583,
                      0.2648870348930359,
                      0.21938447654247284,
                      0,
                      0,
                      0,
                      0,
                      0,
                      0,
                      0,
                      0,
                      0,
                      0,
                      0,
                      0,
                      0,
                      0,
                      0,
                      0,
                      0,
                      0,
                      0,
                      0,
                      0,
                      0,
                      0,
                      0,
                      0,
                      0,
                      0,
                      0,
                      0,
                      0,
                      0,
                      0,
                      0,
                      0,
                      0,
                      0,
                      0,
                      0,
                      0,
                      0,
                      0,
                      0,
                      0,
                      0,
                      0
                    ],
                    [
                      0.4506964683532715,
                      0.0007404879434034228,
                      0.0005605422193184495,
                      0.0015190441627055407,
                      0.00035384242073632777,
                      0.00144975446164608,
                      0.007639567367732525,
                      0.011296190321445465,
                      0.0018223202787339687,
                      0.0009583160281181335,
                      0.004335347563028336,
                      0.017994016408920288,
                      0.022561660036444664,
                      0.013777513988316059,
                      0.05687263235449791,
                      0.053032319992780685,
                      0.024497848004102707,
                      0.014093455858528614,
                      0.018265817314386368,
                      0.026376817375421524,
                      0.026971515268087387,
                      0.03316986560821533,
                      0.040916744619607925,
                      0.01358489878475666,
                      0.156513050198555,
                      0,
                      0,
                      0,
                      0,
                      0,
                      0,
                      0,
                      0,
                      0,
                      0,
                      0,
                      0,
                      0,
                      0,
                      0,
                      0,
                      0,
                      0,
                      0,
                      0,
                      0,
                      0,
                      0,
                      0,
                      0,
                      0,
                      0,
                      0,
                      0,
                      0,
                      0,
                      0,
                      0,
                      0,
                      0,
                      0,
                      0,
                      0,
                      0,
                      0,
                      0,
                      0,
                      0,
                      0
                    ],
                    [
                      0.28598958253860474,
                      0.0008168367203325033,
                      0.0004347898066043854,
                      0.0013154782354831696,
                      0.00017234538972843438,
                      0.0032528075389564037,
                      0.04219847172498703,
                      0.010797135531902313,
                      0.0013989824801683426,
                      0.00045237792073749006,
                      0.004602473694831133,
                      0.0032571284100413322,
                      0.024889638647437096,
                      0.042919088155031204,
                      0.05917377397418022,
                      0.03673684224486351,
                      0.01418923120945692,
                      0.005115481559187174,
                      0.013019059784710407,
                      0.00959651730954647,
                      0.013425212353467941,
                      0.0025527402758598328,
                      0.055824145674705505,
                      0.004490013234317303,
                      0.007828803732991219,
                      0.3555510938167572,
                      0,
                      0,
                      0,
                      0,
                      0,
                      0,
                      0,
                      0,
                      0,
                      0,
                      0,
                      0,
                      0,
                      0,
                      0,
                      0,
                      0,
                      0,
                      0,
                      0,
                      0,
                      0,
                      0,
                      0,
                      0,
                      0,
                      0,
                      0,
                      0,
                      0,
                      0,
                      0,
                      0,
                      0,
                      0,
                      0,
                      0,
                      0,
                      0,
                      0,
                      0,
                      0,
                      0
                    ],
                    [
                      0.5236632823944092,
                      0.00038464885437861085,
                      0.00023192481603473425,
                      0.0001988094300031662,
                      0.00006851853686384857,
                      0.00020374699670355767,
                      0.003993702121078968,
                      0.0003007649793289602,
                      0.000334245094563812,
                      0.0003117998130619526,
                      0.0011345248203724623,
                      0.005286217201501131,
                      0.0014111340278759599,
                      0.015484576113522053,
                      0.004360519349575043,
                      0.003431579563766718,
                      0.0009196112514473498,
                      0.0011594705283641815,
                      0.002621182007715106,
                      0.01634982042014599,
                      0.005042478907853365,
                      0.005521800369024277,
                      0.0053790961392223835,
                      0.0017905525164678693,
                      0.012543374672532082,
                      0.01690433919429779,
                      0.3709683120250702,
                      0,
                      0,
                      0,
                      0,
                      0,
                      0,
                      0,
                      0,
                      0,
                      0,
                      0,
                      0,
                      0,
                      0,
                      0,
                      0,
                      0,
                      0,
                      0,
                      0,
                      0,
                      0,
                      0,
                      0,
                      0,
                      0,
                      0,
                      0,
                      0,
                      0,
                      0,
                      0,
                      0,
                      0,
                      0,
                      0,
                      0,
                      0,
                      0,
                      0,
                      0,
                      0
                    ],
                    [
                      0.45395365357398987,
                      0.00042040340485982597,
                      0.00006114129791967571,
                      0.0002493363863322884,
                      0.000026005427571362816,
                      0.00023116818920243531,
                      0.0025552092120051384,
                      0.0003336226800456643,
                      0.00011997091496596113,
                      0.00006810269405832514,
                      0.00017374251910950989,
                      0.00009049145592143759,
                      0.002508200705051422,
                      0.002076933393254876,
                      0.005439080763608217,
                      0.0034009641967713833,
                      0.0006606507813557982,
                      0.0013376942370086908,
                      0.0006724424893036485,
                      0.0004992299946025014,
                      0.0006287291762419045,
                      0.0002644862106535584,
                      0.004844089038670063,
                      0.00111652840860188,
                      0.0012283041141927242,
                      0.024303708225488663,
                      0.022839011624455452,
                      0.46989718079566956,
                      0,
                      0,
                      0,
                      0,
                      0,
                      0,
                      0,
                      0,
                      0,
                      0,
                      0,
                      0,
                      0,
                      0,
                      0,
                      0,
                      0,
                      0,
                      0,
                      0,
                      0,
                      0,
                      0,
                      0,
                      0,
                      0,
                      0,
                      0,
                      0,
                      0,
                      0,
                      0,
                      0,
                      0,
                      0,
                      0,
                      0,
                      0,
                      0,
                      0,
                      0
                    ],
                    [
                      0.9846174716949463,
                      0.000026570613044896163,
                      0.000016695441445335746,
                      0.00001642760616960004,
                      0.000004762626758747501,
                      0.00002374249743297696,
                      0.0006846452597528696,
                      0.000021985375497024506,
                      0.000015402725694002584,
                      0.00003909305451088585,
                      0.000023579983462695964,
                      0.00004503652598941699,
                      0.00006709315493935719,
                      0.00014276466390583664,
                      0.0004351791285444051,
                      0.00022085057571530342,
                      0.0001033333464874886,
                      0.00005377222987590358,
                      0.00006267687422223389,
                      0.00018465168250259012,
                      0.00006787185702705756,
                      0.00013888138346374035,
                      0.00010971354640787467,
                      0.00001115375471272273,
                      0.0002644730848260224,
                      0.0009112220723181963,
                      0.004007297568023205,
                      0.005465604364871979,
                      0.0022182518150657415,
                      0,
                      0,
                      0,
                      0,
                      0,
                      0,
                      0,
                      0,
                      0,
                      0,
                      0,
                      0,
                      0,
                      0,
                      0,
                      0,
                      0,
                      0,
                      0,
                      0,
                      0,
                      0,
                      0,
                      0,
                      0,
                      0,
                      0,
                      0,
                      0,
                      0,
                      0,
                      0,
                      0,
                      0,
                      0,
                      0,
                      0,
                      0,
                      0,
                      0
                    ],
                    [
                      0.43680500984191895,
                      0.00028961841599084437,
                      0.00012038875138387084,
                      0.00009923386096488684,
                      0.00008751538553042337,
                      0.00011214234109502286,
                      0.0014714238932356238,
                      0.00011141723371110857,
                      0.00009331800538348034,
                      0.00005209456503507681,
                      0.00012468884233385324,
                      0.0023127112071961164,
                      0.0007624973659403622,
                      0.006517048925161362,
                      0.0021166480146348476,
                      0.002739907708019018,
                      0.0005601975717581809,
                      0.000800793175585568,
                      0.0016884282231330872,
                      0.012787384912371635,
                      0.0024115692358464003,
                      0.004901150707155466,
                      0.001401306944899261,
                      0.00071427266811952,
                      0.01763102225959301,
                      0.006727530155330896,
                      0.25235357880592346,
                      0.0316346101462841,
                      0.003228039713576436,
                      0.20934437215328217,
                      0,
                      0,
                      0,
                      0,
                      0,
                      0,
                      0,
                      0,
                      0,
                      0,
                      0,
                      0,
                      0,
                      0,
                      0,
                      0,
                      0,
                      0,
                      0,
                      0,
                      0,
                      0,
                      0,
                      0,
                      0,
                      0,
                      0,
                      0,
                      0,
                      0,
                      0,
                      0,
                      0,
                      0,
                      0,
                      0,
                      0,
                      0,
                      0
                    ],
                    [
                      0.21624703705310822,
                      0.00047637088573537767,
                      0.00014001003000885248,
                      0.0002880937827285379,
                      0.0001075137552106753,
                      0.0004081145452801138,
                      0.0021048225462436676,
                      0.00046448668581433594,
                      0.0002716519229579717,
                      0.00016053699073381722,
                      0.00020183721790090203,
                      0.0021056204568594694,
                      0.0015827948227524757,
                      0.0032451595179736614,
                      0.003339282935485244,
                      0.004609441384673119,
                      0.0006408345070667565,
                      0.0011097613023594022,
                      0.0016479642363265157,
                      0.004781420808285475,
                      0.0031191580928862095,
                      0.01003040187060833,
                      0.003902649274095893,
                      0.0019358558347448707,
                      0.018436793237924576,
                      0.020133690908551216,
                      0.04518948495388031,
                      0.018242357298731804,
                      0.0020318373572081327,
                      0.051120370626449585,
                      0.5819246768951416,
                      0,
                      0,
                      0,
                      0,
                      0,
                      0,
                      0,
                      0,
                      0,
                      0,
                      0,
                      0,
                      0,
                      0,
                      0,
                      0,
                      0,
                      0,
                      0,
                      0,
                      0,
                      0,
                      0,
                      0,
                      0,
                      0,
                      0,
                      0,
                      0,
                      0,
                      0,
                      0,
                      0,
                      0,
                      0,
                      0,
                      0,
                      0
                    ],
                    [
                      0.25663870573043823,
                      0.0003558841999620199,
                      0.00008530288323527202,
                      0.00013029458932578564,
                      0.000023888254872872494,
                      0.00012748356675729156,
                      0.0012488261563703418,
                      0.0003063477051910013,
                      0.00020050987950526178,
                      0.00012001377035630867,
                      0.00014118466060608625,
                      0.000060404232499422505,
                      0.0013639425160363317,
                      0.0012404497247189283,
                      0.001498386380262673,
                      0.0011610012734308839,
                      0.0007118460489436984,
                      0.0004911005380563438,
                      0.00034560522180981934,
                      0.00027858593966811895,
                      0.000556593295186758,
                      0.0002690242836251855,
                      0.0036767791025340557,
                      0.0007070906576700509,
                      0.0009935804409906268,
                      0.012631525285542011,
                      0.020111549645662308,
                      0.023115750402212143,
                      0.002101364778354764,
                      0.007563538383692503,
                      0.008478892967104912,
                      0.6532645225524902,
                      0,
                      0,
                      0,
                      0,
                      0,
                      0,
                      0,
                      0,
                      0,
                      0,
                      0,
                      0,
                      0,
                      0,
                      0,
                      0,
                      0,
                      0,
                      0,
                      0,
                      0,
                      0,
                      0,
                      0,
                      0,
                      0,
                      0,
                      0,
                      0,
                      0,
                      0,
                      0,
                      0,
                      0,
                      0,
                      0,
                      0
                    ],
                    [
                      0.9719897508621216,
                      0.00004801081740879454,
                      0.00006372688949340954,
                      0.0001642642600927502,
                      0.0000513860177306924,
                      0.00014685104542877525,
                      0.000882943335454911,
                      0.00002766199759207666,
                      0.00004506819823291153,
                      0.00005827598215546459,
                      0.00004727423220174387,
                      0.00005659107773681171,
                      0.00002779941314656753,
                      0.00012692691234406084,
                      0.00018723301764111966,
                      0.0005006297724321485,
                      0.000027428308385424316,
                      0.00010515669418964535,
                      0.0002543393347878009,
                      0.00022357948182616383,
                      0.00008906744187697768,
                      0.00026583578437566757,
                      0.00009849855268839747,
                      0.000019027067537535913,
                      0.00041589903412386775,
                      0.0006075688870623708,
                      0.0013906011590734124,
                      0.00024642361677251756,
                      0.0002513054932933301,
                      0.001530335401184857,
                      0.0014844759134575725,
                      0.007510577794164419,
                      0.011055370792746544,
                      0,
                      0,
                      0,
                      0,
                      0,
                      0,
                      0,
                      0,
                      0,
                      0,
                      0,
                      0,
                      0,
                      0,
                      0,
                      0,
                      0,
                      0,
                      0,
                      0,
                      0,
                      0,
                      0,
                      0,
                      0,
                      0,
                      0,
                      0,
                      0,
                      0,
                      0,
                      0,
                      0,
                      0,
                      0,
                      0
                    ],
                    [
                      0.19822506606578827,
                      0.00014898664085194468,
                      0.000015527961295447312,
                      0.0001457835896871984,
                      0.000010141007805941626,
                      0.0001429388066753745,
                      0.0013426968362182379,
                      0.00005448043884825893,
                      0.00009049950313055888,
                      0.000020449542716960423,
                      0.0001704200985841453,
                      0.000039640730392420664,
                      0.0003933202533517033,
                      0.0009773955680429935,
                      0.000598748738411814,
                      0.0008230660459958017,
                      0.00006405360909411684,
                      0.000320681108860299,
                      0.0001832301204558462,
                      0.00005101181523059495,
                      0.00005606603735941462,
                      0.00006901799497427419,
                      0.0003613941662479192,
                      0.0003529209934640676,
                      0.00011944942525587976,
                      0.0034171813167631626,
                      0.01709076017141342,
                      0.011454274877905846,
                      0.0009465435869060457,
                      0.012197130359709263,
                      0.018460890278220177,
                      0.5527436137199402,
                      0.018386775627732277,
                      0.160525843501091,
                      0,
                      0,
                      0,
                      0,
                      0,
                      0,
                      0,
                      0,
                      0,
                      0,
                      0,
                      0,
                      0,
                      0,
                      0,
                      0,
                      0,
                      0,
                      0,
                      0,
                      0,
                      0,
                      0,
                      0,
                      0,
                      0,
                      0,
                      0,
                      0,
                      0,
                      0,
                      0,
                      0,
                      0,
                      0
                    ],
                    [
                      0.36609357595443726,
                      0.0006218914641067386,
                      0.0001553497713757679,
                      0.00034598817001096904,
                      0.00010580283560557291,
                      0.00021598806779365987,
                      0.0012999068712815642,
                      0.0002583039167802781,
                      0.00004107911809114739,
                      0.000054483305575558916,
                      0.00010600271343719214,
                      0.0075790355913341045,
                      0.00039971977821551263,
                      0.0022945122327655554,
                      0.007167122792452574,
                      0.0028751033823937178,
                      0.010558126494288445,
                      0.0008068296010605991,
                      0.001420882297679782,
                      0.025209514424204826,
                      0.019906839355826378,
                      0.009237546473741531,
                      0.00296250288374722,
                      0.00037329329643398523,
                      0.040019821375608444,
                      0.00635822769254446,
                      0.02397249825298786,
                      0.003424313385039568,
                      0.0007013360736891627,
                      0.030140051618218422,
                      0.10313496738672256,
                      0.1395111382007599,
                      0.009726567193865776,
                      0.04901771619915962,
                      0.13390398025512695,
                      0,
                      0,
                      0,
                      0,
                      0,
                      0,
                      0,
                      0,
                      0,
                      0,
                      0,
                      0,
                      0,
                      0,
                      0,
                      0,
                      0,
                      0,
                      0,
                      0,
                      0,
                      0,
                      0,
                      0,
                      0,
                      0,
                      0,
                      0,
                      0,
                      0,
                      0,
                      0,
                      0,
                      0
                    ],
                    [
                      0.46062278747558594,
                      0.0009104666532948613,
                      0.0004037794715259224,
                      0.00027516938280314207,
                      0.0002636509307194501,
                      0.000316173885948956,
                      0.0034298186656087637,
                      0.00044872172293253243,
                      0.00022051612904760987,
                      0.0002057337696896866,
                      0.0005996777326799929,
                      0.0013271452626213431,
                      0.0009478684514760971,
                      0.0037465225905179977,
                      0.008676244877278805,
                      0.0035607425961643457,
                      0.00460013234987855,
                      0.0018049681093543768,
                      0.000615011784248054,
                      0.0044525605626404285,
                      0.00530814565718174,
                      0.0023274137638509274,
                      0.009833197109401226,
                      0.0036665729712694883,
                      0.012889694422483444,
                      0.006618494633585215,
                      0.07748005539178848,
                      0.004713680595159531,
                      0.001152786542661488,
                      0.009677588939666748,
                      0.004733142908662558,
                      0.04127665236592293,
                      0.0024745461996644735,
                      0.021485965698957443,
                      0.023777708411216736,
                      0.27515673637390137,
                      0,
                      0,
                      0,
                      0,
                      0,
                      0,
                      0,
                      0,
                      0,
                      0,
                      0,
                      0,
                      0,
                      0,
                      0,
                      0,
                      0,
                      0,
                      0,
                      0,
                      0,
                      0,
                      0,
                      0,
                      0,
                      0,
                      0,
                      0,
                      0,
                      0,
                      0,
                      0,
                      0
                    ],
                    [
                      0.20097145438194275,
                      0.0009010672802105546,
                      0.00022203200205694884,
                      0.0001422930508852005,
                      0.0000902722094906494,
                      0.00024610463879071176,
                      0.0036954288370907307,
                      0.0006017673294991255,
                      0.0001151243268395774,
                      0.0002152237866539508,
                      0.000251877325354144,
                      0.0011864773696288466,
                      0.0014406628906726837,
                      0.0025776131078600883,
                      0.014471760019659996,
                      0.002037529833614826,
                      0.0030838751699775457,
                      0.0008874490740709007,
                      0.00037925748620182276,
                      0.0030788909643888474,
                      0.0029710924718528986,
                      0.00028166311676613986,
                      0.00941947940737009,
                      0.001041375333443284,
                      0.0011822377564385533,
                      0.00530226668342948,
                      0.025041373446583748,
                      0.004222399555146694,
                      0.001395183033309877,
                      0.0022507193498313427,
                      0.0007838341989554465,
                      0.031039245426654816,
                      0.0010940723586827517,
                      0.017978893592953682,
                      0.01863311603665352,
                      0.5755314230918884,
                      0.0652354285120964,
                      0,
                      0,
                      0,
                      0,
                      0,
                      0,
                      0,
                      0,
                      0,
                      0,
                      0,
                      0,
                      0,
                      0,
                      0,
                      0,
                      0,
                      0,
                      0,
                      0,
                      0,
                      0,
                      0,
                      0,
                      0,
                      0,
                      0,
                      0,
                      0,
                      0,
                      0,
                      0
                    ],
                    [
                      0.4973682463169098,
                      0.0008434122428297997,
                      0.0004996094503439963,
                      0.00021176606242079288,
                      0.0001249472697963938,
                      0.00019507361866999418,
                      0.0036285643000155687,
                      0.0022633327171206474,
                      0.0009777821833267808,
                      0.0015989179955795407,
                      0.002697375137358904,
                      0.005611531436443329,
                      0.003922031726688147,
                      0.01330102700740099,
                      0.01606045663356781,
                      0.010152152739465237,
                      0.006567477714270353,
                      0.005511705297976732,
                      0.004496648442000151,
                      0.01082407683134079,
                      0.013287248089909554,
                      0.001982223242521286,
                      0.007335506845265627,
                      0.0010660947300493717,
                      0.0034518218599259853,
                      0.0054725222289562225,
                      0.01933562010526657,
                      0.00368002662435174,
                      0.001115152146667242,
                      0.0038188896141946316,
                      0.0013774533290416002,
                      0.01767141744494438,
                      0.002374659525230527,
                      0.013037888333201408,
                      0.009852518327534199,
                      0.1060972809791565,
                      0.03122534230351448,
                      0.17096219956874847,
                      0,
                      0,
                      0,
                      0,
                      0,
                      0,
                      0,
                      0,
                      0,
                      0,
                      0,
                      0,
                      0,
                      0,
                      0,
                      0,
                      0,
                      0,
                      0,
                      0,
                      0,
                      0,
                      0,
                      0,
                      0,
                      0,
                      0,
                      0,
                      0,
                      0,
                      0
                    ],
                    [
                      0.6402425765991211,
                      0.002723091747611761,
                      0.0005466832080855966,
                      0.0015212488360702991,
                      0.0009141588816419244,
                      0.001121477223932743,
                      0.004623670130968094,
                      0.0014460907550528646,
                      0.0008333101286552846,
                      0.003687146119773388,
                      0.005938991438597441,
                      0.0039625889621675014,
                      0.005929950159043074,
                      0.007440331857651472,
                      0.014029119163751602,
                      0.005141319707036018,
                      0.0008466072613373399,
                      0.00190159201156348,
                      0.001992222387343645,
                      0.002122551901265979,
                      0.003155964659526944,
                      0.00033323714160360396,
                      0.004486682824790478,
                      0.002433145185932517,
                      0.001221399987116456,
                      0.005470219533890486,
                      0.017626915127038956,
                      0.047877512872219086,
                      0.005103811156004667,
                      0.005721118301153183,
                      0.0007288305787369609,
                      0.04757288843393326,
                      0.004461047239601612,
                      0.010626913979649544,
                      0.00417737290263176,
                      0.04881955683231354,
                      0.0038830486591905355,
                      0.02021818421781063,
                      0.059117529541254044,
                      0,
                      0,
                      0,
                      0,
                      0,
                      0,
                      0,
                      0,
                      0,
                      0,
                      0,
                      0,
                      0,
                      0,
                      0,
                      0,
                      0,
                      0,
                      0,
                      0,
                      0,
                      0,
                      0,
                      0,
                      0,
                      0,
                      0,
                      0,
                      0,
                      0
                    ],
                    [
                      0.6454130411148071,
                      0.0006756101502105594,
                      0.0005541511345654726,
                      0.0006112742703408003,
                      0.0002876848157029599,
                      0.0003235005133319646,
                      0.0025007878430187702,
                      0.0001483254600316286,
                      0.0002362797677051276,
                      0.0005314463051036,
                      0.0007057476905174553,
                      0.0002466461737640202,
                      0.0018439660780131817,
                      0.0018475509714335203,
                      0.005401207134127617,
                      0.0038255939725786448,
                      0.0016694136429578066,
                      0.0010425421642139554,
                      0.0007348762592300773,
                      0.0015648575499653816,
                      0.0025010346435010433,
                      0.0009610505076125264,
                      0.008722898550331593,
                      0.0025004479102790356,
                      0.0023103109560906887,
                      0.0058943587355315685,
                      0.01815926283597946,
                      0.004839201457798481,
                      0.001149775111116469,
                      0.0075300754979252815,
                      0.003487497800961137,
                      0.029606224969029427,
                      0.001857713796198368,
                      0.004949798807501793,
                      0.0053476872853934765,
                      0.03533310815691948,
                      0.005621830467134714,
                      0.003619691589847207,
                      0.007966762408614159,
                      0.17747673392295837,
                      0,
                      0,
                      0,
                      0,
                      0,
                      0,
                      0,
                      0,
                      0,
                      0,
                      0,
                      0,
                      0,
                      0,
                      0,
                      0,
                      0,
                      0,
                      0,
                      0,
                      0,
                      0,
                      0,
                      0,
                      0,
                      0,
                      0,
                      0,
                      0
                    ],
                    [
                      0.9431920051574707,
                      0.0001371938269585371,
                      0.00014668918447569013,
                      0.0001624404249014333,
                      0.00010676090460037813,
                      0.00007916955655673519,
                      0.0002795699401758611,
                      0.000004400400484882994,
                      0.00001573981535329949,
                      0.00005217416037339717,
                      0.00005846534259035252,
                      0.00003332150663482025,
                      0.000040903487388277426,
                      0.0003026298654731363,
                      0.00038099984521977603,
                      0.0004550132143776864,
                      0.000019068476831307635,
                      0.00005872227484360337,
                      0.00007882804493419826,
                      0.00007520685176132247,
                      0.00007106981502147391,
                      0.00011942066339543089,
                      0.00021926751651335508,
                      0.00015617275494150817,
                      0.00012331598554737866,
                      0.00020957538799848408,
                      0.0003814406809397042,
                      0.0002274843427585438,
                      0.0000769436446717009,
                      0.00016676969244144857,
                      0.00012884614989161491,
                      0.0010791248641908169,
                      0.0001669389894232154,
                      0.00026639251154847443,
                      0.00017332805145997554,
                      0.0009391586645506322,
                      0.000319889368256554,
                      0.0003820375422947109,
                      0.0005322276847437024,
                      0.004924595355987549,
                      0.04365675151348114,
                      0,
                      0,
                      0,
                      0,
                      0,
                      0,
                      0,
                      0,
                      0,
                      0,
                      0,
                      0,
                      0,
                      0,
                      0,
                      0,
                      0,
                      0,
                      0,
                      0,
                      0,
                      0,
                      0,
                      0,
                      0,
                      0,
                      0,
                      0
                    ],
                    [
                      0.6027058362960815,
                      0.0014844521647319198,
                      0.0008270340622402728,
                      0.001682595582678914,
                      0.0006152436835691333,
                      0.0014409596333280206,
                      0.003736020065844059,
                      0.00043334192014299333,
                      0.00029648642521351576,
                      0.0003003168967552483,
                      0.0028599135112017393,
                      0.0022547689732164145,
                      0.0006306866998784244,
                      0.0031342932488769293,
                      0.008971276693046093,
                      0.007367148995399475,
                      0.0006330262403935194,
                      0.0016491616843268275,
                      0.0028460549656301737,
                      0.0018329838057979941,
                      0.001937716268002987,
                      0.0023923676926642656,
                      0.002729592612013221,
                      0.00179027090780437,
                      0.0038015549071133137,
                      0.007493658922612667,
                      0.005423881113529205,
                      0.002573583275079727,
                      0.0004936117911711335,
                      0.003084530821070075,
                      0.003040191251784563,
                      0.013158269226551056,
                      0.000635834876447916,
                      0.003977891989052296,
                      0.006068657152354717,
                      0.022329071536660194,
                      0.011116467416286469,
                      0.004249947145581245,
                      0.020213952288031578,
                      0.06300149857997894,
                      0.11751529574394226,
                      0.05727054551243782,
                      0,
                      0,
                      0,
                      0,
                      0,
                      0,
                      0,
                      0,
                      0,
                      0,
                      0,
                      0,
                      0,
                      0,
                      0,
                      0,
                      0,
                      0,
                      0,
                      0,
                      0,
                      0,
                      0,
                      0,
                      0,
                      0,
                      0
                    ],
                    [
                      0.15582454204559326,
                      0.0019362438470125198,
                      0.00005924419383518398,
                      0.0003595201706048101,
                      0.00006659161590505391,
                      0.00010524559911573306,
                      0.0006548903766088188,
                      0.00011817405174952,
                      0.000007711907528573647,
                      0.000011948673090955708,
                      0.00008314749720739201,
                      0.0005071853520348668,
                      0.00039220720645971596,
                      0.0013921206118538976,
                      0.0059995027258992195,
                      0.0015581632032990456,
                      0.0038690268993377686,
                      0.0008640279993414879,
                      0.0003747892624232918,
                      0.0019143212120980024,
                      0.001801702775992453,
                      0.0003155370650347322,
                      0.0020889807492494583,
                      0.001586984028108418,
                      0.0023494858760386705,
                      0.0020193890668451786,
                      0.0015304539119824767,
                      0.0027341870591044426,
                      0.00030701266950927675,
                      0.0008153313538059592,
                      0.0006597306346520782,
                      0.008074435405433178,
                      0.00029347045347094536,
                      0.0012645409442484379,
                      0.005135806743055582,
                      0.23198924958705902,
                      0.04746570810675621,
                      0.0049635982140898705,
                      0.04969001188874245,
                      0.2171783596277237,
                      0.0149304224178195,
                      0.010620051063597202,
                      0.2160869538784027,
                      0,
                      0,
                      0,
                      0,
                      0,
                      0,
                      0,
                      0,
                      0,
                      0,
                      0,
                      0,
                      0,
                      0,
                      0,
                      0,
                      0,
                      0,
                      0,
                      0,
                      0,
                      0,
                      0,
                      0,
                      0,
                      0
                    ],
                    [
                      0.1901540905237198,
                      0.0008608814096078277,
                      0.00017836201004683971,
                      0.00038468517595902085,
                      0.00029473297763615847,
                      0.00024251289141830057,
                      0.002044431399554014,
                      0.0005385809927247465,
                      0.00003189271956216544,
                      0.00008409499423578382,
                      0.00014299611211754382,
                      0.0008875609491951764,
                      0.0005238308804109693,
                      0.0019850952085107565,
                      0.009729785844683647,
                      0.0019168611615896225,
                      0.0024947053752839565,
                      0.0005755312740802765,
                      0.00032162349089048803,
                      0.004039309453219175,
                      0.002356196055188775,
                      0.00015791167970746756,
                      0.003590731881558895,
                      0.0015548706287518144,
                      0.0010690153576433659,
                      0.0016362564638257027,
                      0.010598218999803066,
                      0.006604334805160761,
                      0.0011521228589117527,
                      0.0020250945817679167,
                      0.0006623376975767314,
                      0.01618850603699684,
                      0.0010057479375973344,
                      0.004432084038853645,
                      0.01044083945453167,
                      0.12344590574502945,
                      0.03876885771751404,
                      0.00498378137126565,
                      0.005716397892683744,
                      0.1265314519405365,
                      0.005252630449831486,
                      0.01505363080650568,
                      0.22356799244880676,
                      0.17577354609966278,
                      0,
                      0,
                      0,
                      0,
                      0,
                      0,
                      0,
                      0,
                      0,
                      0,
                      0,
                      0,
                      0,
                      0,
                      0,
                      0,
                      0,
                      0,
                      0,
                      0,
                      0,
                      0,
                      0,
                      0,
                      0
                    ],
                    [
                      0.6018261313438416,
                      0.0006582666537724435,
                      0.0005336917820386589,
                      0.00018628124962560833,
                      0.0006986240623518825,
                      0.0001022370852297172,
                      0.00047068161075003445,
                      0.0006204219534993172,
                      0.00015380380500573665,
                      0.000259871972957626,
                      0.0001850543631007895,
                      0.0003289306187070906,
                      0.000142345015774481,
                      0.000423934543505311,
                      0.0006145672523416579,
                      0.0008487784070894122,
                      0.001649588579311967,
                      0.00046491704415529966,
                      0.00034059665631502867,
                      0.004131675697863102,
                      0.002611035481095314,
                      0.0008775641326792538,
                      0.0011273305863142014,
                      0.00031398292048834264,
                      0.0009544751956127584,
                      0.0003576045564841479,
                      0.0025008907541632652,
                      0.0018240545177832246,
                      0.0001852680288720876,
                      0.0008900347747839987,
                      0.00018161878688260913,
                      0.002209617756307125,
                      0.0004898302140645683,
                      0.0009330678731203079,
                      0.002934071933850646,
                      0.0042516132816672325,
                      0.0020091666374355555,
                      0.027570383623242378,
                      0.06327199935913086,
                      0.0160161592066288,
                      0.008243340067565441,
                      0.008163579739630222,
                      0.03406175971031189,
                      0.13964012265205383,
                      0.06374100595712662,
                      0,
                      0,
                      0,
                      0,
                      0,
                      0,
                      0,
                      0,
                      0,
                      0,
                      0,
                      0,
                      0,
                      0,
                      0,
                      0,
                      0,
                      0,
                      0,
                      0,
                      0,
                      0,
                      0,
                      0
                    ],
                    [
                      0.234638974070549,
                      0.0002907694142777473,
                      0.00004776152127305977,
                      0.0000752818668843247,
                      0.00011992333747912198,
                      0.00009390824561705813,
                      0.001972014782950282,
                      0.0006376613746397197,
                      0.00014545708836521953,
                      0.00036051517236046493,
                      0.0005132130463607609,
                      0.00035879589268006384,
                      0.00223501562140882,
                      0.0007509672432206571,
                      0.0016626834403723478,
                      0.0008337835897691548,
                      0.00031991227297112346,
                      0.00043590646237134933,
                      0.0005068830796517432,
                      0.0016960486536845565,
                      0.0034856873098760843,
                      0.0001569109153933823,
                      0.007635721005499363,
                      0.002362910658121109,
                      0.0002631507522892207,
                      0.0017358926124870777,
                      0.02544887363910675,
                      0.0828617736697197,
                      0.005976240616291761,
                      0.0075826202519237995,
                      0.0005150905344635248,
                      0.07943915575742722,
                      0.003764569293707609,
                      0.028436332941055298,
                      0.002909056143835187,
                      0.05505536496639252,
                      0.0012739697704091668,
                      0.004150875378400087,
                      0.0038446388207376003,
                      0.3514185845851898,
                      0.011237053200602531,
                      0.0013769966317340732,
                      0.002651546150445938,
                      0.009431960061192513,
                      0.022129172459244728,
                      0.037160445004701614,
                      0,
                      0,
                      0,
                      0,
                      0,
                      0,
                      0,
                      0,
                      0,
                      0,
                      0,
                      0,
                      0,
                      0,
                      0,
                      0,
                      0,
                      0,
                      0,
                      0,
                      0,
                      0,
                      0
                    ],
                    [
                      0.6623586416244507,
                      0.0003119229804724455,
                      0.00023606517061125487,
                      0.00019687665917444974,
                      0.00017084025603253394,
                      0.00014095308142714202,
                      0.0017522535054013133,
                      0.00010595619824016467,
                      0.00013683702854905277,
                      0.00017677151481620967,
                      0.0005029059248045087,
                      0.000055251159210456535,
                      0.0021861211862415075,
                      0.0014849817380309105,
                      0.0017736811423674226,
                      0.001982963178306818,
                      0.00014930509496480227,
                      0.0005672643892467022,
                      0.000369083893019706,
                      0.0003942243056371808,
                      0.0006193466251716018,
                      0.0002840709639713168,
                      0.008292672224342823,
                      0.0020444667898118496,
                      0.0007852230337448418,
                      0.005743741057813168,
                      0.01818103902041912,
                      0.007546625565737486,
                      0.00046297270455397666,
                      0.00370653229765594,
                      0.0009055323316715658,
                      0.028567614033818245,
                      0.0006524085183627903,
                      0.0044434634037315845,
                      0.0006831217906437814,
                      0.01335407979786396,
                      0.0004953775787726045,
                      0.00037361658178269863,
                      0.000392536458093673,
                      0.0990888699889183,
                      0.006337447557598352,
                      0.0012437774566933513,
                      0.0012207538820803165,
                      0.00046198780182749033,
                      0.00026102931587956846,
                      0.0032858620397746563,
                      0.11551282554864883,
                      0,
                      0,
                      0,
                      0,
                      0,
                      0,
                      0,
                      0,
                      0,
                      0,
                      0,
                      0,
                      0,
                      0,
                      0,
                      0,
                      0,
                      0,
                      0,
                      0,
                      0,
                      0
                    ],
                    [
                      0.965747594833374,
                      0.000013496614883479197,
                      0.000021226678654784337,
                      0.000012867130863014609,
                      0.000006658307938778307,
                      0.000013413951819529757,
                      0.000528637901879847,
                      0.000018106877178070135,
                      0.00008321548375533894,
                      0.00031857684371061623,
                      0.00020509200112428516,
                      0.00007821965118637308,
                      0.00012926111230626702,
                      0.00042669373215176165,
                      0.00015171694394666702,
                      0.00018335880304221064,
                      0.000025364819521200843,
                      0.00005749377669417299,
                      0.00005646321733365767,
                      0.00010671729251043871,
                      0.00006098564699641429,
                      0.00005607758794212714,
                      0.00015666258696001023,
                      0.000018985998394782655,
                      0.00008417103526880965,
                      0.00043348572216928005,
                      0.0021756619680672884,
                      0.00046101451152935624,
                      0.00030610625981353223,
                      0.0006673266761936247,
                      0.00020018903887830675,
                      0.00356337521225214,
                      0.0002104280865751207,
                      0.0006028382922522724,
                      0.00024929706705734134,
                      0.0006412632064893842,
                      0.00008462337427772582,
                      0.00009230372961610556,
                      0.00005324912126525305,
                      0.0009244278189726174,
                      0.0009543982450850308,
                      0.00012986631190869957,
                      0.00006408098852261901,
                      0.00008029917080421001,
                      0.00010536351328482851,
                      0.0002539281267672777,
                      0.0015077247517183423,
                      0.017677702009677887,
                      0,
                      0,
                      0,
                      0,
                      0,
                      0,
                      0,
                      0,
                      0,
                      0,
                      0,
                      0,
                      0,
                      0,
                      0,
                      0,
                      0,
                      0,
                      0,
                      0,
                      0
                    ],
                    [
                      0.9662947654724121,
                      0.0000168966125784209,
                      0.000024478913474013098,
                      0.000010663350622053258,
                      0.0000052564214456651825,
                      0.000012559825336211361,
                      0.00028789552743546665,
                      0.000008021318535611499,
                      0.00002719657277339138,
                      0.00006329268944682553,
                      0.00001802027691155672,
                      0.000025479423129581846,
                      0.00002655109165061731,
                      0.0001684630842646584,
                      0.00014199873839970678,
                      0.00029248750070109963,
                      0.000020414079699548893,
                      0.00006895049591548741,
                      0.00006350618787109852,
                      0.00011159296263940632,
                      0.00004045439345645718,
                      0.00006066932837711647,
                      0.00006902188761159778,
                      0.00002125615174008999,
                      0.0001317929563811049,
                      0.0002439770323690027,
                      0.0009332713671028614,
                      0.0003982170019298792,
                      0.00039556861156597733,
                      0.0005564408493228257,
                      0.0001100736772059463,
                      0.0019880132749676704,
                      0.0005951962084509432,
                      0.00038644784945063293,
                      0.00018185816588811576,
                      0.0008321866043843329,
                      0.0001913206942845136,
                      0.00019923632498830557,
                      0.0001246920000994578,
                      0.0009170204866677523,
                      0.0019055291777476668,
                      0.00016444531502202153,
                      0.0002563625748734921,
                      0.00040311107295565307,
                      0.0004057477053720504,
                      0.0007638514507561922,
                      0.000998151139356196,
                      0.009182929061353207,
                      0.00985450018197298,
                      0,
                      0,
                      0,
                      0,
                      0,
                      0,
                      0,
                      0,
                      0,
                      0,
                      0,
                      0,
                      0,
                      0,
                      0,
                      0,
                      0,
                      0,
                      0,
                      0
                    ],
                    [
                      0.9844852685928345,
                      0.00003624569217208773,
                      0.000013642195881402586,
                      0.000028275135264266282,
                      0.000004568770236801356,
                      0.000022500633349409327,
                      0.0003346679441165179,
                      0.000007698900844843592,
                      0.000019872026314260438,
                      0.00004605493086273782,
                      0.000028619539079954848,
                      0.000013214326827437617,
                      0.0000241314155573491,
                      0.00006258353096200153,
                      0.00011654625996015966,
                      0.00012869529018644243,
                      0.000010703053703764454,
                      0.000016347858036169782,
                      0.000041116229112958536,
                      0.00007317886775126681,
                      0.000023921804313431494,
                      0.00004880140841123648,
                      0.00004263404116500169,
                      0.0000066428065110812895,
                      0.0000636115946690552,
                      0.00021778048539999872,
                      0.00016248514293693006,
                      0.00008452496695099398,
                      0.0001671334175625816,
                      0.0001374838757328689,
                      0.000046141187340253964,
                      0.0006664202664978802,
                      0.00025993818417191505,
                      0.00011286177323199809,
                      0.00007820301107130945,
                      0.00028168782591819763,
                      0.00006406973261618987,
                      0.00012820627307519317,
                      0.00013001378101762384,
                      0.00032864310196600854,
                      0.0005209354567341506,
                      0.0000824711678433232,
                      0.00005399073052103631,
                      0.00006680120714008808,
                      0.00009680480434326455,
                      0.00020011074957437813,
                      0.0004493259184528142,
                      0.0020164763554930687,
                      0.0028424239717423916,
                      0.005105523392558098,
                      0,
                      0,
                      0,
                      0,
                      0,
                      0,
                      0,
                      0,
                      0,
                      0,
                      0,
                      0,
                      0,
                      0,
                      0,
                      0,
                      0,
                      0,
                      0
                    ],
                    [
                      0.6552305817604065,
                      0.000600853469222784,
                      0.000041115032217931,
                      0.00013687455793842673,
                      0.00003685189949464984,
                      0.00031934224534779787,
                      0.002397313015535474,
                      0.00017417130584362894,
                      0.00019927193352486938,
                      0.00008410871669184417,
                      0.00031506363302469254,
                      0.00025712375645525753,
                      0.0010595115600153804,
                      0.002629220951348543,
                      0.002184496494010091,
                      0.0033010307233780622,
                      0.0005761653301306069,
                      0.0018979216692969203,
                      0.0022879631724208593,
                      0.0036417634692043066,
                      0.001168744871392846,
                      0.0016655598301440477,
                      0.0005123779992572963,
                      0.0006432862719520926,
                      0.003230836009606719,
                      0.0033694172743707895,
                      0.004959544632583857,
                      0.003256234573200345,
                      0.00063710828544572,
                      0.005483345594257116,
                      0.0016406935174018145,
                      0.03277168795466423,
                      0.0023483121767640114,
                      0.005888867657631636,
                      0.010209089145064354,
                      0.009055397473275661,
                      0.0029777896124869585,
                      0.001599813112989068,
                      0.005597887560725212,
                      0.00989583320915699,
                      0.005956402514129877,
                      0.00225045601837337,
                      0.010911619290709496,
                      0.006613931618630886,
                      0.0006967961089685559,
                      0.033275578171014786,
                      0.012672032229602337,
                      0.006882865913212299,
                      0.013060369528830051,
                      0.018051547929644585,
                      0.10534579306840897,
                      0,
                      0,
                      0,
                      0,
                      0,
                      0,
                      0,
                      0,
                      0,
                      0,
                      0,
                      0,
                      0,
                      0,
                      0,
                      0,
                      0,
                      0
                    ],
                    [
                      0.05915427207946777,
                      0.0008550699567422271,
                      0.000025188433937728405,
                      0.0001142255641752854,
                      0.00002077569479297381,
                      0.000053406667575472966,
                      0.0004460155905690044,
                      0.00013582032988779247,
                      0.000011468601769593079,
                      0.000010319306966266595,
                      0.000027292495360597968,
                      0.0005176191334612668,
                      0.0006460694130510092,
                      0.000628007052000612,
                      0.00659589096903801,
                      0.0018976047867909074,
                      0.003005047095939517,
                      0.000848588882945478,
                      0.0004037079052068293,
                      0.0026304246857762337,
                      0.0022465090733021498,
                      0.00018501382146496326,
                      0.0013792926911264658,
                      0.0009257544297724962,
                      0.0010142792016267776,
                      0.0012721704551950097,
                      0.0009747461299411952,
                      0.0015538869192823768,
                      0.0001616696099517867,
                      0.0008161001605913043,
                      0.0002802323142532259,
                      0.005493129603564739,
                      0.00016754433454480022,
                      0.0006670808652415872,
                      0.001614107983186841,
                      0.12895844876766205,
                      0.04977455735206604,
                      0.002387763001024723,
                      0.0070686922408640385,
                      0.10120420902967453,
                      0.0009348919847980142,
                      0.0015670140273869038,
                      0.07745946198701859,
                      0.09802773594856262,
                      0.0021970844827592373,
                      0.15061764419078827,
                      0.08731246739625931,
                      0.004246728494763374,
                      0.0008370860014110804,
                      0.002481701783835888,
                      0.028193842619657516,
                      0.15995238721370697,
                      0,
                      0,
                      0,
                      0,
                      0,
                      0,
                      0,
                      0,
                      0,
                      0,
                      0,
                      0,
                      0,
                      0,
                      0,
                      0,
                      0
                    ],
                    [
                      0.15542124211788177,
                      0.0010569817386567593,
                      0.0002565831528045237,
                      0.000486498000100255,
                      0.00018170262046623975,
                      0.00008415937190875411,
                      0.0016206379514187574,
                      0.00018325283599551767,
                      0.00002474498251103796,
                      0.00007242424180731177,
                      0.0000818835396785289,
                      0.0003352142812218517,
                      0.0004166706057731062,
                      0.0009428864577785134,
                      0.010010865516960621,
                      0.0011532787466421723,
                      0.0023384508676826954,
                      0.0002300345222465694,
                      0.00013336428673937917,
                      0.001521125785075128,
                      0.0013602974358946085,
                      0.00018315653142053634,
                      0.002676480682566762,
                      0.0008669299422763288,
                      0.00036037867539562285,
                      0.0010039496701210737,
                      0.005407532677054405,
                      0.008285698480904102,
                      0.002036713296547532,
                      0.001234050840139389,
                      0.0002476496738381684,
                      0.00587611785158515,
                      0.0005109903868287802,
                      0.0016637801891192794,
                      0.002598431194201112,
                      0.12716522812843323,
                      0.03479328379034996,
                      0.0030691800639033318,
                      0.002623103791847825,
                      0.14753217995166779,
                      0.0021425324957817793,
                      0.0036472566425800323,
                      0.0253826342523098,
                      0.046176545321941376,
                      0.005489560775458813,
                      0.021912112832069397,
                      0.09493420273065567,
                      0.020029818639159203,
                      0.0039393105544149876,
                      0.004350387956947088,
                      0.014646664261817932,
                      0.08916987478733063,
                      0.1421319991350174,
                      0,
                      0,
                      0,
                      0,
                      0,
                      0,
                      0,
                      0,
                      0,
                      0,
                      0,
                      0,
                      0,
                      0,
                      0,
                      0
                    ],
                    [
                      0.5437968969345093,
                      0.0010745117906481028,
                      0.0012354239588603377,
                      0.0007442549685947597,
                      0.0024198174942284822,
                      0.00020479565137065947,
                      0.00024340031086467206,
                      0.00010223336721537635,
                      0.00009673466411186382,
                      0.00036275654565542936,
                      0.00032593196374364197,
                      0.0003762374399229884,
                      0.0002831143792718649,
                      0.0004595599602907896,
                      0.0002400987723376602,
                      0.0006015170365571976,
                      0.001336000976152718,
                      0.00038715198752470315,
                      0.00039701833156868815,
                      0.0015054537216201425,
                      0.0008353555458597839,
                      0.0007666530436836183,
                      0.0008074898505583405,
                      0.000640123849734664,
                      0.000662764476146549,
                      0.00040565963718108833,
                      0.0010373557452112436,
                      0.001959770917892456,
                      0.00039738178020343184,
                      0.001256100949831307,
                      0.0002090661582769826,
                      0.0016591970343142748,
                      0.0003156002494506538,
                      0.0005690865800715983,
                      0.0020736621227115393,
                      0.0071529061533510685,
                      0.0026310046669095755,
                      0.019351499155163765,
                      0.017234735190868378,
                      0.026956941932439804,
                      0.0022570621222257614,
                      0.002824128605425358,
                      0.012423410080373287,
                      0.01415962539613247,
                      0.011597743257880211,
                      0.031397584825754166,
                      0.021672211587429047,
                      0.020961178466677666,
                      0.006155629642307758,
                      0.01342655811458826,
                      0.034609563648700714,
                      0.06746191531419754,
                      0.10174214839935303,
                      0.016196025535464287,
                      0,
                      0,
                      0,
                      0,
                      0,
                      0,
                      0,
                      0,
                      0,
                      0,
                      0,
                      0,
                      0,
                      0,
                      0
                    ],
                    [
                      0.44295209646224976,
                      0.001327059231698513,
                      0.00020258627773728222,
                      0.0006690248847007751,
                      0.000367798435036093,
                      0.0002835683699231595,
                      0.0027567935176193714,
                      0.0007641068077646196,
                      0.00025769922649487853,
                      0.00041554527706466615,
                      0.0008612055680714548,
                      0.0004938446218147874,
                      0.003694694023579359,
                      0.0018852240173146129,
                      0.005889112129807472,
                      0.0011560505954548717,
                      0.0023231639061123133,
                      0.0006115201977081597,
                      0.00040685321437194943,
                      0.0012357571395114064,
                      0.0028542187064886093,
                      0.00030612523551099,
                      0.009922394528985023,
                      0.0021891831420361996,
                      0.00011654749687295407,
                      0.00148296938277781,
                      0.0055256495252251625,
                      0.05214064195752144,
                      0.002938159042969346,
                      0.002429720014333725,
                      0.00020633659732993692,
                      0.014486951753497124,
                      0.0006604401860386133,
                      0.003505250671878457,
                      0.0006835928070358932,
                      0.016459612175822258,
                      0.0007692399667575955,
                      0.0016701347194612026,
                      0.00344059313647449,
                      0.09634466469287872,
                      0.014005038887262344,
                      0.0023519890382885933,
                      0.0017855112673714757,
                      0.0016009578248485923,
                      0.0050825574435293674,
                      0.01302520465105772,
                      0.1485014408826828,
                      0.0313645638525486,
                      0.015202869661152363,
                      0.014622306451201439,
                      0.008653291501104832,
                      0.004406459163874388,
                      0.009475287981331348,
                      0.006998557597398758,
                      0.03623783215880394,
                      0,
                      0,
                      0,
                      0,
                      0,
                      0,
                      0,
                      0,
                      0,
                      0,
                      0,
                      0,
                      0,
                      0
                    ],
                    [
                      0.538041889667511,
                      0.0003267394786234945,
                      0.00015809691103640944,
                      0.0001490296417614445,
                      0.00018428239854983985,
                      0.00019421361503191292,
                      0.0018033302621915936,
                      0.00009133121784543619,
                      0.0000875098048709333,
                      0.00006960920291021466,
                      0.0002102288417518139,
                      0.000030159257221384905,
                      0.0014814147725701332,
                      0.0009417575784027576,
                      0.0015933726681396365,
                      0.0011276722652837634,
                      0.00021200299670454115,
                      0.0002919423277489841,
                      0.00017023323744069785,
                      0.00018809833272825927,
                      0.00025571638252586126,
                      0.00012133183918194845,
                      0.003847750136628747,
                      0.0013793673133477569,
                      0.0002253507263958454,
                      0.003282977966591716,
                      0.010866967961192131,
                      0.003971789963543415,
                      0.0002780389040708542,
                      0.0011354226153343916,
                      0.000322823558235541,
                      0.010951847769320011,
                      0.0003954207932110876,
                      0.0017759471666067839,
                      0.0003137246530968696,
                      0.0088125579059124,
                      0.0002782638475764543,
                      0.00020441689412109554,
                      0.00012392115604598075,
                      0.08320209383964539,
                      0.007742299698293209,
                      0.001068052719347179,
                      0.0004447795217856765,
                      0.00009797399252420291,
                      0.000123978839837946,
                      0.0004776094574481249,
                      0.07430233806371689,
                      0.004841656889766455,
                      0.0035189937334507704,
                      0.0026567690074443817,
                      0.002262975787743926,
                      0.0007703871815465391,
                      0.0005763269728049636,
                      0.00013097160262987018,
                      0.0058614276349544525,
                      0.21602469682693481,
                      0,
                      0,
                      0,
                      0,
                      0,
                      0,
                      0,
                      0,
                      0,
                      0,
                      0,
                      0,
                      0
                    ],
                    [
                      0.5586952567100525,
                      0.00024417214444838464,
                      0.0002317377511644736,
                      0.000799757253844291,
                      0.0002700496406760067,
                      0.0013831262476742268,
                      0.0028839390724897385,
                      0.00013952569861430675,
                      0.00023272196995094419,
                      0.00013000363833270967,
                      0.0006557470769621432,
                      0.0002244386705569923,
                      0.000340901839081198,
                      0.0025610383599996567,
                      0.0013687369646504521,
                      0.003356686793267727,
                      0.00006764029967598617,
                      0.0006334458012133837,
                      0.001588854705914855,
                      0.0014974147779867053,
                      0.0006555172731168568,
                      0.00025168946012854576,
                      0.0007786695496179163,
                      0.0004497133195400238,
                      0.0003787691530305892,
                      0.004054945893585682,
                      0.004586474504321814,
                      0.0016176638891920447,
                      0.00031756021780893207,
                      0.0021854443475604057,
                      0.0011590691283345222,
                      0.010149665176868439,
                      0.0014712866395711899,
                      0.005276799667626619,
                      0.0008874469785951078,
                      0.006612523924559355,
                      0.00047208095202222466,
                      0.0003996733285021037,
                      0.0003335798974148929,
                      0.020381152629852295,
                      0.004940378479659557,
                      0.0026049150619655848,
                      0.0016388612566515803,
                      0.00041525455890223384,
                      0.00013128106365911663,
                      0.00042304492671974003,
                      0.007809225004166365,
                      0.002454495755955577,
                      0.0029595973901450634,
                      0.002699666190892458,
                      0.005533827003091574,
                      0.002563227666541934,
                      0.001275057322345674,
                      0.00017716462025418878,
                      0.007536989636719227,
                      0.05176122859120369,
                      0.2653508186340332,
                      0,
                      0,
                      0,
                      0,
                      0,
                      0,
                      0,
                      0,
                      0,
                      0,
                      0,
                      0
                    ],
                    [
                      0.08688224107027054,
                      0.0013465865049511194,
                      0.00005140699431649409,
                      0.0003173943259753287,
                      0.00005906365913688205,
                      0.00021995937277097255,
                      0.0008635990088805556,
                      0.00019510099082253873,
                      0.000030040087949601002,
                      0.000010868307981581893,
                      0.000034383567253826186,
                      0.00042094377567991614,
                      0.00040347076719626784,
                      0.0016490323469042778,
                      0.007194163277745247,
                      0.0019836227875202894,
                      0.0014578050468116999,
                      0.001173598226159811,
                      0.0004865005030296743,
                      0.0017339803744107485,
                      0.001839654752984643,
                      0.0001633086212677881,
                      0.0009236987680196762,
                      0.000611941737588495,
                      0.0011121657444164157,
                      0.0008845379343256354,
                      0.0007028774707578123,
                      0.0010697414400056005,
                      0.00016054754087235779,
                      0.0003109539102297276,
                      0.00016821868484839797,
                      0.0021727862767875195,
                      0.00009428202611161396,
                      0.00035188396577723324,
                      0.0011889145243912935,
                      0.0606754831969738,
                      0.03797297924757004,
                      0.0018983196932822466,
                      0.006231239996850491,
                      0.04278681054711342,
                      0.0016703484579920769,
                      0.0012386374874040484,
                      0.03409065306186676,
                      0.04331992194056511,
                      0.0012664530659094453,
                      0.028050636872649193,
                      0.0369497612118721,
                      0.0025516245514154434,
                      0.0006590281263925135,
                      0.0008545306627638638,
                      0.004250392317771912,
                      0.10700435191392899,
                      0.14785990118980408,
                      0.001169397495687008,
                      0.11735183745622635,
                      0.0989610031247139,
                      0.019841300323605537,
                      0.08507611602544785,
                      0,
                      0,
                      0,
                      0,
                      0,
                      0,
                      0,
                      0,
                      0,
                      0,
                      0
                    ],
                    [
                      0.22546729445457458,
                      0.0015419453848153353,
                      0.00018696974439080805,
                      0.00044174649519845843,
                      0.0000901314415386878,
                      0.00018179084872826934,
                      0.0036206995137035847,
                      0.0008502990822307765,
                      0.00009349726315122098,
                      0.00006978554301895201,
                      0.00022716858075000346,
                      0.0002936757809948176,
                      0.0003146310627926141,
                      0.0012845341116189957,
                      0.037335269153118134,
                      0.00395341869443655,
                      0.007113272324204445,
                      0.0004806185606867075,
                      0.00037070372491143644,
                      0.0024396455846726894,
                      0.003039573086425662,
                      0.0001218891266034916,
                      0.005934496410191059,
                      0.00046809398918412626,
                      0.000595184275880456,
                      0.0015777860535308719,
                      0.004164551850408316,
                      0.005315863061696291,
                      0.0018776832148432732,
                      0.0012800937984138727,
                      0.00027905715978704393,
                      0.008364476263523102,
                      0.0003494442207738757,
                      0.0011420531664043665,
                      0.0030726338736712933,
                      0.11997004598379135,
                      0.06211237609386444,
                      0.003606638638302684,
                      0.0012754352064803243,
                      0.05799476429820061,
                      0.0008009098237380385,
                      0.0006550567923113704,
                      0.013133348897099495,
                      0.021019520238041878,
                      0.0036600930616259575,
                      0.006174405105412006,
                      0.0345182865858078,
                      0.008935557678341866,
                      0.002667487831786275,
                      0.002465616213157773,
                      0.004020818509161472,
                      0.014673000201582909,
                      0.061057690531015396,
                      0.0017507154261693358,
                      0.013410236686468124,
                      0.05082571133971214,
                      0.003118277760222554,
                      0.0254671573638916,
                      0.1627468764781952,
                      0,
                      0,
                      0,
                      0,
                      0,
                      0,
                      0,
                      0,
                      0,
                      0
                    ],
                    [
                      0.5654551982879639,
                      0.0005822254461236298,
                      0.001169333467260003,
                      0.00024364284763578326,
                      0.0011298689059913158,
                      0.000052149327530059963,
                      0.00016967592819128186,
                      0.0002041306288447231,
                      0.000200013309950009,
                      0.0005035768263041973,
                      0.0006268644356168807,
                      0.000440473755588755,
                      0.00014120405830908567,
                      0.0005092868814244866,
                      0.00038938195211812854,
                      0.0008655841229483485,
                      0.0024759862571954727,
                      0.00036430222098715603,
                      0.0005146728362888098,
                      0.0037315539084374905,
                      0.0014833175810053945,
                      0.0014531841734424233,
                      0.001306092832237482,
                      0.0003974532301072031,
                      0.0007134323823265731,
                      0.0003827153705060482,
                      0.00178634119220078,
                      0.0018693648744374514,
                      0.0004003939975518733,
                      0.0010629564058035612,
                      0.00011765287490561604,
                      0.0016452238196507096,
                      0.0004878971667494625,
                      0.000985307851806283,
                      0.002187232254073024,
                      0.0054673925042152405,
                      0.0017626031767576933,
                      0.02457124926149845,
                      0.00614168681204319,
                      0.00922148022800684,
                      0.002551520010456443,
                      0.0022158201318234205,
                      0.0031432006508111954,
                      0.0035107163712382317,
                      0.007419693749397993,
                      0.0036813451442867517,
                      0.00442985724657774,
                      0.010401217266917229,
                      0.002827622462064028,
                      0.003997120540589094,
                      0.004214141052216291,
                      0.00510072149336338,
                      0.013112591579556465,
                      0.006101664621382952,
                      0.03501468524336815,
                      0.01203815545886755,
                      0.012343158014118671,
                      0.02674183063209057,
                      0.09969761222600937,
                      0.09824514389038086,
                      0,
                      0,
                      0,
                      0,
                      0,
                      0,
                      0,
                      0,
                      0
                    ],
                    [
                      0.3407547175884247,
                      0.0011345642851665616,
                      0.00012544884521048516,
                      0.0003330638282932341,
                      0.00010462403588462621,
                      0.0002595442929305136,
                      0.006049495656043291,
                      0.0007419305038638413,
                      0.00025806145276874304,
                      0.0004951692535541952,
                      0.001770606148056686,
                      0.0003519006131682545,
                      0.0047751846723258495,
                      0.0017623243620619178,
                      0.004591288976371288,
                      0.0010155315976589918,
                      0.0033742357045412064,
                      0.0005634785047732294,
                      0.00043852796079590917,
                      0.0005462744156830013,
                      0.0020759229082614183,
                      0.000058275712945032865,
                      0.010591722093522549,
                      0.0012443639570847154,
                      0.00010976620978908613,
                      0.0022540020290762186,
                      0.009653566405177116,
                      0.06439226120710373,
                      0.0032535481732338667,
                      0.0027889420744031668,
                      0.00009970659448299557,
                      0.031820692121982574,
                      0.0008970595081336796,
                      0.006203716155141592,
                      0.0008883727714419365,
                      0.033075761049985886,
                      0.001193950418382883,
                      0.0020892643369734287,
                      0.002734923269599676,
                      0.09596173465251923,
                      0.0047638253308832645,
                      0.0008618232677690685,
                      0.0007460414781235158,
                      0.0015385259175673127,
                      0.004572270903736353,
                      0.01714823953807354,
                      0.07181405276060104,
                      0.025833576917648315,
                      0.00840772408992052,
                      0.014637689106166363,
                      0.006379483733326197,
                      0.0008441813988611102,
                      0.0026073104236274958,
                      0.0022824688348919153,
                      0.013231972232460976,
                      0.10375133156776428,
                      0.013960096053779125,
                      0.0020213620737195015,
                      0.006356154568493366,
                      0.005659092217683792,
                      0.05174914747476578,
                      0,
                      0,
                      0,
                      0,
                      0,
                      0,
                      0,
                      0
                    ],
                    [
                      0.35544469952583313,
                      0.00018161498883273453,
                      0.0000838058622321114,
                      0.0000395023453165777,
                      0.000021799149180878885,
                      0.000037734836951131,
                      0.001570013235323131,
                      0.00004775993147632107,
                      0.00004555259147309698,
                      0.0000868806746439077,
                      0.0003798731486313045,
                      0.000031677158403908834,
                      0.0018706500995904207,
                      0.0015950949164107442,
                      0.0009481331799179316,
                      0.0006286441348493099,
                      0.00012143049389123917,
                      0.0003070592356380075,
                      0.00011035284114768729,
                      0.00009718257206259295,
                      0.0001960805820999667,
                      0.00005041010808781721,
                      0.006897519808262587,
                      0.0017914706841111183,
                      0.0000682262034388259,
                      0.002568150172010064,
                      0.011209957301616669,
                      0.006162079516798258,
                      0.000641173857729882,
                      0.0015022597508504987,
                      0.0003137099265586585,
                      0.014552286826074123,
                      0.0008093178039416671,
                      0.0034193540923297405,
                      0.00016117325867526233,
                      0.013041059486567974,
                      0.00038607409805990756,
                      0.0001840115583036095,
                      0.00008827409328659996,
                      0.12550917267799377,
                      0.011764701455831528,
                      0.0009569606627337635,
                      0.0002655734424479306,
                      0.00005851300375070423,
                      0.00008156283729476854,
                      0.00033545884070917964,
                      0.08393873274326324,
                      0.007048001047223806,
                      0.005823176819831133,
                      0.005296436138451099,
                      0.0035701643209904432,
                      0.00018636992899701,
                      0.00010040459164883941,
                      0.00004232707942719571,
                      0.0004262621805537492,
                      0.1572895497083664,
                      0.021772371605038643,
                      0.0009113303967751563,
                      0.0003434066311456263,
                      0.00004769038059748709,
                      0.0045069498009979725,
                      0.14203284680843353,
                      0,
                      0,
                      0,
                      0,
                      0,
                      0,
                      0
                    ],
                    [
                      0.3070356547832489,
                      0.0001628395402804017,
                      0.00005949901606072672,
                      0.0001273376401513815,
                      0.0000231878730119206,
                      0.00017194877727888525,
                      0.002885125344619155,
                      0.0001375905703753233,
                      0.00013068984844721854,
                      0.0003255059418734163,
                      0.0013379257870838046,
                      0.0024881321005523205,
                      0.0007889099651947618,
                      0.008225379511713982,
                      0.005024085287004709,
                      0.005018817726522684,
                      0.0002919164835475385,
                      0.0015032049268484116,
                      0.0022637576330453157,
                      0.0037238383665680885,
                      0.0032186023890972137,
                      0.0007947301492094994,
                      0.0031299374531954527,
                      0.002773640211671591,
                      0.001417586812749505,
                      0.0036837460938841105,
                      0.005803000181913376,
                      0.0013349363580346107,
                      0.0007385078351944685,
                      0.004263618029654026,
                      0.0014396640472114086,
                      0.0077989427372813225,
                      0.0011332889553159475,
                      0.0033984386827796698,
                      0.002090706489980221,
                      0.030718166381120682,
                      0.009497818537056446,
                      0.001501780585385859,
                      0.0013947124825790524,
                      0.04061119258403778,
                      0.022400949150323868,
                      0.00964479148387909,
                      0.014334727078676224,
                      0.0018128679366782308,
                      0.00032416792237199843,
                      0.002431092783808708,
                      0.02448803000152111,
                      0.00801121536642313,
                      0.005786552559584379,
                      0.004740830510854721,
                      0.024258043617010117,
                      0.008165541104972363,
                      0.001039237598888576,
                      0.00017201266018673778,
                      0.003953426610678434,
                      0.03061235137283802,
                      0.04291203245520592,
                      0.021823054179549217,
                      0.005200558342039585,
                      0.0003528760571498424,
                      0.07076248526573181,
                      0.09887553006410599,
                      0.12942923605442047,
                      0,
                      0,
                      0,
                      0,
                      0,
                      0
                    ],
                    [
                      0.3712172210216522,
                      0.0003701776440721005,
                      0.00009586091618984938,
                      0.00029376609018072486,
                      0.00014971064229030162,
                      0.0008056095102801919,
                      0.004043222405016422,
                      0.0005386980483308434,
                      0.00027645420050248504,
                      0.000304312736261636,
                      0.0011219365987926722,
                      0.0025671564508229494,
                      0.000550220487639308,
                      0.0031257339287549257,
                      0.005434872582554817,
                      0.005278823431581259,
                      0.00028178191860206425,
                      0.0011579900747165084,
                      0.002350947819650173,
                      0.004620946012437344,
                      0.002353308955207467,
                      0.0011399557115510106,
                      0.0017764096846804023,
                      0.0019463658099994063,
                      0.0026013862807303667,
                      0.002425731159746647,
                      0.0032550496980547905,
                      0.000690355256665498,
                      0.00020030314044561237,
                      0.0021953131072223186,
                      0.002043507294729352,
                      0.003406659234315157,
                      0.0009360499097965658,
                      0.0015922972233965993,
                      0.0017737806774675846,
                      0.013013947755098343,
                      0.006556739564985037,
                      0.002502098446711898,
                      0.003262399462983012,
                      0.02536919340491295,
                      0.008291623555123806,
                      0.008278535678982735,
                      0.01474146917462349,
                      0.003155434736981988,
                      0.0004163712728768587,
                      0.005650219973176718,
                      0.011079946532845497,
                      0.002644546562805772,
                      0.0020298759918659925,
                      0.0032304206397384405,
                      0.015622883103787899,
                      0.017937440425157547,
                      0.003057425143197179,
                      0.00028008813387714326,
                      0.005016683135181665,
                      0.009972572326660156,
                      0.01970883272588253,
                      0.04140425845980644,
                      0.01286027580499649,
                      0.0005454991478472948,
                      0.0647268071770668,
                      0.04105105623602867,
                      0.13536395132541656,
                      0.08930747956037521,
                      0,
                      0,
                      0,
                      0,
                      0
                    ],
                    [
                      0.16714300215244293,
                      0.001550041139125824,
                      0.0001008226172416471,
                      0.00025173163157887757,
                      0.00003722991095855832,
                      0.00010183610720559955,
                      0.0010369359515607357,
                      0.00023942436382640153,
                      0.00005895884896744974,
                      0.000016084994058473967,
                      0.00004829952376894653,
                      0.0005486057489179075,
                      0.0004785704077221453,
                      0.0019314347300678492,
                      0.019155213609337807,
                      0.00334089994430542,
                      0.006043354514986277,
                      0.0014937217347323895,
                      0.0006359739927574992,
                      0.00121457374189049,
                      0.0016911643324419856,
                      0.0002291603450430557,
                      0.0007478251936845481,
                      0.00026079619419761,
                      0.0024960560258477926,
                      0.0008679066086187959,
                      0.0002476616355124861,
                      0.0004328007926233113,
                      0.00011345752136548981,
                      0.00012794762733392417,
                      0.00011390919098630548,
                      0.000503277697134763,
                      0.00011596811236813664,
                      0.00006604615191463381,
                      0.0006894191610626876,
                      0.025648949667811394,
                      0.03353342041373253,
                      0.0029155968222767115,
                      0.006883339490741491,
                      0.005077109206467867,
                      0.000235817875363864,
                      0.0006179003394208848,
                      0.02562904544174671,
                      0.07398675382137299,
                      0.0012671002186834812,
                      0.018738072365522385,
                      0.005708982702344656,
                      0.0007602180121466517,
                      0.00009644675446907058,
                      0.00022242321574594826,
                      0.0015228480333462358,
                      0.0397665798664093,
                      0.07734335958957672,
                      0.0010332982055842876,
                      0.01664123125374317,
                      0.011000538244843483,
                      0.0007330428343266249,
                      0.030420096591114998,
                      0.11406116187572479,
                      0.0015136718284338713,
                      0.09123777598142624,
                      0.01188737340271473,
                      0.0031382995657622814,
                      0.006301816552877426,
                      0.17794756591320038,
                      0,
                      0,
                      0,
                      0
                    ],
                    [
                      0.18651071190834045,
                      0.0008317551692016423,
                      0.00022505156812258065,
                      0.0005434994818642735,
                      0.00008858543151291087,
                      0.00015935862029436976,
                      0.003938054665923119,
                      0.0004483479424379766,
                      0.00006372651841957122,
                      0.00007494432793464512,
                      0.00027828983729705215,
                      0.00021197955356910825,
                      0.0008733476861380041,
                      0.0017261103494092822,
                      0.03934105485677719,
                      0.004875022917985916,
                      0.0064466786570847034,
                      0.0006283562397584319,
                      0.00024998863227665424,
                      0.0009018299169838428,
                      0.0011535503435879946,
                      0.00007796618592692539,
                      0.004063914529979229,
                      0.000571375188883394,
                      0.0005152990343049169,
                      0.00165844289585948,
                      0.006411929614841938,
                      0.011961312033236027,
                      0.0029365895316004753,
                      0.0007544762920588255,
                      0.00008977969991974533,
                      0.00981344748288393,
                      0.0004235935921315104,
                      0.0015717365313321352,
                      0.002205980010330677,
                      0.08980392664670944,
                      0.04494404047727585,
                      0.004483222961425781,
                      0.0013613589107990265,
                      0.03154856339097023,
                      0.00043782120337709785,
                      0.00040631135925650597,
                      0.012756596319377422,
                      0.011942844837903976,
                      0.004417669493705034,
                      0.0028035887517035007,
                      0.013520757667720318,
                      0.004728473722934723,
                      0.0017153461230918765,
                      0.001327049802057445,
                      0.0031401547603309155,
                      0.007504087407141924,
                      0.013335899449884892,
                      0.0017425883561372757,
                      0.0015510449884459376,
                      0.016515614464879036,
                      0.001321602612733841,
                      0.004691935610026121,
                      0.042038265615701675,
                      0.004938343074172735,
                      0.028392957523465157,
                      0.018789369612932205,
                      0.0015722522512078285,
                      0.004847509786486626,
                      0.06505680829286575,
                      0.2657378315925598,
                      0,
                      0,
                      0
                    ],
                    [
                      0.6535763740539551,
                      0.00013958393537905067,
                      0.0003315334615763277,
                      0.00011698476009769365,
                      0.00006690600275760517,
                      0.000051790717407129705,
                      0.000978016760200262,
                      0.0007110509322956204,
                      0.00027046535979025066,
                      0.00017688411753624678,
                      0.0006603417568840086,
                      0.0020585607271641493,
                      0.00044553817133419216,
                      0.0024573274422436953,
                      0.01010249275714159,
                      0.005322946701198816,
                      0.004417218267917633,
                      0.001216107397340238,
                      0.0014136547688394785,
                      0.0019212451297789812,
                      0.002794928615912795,
                      0.0001835270377341658,
                      0.0009449780336581171,
                      0.00022936548339203,
                      0.0010249314364045858,
                      0.0007700147689320147,
                      0.001897857990115881,
                      0.0014884336851537228,
                      0.0006320561515167356,
                      0.0002682369959075004,
                      0.000036564604670275,
                      0.0009935898706316948,
                      0.00006443935126299039,
                      0.00017235608538612723,
                      0.00027211717679165304,
                      0.003844772232696414,
                      0.0010015974985435605,
                      0.0030548134818673134,
                      0.0026849640998989344,
                      0.0022721632849425077,
                      0.00010251961066387594,
                      0.00023239805886987597,
                      0.0031842633616179228,
                      0.0015611198032274842,
                      0.0007988433353602886,
                      0.0015579259488731623,
                      0.000619739992544055,
                      0.001020401599816978,
                      0.000677475065458566,
                      0.0004725324979517609,
                      0.0007595798815600574,
                      0.004412132780998945,
                      0.0016845155041664839,
                      0.0002475926303304732,
                      0.001641055685468018,
                      0.0009821720886975527,
                      0.0005950644263066351,
                      0.0012470439542084932,
                      0.002847851486876607,
                      0.0010940787615254521,
                      0.02170887589454651,
                      0.0007312586531043053,
                      0.00032538623781874776,
                      0.0004890224081464112,
                      0.015328546054661274,
                      0.05367673188447952,
                      0.17093518376350403,
                      0,
                      0
                    ],
                    [
                      0.2403336465358734,
                      0.0001781165337888524,
                      0.00010781524906633422,
                      0.00017709941312205046,
                      0.00008438069198746234,
                      0.00020199076971039176,
                      0.0018268481362611055,
                      0.0007388218655250967,
                      0.00009985754877561703,
                      0.00009417594264959916,
                      0.0009214045712724328,
                      0.0010250461054965854,
                      0.0008628041832707822,
                      0.0026549336034804583,
                      0.012094724923372269,
                      0.004080743994563818,
                      0.0026218851562589407,
                      0.001427703071385622,
                      0.0008801055373623967,
                      0.002177478512749076,
                      0.0027612484991550446,
                      0.00023172161309048533,
                      0.0022550690919160843,
                      0.0011537609389051795,
                      0.0025924835354089737,
                      0.0018510294612497091,
                      0.032664984464645386,
                      0.00894603505730629,
                      0.003944267053157091,
                      0.0036023466382175684,
                      0.0002469825267326087,
                      0.012293053790926933,
                      0.0008297981694340706,
                      0.0035115396603941917,
                      0.002737395465373993,
                      0.02929087169468403,
                      0.0035382560454308987,
                      0.0036259132903069258,
                      0.003018616233021021,
                      0.01683848910033703,
                      0.0006826173048466444,
                      0.0006005943869240582,
                      0.007876895368099213,
                      0.0035984304267913103,
                      0.0017729619285091758,
                      0.005669893231242895,
                      0.0044765896163880825,
                      0.0024801800027489662,
                      0.002846281975507736,
                      0.002715112641453743,
                      0.009174877777695656,
                      0.014156402088701725,
                      0.0033396263606846333,
                      0.0004891835269518197,
                      0.004462025128304958,
                      0.006571979261934757,
                      0.0018069196958094835,
                      0.00335577130317688,
                      0.006478373426944017,
                      0.002012560609728098,
                      0.030228136107325554,
                      0.006763162557035685,
                      0.0028179199434816837,
                      0.004700673744082451,
                      0.034875381737947464,
                      0.06749432533979416,
                      0.11542164534330368,
                      0.2446081042289734,
                      0
                    ],
                    [
                      0.4740223288536072,
                      0.00009834145021159202,
                      0.00020457568462006748,
                      0.00004511119914241135,
                      0.00010149120498681441,
                      0.00004366564826341346,
                      0.0005429265438579023,
                      0.00037522916682064533,
                      0.0001247544278157875,
                      0.0002047432353720069,
                      0.00022537948098033667,
                      0.0009370330371893942,
                      0.00023416946351062506,
                      0.0011735022999346256,
                      0.002154513029381633,
                      0.0021202934440225363,
                      0.0026210169307887554,
                      0.0011007750872522593,
                      0.0011732925195246935,
                      0.005655472166836262,
                      0.005132987163960934,
                      0.0012503773905336857,
                      0.0008027937728911638,
                      0.00040573859587311745,
                      0.003810229478403926,
                      0.0006298157386481762,
                      0.010219225659966469,
                      0.002768125617876649,
                      0.0010008190292865038,
                      0.003366616554558277,
                      0.0002986495092045516,
                      0.0029937082435935736,
                      0.00047281841398216784,
                      0.0009052302339114249,
                      0.0018476146506145597,
                      0.004808714613318443,
                      0.0011268571252003312,
                      0.029345324262976646,
                      0.006110916845500469,
                      0.005288955755531788,
                      0.0005022675031796098,
                      0.0010747353080660105,
                      0.004380478989332914,
                      0.0057923984713852406,
                      0.0060228887014091015,
                      0.006887315306812525,
                      0.0010286137694492936,
                      0.002990549197420478,
                      0.0013058918993920088,
                      0.0011522785061970353,
                      0.004705952480435371,
                      0.007053709588944912,
                      0.0038807301316410303,
                      0.0009195806924253702,
                      0.005167498718947172,
                      0.0013610897585749626,
                      0.0013101256918162107,
                      0.003508665133267641,
                      0.006304759532213211,
                      0.010473692789673805,
                      0.016291256994009018,
                      0.0010949551360681653,
                      0.0010285190073773265,
                      0.002661746693775058,
                      0.026315944269299507,
                      0.028453506529331207,
                      0.09819179028272629,
                      0.08004092425107956,
                      0.09435401111841202
                    ]
                  ]
                }
              ],
              "layout": {
                "coloraxis": {
                  "colorscale": [
                    [
                      0,
                      "#0d0887"
                    ],
                    [
                      0.1111111111111111,
                      "#46039f"
                    ],
                    [
                      0.2222222222222222,
                      "#7201a8"
                    ],
                    [
                      0.3333333333333333,
                      "#9c179e"
                    ],
                    [
                      0.4444444444444444,
                      "#bd3786"
                    ],
                    [
                      0.5555555555555556,
                      "#d8576b"
                    ],
                    [
                      0.6666666666666666,
                      "#ed7953"
                    ],
                    [
                      0.7777777777777778,
                      "#fb9f3a"
                    ],
                    [
                      0.8888888888888888,
                      "#fdca26"
                    ],
                    [
                      1,
                      "#f0f921"
                    ]
                  ]
                },
                "height": 1400,
                "template": {
                  "data": {
                    "bar": [
                      {
                        "error_x": {
                          "color": "#2a3f5f"
                        },
                        "error_y": {
                          "color": "#2a3f5f"
                        },
                        "marker": {
                          "line": {
                            "color": "#E5ECF6",
                            "width": 0.5
                          },
                          "pattern": {
                            "fillmode": "overlay",
                            "size": 10,
                            "solidity": 0.2
                          }
                        },
                        "type": "bar"
                      }
                    ],
                    "barpolar": [
                      {
                        "marker": {
                          "line": {
                            "color": "#E5ECF6",
                            "width": 0.5
                          },
                          "pattern": {
                            "fillmode": "overlay",
                            "size": 10,
                            "solidity": 0.2
                          }
                        },
                        "type": "barpolar"
                      }
                    ],
                    "carpet": [
                      {
                        "aaxis": {
                          "endlinecolor": "#2a3f5f",
                          "gridcolor": "white",
                          "linecolor": "white",
                          "minorgridcolor": "white",
                          "startlinecolor": "#2a3f5f"
                        },
                        "baxis": {
                          "endlinecolor": "#2a3f5f",
                          "gridcolor": "white",
                          "linecolor": "white",
                          "minorgridcolor": "white",
                          "startlinecolor": "#2a3f5f"
                        },
                        "type": "carpet"
                      }
                    ],
                    "choropleth": [
                      {
                        "colorbar": {
                          "outlinewidth": 0,
                          "ticks": ""
                        },
                        "type": "choropleth"
                      }
                    ],
                    "contour": [
                      {
                        "colorbar": {
                          "outlinewidth": 0,
                          "ticks": ""
                        },
                        "colorscale": [
                          [
                            0,
                            "#0d0887"
                          ],
                          [
                            0.1111111111111111,
                            "#46039f"
                          ],
                          [
                            0.2222222222222222,
                            "#7201a8"
                          ],
                          [
                            0.3333333333333333,
                            "#9c179e"
                          ],
                          [
                            0.4444444444444444,
                            "#bd3786"
                          ],
                          [
                            0.5555555555555556,
                            "#d8576b"
                          ],
                          [
                            0.6666666666666666,
                            "#ed7953"
                          ],
                          [
                            0.7777777777777778,
                            "#fb9f3a"
                          ],
                          [
                            0.8888888888888888,
                            "#fdca26"
                          ],
                          [
                            1,
                            "#f0f921"
                          ]
                        ],
                        "type": "contour"
                      }
                    ],
                    "contourcarpet": [
                      {
                        "colorbar": {
                          "outlinewidth": 0,
                          "ticks": ""
                        },
                        "type": "contourcarpet"
                      }
                    ],
                    "heatmap": [
                      {
                        "colorbar": {
                          "outlinewidth": 0,
                          "ticks": ""
                        },
                        "colorscale": [
                          [
                            0,
                            "#0d0887"
                          ],
                          [
                            0.1111111111111111,
                            "#46039f"
                          ],
                          [
                            0.2222222222222222,
                            "#7201a8"
                          ],
                          [
                            0.3333333333333333,
                            "#9c179e"
                          ],
                          [
                            0.4444444444444444,
                            "#bd3786"
                          ],
                          [
                            0.5555555555555556,
                            "#d8576b"
                          ],
                          [
                            0.6666666666666666,
                            "#ed7953"
                          ],
                          [
                            0.7777777777777778,
                            "#fb9f3a"
                          ],
                          [
                            0.8888888888888888,
                            "#fdca26"
                          ],
                          [
                            1,
                            "#f0f921"
                          ]
                        ],
                        "type": "heatmap"
                      }
                    ],
                    "heatmapgl": [
                      {
                        "colorbar": {
                          "outlinewidth": 0,
                          "ticks": ""
                        },
                        "colorscale": [
                          [
                            0,
                            "#0d0887"
                          ],
                          [
                            0.1111111111111111,
                            "#46039f"
                          ],
                          [
                            0.2222222222222222,
                            "#7201a8"
                          ],
                          [
                            0.3333333333333333,
                            "#9c179e"
                          ],
                          [
                            0.4444444444444444,
                            "#bd3786"
                          ],
                          [
                            0.5555555555555556,
                            "#d8576b"
                          ],
                          [
                            0.6666666666666666,
                            "#ed7953"
                          ],
                          [
                            0.7777777777777778,
                            "#fb9f3a"
                          ],
                          [
                            0.8888888888888888,
                            "#fdca26"
                          ],
                          [
                            1,
                            "#f0f921"
                          ]
                        ],
                        "type": "heatmapgl"
                      }
                    ],
                    "histogram": [
                      {
                        "marker": {
                          "pattern": {
                            "fillmode": "overlay",
                            "size": 10,
                            "solidity": 0.2
                          }
                        },
                        "type": "histogram"
                      }
                    ],
                    "histogram2d": [
                      {
                        "colorbar": {
                          "outlinewidth": 0,
                          "ticks": ""
                        },
                        "colorscale": [
                          [
                            0,
                            "#0d0887"
                          ],
                          [
                            0.1111111111111111,
                            "#46039f"
                          ],
                          [
                            0.2222222222222222,
                            "#7201a8"
                          ],
                          [
                            0.3333333333333333,
                            "#9c179e"
                          ],
                          [
                            0.4444444444444444,
                            "#bd3786"
                          ],
                          [
                            0.5555555555555556,
                            "#d8576b"
                          ],
                          [
                            0.6666666666666666,
                            "#ed7953"
                          ],
                          [
                            0.7777777777777778,
                            "#fb9f3a"
                          ],
                          [
                            0.8888888888888888,
                            "#fdca26"
                          ],
                          [
                            1,
                            "#f0f921"
                          ]
                        ],
                        "type": "histogram2d"
                      }
                    ],
                    "histogram2dcontour": [
                      {
                        "colorbar": {
                          "outlinewidth": 0,
                          "ticks": ""
                        },
                        "colorscale": [
                          [
                            0,
                            "#0d0887"
                          ],
                          [
                            0.1111111111111111,
                            "#46039f"
                          ],
                          [
                            0.2222222222222222,
                            "#7201a8"
                          ],
                          [
                            0.3333333333333333,
                            "#9c179e"
                          ],
                          [
                            0.4444444444444444,
                            "#bd3786"
                          ],
                          [
                            0.5555555555555556,
                            "#d8576b"
                          ],
                          [
                            0.6666666666666666,
                            "#ed7953"
                          ],
                          [
                            0.7777777777777778,
                            "#fb9f3a"
                          ],
                          [
                            0.8888888888888888,
                            "#fdca26"
                          ],
                          [
                            1,
                            "#f0f921"
                          ]
                        ],
                        "type": "histogram2dcontour"
                      }
                    ],
                    "mesh3d": [
                      {
                        "colorbar": {
                          "outlinewidth": 0,
                          "ticks": ""
                        },
                        "type": "mesh3d"
                      }
                    ],
                    "parcoords": [
                      {
                        "line": {
                          "colorbar": {
                            "outlinewidth": 0,
                            "ticks": ""
                          }
                        },
                        "type": "parcoords"
                      }
                    ],
                    "pie": [
                      {
                        "automargin": true,
                        "type": "pie"
                      }
                    ],
                    "scatter": [
                      {
                        "fillpattern": {
                          "fillmode": "overlay",
                          "size": 10,
                          "solidity": 0.2
                        },
                        "type": "scatter"
                      }
                    ],
                    "scatter3d": [
                      {
                        "line": {
                          "colorbar": {
                            "outlinewidth": 0,
                            "ticks": ""
                          }
                        },
                        "marker": {
                          "colorbar": {
                            "outlinewidth": 0,
                            "ticks": ""
                          }
                        },
                        "type": "scatter3d"
                      }
                    ],
                    "scattercarpet": [
                      {
                        "marker": {
                          "colorbar": {
                            "outlinewidth": 0,
                            "ticks": ""
                          }
                        },
                        "type": "scattercarpet"
                      }
                    ],
                    "scattergeo": [
                      {
                        "marker": {
                          "colorbar": {
                            "outlinewidth": 0,
                            "ticks": ""
                          }
                        },
                        "type": "scattergeo"
                      }
                    ],
                    "scattergl": [
                      {
                        "marker": {
                          "colorbar": {
                            "outlinewidth": 0,
                            "ticks": ""
                          }
                        },
                        "type": "scattergl"
                      }
                    ],
                    "scattermapbox": [
                      {
                        "marker": {
                          "colorbar": {
                            "outlinewidth": 0,
                            "ticks": ""
                          }
                        },
                        "type": "scattermapbox"
                      }
                    ],
                    "scatterpolar": [
                      {
                        "marker": {
                          "colorbar": {
                            "outlinewidth": 0,
                            "ticks": ""
                          }
                        },
                        "type": "scatterpolar"
                      }
                    ],
                    "scatterpolargl": [
                      {
                        "marker": {
                          "colorbar": {
                            "outlinewidth": 0,
                            "ticks": ""
                          }
                        },
                        "type": "scatterpolargl"
                      }
                    ],
                    "scatterternary": [
                      {
                        "marker": {
                          "colorbar": {
                            "outlinewidth": 0,
                            "ticks": ""
                          }
                        },
                        "type": "scatterternary"
                      }
                    ],
                    "surface": [
                      {
                        "colorbar": {
                          "outlinewidth": 0,
                          "ticks": ""
                        },
                        "colorscale": [
                          [
                            0,
                            "#0d0887"
                          ],
                          [
                            0.1111111111111111,
                            "#46039f"
                          ],
                          [
                            0.2222222222222222,
                            "#7201a8"
                          ],
                          [
                            0.3333333333333333,
                            "#9c179e"
                          ],
                          [
                            0.4444444444444444,
                            "#bd3786"
                          ],
                          [
                            0.5555555555555556,
                            "#d8576b"
                          ],
                          [
                            0.6666666666666666,
                            "#ed7953"
                          ],
                          [
                            0.7777777777777778,
                            "#fb9f3a"
                          ],
                          [
                            0.8888888888888888,
                            "#fdca26"
                          ],
                          [
                            1,
                            "#f0f921"
                          ]
                        ],
                        "type": "surface"
                      }
                    ],
                    "table": [
                      {
                        "cells": {
                          "fill": {
                            "color": "#EBF0F8"
                          },
                          "line": {
                            "color": "white"
                          }
                        },
                        "header": {
                          "fill": {
                            "color": "#C8D4E3"
                          },
                          "line": {
                            "color": "white"
                          }
                        },
                        "type": "table"
                      }
                    ]
                  },
                  "layout": {
                    "annotationdefaults": {
                      "arrowcolor": "#2a3f5f",
                      "arrowhead": 0,
                      "arrowwidth": 1
                    },
                    "autotypenumbers": "strict",
                    "coloraxis": {
                      "colorbar": {
                        "outlinewidth": 0,
                        "ticks": ""
                      }
                    },
                    "colorscale": {
                      "diverging": [
                        [
                          0,
                          "#8e0152"
                        ],
                        [
                          0.1,
                          "#c51b7d"
                        ],
                        [
                          0.2,
                          "#de77ae"
                        ],
                        [
                          0.3,
                          "#f1b6da"
                        ],
                        [
                          0.4,
                          "#fde0ef"
                        ],
                        [
                          0.5,
                          "#f7f7f7"
                        ],
                        [
                          0.6,
                          "#e6f5d0"
                        ],
                        [
                          0.7,
                          "#b8e186"
                        ],
                        [
                          0.8,
                          "#7fbc41"
                        ],
                        [
                          0.9,
                          "#4d9221"
                        ],
                        [
                          1,
                          "#276419"
                        ]
                      ],
                      "sequential": [
                        [
                          0,
                          "#0d0887"
                        ],
                        [
                          0.1111111111111111,
                          "#46039f"
                        ],
                        [
                          0.2222222222222222,
                          "#7201a8"
                        ],
                        [
                          0.3333333333333333,
                          "#9c179e"
                        ],
                        [
                          0.4444444444444444,
                          "#bd3786"
                        ],
                        [
                          0.5555555555555556,
                          "#d8576b"
                        ],
                        [
                          0.6666666666666666,
                          "#ed7953"
                        ],
                        [
                          0.7777777777777778,
                          "#fb9f3a"
                        ],
                        [
                          0.8888888888888888,
                          "#fdca26"
                        ],
                        [
                          1,
                          "#f0f921"
                        ]
                      ],
                      "sequentialminus": [
                        [
                          0,
                          "#0d0887"
                        ],
                        [
                          0.1111111111111111,
                          "#46039f"
                        ],
                        [
                          0.2222222222222222,
                          "#7201a8"
                        ],
                        [
                          0.3333333333333333,
                          "#9c179e"
                        ],
                        [
                          0.4444444444444444,
                          "#bd3786"
                        ],
                        [
                          0.5555555555555556,
                          "#d8576b"
                        ],
                        [
                          0.6666666666666666,
                          "#ed7953"
                        ],
                        [
                          0.7777777777777778,
                          "#fb9f3a"
                        ],
                        [
                          0.8888888888888888,
                          "#fdca26"
                        ],
                        [
                          1,
                          "#f0f921"
                        ]
                      ]
                    },
                    "colorway": [
                      "#636efa",
                      "#EF553B",
                      "#00cc96",
                      "#ab63fa",
                      "#FFA15A",
                      "#19d3f3",
                      "#FF6692",
                      "#B6E880",
                      "#FF97FF",
                      "#FECB52"
                    ],
                    "font": {
                      "color": "#2a3f5f"
                    },
                    "geo": {
                      "bgcolor": "white",
                      "lakecolor": "white",
                      "landcolor": "#E5ECF6",
                      "showlakes": true,
                      "showland": true,
                      "subunitcolor": "white"
                    },
                    "hoverlabel": {
                      "align": "left"
                    },
                    "hovermode": "closest",
                    "mapbox": {
                      "style": "light"
                    },
                    "paper_bgcolor": "white",
                    "plot_bgcolor": "#E5ECF6",
                    "polar": {
                      "angularaxis": {
                        "gridcolor": "white",
                        "linecolor": "white",
                        "ticks": ""
                      },
                      "bgcolor": "#E5ECF6",
                      "radialaxis": {
                        "gridcolor": "white",
                        "linecolor": "white",
                        "ticks": ""
                      }
                    },
                    "scene": {
                      "xaxis": {
                        "backgroundcolor": "#E5ECF6",
                        "gridcolor": "white",
                        "gridwidth": 2,
                        "linecolor": "white",
                        "showbackground": true,
                        "ticks": "",
                        "zerolinecolor": "white"
                      },
                      "yaxis": {
                        "backgroundcolor": "#E5ECF6",
                        "gridcolor": "white",
                        "gridwidth": 2,
                        "linecolor": "white",
                        "showbackground": true,
                        "ticks": "",
                        "zerolinecolor": "white"
                      },
                      "zaxis": {
                        "backgroundcolor": "#E5ECF6",
                        "gridcolor": "white",
                        "gridwidth": 2,
                        "linecolor": "white",
                        "showbackground": true,
                        "ticks": "",
                        "zerolinecolor": "white"
                      }
                    },
                    "shapedefaults": {
                      "line": {
                        "color": "#2a3f5f"
                      }
                    },
                    "ternary": {
                      "aaxis": {
                        "gridcolor": "white",
                        "linecolor": "white",
                        "ticks": ""
                      },
                      "baxis": {
                        "gridcolor": "white",
                        "linecolor": "white",
                        "ticks": ""
                      },
                      "bgcolor": "#E5ECF6",
                      "caxis": {
                        "gridcolor": "white",
                        "linecolor": "white",
                        "ticks": ""
                      }
                    },
                    "title": {
                      "x": 0.05
                    },
                    "xaxis": {
                      "automargin": true,
                      "gridcolor": "white",
                      "linecolor": "white",
                      "ticks": "",
                      "title": {
                        "standoff": 15
                      },
                      "zerolinecolor": "white",
                      "zerolinewidth": 2
                    },
                    "yaxis": {
                      "automargin": true,
                      "gridcolor": "white",
                      "linecolor": "white",
                      "ticks": "",
                      "title": {
                        "standoff": 15
                      },
                      "zerolinecolor": "white",
                      "zerolinewidth": 2
                    }
                  }
                },
                "title": {
                  "text": "Head Pattern"
                },
                "width": 1400,
                "xaxis": {
                  "anchor": "y",
                  "domain": [
                    0,
                    1
                  ]
                },
                "yaxis": {
                  "anchor": "x",
                  "autorange": "reversed",
                  "domain": [
                    0,
                    1
                  ]
                }
              }
            },
            "text/html": [
              "<div>                            <div id=\"f36b8ef8-9a76-4c80-b3a4-02c784d75d4f\" class=\"plotly-graph-div\" style=\"height:1400px; width:1400px;\"></div>            <script type=\"text/javascript\">                require([\"plotly\"], function(Plotly) {                    window.PLOTLYENV=window.PLOTLYENV || {};                                    if (document.getElementById(\"f36b8ef8-9a76-4c80-b3a4-02c784d75d4f\")) {                    Plotly.newPlot(                        \"f36b8ef8-9a76-4c80-b3a4-02c784d75d4f\",                        [{\"coloraxis\":\"coloraxis\",\"name\":\"0\",\"x\":[\"\\u003cbos\\u003e (0)\",\"A (1)\",\" highly (2)\",\" knowledgeable (3)\",\" and (4)\",\" intelligent (5)\",\" AI (6)\",\" answers (7)\",\" multiple (8)\",\"- (9)\",\"choice (10)\",\" questions (11)\",\" about (12)\",\" Biology (13)\",\". (14)\",\" Which (15)\",\" of (16)\",\" the (17)\",\" following (18)\",\" theories (19)\",\" is (20)\",\" based (21)\",\" on (22)\",\" the (23)\",\" notion (24)\",\" that (25)\",\" mitochondria (26)\",\" and (27)\",\" chlor (28)\",\"oplasts (29)\",\" evolved (30)\",\" from (31)\",\" prokary (32)\",\"otic (33)\",\" cells (34)\",\"?: (35)\",\"\\n\\n (36)\",\"( (37)\",\"A (38)\",\") (39)\",\" Fluid (40)\",\" mosaic (41)\",\" model (42)\",\"\\n (43)\",\"( (44)\",\"B (45)\",\") (46)\",\" End (47)\",\"osy (48)\",\"mb (49)\",\"iotic (50)\",\" model (51)\",\"\\n (52)\",\"( (53)\",\"C (54)\",\") (55)\",\" Taxonomic (56)\",\" model (57)\",\"\\n (58)\",\"( (59)\",\"D (60)\",\") (61)\",\" Respiration (62)\",\" feedback (63)\",\" model (64)\",\"\\n (65)\",\"Answer (66)\",\": (67)\",\" ( (68)\"],\"y\":[\"\\u003cbos\\u003e (0)\",\"A (1)\",\" highly (2)\",\" knowledgeable (3)\",\" and (4)\",\" intelligent (5)\",\" AI (6)\",\" answers (7)\",\" multiple (8)\",\"- (9)\",\"choice (10)\",\" questions (11)\",\" about (12)\",\" Biology (13)\",\". (14)\",\" Which (15)\",\" of (16)\",\" the (17)\",\" following (18)\",\" theories (19)\",\" is (20)\",\" based (21)\",\" on (22)\",\" the (23)\",\" notion (24)\",\" that (25)\",\" mitochondria (26)\",\" and (27)\",\" chlor (28)\",\"oplasts (29)\",\" evolved (30)\",\" from (31)\",\" prokary (32)\",\"otic (33)\",\" cells (34)\",\"?: (35)\",\"\\n\\n (36)\",\"( (37)\",\"A (38)\",\") (39)\",\" Fluid (40)\",\" mosaic (41)\",\" model (42)\",\"\\n (43)\",\"( (44)\",\"B (45)\",\") (46)\",\" End (47)\",\"osy (48)\",\"mb (49)\",\"iotic (50)\",\" model (51)\",\"\\n (52)\",\"( (53)\",\"C (54)\",\") (55)\",\" Taxonomic (56)\",\" model (57)\",\"\\n (58)\",\"( (59)\",\"D (60)\",\") (61)\",\" Respiration (62)\",\" feedback (63)\",\" model (64)\",\"\\n (65)\",\"Answer (66)\",\": (67)\",\" ( (68)\"],\"z\":[[1.0,0.0,0.0,0.0,0.0,0.0,0.0,0.0,0.0,0.0,0.0,0.0,0.0,0.0,0.0,0.0,0.0,0.0,0.0,0.0,0.0,0.0,0.0,0.0,0.0,0.0,0.0,0.0,0.0,0.0,0.0,0.0,0.0,0.0,0.0,0.0,0.0,0.0,0.0,0.0,0.0,0.0,0.0,0.0,0.0,0.0,0.0,0.0,0.0,0.0,0.0,0.0,0.0,0.0,0.0,0.0,0.0,0.0,0.0,0.0,0.0,0.0,0.0,0.0,0.0,0.0,0.0,0.0,0.0],[0.9599401354789734,0.040059804916381836,0.0,0.0,0.0,0.0,0.0,0.0,0.0,0.0,0.0,0.0,0.0,0.0,0.0,0.0,0.0,0.0,0.0,0.0,0.0,0.0,0.0,0.0,0.0,0.0,0.0,0.0,0.0,0.0,0.0,0.0,0.0,0.0,0.0,0.0,0.0,0.0,0.0,0.0,0.0,0.0,0.0,0.0,0.0,0.0,0.0,0.0,0.0,0.0,0.0,0.0,0.0,0.0,0.0,0.0,0.0,0.0,0.0,0.0,0.0,0.0,0.0,0.0,0.0,0.0,0.0,0.0,0.0],[0.6904385089874268,0.01206318847835064,0.29749828577041626,0.0,0.0,0.0,0.0,0.0,0.0,0.0,0.0,0.0,0.0,0.0,0.0,0.0,0.0,0.0,0.0,0.0,0.0,0.0,0.0,0.0,0.0,0.0,0.0,0.0,0.0,0.0,0.0,0.0,0.0,0.0,0.0,0.0,0.0,0.0,0.0,0.0,0.0,0.0,0.0,0.0,0.0,0.0,0.0,0.0,0.0,0.0,0.0,0.0,0.0,0.0,0.0,0.0,0.0,0.0,0.0,0.0,0.0,0.0,0.0,0.0,0.0,0.0,0.0,0.0,0.0],[0.894016444683075,0.07447493821382523,0.0027185159269720316,0.028790106996893883,0.0,0.0,0.0,0.0,0.0,0.0,0.0,0.0,0.0,0.0,0.0,0.0,0.0,0.0,0.0,0.0,0.0,0.0,0.0,0.0,0.0,0.0,0.0,0.0,0.0,0.0,0.0,0.0,0.0,0.0,0.0,0.0,0.0,0.0,0.0,0.0,0.0,0.0,0.0,0.0,0.0,0.0,0.0,0.0,0.0,0.0,0.0,0.0,0.0,0.0,0.0,0.0,0.0,0.0,0.0,0.0,0.0,0.0,0.0,0.0,0.0,0.0,0.0,0.0,0.0],[0.7074465751647949,0.01138451136648655,0.06471395492553711,0.04317044839262962,0.17328456044197083,0.0,0.0,0.0,0.0,0.0,0.0,0.0,0.0,0.0,0.0,0.0,0.0,0.0,0.0,0.0,0.0,0.0,0.0,0.0,0.0,0.0,0.0,0.0,0.0,0.0,0.0,0.0,0.0,0.0,0.0,0.0,0.0,0.0,0.0,0.0,0.0,0.0,0.0,0.0,0.0,0.0,0.0,0.0,0.0,0.0,0.0,0.0,0.0,0.0,0.0,0.0,0.0,0.0,0.0,0.0,0.0,0.0,0.0,0.0,0.0,0.0,0.0,0.0,0.0],[0.7914875149726868,0.0743560940027237,0.0030500914435833693,0.10947811603546143,0.002747660968452692,0.018880512565374374,0.0,0.0,0.0,0.0,0.0,0.0,0.0,0.0,0.0,0.0,0.0,0.0,0.0,0.0,0.0,0.0,0.0,0.0,0.0,0.0,0.0,0.0,0.0,0.0,0.0,0.0,0.0,0.0,0.0,0.0,0.0,0.0,0.0,0.0,0.0,0.0,0.0,0.0,0.0,0.0,0.0,0.0,0.0,0.0,0.0,0.0,0.0,0.0,0.0,0.0,0.0,0.0,0.0,0.0,0.0,0.0,0.0,0.0,0.0,0.0,0.0,0.0,0.0],[0.5043662786483765,0.01853717677295208,0.0014670826494693756,0.018116608262062073,0.001327879843302071,0.06485053896903992,0.3913344144821167,0.0,0.0,0.0,0.0,0.0,0.0,0.0,0.0,0.0,0.0,0.0,0.0,0.0,0.0,0.0,0.0,0.0,0.0,0.0,0.0,0.0,0.0,0.0,0.0,0.0,0.0,0.0,0.0,0.0,0.0,0.0,0.0,0.0,0.0,0.0,0.0,0.0,0.0,0.0,0.0,0.0,0.0,0.0,0.0,0.0,0.0,0.0,0.0,0.0,0.0,0.0,0.0,0.0,0.0,0.0,0.0,0.0,0.0,0.0,0.0,0.0,0.0],[0.8535599708557129,0.01830403506755829,0.0004672314098570496,0.0064611416310071945,0.0003372548089828342,0.009146197699010372,0.04119737073779106,0.07052680104970932,0.0,0.0,0.0,0.0,0.0,0.0,0.0,0.0,0.0,0.0,0.0,0.0,0.0,0.0,0.0,0.0,0.0,0.0,0.0,0.0,0.0,0.0,0.0,0.0,0.0,0.0,0.0,0.0,0.0,0.0,0.0,0.0,0.0,0.0,0.0,0.0,0.0,0.0,0.0,0.0,0.0,0.0,0.0,0.0,0.0,0.0,0.0,0.0,0.0,0.0,0.0,0.0,0.0,0.0,0.0,0.0,0.0,0.0,0.0,0.0,0.0],[0.5599370002746582,0.014139920473098755,0.000989220687188208,0.009964212775230408,0.0005771820433437824,0.020466238260269165,0.10050379484891891,0.13843905925750732,0.1549832820892334,0.0,0.0,0.0,0.0,0.0,0.0,0.0,0.0,0.0,0.0,0.0,0.0,0.0,0.0,0.0,0.0,0.0,0.0,0.0,0.0,0.0,0.0,0.0,0.0,0.0,0.0,0.0,0.0,0.0,0.0,0.0,0.0,0.0,0.0,0.0,0.0,0.0,0.0,0.0,0.0,0.0,0.0,0.0,0.0,0.0,0.0,0.0,0.0,0.0,0.0,0.0,0.0,0.0,0.0,0.0,0.0,0.0,0.0,0.0,0.0],[0.8285772204399109,0.002166277961805463,0.0024862615391612053,0.004285466857254505,0.0004914949531666934,0.005685725249350071,0.016305308789014816,0.013460150919854641,0.05605214834213257,0.07048995792865753,0.0,0.0,0.0,0.0,0.0,0.0,0.0,0.0,0.0,0.0,0.0,0.0,0.0,0.0,0.0,0.0,0.0,0.0,0.0,0.0,0.0,0.0,0.0,0.0,0.0,0.0,0.0,0.0,0.0,0.0,0.0,0.0,0.0,0.0,0.0,0.0,0.0,0.0,0.0,0.0,0.0,0.0,0.0,0.0,0.0,0.0,0.0,0.0,0.0,0.0,0.0,0.0,0.0,0.0,0.0,0.0,0.0,0.0,0.0],[0.4549914002418518,0.021337280049920082,0.000609861221164465,0.017793089151382446,0.0004182735865470022,0.03920591622591019,0.13192933797836304,0.1187547892332077,0.11010873317718506,0.004862483590841293,0.09998885542154312,0.0,0.0,0.0,0.0,0.0,0.0,0.0,0.0,0.0,0.0,0.0,0.0,0.0,0.0,0.0,0.0,0.0,0.0,0.0,0.0,0.0,0.0,0.0,0.0,0.0,0.0,0.0,0.0,0.0,0.0,0.0,0.0,0.0,0.0,0.0,0.0,0.0,0.0,0.0,0.0,0.0,0.0,0.0,0.0,0.0,0.0,0.0,0.0,0.0,0.0,0.0,0.0,0.0,0.0,0.0,0.0,0.0,0.0],[0.6313135623931885,0.013934550806879997,0.0010990449227392673,0.008434878662228584,0.0004684303712565452,0.008559232577681541,0.032815732061862946,0.12315164506435394,0.015693169087171555,0.0025691671762615442,0.015927603468298912,0.14603300392627716,0.0,0.0,0.0,0.0,0.0,0.0,0.0,0.0,0.0,0.0,0.0,0.0,0.0,0.0,0.0,0.0,0.0,0.0,0.0,0.0,0.0,0.0,0.0,0.0,0.0,0.0,0.0,0.0,0.0,0.0,0.0,0.0,0.0,0.0,0.0,0.0,0.0,0.0,0.0,0.0,0.0,0.0,0.0,0.0,0.0,0.0,0.0,0.0,0.0,0.0,0.0,0.0,0.0,0.0,0.0,0.0,0.0],[0.7731612920761108,0.004767893813550472,0.0005511834169737995,0.0016902820207178593,6.710259185638279e-05,0.0029769781976938248,0.06915217638015747,0.02035471983253956,0.004835918080061674,0.0005162002635188401,0.01069449633359909,0.003757515223696828,0.10747428983449936,0.0,0.0,0.0,0.0,0.0,0.0,0.0,0.0,0.0,0.0,0.0,0.0,0.0,0.0,0.0,0.0,0.0,0.0,0.0,0.0,0.0,0.0,0.0,0.0,0.0,0.0,0.0,0.0,0.0,0.0,0.0,0.0,0.0,0.0,0.0,0.0,0.0,0.0,0.0,0.0,0.0,0.0,0.0,0.0,0.0,0.0,0.0,0.0,0.0,0.0,0.0,0.0,0.0,0.0,0.0,0.0],[0.40147116780281067,0.0023295143619179726,0.0003811125352513045,0.0010306818876415491,7.208027818705887e-05,0.0011153408559039235,0.01887352578341961,0.0035758360754698515,0.005045595113188028,0.0011917812516912818,0.018359726294875145,0.06742536276578903,0.027283720672130585,0.4518445134162903,0.0,0.0,0.0,0.0,0.0,0.0,0.0,0.0,0.0,0.0,0.0,0.0,0.0,0.0,0.0,0.0,0.0,0.0,0.0,0.0,0.0,0.0,0.0,0.0,0.0,0.0,0.0,0.0,0.0,0.0,0.0,0.0,0.0,0.0,0.0,0.0,0.0,0.0,0.0,0.0,0.0,0.0,0.0,0.0,0.0,0.0,0.0,0.0,0.0,0.0,0.0,0.0,0.0,0.0,0.0],[0.3428211808204651,0.005759336519986391,0.0006254902109503746,0.002193180611357093,0.00036773181636817753,0.001718347193673253,0.1248469352722168,0.019542519003152847,0.0034459431190043688,0.0015739600639790297,0.01792643964290619,0.00846049003303051,0.009107079356908798,0.04648449644446373,0.41512686014175415,0.0,0.0,0.0,0.0,0.0,0.0,0.0,0.0,0.0,0.0,0.0,0.0,0.0,0.0,0.0,0.0,0.0,0.0,0.0,0.0,0.0,0.0,0.0,0.0,0.0,0.0,0.0,0.0,0.0,0.0,0.0,0.0,0.0,0.0,0.0,0.0,0.0,0.0,0.0,0.0,0.0,0.0,0.0,0.0,0.0,0.0,0.0,0.0,0.0,0.0,0.0,0.0,0.0,0.0],[0.23289640247821808,0.0016795338597148657,0.0009946012869477272,0.0031052776612341404,0.000317027181154117,0.0034203692339360714,0.05288488417863846,0.01160101406276226,0.009766209870576859,0.002362253610044718,0.046822838485240936,0.0043290783651173115,0.021575450897216797,0.1544756144285202,0.1532820463180542,0.3004874289035797,0.0,0.0,0.0,0.0,0.0,0.0,0.0,0.0,0.0,0.0,0.0,0.0,0.0,0.0,0.0,0.0,0.0,0.0,0.0,0.0,0.0,0.0,0.0,0.0,0.0,0.0,0.0,0.0,0.0,0.0,0.0,0.0,0.0,0.0,0.0,0.0,0.0,0.0,0.0,0.0,0.0,0.0,0.0,0.0,0.0,0.0,0.0,0.0,0.0,0.0,0.0,0.0,0.0],[0.17457279562950134,0.0005421212408691645,0.00018386193551123142,0.0002595416153781116,3.6978199204895645e-05,0.0003132102719973773,0.03845774009823799,0.07995638996362686,0.0009527531801722944,0.0004470441199373454,0.005704907234758139,0.0023437736090272665,0.04792994633316994,0.03168639913201332,0.342113196849823,0.048178039491176605,0.22632138431072235,0.0,0.0,0.0,0.0,0.0,0.0,0.0,0.0,0.0,0.0,0.0,0.0,0.0,0.0,0.0,0.0,0.0,0.0,0.0,0.0,0.0,0.0,0.0,0.0,0.0,0.0,0.0,0.0,0.0,0.0,0.0,0.0,0.0,0.0,0.0,0.0,0.0,0.0,0.0,0.0,0.0,0.0,0.0,0.0,0.0,0.0,0.0,0.0,0.0,0.0,0.0,0.0],[0.09694772213697433,0.002931499620899558,0.0018011280335485935,0.004199462477117777,0.0007804680499248207,0.0035074586048722267,0.02832990512251854,0.005227656103670597,0.009856405667960644,0.0033188387751579285,0.05096209794282913,0.0038831380661576986,0.023482514545321465,0.11359477043151855,0.06824222952127457,0.36913001537323,0.027290409430861473,0.18651430308818817,0.0,0.0,0.0,0.0,0.0,0.0,0.0,0.0,0.0,0.0,0.0,0.0,0.0,0.0,0.0,0.0,0.0,0.0,0.0,0.0,0.0,0.0,0.0,0.0,0.0,0.0,0.0,0.0,0.0,0.0,0.0,0.0,0.0,0.0,0.0,0.0,0.0,0.0,0.0,0.0,0.0,0.0,0.0,0.0,0.0,0.0,0.0,0.0,0.0,0.0,0.0],[0.11247364431619644,0.0009118366870097816,0.0003688006545417011,0.004079416394233704,0.0004346644564066082,0.004719412885606289,0.0315895676612854,0.007858242839574814,0.01730155199766159,0.0030268989503383636,0.07067016512155533,0.0056091779842972755,0.01245860755443573,0.08408848941326141,0.06658954173326492,0.3516250550746918,0.007781635969877243,0.056148771196603775,0.16226451098918915,0.0,0.0,0.0,0.0,0.0,0.0,0.0,0.0,0.0,0.0,0.0,0.0,0.0,0.0,0.0,0.0,0.0,0.0,0.0,0.0,0.0,0.0,0.0,0.0,0.0,0.0,0.0,0.0,0.0,0.0,0.0,0.0,0.0,0.0,0.0,0.0,0.0,0.0,0.0,0.0,0.0,0.0,0.0,0.0,0.0,0.0,0.0,0.0,0.0,0.0],[0.22894133627414703,0.0005710555124096572,0.0003684554831124842,0.0007687404868192971,0.00026119494577869773,0.0006927693611942232,0.0065797362476587296,0.01700502820312977,0.0008486072765663266,0.00019869337847921997,0.0010028484975919127,0.014240823686122894,0.010465011931955814,0.003454948775470257,0.0419008694589138,0.033735379576683044,0.055225543677806854,0.009120021015405655,0.048738762736320496,0.5258801579475403,0.0,0.0,0.0,0.0,0.0,0.0,0.0,0.0,0.0,0.0,0.0,0.0,0.0,0.0,0.0,0.0,0.0,0.0,0.0,0.0,0.0,0.0,0.0,0.0,0.0,0.0,0.0,0.0,0.0,0.0,0.0,0.0,0.0,0.0,0.0,0.0,0.0,0.0,0.0,0.0,0.0,0.0,0.0,0.0,0.0,0.0,0.0,0.0,0.0],[0.11854024976491928,0.0006205867393873632,0.00017423676035832614,0.0007619161042384803,8.094498480204493e-05,0.0005807640263810754,0.019462956115603447,0.041749171912670135,0.0007205422152765095,0.0002177437418140471,0.002205128548666835,0.0037578565534204245,0.01635054126381874,0.01427226047962904,0.2041100412607193,0.03633800148963928,0.21007007360458374,0.005864300765097141,0.00810916442424059,0.03807269036769867,0.2779407501220703,0.0,0.0,0.0,0.0,0.0,0.0,0.0,0.0,0.0,0.0,0.0,0.0,0.0,0.0,0.0,0.0,0.0,0.0,0.0,0.0,0.0,0.0,0.0,0.0,0.0,0.0,0.0,0.0,0.0,0.0,0.0,0.0,0.0,0.0,0.0,0.0,0.0,0.0,0.0,0.0,0.0,0.0,0.0,0.0,0.0,0.0,0.0,0.0],[0.3775324523448944,0.0019608878064900637,0.001014904584735632,0.0023304482456296682,0.0008334929589182138,0.0014180599246174097,0.005864487029612064,0.009587573818862438,0.0021428479813039303,0.0007479559280909598,0.003492724848911166,0.02737957239151001,0.011310610920190811,0.015805330127477646,0.04778467118740082,0.04308787360787392,0.02156364545226097,0.014962056651711464,0.024035131558775902,0.09101532399654388,0.18956777453422546,0.10656218975782394,0.0,0.0,0.0,0.0,0.0,0.0,0.0,0.0,0.0,0.0,0.0,0.0,0.0,0.0,0.0,0.0,0.0,0.0,0.0,0.0,0.0,0.0,0.0,0.0,0.0,0.0,0.0,0.0,0.0,0.0,0.0,0.0,0.0,0.0,0.0,0.0,0.0,0.0,0.0,0.0,0.0,0.0,0.0,0.0,0.0,0.0,0.0],[0.2865811884403229,0.0005937943933531642,0.0004322484601289034,0.0007674976368434727,8.411207818426192e-05,0.0005429154261946678,0.01618497259914875,0.00812677200883627,0.0017599924467504025,0.0011941115371882915,0.006606067530810833,0.0021712558809667826,0.012880838476121426,0.02325858175754547,0.11199680715799332,0.020818473771214485,0.03629705309867859,0.005133550614118576,0.006028937175869942,0.01202950719743967,0.030828095972537994,0.004138643853366375,0.4115446209907532,0.0,0.0,0.0,0.0,0.0,0.0,0.0,0.0,0.0,0.0,0.0,0.0,0.0,0.0,0.0,0.0,0.0,0.0,0.0,0.0,0.0,0.0,0.0,0.0,0.0,0.0,0.0,0.0,0.0,0.0,0.0,0.0,0.0,0.0,0.0,0.0,0.0,0.0,0.0,0.0,0.0,0.0,0.0,0.0,0.0,0.0],[0.24297776818275452,0.0025078640319406986,0.0005600026343017817,0.0011885488638654351,0.00026246681227348745,0.0015421191928908229,0.020272554829716682,0.001395082683302462,0.0017241326859220862,0.001128409756347537,0.015103341080248356,0.0009361497941426933,0.012287784367799759,0.035851236432790756,0.06627581268548965,0.03720502182841301,0.0034206495620310307,0.032245274633169174,0.018516791984438896,0.0059473877772688866,0.012417396530508995,0.0019627022556960583,0.2648870348930359,0.21938447654247284,0.0,0.0,0.0,0.0,0.0,0.0,0.0,0.0,0.0,0.0,0.0,0.0,0.0,0.0,0.0,0.0,0.0,0.0,0.0,0.0,0.0,0.0,0.0,0.0,0.0,0.0,0.0,0.0,0.0,0.0,0.0,0.0,0.0,0.0,0.0,0.0,0.0,0.0,0.0,0.0,0.0,0.0,0.0,0.0,0.0],[0.4506964683532715,0.0007404879434034228,0.0005605422193184495,0.0015190441627055407,0.00035384242073632777,0.00144975446164608,0.007639567367732525,0.011296190321445465,0.0018223202787339687,0.0009583160281181335,0.004335347563028336,0.017994016408920288,0.022561660036444664,0.013777513988316059,0.05687263235449791,0.053032319992780685,0.024497848004102707,0.014093455858528614,0.018265817314386368,0.026376817375421524,0.026971515268087387,0.03316986560821533,0.040916744619607925,0.01358489878475666,0.156513050198555,0.0,0.0,0.0,0.0,0.0,0.0,0.0,0.0,0.0,0.0,0.0,0.0,0.0,0.0,0.0,0.0,0.0,0.0,0.0,0.0,0.0,0.0,0.0,0.0,0.0,0.0,0.0,0.0,0.0,0.0,0.0,0.0,0.0,0.0,0.0,0.0,0.0,0.0,0.0,0.0,0.0,0.0,0.0,0.0],[0.28598958253860474,0.0008168367203325033,0.0004347898066043854,0.0013154782354831696,0.00017234538972843438,0.0032528075389564037,0.04219847172498703,0.010797135531902313,0.0013989824801683426,0.00045237792073749006,0.004602473694831133,0.0032571284100413322,0.024889638647437096,0.042919088155031204,0.05917377397418022,0.03673684224486351,0.01418923120945692,0.005115481559187174,0.013019059784710407,0.00959651730954647,0.013425212353467941,0.0025527402758598328,0.055824145674705505,0.004490013234317303,0.007828803732991219,0.3555510938167572,0.0,0.0,0.0,0.0,0.0,0.0,0.0,0.0,0.0,0.0,0.0,0.0,0.0,0.0,0.0,0.0,0.0,0.0,0.0,0.0,0.0,0.0,0.0,0.0,0.0,0.0,0.0,0.0,0.0,0.0,0.0,0.0,0.0,0.0,0.0,0.0,0.0,0.0,0.0,0.0,0.0,0.0,0.0],[0.5236632823944092,0.00038464885437861085,0.00023192481603473425,0.0001988094300031662,6.851853686384857e-05,0.00020374699670355767,0.003993702121078968,0.0003007649793289602,0.000334245094563812,0.0003117998130619526,0.0011345248203724623,0.005286217201501131,0.0014111340278759599,0.015484576113522053,0.004360519349575043,0.003431579563766718,0.0009196112514473498,0.0011594705283641815,0.002621182007715106,0.01634982042014599,0.005042478907853365,0.005521800369024277,0.0053790961392223835,0.0017905525164678693,0.012543374672532082,0.01690433919429779,0.3709683120250702,0.0,0.0,0.0,0.0,0.0,0.0,0.0,0.0,0.0,0.0,0.0,0.0,0.0,0.0,0.0,0.0,0.0,0.0,0.0,0.0,0.0,0.0,0.0,0.0,0.0,0.0,0.0,0.0,0.0,0.0,0.0,0.0,0.0,0.0,0.0,0.0,0.0,0.0,0.0,0.0,0.0,0.0],[0.45395365357398987,0.00042040340485982597,6.114129791967571e-05,0.0002493363863322884,2.6005427571362816e-05,0.00023116818920243531,0.0025552092120051384,0.0003336226800456643,0.00011997091496596113,6.810269405832514e-05,0.00017374251910950989,9.049145592143759e-05,0.002508200705051422,0.002076933393254876,0.005439080763608217,0.0034009641967713833,0.0006606507813557982,0.0013376942370086908,0.0006724424893036485,0.0004992299946025014,0.0006287291762419045,0.0002644862106535584,0.004844089038670063,0.00111652840860188,0.0012283041141927242,0.024303708225488663,0.022839011624455452,0.46989718079566956,0.0,0.0,0.0,0.0,0.0,0.0,0.0,0.0,0.0,0.0,0.0,0.0,0.0,0.0,0.0,0.0,0.0,0.0,0.0,0.0,0.0,0.0,0.0,0.0,0.0,0.0,0.0,0.0,0.0,0.0,0.0,0.0,0.0,0.0,0.0,0.0,0.0,0.0,0.0,0.0,0.0],[0.9846174716949463,2.6570613044896163e-05,1.6695441445335746e-05,1.642760616960004e-05,4.762626758747501e-06,2.374249743297696e-05,0.0006846452597528696,2.1985375497024506e-05,1.5402725694002584e-05,3.909305451088585e-05,2.3579983462695964e-05,4.503652598941699e-05,6.709315493935719e-05,0.00014276466390583664,0.0004351791285444051,0.00022085057571530342,0.0001033333464874886,5.377222987590358e-05,6.267687422223389e-05,0.00018465168250259012,6.787185702705756e-05,0.00013888138346374035,0.00010971354640787467,1.115375471272273e-05,0.0002644730848260224,0.0009112220723181963,0.004007297568023205,0.005465604364871979,0.0022182518150657415,0.0,0.0,0.0,0.0,0.0,0.0,0.0,0.0,0.0,0.0,0.0,0.0,0.0,0.0,0.0,0.0,0.0,0.0,0.0,0.0,0.0,0.0,0.0,0.0,0.0,0.0,0.0,0.0,0.0,0.0,0.0,0.0,0.0,0.0,0.0,0.0,0.0,0.0,0.0,0.0],[0.43680500984191895,0.00028961841599084437,0.00012038875138387084,9.923386096488684e-05,8.751538553042337e-05,0.00011214234109502286,0.0014714238932356238,0.00011141723371110857,9.331800538348034e-05,5.209456503507681e-05,0.00012468884233385324,0.0023127112071961164,0.0007624973659403622,0.006517048925161362,0.0021166480146348476,0.002739907708019018,0.0005601975717581809,0.000800793175585568,0.0016884282231330872,0.012787384912371635,0.0024115692358464003,0.004901150707155466,0.001401306944899261,0.00071427266811952,0.01763102225959301,0.006727530155330896,0.25235357880592346,0.0316346101462841,0.003228039713576436,0.20934437215328217,0.0,0.0,0.0,0.0,0.0,0.0,0.0,0.0,0.0,0.0,0.0,0.0,0.0,0.0,0.0,0.0,0.0,0.0,0.0,0.0,0.0,0.0,0.0,0.0,0.0,0.0,0.0,0.0,0.0,0.0,0.0,0.0,0.0,0.0,0.0,0.0,0.0,0.0,0.0],[0.21624703705310822,0.00047637088573537767,0.00014001003000885248,0.0002880937827285379,0.0001075137552106753,0.0004081145452801138,0.0021048225462436676,0.00046448668581433594,0.0002716519229579717,0.00016053699073381722,0.00020183721790090203,0.0021056204568594694,0.0015827948227524757,0.0032451595179736614,0.003339282935485244,0.004609441384673119,0.0006408345070667565,0.0011097613023594022,0.0016479642363265157,0.004781420808285475,0.0031191580928862095,0.01003040187060833,0.003902649274095893,0.0019358558347448707,0.018436793237924576,0.020133690908551216,0.04518948495388031,0.018242357298731804,0.0020318373572081327,0.051120370626449585,0.5819246768951416,0.0,0.0,0.0,0.0,0.0,0.0,0.0,0.0,0.0,0.0,0.0,0.0,0.0,0.0,0.0,0.0,0.0,0.0,0.0,0.0,0.0,0.0,0.0,0.0,0.0,0.0,0.0,0.0,0.0,0.0,0.0,0.0,0.0,0.0,0.0,0.0,0.0,0.0],[0.25663870573043823,0.0003558841999620199,8.530288323527202e-05,0.00013029458932578564,2.3888254872872494e-05,0.00012748356675729156,0.0012488261563703418,0.0003063477051910013,0.00020050987950526178,0.00012001377035630867,0.00014118466060608625,6.0404232499422505e-05,0.0013639425160363317,0.0012404497247189283,0.001498386380262673,0.0011610012734308839,0.0007118460489436984,0.0004911005380563438,0.00034560522180981934,0.00027858593966811895,0.000556593295186758,0.0002690242836251855,0.0036767791025340557,0.0007070906576700509,0.0009935804409906268,0.012631525285542011,0.020111549645662308,0.023115750402212143,0.002101364778354764,0.007563538383692503,0.008478892967104912,0.6532645225524902,0.0,0.0,0.0,0.0,0.0,0.0,0.0,0.0,0.0,0.0,0.0,0.0,0.0,0.0,0.0,0.0,0.0,0.0,0.0,0.0,0.0,0.0,0.0,0.0,0.0,0.0,0.0,0.0,0.0,0.0,0.0,0.0,0.0,0.0,0.0,0.0,0.0],[0.9719897508621216,4.801081740879454e-05,6.372688949340954e-05,0.0001642642600927502,5.13860177306924e-05,0.00014685104542877525,0.000882943335454911,2.766199759207666e-05,4.506819823291153e-05,5.827598215546459e-05,4.727423220174387e-05,5.659107773681171e-05,2.779941314656753e-05,0.00012692691234406084,0.00018723301764111966,0.0005006297724321485,2.7428308385424316e-05,0.00010515669418964535,0.0002543393347878009,0.00022357948182616383,8.906744187697768e-05,0.00026583578437566757,9.849855268839747e-05,1.9027067537535913e-05,0.00041589903412386775,0.0006075688870623708,0.0013906011590734124,0.00024642361677251756,0.0002513054932933301,0.001530335401184857,0.0014844759134575725,0.007510577794164419,0.011055370792746544,0.0,0.0,0.0,0.0,0.0,0.0,0.0,0.0,0.0,0.0,0.0,0.0,0.0,0.0,0.0,0.0,0.0,0.0,0.0,0.0,0.0,0.0,0.0,0.0,0.0,0.0,0.0,0.0,0.0,0.0,0.0,0.0,0.0,0.0,0.0,0.0],[0.19822506606578827,0.00014898664085194468,1.5527961295447312e-05,0.0001457835896871984,1.0141007805941626e-05,0.0001429388066753745,0.0013426968362182379,5.448043884825893e-05,9.049950313055888e-05,2.0449542716960423e-05,0.0001704200985841453,3.9640730392420664e-05,0.0003933202533517033,0.0009773955680429935,0.000598748738411814,0.0008230660459958017,6.405360909411684e-05,0.000320681108860299,0.0001832301204558462,5.101181523059495e-05,5.606603735941462e-05,6.901799497427419e-05,0.0003613941662479192,0.0003529209934640676,0.00011944942525587976,0.0034171813167631626,0.01709076017141342,0.011454274877905846,0.0009465435869060457,0.012197130359709263,0.018460890278220177,0.5527436137199402,0.018386775627732277,0.160525843501091,0.0,0.0,0.0,0.0,0.0,0.0,0.0,0.0,0.0,0.0,0.0,0.0,0.0,0.0,0.0,0.0,0.0,0.0,0.0,0.0,0.0,0.0,0.0,0.0,0.0,0.0,0.0,0.0,0.0,0.0,0.0,0.0,0.0,0.0,0.0],[0.36609357595443726,0.0006218914641067386,0.0001553497713757679,0.00034598817001096904,0.00010580283560557291,0.00021598806779365987,0.0012999068712815642,0.0002583039167802781,4.107911809114739e-05,5.4483305575558916e-05,0.00010600271343719214,0.0075790355913341045,0.00039971977821551263,0.0022945122327655554,0.007167122792452574,0.0028751033823937178,0.010558126494288445,0.0008068296010605991,0.001420882297679782,0.025209514424204826,0.019906839355826378,0.009237546473741531,0.00296250288374722,0.00037329329643398523,0.040019821375608444,0.00635822769254446,0.02397249825298786,0.003424313385039568,0.0007013360736891627,0.030140051618218422,0.10313496738672256,0.1395111382007599,0.009726567193865776,0.04901771619915962,0.13390398025512695,0.0,0.0,0.0,0.0,0.0,0.0,0.0,0.0,0.0,0.0,0.0,0.0,0.0,0.0,0.0,0.0,0.0,0.0,0.0,0.0,0.0,0.0,0.0,0.0,0.0,0.0,0.0,0.0,0.0,0.0,0.0,0.0,0.0,0.0],[0.46062278747558594,0.0009104666532948613,0.0004037794715259224,0.00027516938280314207,0.0002636509307194501,0.000316173885948956,0.0034298186656087637,0.00044872172293253243,0.00022051612904760987,0.0002057337696896866,0.0005996777326799929,0.0013271452626213431,0.0009478684514760971,0.0037465225905179977,0.008676244877278805,0.0035607425961643457,0.00460013234987855,0.0018049681093543768,0.000615011784248054,0.0044525605626404285,0.00530814565718174,0.0023274137638509274,0.009833197109401226,0.0036665729712694883,0.012889694422483444,0.006618494633585215,0.07748005539178848,0.004713680595159531,0.001152786542661488,0.009677588939666748,0.004733142908662558,0.04127665236592293,0.0024745461996644735,0.021485965698957443,0.023777708411216736,0.27515673637390137,0.0,0.0,0.0,0.0,0.0,0.0,0.0,0.0,0.0,0.0,0.0,0.0,0.0,0.0,0.0,0.0,0.0,0.0,0.0,0.0,0.0,0.0,0.0,0.0,0.0,0.0,0.0,0.0,0.0,0.0,0.0,0.0,0.0],[0.20097145438194275,0.0009010672802105546,0.00022203200205694884,0.0001422930508852005,9.02722094906494e-05,0.00024610463879071176,0.0036954288370907307,0.0006017673294991255,0.0001151243268395774,0.0002152237866539508,0.000251877325354144,0.0011864773696288466,0.0014406628906726837,0.0025776131078600883,0.014471760019659996,0.002037529833614826,0.0030838751699775457,0.0008874490740709007,0.00037925748620182276,0.0030788909643888474,0.0029710924718528986,0.00028166311676613986,0.00941947940737009,0.001041375333443284,0.0011822377564385533,0.00530226668342948,0.025041373446583748,0.004222399555146694,0.001395183033309877,0.0022507193498313427,0.0007838341989554465,0.031039245426654816,0.0010940723586827517,0.017978893592953682,0.01863311603665352,0.5755314230918884,0.0652354285120964,0.0,0.0,0.0,0.0,0.0,0.0,0.0,0.0,0.0,0.0,0.0,0.0,0.0,0.0,0.0,0.0,0.0,0.0,0.0,0.0,0.0,0.0,0.0,0.0,0.0,0.0,0.0,0.0,0.0,0.0,0.0,0.0],[0.4973682463169098,0.0008434122428297997,0.0004996094503439963,0.00021176606242079288,0.0001249472697963938,0.00019507361866999418,0.0036285643000155687,0.0022633327171206474,0.0009777821833267808,0.0015989179955795407,0.002697375137358904,0.005611531436443329,0.003922031726688147,0.01330102700740099,0.01606045663356781,0.010152152739465237,0.006567477714270353,0.005511705297976732,0.004496648442000151,0.01082407683134079,0.013287248089909554,0.001982223242521286,0.007335506845265627,0.0010660947300493717,0.0034518218599259853,0.0054725222289562225,0.01933562010526657,0.00368002662435174,0.001115152146667242,0.0038188896141946316,0.0013774533290416002,0.01767141744494438,0.002374659525230527,0.013037888333201408,0.009852518327534199,0.1060972809791565,0.03122534230351448,0.17096219956874847,0.0,0.0,0.0,0.0,0.0,0.0,0.0,0.0,0.0,0.0,0.0,0.0,0.0,0.0,0.0,0.0,0.0,0.0,0.0,0.0,0.0,0.0,0.0,0.0,0.0,0.0,0.0,0.0,0.0,0.0,0.0],[0.6402425765991211,0.002723091747611761,0.0005466832080855966,0.0015212488360702991,0.0009141588816419244,0.001121477223932743,0.004623670130968094,0.0014460907550528646,0.0008333101286552846,0.003687146119773388,0.005938991438597441,0.0039625889621675014,0.005929950159043074,0.007440331857651472,0.014029119163751602,0.005141319707036018,0.0008466072613373399,0.00190159201156348,0.001992222387343645,0.002122551901265979,0.003155964659526944,0.00033323714160360396,0.004486682824790478,0.002433145185932517,0.001221399987116456,0.005470219533890486,0.017626915127038956,0.047877512872219086,0.005103811156004667,0.005721118301153183,0.0007288305787369609,0.04757288843393326,0.004461047239601612,0.010626913979649544,0.00417737290263176,0.04881955683231354,0.0038830486591905355,0.02021818421781063,0.059117529541254044,0.0,0.0,0.0,0.0,0.0,0.0,0.0,0.0,0.0,0.0,0.0,0.0,0.0,0.0,0.0,0.0,0.0,0.0,0.0,0.0,0.0,0.0,0.0,0.0,0.0,0.0,0.0,0.0,0.0,0.0],[0.6454130411148071,0.0006756101502105594,0.0005541511345654726,0.0006112742703408003,0.0002876848157029599,0.0003235005133319646,0.0025007878430187702,0.0001483254600316286,0.0002362797677051276,0.0005314463051036,0.0007057476905174553,0.0002466461737640202,0.0018439660780131817,0.0018475509714335203,0.005401207134127617,0.0038255939725786448,0.0016694136429578066,0.0010425421642139554,0.0007348762592300773,0.0015648575499653816,0.0025010346435010433,0.0009610505076125264,0.008722898550331593,0.0025004479102790356,0.0023103109560906887,0.0058943587355315685,0.01815926283597946,0.004839201457798481,0.001149775111116469,0.0075300754979252815,0.003487497800961137,0.029606224969029427,0.001857713796198368,0.004949798807501793,0.0053476872853934765,0.03533310815691948,0.005621830467134714,0.003619691589847207,0.007966762408614159,0.17747673392295837,0.0,0.0,0.0,0.0,0.0,0.0,0.0,0.0,0.0,0.0,0.0,0.0,0.0,0.0,0.0,0.0,0.0,0.0,0.0,0.0,0.0,0.0,0.0,0.0,0.0,0.0,0.0,0.0,0.0],[0.9431920051574707,0.0001371938269585371,0.00014668918447569013,0.0001624404249014333,0.00010676090460037813,7.916955655673519e-05,0.0002795699401758611,4.400400484882994e-06,1.573981535329949e-05,5.217416037339717e-05,5.846534259035252e-05,3.332150663482025e-05,4.0903487388277426e-05,0.0003026298654731363,0.00038099984521977603,0.0004550132143776864,1.9068476831307635e-05,5.872227484360337e-05,7.882804493419826e-05,7.520685176132247e-05,7.106981502147391e-05,0.00011942066339543089,0.00021926751651335508,0.00015617275494150817,0.00012331598554737866,0.00020957538799848408,0.0003814406809397042,0.0002274843427585438,7.69436446717009e-05,0.00016676969244144857,0.00012884614989161491,0.0010791248641908169,0.0001669389894232154,0.00026639251154847443,0.00017332805145997554,0.0009391586645506322,0.000319889368256554,0.0003820375422947109,0.0005322276847437024,0.004924595355987549,0.04365675151348114,0.0,0.0,0.0,0.0,0.0,0.0,0.0,0.0,0.0,0.0,0.0,0.0,0.0,0.0,0.0,0.0,0.0,0.0,0.0,0.0,0.0,0.0,0.0,0.0,0.0,0.0,0.0,0.0],[0.6027058362960815,0.0014844521647319198,0.0008270340622402728,0.001682595582678914,0.0006152436835691333,0.0014409596333280206,0.003736020065844059,0.00043334192014299333,0.00029648642521351576,0.0003003168967552483,0.0028599135112017393,0.0022547689732164145,0.0006306866998784244,0.0031342932488769293,0.008971276693046093,0.007367148995399475,0.0006330262403935194,0.0016491616843268275,0.0028460549656301737,0.0018329838057979941,0.001937716268002987,0.0023923676926642656,0.002729592612013221,0.00179027090780437,0.0038015549071133137,0.007493658922612667,0.005423881113529205,0.002573583275079727,0.0004936117911711335,0.003084530821070075,0.003040191251784563,0.013158269226551056,0.000635834876447916,0.003977891989052296,0.006068657152354717,0.022329071536660194,0.011116467416286469,0.004249947145581245,0.020213952288031578,0.06300149857997894,0.11751529574394226,0.05727054551243782,0.0,0.0,0.0,0.0,0.0,0.0,0.0,0.0,0.0,0.0,0.0,0.0,0.0,0.0,0.0,0.0,0.0,0.0,0.0,0.0,0.0,0.0,0.0,0.0,0.0,0.0,0.0],[0.15582454204559326,0.0019362438470125198,5.924419383518398e-05,0.0003595201706048101,6.659161590505391e-05,0.00010524559911573306,0.0006548903766088188,0.00011817405174952,7.711907528573647e-06,1.1948673090955708e-05,8.314749720739201e-05,0.0005071853520348668,0.00039220720645971596,0.0013921206118538976,0.0059995027258992195,0.0015581632032990456,0.0038690268993377686,0.0008640279993414879,0.0003747892624232918,0.0019143212120980024,0.001801702775992453,0.0003155370650347322,0.0020889807492494583,0.001586984028108418,0.0023494858760386705,0.0020193890668451786,0.0015304539119824767,0.0027341870591044426,0.00030701266950927675,0.0008153313538059592,0.0006597306346520782,0.008074435405433178,0.00029347045347094536,0.0012645409442484379,0.005135806743055582,0.23198924958705902,0.04746570810675621,0.0049635982140898705,0.04969001188874245,0.2171783596277237,0.0149304224178195,0.010620051063597202,0.2160869538784027,0.0,0.0,0.0,0.0,0.0,0.0,0.0,0.0,0.0,0.0,0.0,0.0,0.0,0.0,0.0,0.0,0.0,0.0,0.0,0.0,0.0,0.0,0.0,0.0,0.0,0.0],[0.1901540905237198,0.0008608814096078277,0.00017836201004683971,0.00038468517595902085,0.00029473297763615847,0.00024251289141830057,0.002044431399554014,0.0005385809927247465,3.189271956216544e-05,8.409499423578382e-05,0.00014299611211754382,0.0008875609491951764,0.0005238308804109693,0.0019850952085107565,0.009729785844683647,0.0019168611615896225,0.0024947053752839565,0.0005755312740802765,0.00032162349089048803,0.004039309453219175,0.002356196055188775,0.00015791167970746756,0.003590731881558895,0.0015548706287518144,0.0010690153576433659,0.0016362564638257027,0.010598218999803066,0.006604334805160761,0.0011521228589117527,0.0020250945817679167,0.0006623376975767314,0.01618850603699684,0.0010057479375973344,0.004432084038853645,0.01044083945453167,0.12344590574502945,0.03876885771751404,0.00498378137126565,0.005716397892683744,0.1265314519405365,0.005252630449831486,0.01505363080650568,0.22356799244880676,0.17577354609966278,0.0,0.0,0.0,0.0,0.0,0.0,0.0,0.0,0.0,0.0,0.0,0.0,0.0,0.0,0.0,0.0,0.0,0.0,0.0,0.0,0.0,0.0,0.0,0.0,0.0],[0.6018261313438416,0.0006582666537724435,0.0005336917820386589,0.00018628124962560833,0.0006986240623518825,0.0001022370852297172,0.00047068161075003445,0.0006204219534993172,0.00015380380500573665,0.000259871972957626,0.0001850543631007895,0.0003289306187070906,0.000142345015774481,0.000423934543505311,0.0006145672523416579,0.0008487784070894122,0.001649588579311967,0.00046491704415529966,0.00034059665631502867,0.004131675697863102,0.002611035481095314,0.0008775641326792538,0.0011273305863142014,0.00031398292048834264,0.0009544751956127584,0.0003576045564841479,0.0025008907541632652,0.0018240545177832246,0.0001852680288720876,0.0008900347747839987,0.00018161878688260913,0.002209617756307125,0.0004898302140645683,0.0009330678731203079,0.002934071933850646,0.0042516132816672325,0.0020091666374355555,0.027570383623242378,0.06327199935913086,0.0160161592066288,0.008243340067565441,0.008163579739630222,0.03406175971031189,0.13964012265205383,0.06374100595712662,0.0,0.0,0.0,0.0,0.0,0.0,0.0,0.0,0.0,0.0,0.0,0.0,0.0,0.0,0.0,0.0,0.0,0.0,0.0,0.0,0.0,0.0,0.0,0.0],[0.234638974070549,0.0002907694142777473,4.776152127305977e-05,7.52818668843247e-05,0.00011992333747912198,9.390824561705813e-05,0.001972014782950282,0.0006376613746397197,0.00014545708836521953,0.00036051517236046493,0.0005132130463607609,0.00035879589268006384,0.00223501562140882,0.0007509672432206571,0.0016626834403723478,0.0008337835897691548,0.00031991227297112346,0.00043590646237134933,0.0005068830796517432,0.0016960486536845565,0.0034856873098760843,0.0001569109153933823,0.007635721005499363,0.002362910658121109,0.0002631507522892207,0.0017358926124870777,0.02544887363910675,0.0828617736697197,0.005976240616291761,0.0075826202519237995,0.0005150905344635248,0.07943915575742722,0.003764569293707609,0.028436332941055298,0.002909056143835187,0.05505536496639252,0.0012739697704091668,0.004150875378400087,0.0038446388207376003,0.3514185845851898,0.011237053200602531,0.0013769966317340732,0.002651546150445938,0.009431960061192513,0.022129172459244728,0.037160445004701614,0.0,0.0,0.0,0.0,0.0,0.0,0.0,0.0,0.0,0.0,0.0,0.0,0.0,0.0,0.0,0.0,0.0,0.0,0.0,0.0,0.0,0.0,0.0],[0.6623586416244507,0.0003119229804724455,0.00023606517061125487,0.00019687665917444974,0.00017084025603253394,0.00014095308142714202,0.0017522535054013133,0.00010595619824016467,0.00013683702854905277,0.00017677151481620967,0.0005029059248045087,5.5251159210456535e-05,0.0021861211862415075,0.0014849817380309105,0.0017736811423674226,0.001982963178306818,0.00014930509496480227,0.0005672643892467022,0.000369083893019706,0.0003942243056371808,0.0006193466251716018,0.0002840709639713168,0.008292672224342823,0.0020444667898118496,0.0007852230337448418,0.005743741057813168,0.01818103902041912,0.007546625565737486,0.00046297270455397666,0.00370653229765594,0.0009055323316715658,0.028567614033818245,0.0006524085183627903,0.0044434634037315845,0.0006831217906437814,0.01335407979786396,0.0004953775787726045,0.00037361658178269863,0.000392536458093673,0.0990888699889183,0.006337447557598352,0.0012437774566933513,0.0012207538820803165,0.00046198780182749033,0.00026102931587956846,0.0032858620397746563,0.11551282554864883,0.0,0.0,0.0,0.0,0.0,0.0,0.0,0.0,0.0,0.0,0.0,0.0,0.0,0.0,0.0,0.0,0.0,0.0,0.0,0.0,0.0,0.0],[0.965747594833374,1.3496614883479197e-05,2.1226678654784337e-05,1.2867130863014609e-05,6.658307938778307e-06,1.3413951819529757e-05,0.000528637901879847,1.8106877178070135e-05,8.321548375533894e-05,0.00031857684371061623,0.00020509200112428516,7.821965118637308e-05,0.00012926111230626702,0.00042669373215176165,0.00015171694394666702,0.00018335880304221064,2.5364819521200843e-05,5.749377669417299e-05,5.646321733365767e-05,0.00010671729251043871,6.098564699641429e-05,5.607758794212714e-05,0.00015666258696001023,1.8985998394782655e-05,8.417103526880965e-05,0.00043348572216928005,0.0021756619680672884,0.00046101451152935624,0.00030610625981353223,0.0006673266761936247,0.00020018903887830675,0.00356337521225214,0.0002104280865751207,0.0006028382922522724,0.00024929706705734134,0.0006412632064893842,8.462337427772582e-05,9.230372961610556e-05,5.324912126525305e-05,0.0009244278189726174,0.0009543982450850308,0.00012986631190869957,6.408098852261901e-05,8.029917080421001e-05,0.00010536351328482851,0.0002539281267672777,0.0015077247517183423,0.017677702009677887,0.0,0.0,0.0,0.0,0.0,0.0,0.0,0.0,0.0,0.0,0.0,0.0,0.0,0.0,0.0,0.0,0.0,0.0,0.0,0.0,0.0],[0.9662947654724121,1.68966125784209e-05,2.4478913474013098e-05,1.0663350622053258e-05,5.2564214456651825e-06,1.2559825336211361e-05,0.00028789552743546665,8.021318535611499e-06,2.719657277339138e-05,6.329268944682553e-05,1.802027691155672e-05,2.5479423129581846e-05,2.655109165061731e-05,0.0001684630842646584,0.00014199873839970678,0.00029248750070109963,2.0414079699548893e-05,6.895049591548741e-05,6.350618787109852e-05,0.00011159296263940632,4.045439345645718e-05,6.066932837711647e-05,6.902188761159778e-05,2.125615174008999e-05,0.0001317929563811049,0.0002439770323690027,0.0009332713671028614,0.0003982170019298792,0.00039556861156597733,0.0005564408493228257,0.0001100736772059463,0.0019880132749676704,0.0005951962084509432,0.00038644784945063293,0.00018185816588811576,0.0008321866043843329,0.0001913206942845136,0.00019923632498830557,0.0001246920000994578,0.0009170204866677523,0.0019055291777476668,0.00016444531502202153,0.0002563625748734921,0.00040311107295565307,0.0004057477053720504,0.0007638514507561922,0.000998151139356196,0.009182929061353207,0.00985450018197298,0.0,0.0,0.0,0.0,0.0,0.0,0.0,0.0,0.0,0.0,0.0,0.0,0.0,0.0,0.0,0.0,0.0,0.0,0.0,0.0],[0.9844852685928345,3.624569217208773e-05,1.3642195881402586e-05,2.8275135264266282e-05,4.568770236801356e-06,2.2500633349409327e-05,0.0003346679441165179,7.698900844843592e-06,1.9872026314260438e-05,4.605493086273782e-05,2.8619539079954848e-05,1.3214326827437617e-05,2.41314155573491e-05,6.258353096200153e-05,0.00011654625996015966,0.00012869529018644243,1.0703053703764454e-05,1.6347858036169782e-05,4.1116229112958536e-05,7.317886775126681e-05,2.3921804313431494e-05,4.880140841123648e-05,4.263404116500169e-05,6.6428065110812895e-06,6.36115946690552e-05,0.00021778048539999872,0.00016248514293693006,8.452496695099398e-05,0.0001671334175625816,0.0001374838757328689,4.6141187340253964e-05,0.0006664202664978802,0.00025993818417191505,0.00011286177323199809,7.820301107130945e-05,0.00028168782591819763,6.406973261618987e-05,0.00012820627307519317,0.00013001378101762384,0.00032864310196600854,0.0005209354567341506,8.24711678433232e-05,5.399073052103631e-05,6.680120714008808e-05,9.680480434326455e-05,0.00020011074957437813,0.0004493259184528142,0.0020164763554930687,0.0028424239717423916,0.005105523392558098,0.0,0.0,0.0,0.0,0.0,0.0,0.0,0.0,0.0,0.0,0.0,0.0,0.0,0.0,0.0,0.0,0.0,0.0,0.0],[0.6552305817604065,0.000600853469222784,4.1115032217931e-05,0.00013687455793842673,3.685189949464984e-05,0.00031934224534779787,0.002397313015535474,0.00017417130584362894,0.00019927193352486938,8.410871669184417e-05,0.00031506363302469254,0.00025712375645525753,0.0010595115600153804,0.002629220951348543,0.002184496494010091,0.0033010307233780622,0.0005761653301306069,0.0018979216692969203,0.0022879631724208593,0.0036417634692043066,0.001168744871392846,0.0016655598301440477,0.0005123779992572963,0.0006432862719520926,0.003230836009606719,0.0033694172743707895,0.004959544632583857,0.003256234573200345,0.00063710828544572,0.005483345594257116,0.0016406935174018145,0.03277168795466423,0.0023483121767640114,0.005888867657631636,0.010209089145064354,0.009055397473275661,0.0029777896124869585,0.001599813112989068,0.005597887560725212,0.00989583320915699,0.005956402514129877,0.00225045601837337,0.010911619290709496,0.006613931618630886,0.0006967961089685559,0.033275578171014786,0.012672032229602337,0.006882865913212299,0.013060369528830051,0.018051547929644585,0.10534579306840897,0.0,0.0,0.0,0.0,0.0,0.0,0.0,0.0,0.0,0.0,0.0,0.0,0.0,0.0,0.0,0.0,0.0,0.0],[0.05915427207946777,0.0008550699567422271,2.5188433937728405e-05,0.0001142255641752854,2.077569479297381e-05,5.3406667575472966e-05,0.0004460155905690044,0.00013582032988779247,1.1468601769593079e-05,1.0319306966266595e-05,2.7292495360597968e-05,0.0005176191334612668,0.0006460694130510092,0.000628007052000612,0.00659589096903801,0.0018976047867909074,0.003005047095939517,0.000848588882945478,0.0004037079052068293,0.0026304246857762337,0.0022465090733021498,0.00018501382146496326,0.0013792926911264658,0.0009257544297724962,0.0010142792016267776,0.0012721704551950097,0.0009747461299411952,0.0015538869192823768,0.0001616696099517867,0.0008161001605913043,0.0002802323142532259,0.005493129603564739,0.00016754433454480022,0.0006670808652415872,0.001614107983186841,0.12895844876766205,0.04977455735206604,0.002387763001024723,0.0070686922408640385,0.10120420902967453,0.0009348919847980142,0.0015670140273869038,0.07745946198701859,0.09802773594856262,0.0021970844827592373,0.15061764419078827,0.08731246739625931,0.004246728494763374,0.0008370860014110804,0.002481701783835888,0.028193842619657516,0.15995238721370697,0.0,0.0,0.0,0.0,0.0,0.0,0.0,0.0,0.0,0.0,0.0,0.0,0.0,0.0,0.0,0.0,0.0],[0.15542124211788177,0.0010569817386567593,0.0002565831528045237,0.000486498000100255,0.00018170262046623975,8.415937190875411e-05,0.0016206379514187574,0.00018325283599551767,2.474498251103796e-05,7.242424180731177e-05,8.18835396785289e-05,0.0003352142812218517,0.0004166706057731062,0.0009428864577785134,0.010010865516960621,0.0011532787466421723,0.0023384508676826954,0.0002300345222465694,0.00013336428673937917,0.001521125785075128,0.0013602974358946085,0.00018315653142053634,0.002676480682566762,0.0008669299422763288,0.00036037867539562285,0.0010039496701210737,0.005407532677054405,0.008285698480904102,0.002036713296547532,0.001234050840139389,0.0002476496738381684,0.00587611785158515,0.0005109903868287802,0.0016637801891192794,0.002598431194201112,0.12716522812843323,0.03479328379034996,0.0030691800639033318,0.002623103791847825,0.14753217995166779,0.0021425324957817793,0.0036472566425800323,0.0253826342523098,0.046176545321941376,0.005489560775458813,0.021912112832069397,0.09493420273065567,0.020029818639159203,0.0039393105544149876,0.004350387956947088,0.014646664261817932,0.08916987478733063,0.1421319991350174,0.0,0.0,0.0,0.0,0.0,0.0,0.0,0.0,0.0,0.0,0.0,0.0,0.0,0.0,0.0,0.0],[0.5437968969345093,0.0010745117906481028,0.0012354239588603377,0.0007442549685947597,0.0024198174942284822,0.00020479565137065947,0.00024340031086467206,0.00010223336721537635,9.673466411186382e-05,0.00036275654565542936,0.00032593196374364197,0.0003762374399229884,0.0002831143792718649,0.0004595599602907896,0.0002400987723376602,0.0006015170365571976,0.001336000976152718,0.00038715198752470315,0.00039701833156868815,0.0015054537216201425,0.0008353555458597839,0.0007666530436836183,0.0008074898505583405,0.000640123849734664,0.000662764476146549,0.00040565963718108833,0.0010373557452112436,0.001959770917892456,0.00039738178020343184,0.001256100949831307,0.0002090661582769826,0.0016591970343142748,0.0003156002494506538,0.0005690865800715983,0.0020736621227115393,0.0071529061533510685,0.0026310046669095755,0.019351499155163765,0.017234735190868378,0.026956941932439804,0.0022570621222257614,0.002824128605425358,0.012423410080373287,0.01415962539613247,0.011597743257880211,0.031397584825754166,0.021672211587429047,0.020961178466677666,0.006155629642307758,0.01342655811458826,0.034609563648700714,0.06746191531419754,0.10174214839935303,0.016196025535464287,0.0,0.0,0.0,0.0,0.0,0.0,0.0,0.0,0.0,0.0,0.0,0.0,0.0,0.0,0.0],[0.44295209646224976,0.001327059231698513,0.00020258627773728222,0.0006690248847007751,0.000367798435036093,0.0002835683699231595,0.0027567935176193714,0.0007641068077646196,0.00025769922649487853,0.00041554527706466615,0.0008612055680714548,0.0004938446218147874,0.003694694023579359,0.0018852240173146129,0.005889112129807472,0.0011560505954548717,0.0023231639061123133,0.0006115201977081597,0.00040685321437194943,0.0012357571395114064,0.0028542187064886093,0.00030612523551099,0.009922394528985023,0.0021891831420361996,0.00011654749687295407,0.00148296938277781,0.0055256495252251625,0.05214064195752144,0.002938159042969346,0.002429720014333725,0.00020633659732993692,0.014486951753497124,0.0006604401860386133,0.003505250671878457,0.0006835928070358932,0.016459612175822258,0.0007692399667575955,0.0016701347194612026,0.00344059313647449,0.09634466469287872,0.014005038887262344,0.0023519890382885933,0.0017855112673714757,0.0016009578248485923,0.0050825574435293674,0.01302520465105772,0.1485014408826828,0.0313645638525486,0.015202869661152363,0.014622306451201439,0.008653291501104832,0.004406459163874388,0.009475287981331348,0.006998557597398758,0.03623783215880394,0.0,0.0,0.0,0.0,0.0,0.0,0.0,0.0,0.0,0.0,0.0,0.0,0.0,0.0],[0.538041889667511,0.0003267394786234945,0.00015809691103640944,0.0001490296417614445,0.00018428239854983985,0.00019421361503191292,0.0018033302621915936,9.133121784543619e-05,8.75098048709333e-05,6.960920291021466e-05,0.0002102288417518139,3.0159257221384905e-05,0.0014814147725701332,0.0009417575784027576,0.0015933726681396365,0.0011276722652837634,0.00021200299670454115,0.0002919423277489841,0.00017023323744069785,0.00018809833272825927,0.00025571638252586126,0.00012133183918194845,0.003847750136628747,0.0013793673133477569,0.0002253507263958454,0.003282977966591716,0.010866967961192131,0.003971789963543415,0.0002780389040708542,0.0011354226153343916,0.000322823558235541,0.010951847769320011,0.0003954207932110876,0.0017759471666067839,0.0003137246530968696,0.0088125579059124,0.0002782638475764543,0.00020441689412109554,0.00012392115604598075,0.08320209383964539,0.007742299698293209,0.001068052719347179,0.0004447795217856765,9.797399252420291e-05,0.000123978839837946,0.0004776094574481249,0.07430233806371689,0.004841656889766455,0.0035189937334507704,0.0026567690074443817,0.002262975787743926,0.0007703871815465391,0.0005763269728049636,0.00013097160262987018,0.0058614276349544525,0.21602469682693481,0.0,0.0,0.0,0.0,0.0,0.0,0.0,0.0,0.0,0.0,0.0,0.0,0.0],[0.5586952567100525,0.00024417214444838464,0.0002317377511644736,0.000799757253844291,0.0002700496406760067,0.0013831262476742268,0.0028839390724897385,0.00013952569861430675,0.00023272196995094419,0.00013000363833270967,0.0006557470769621432,0.0002244386705569923,0.000340901839081198,0.0025610383599996567,0.0013687369646504521,0.003356686793267727,6.764029967598617e-05,0.0006334458012133837,0.001588854705914855,0.0014974147779867053,0.0006555172731168568,0.00025168946012854576,0.0007786695496179163,0.0004497133195400238,0.0003787691530305892,0.004054945893585682,0.004586474504321814,0.0016176638891920447,0.00031756021780893207,0.0021854443475604057,0.0011590691283345222,0.010149665176868439,0.0014712866395711899,0.005276799667626619,0.0008874469785951078,0.006612523924559355,0.00047208095202222466,0.0003996733285021037,0.0003335798974148929,0.020381152629852295,0.004940378479659557,0.0026049150619655848,0.0016388612566515803,0.00041525455890223384,0.00013128106365911663,0.00042304492671974003,0.007809225004166365,0.002454495755955577,0.0029595973901450634,0.002699666190892458,0.005533827003091574,0.002563227666541934,0.001275057322345674,0.00017716462025418878,0.007536989636719227,0.05176122859120369,0.2653508186340332,0.0,0.0,0.0,0.0,0.0,0.0,0.0,0.0,0.0,0.0,0.0,0.0],[0.08688224107027054,0.0013465865049511194,5.140699431649409e-05,0.0003173943259753287,5.906365913688205e-05,0.00021995937277097255,0.0008635990088805556,0.00019510099082253873,3.0040087949601002e-05,1.0868307981581893e-05,3.4383567253826186e-05,0.00042094377567991614,0.00040347076719626784,0.0016490323469042778,0.007194163277745247,0.0019836227875202894,0.0014578050468116999,0.001173598226159811,0.0004865005030296743,0.0017339803744107485,0.001839654752984643,0.0001633086212677881,0.0009236987680196762,0.000611941737588495,0.0011121657444164157,0.0008845379343256354,0.0007028774707578123,0.0010697414400056005,0.00016054754087235779,0.0003109539102297276,0.00016821868484839797,0.0021727862767875195,9.428202611161396e-05,0.00035188396577723324,0.0011889145243912935,0.0606754831969738,0.03797297924757004,0.0018983196932822466,0.006231239996850491,0.04278681054711342,0.0016703484579920769,0.0012386374874040484,0.03409065306186676,0.04331992194056511,0.0012664530659094453,0.028050636872649193,0.0369497612118721,0.0025516245514154434,0.0006590281263925135,0.0008545306627638638,0.004250392317771912,0.10700435191392899,0.14785990118980408,0.001169397495687008,0.11735183745622635,0.0989610031247139,0.019841300323605537,0.08507611602544785,0.0,0.0,0.0,0.0,0.0,0.0,0.0,0.0,0.0,0.0,0.0],[0.22546729445457458,0.0015419453848153353,0.00018696974439080805,0.00044174649519845843,9.01314415386878e-05,0.00018179084872826934,0.0036206995137035847,0.0008502990822307765,9.349726315122098e-05,6.978554301895201e-05,0.00022716858075000346,0.0002936757809948176,0.0003146310627926141,0.0012845341116189957,0.037335269153118134,0.00395341869443655,0.007113272324204445,0.0004806185606867075,0.00037070372491143644,0.0024396455846726894,0.003039573086425662,0.0001218891266034916,0.005934496410191059,0.00046809398918412626,0.000595184275880456,0.0015777860535308719,0.004164551850408316,0.005315863061696291,0.0018776832148432732,0.0012800937984138727,0.00027905715978704393,0.008364476263523102,0.0003494442207738757,0.0011420531664043665,0.0030726338736712933,0.11997004598379135,0.06211237609386444,0.003606638638302684,0.0012754352064803243,0.05799476429820061,0.0008009098237380385,0.0006550567923113704,0.013133348897099495,0.021019520238041878,0.0036600930616259575,0.006174405105412006,0.0345182865858078,0.008935557678341866,0.002667487831786275,0.002465616213157773,0.004020818509161472,0.014673000201582909,0.061057690531015396,0.0017507154261693358,0.013410236686468124,0.05082571133971214,0.003118277760222554,0.0254671573638916,0.1627468764781952,0.0,0.0,0.0,0.0,0.0,0.0,0.0,0.0,0.0,0.0],[0.5654551982879639,0.0005822254461236298,0.001169333467260003,0.00024364284763578326,0.0011298689059913158,5.2149327530059963e-05,0.00016967592819128186,0.0002041306288447231,0.000200013309950009,0.0005035768263041973,0.0006268644356168807,0.000440473755588755,0.00014120405830908567,0.0005092868814244866,0.00038938195211812854,0.0008655841229483485,0.0024759862571954727,0.00036430222098715603,0.0005146728362888098,0.0037315539084374905,0.0014833175810053945,0.0014531841734424233,0.001306092832237482,0.0003974532301072031,0.0007134323823265731,0.0003827153705060482,0.00178634119220078,0.0018693648744374514,0.0004003939975518733,0.0010629564058035612,0.00011765287490561604,0.0016452238196507096,0.0004878971667494625,0.000985307851806283,0.002187232254073024,0.0054673925042152405,0.0017626031767576933,0.02457124926149845,0.00614168681204319,0.00922148022800684,0.002551520010456443,0.0022158201318234205,0.0031432006508111954,0.0035107163712382317,0.007419693749397993,0.0036813451442867517,0.00442985724657774,0.010401217266917229,0.002827622462064028,0.003997120540589094,0.004214141052216291,0.00510072149336338,0.013112591579556465,0.006101664621382952,0.03501468524336815,0.01203815545886755,0.012343158014118671,0.02674183063209057,0.09969761222600937,0.09824514389038086,0.0,0.0,0.0,0.0,0.0,0.0,0.0,0.0,0.0],[0.3407547175884247,0.0011345642851665616,0.00012544884521048516,0.0003330638282932341,0.00010462403588462621,0.0002595442929305136,0.006049495656043291,0.0007419305038638413,0.00025806145276874304,0.0004951692535541952,0.001770606148056686,0.0003519006131682545,0.0047751846723258495,0.0017623243620619178,0.004591288976371288,0.0010155315976589918,0.0033742357045412064,0.0005634785047732294,0.00043852796079590917,0.0005462744156830013,0.0020759229082614183,5.8275712945032865e-05,0.010591722093522549,0.0012443639570847154,0.00010976620978908613,0.0022540020290762186,0.009653566405177116,0.06439226120710373,0.0032535481732338667,0.0027889420744031668,9.970659448299557e-05,0.031820692121982574,0.0008970595081336796,0.006203716155141592,0.0008883727714419365,0.033075761049985886,0.001193950418382883,0.0020892643369734287,0.002734923269599676,0.09596173465251923,0.0047638253308832645,0.0008618232677690685,0.0007460414781235158,0.0015385259175673127,0.004572270903736353,0.01714823953807354,0.07181405276060104,0.025833576917648315,0.00840772408992052,0.014637689106166363,0.006379483733326197,0.0008441813988611102,0.0026073104236274958,0.0022824688348919153,0.013231972232460976,0.10375133156776428,0.013960096053779125,0.0020213620737195015,0.006356154568493366,0.005659092217683792,0.05174914747476578,0.0,0.0,0.0,0.0,0.0,0.0,0.0,0.0],[0.35544469952583313,0.00018161498883273453,8.38058622321114e-05,3.95023453165777e-05,2.1799149180878885e-05,3.7734836951131e-05,0.001570013235323131,4.775993147632107e-05,4.555259147309698e-05,8.68806746439077e-05,0.0003798731486313045,3.1677158403908834e-05,0.0018706500995904207,0.0015950949164107442,0.0009481331799179316,0.0006286441348493099,0.00012143049389123917,0.0003070592356380075,0.00011035284114768729,9.718257206259295e-05,0.0001960805820999667,5.041010808781721e-05,0.006897519808262587,0.0017914706841111183,6.82262034388259e-05,0.002568150172010064,0.011209957301616669,0.006162079516798258,0.000641173857729882,0.0015022597508504987,0.0003137099265586585,0.014552286826074123,0.0008093178039416671,0.0034193540923297405,0.00016117325867526233,0.013041059486567974,0.00038607409805990756,0.0001840115583036095,8.827409328659996e-05,0.12550917267799377,0.011764701455831528,0.0009569606627337635,0.0002655734424479306,5.851300375070423e-05,8.156283729476854e-05,0.00033545884070917964,0.08393873274326324,0.007048001047223806,0.005823176819831133,0.005296436138451099,0.0035701643209904432,0.00018636992899701,0.00010040459164883941,4.232707942719571e-05,0.0004262621805537492,0.1572895497083664,0.021772371605038643,0.0009113303967751563,0.0003434066311456263,4.769038059748709e-05,0.0045069498009979725,0.14203284680843353,0.0,0.0,0.0,0.0,0.0,0.0,0.0],[0.3070356547832489,0.0001628395402804017,5.949901606072672e-05,0.0001273376401513815,2.31878730119206e-05,0.00017194877727888525,0.002885125344619155,0.0001375905703753233,0.00013068984844721854,0.0003255059418734163,0.0013379257870838046,0.0024881321005523205,0.0007889099651947618,0.008225379511713982,0.005024085287004709,0.005018817726522684,0.0002919164835475385,0.0015032049268484116,0.0022637576330453157,0.0037238383665680885,0.0032186023890972137,0.0007947301492094994,0.0031299374531954527,0.002773640211671591,0.001417586812749505,0.0036837460938841105,0.005803000181913376,0.0013349363580346107,0.0007385078351944685,0.004263618029654026,0.0014396640472114086,0.0077989427372813225,0.0011332889553159475,0.0033984386827796698,0.002090706489980221,0.030718166381120682,0.009497818537056446,0.001501780585385859,0.0013947124825790524,0.04061119258403778,0.022400949150323868,0.00964479148387909,0.014334727078676224,0.0018128679366782308,0.00032416792237199843,0.002431092783808708,0.02448803000152111,0.00801121536642313,0.005786552559584379,0.004740830510854721,0.024258043617010117,0.008165541104972363,0.001039237598888576,0.00017201266018673778,0.003953426610678434,0.03061235137283802,0.04291203245520592,0.021823054179549217,0.005200558342039585,0.0003528760571498424,0.07076248526573181,0.09887553006410599,0.12942923605442047,0.0,0.0,0.0,0.0,0.0,0.0],[0.3712172210216522,0.0003701776440721005,9.586091618984938e-05,0.00029376609018072486,0.00014971064229030162,0.0008056095102801919,0.004043222405016422,0.0005386980483308434,0.00027645420050248504,0.000304312736261636,0.0011219365987926722,0.0025671564508229494,0.000550220487639308,0.0031257339287549257,0.005434872582554817,0.005278823431581259,0.00028178191860206425,0.0011579900747165084,0.002350947819650173,0.004620946012437344,0.002353308955207467,0.0011399557115510106,0.0017764096846804023,0.0019463658099994063,0.0026013862807303667,0.002425731159746647,0.0032550496980547905,0.000690355256665498,0.00020030314044561237,0.0021953131072223186,0.002043507294729352,0.003406659234315157,0.0009360499097965658,0.0015922972233965993,0.0017737806774675846,0.013013947755098343,0.006556739564985037,0.002502098446711898,0.003262399462983012,0.02536919340491295,0.008291623555123806,0.008278535678982735,0.01474146917462349,0.003155434736981988,0.0004163712728768587,0.005650219973176718,0.011079946532845497,0.002644546562805772,0.0020298759918659925,0.0032304206397384405,0.015622883103787899,0.017937440425157547,0.003057425143197179,0.00028008813387714326,0.005016683135181665,0.009972572326660156,0.01970883272588253,0.04140425845980644,0.01286027580499649,0.0005454991478472948,0.0647268071770668,0.04105105623602867,0.13536395132541656,0.08930747956037521,0.0,0.0,0.0,0.0,0.0],[0.16714300215244293,0.001550041139125824,0.0001008226172416471,0.00025173163157887757,3.722991095855832e-05,0.00010183610720559955,0.0010369359515607357,0.00023942436382640153,5.895884896744974e-05,1.6084994058473967e-05,4.829952376894653e-05,0.0005486057489179075,0.0004785704077221453,0.0019314347300678492,0.019155213609337807,0.00334089994430542,0.006043354514986277,0.0014937217347323895,0.0006359739927574992,0.00121457374189049,0.0016911643324419856,0.0002291603450430557,0.0007478251936845481,0.00026079619419761,0.0024960560258477926,0.0008679066086187959,0.0002476616355124861,0.0004328007926233113,0.00011345752136548981,0.00012794762733392417,0.00011390919098630548,0.000503277697134763,0.00011596811236813664,6.604615191463381e-05,0.0006894191610626876,0.025648949667811394,0.03353342041373253,0.0029155968222767115,0.006883339490741491,0.005077109206467867,0.000235817875363864,0.0006179003394208848,0.02562904544174671,0.07398675382137299,0.0012671002186834812,0.018738072365522385,0.005708982702344656,0.0007602180121466517,9.644675446907058e-05,0.00022242321574594826,0.0015228480333462358,0.0397665798664093,0.07734335958957672,0.0010332982055842876,0.01664123125374317,0.011000538244843483,0.0007330428343266249,0.030420096591114998,0.11406116187572479,0.0015136718284338713,0.09123777598142624,0.01188737340271473,0.0031382995657622814,0.006301816552877426,0.17794756591320038,0.0,0.0,0.0,0.0],[0.18651071190834045,0.0008317551692016423,0.00022505156812258065,0.0005434994818642735,8.858543151291087e-05,0.00015935862029436976,0.003938054665923119,0.0004483479424379766,6.372651841957122e-05,7.494432793464512e-05,0.00027828983729705215,0.00021197955356910825,0.0008733476861380041,0.0017261103494092822,0.03934105485677719,0.004875022917985916,0.0064466786570847034,0.0006283562397584319,0.00024998863227665424,0.0009018299169838428,0.0011535503435879946,7.796618592692539e-05,0.004063914529979229,0.000571375188883394,0.0005152990343049169,0.00165844289585948,0.006411929614841938,0.011961312033236027,0.0029365895316004753,0.0007544762920588255,8.977969991974533e-05,0.00981344748288393,0.0004235935921315104,0.0015717365313321352,0.002205980010330677,0.08980392664670944,0.04494404047727585,0.004483222961425781,0.0013613589107990265,0.03154856339097023,0.00043782120337709785,0.00040631135925650597,0.012756596319377422,0.011942844837903976,0.004417669493705034,0.0028035887517035007,0.013520757667720318,0.004728473722934723,0.0017153461230918765,0.001327049802057445,0.0031401547603309155,0.007504087407141924,0.013335899449884892,0.0017425883561372757,0.0015510449884459376,0.016515614464879036,0.001321602612733841,0.004691935610026121,0.042038265615701675,0.004938343074172735,0.028392957523465157,0.018789369612932205,0.0015722522512078285,0.004847509786486626,0.06505680829286575,0.2657378315925598,0.0,0.0,0.0],[0.6535763740539551,0.00013958393537905067,0.0003315334615763277,0.00011698476009769365,6.690600275760517e-05,5.1790717407129705e-05,0.000978016760200262,0.0007110509322956204,0.00027046535979025066,0.00017688411753624678,0.0006603417568840086,0.0020585607271641493,0.00044553817133419216,0.0024573274422436953,0.01010249275714159,0.005322946701198816,0.004417218267917633,0.001216107397340238,0.0014136547688394785,0.0019212451297789812,0.002794928615912795,0.0001835270377341658,0.0009449780336581171,0.00022936548339203,0.0010249314364045858,0.0007700147689320147,0.001897857990115881,0.0014884336851537228,0.0006320561515167356,0.0002682369959075004,3.6564604670275e-05,0.0009935898706316948,6.443935126299039e-05,0.00017235608538612723,0.00027211717679165304,0.003844772232696414,0.0010015974985435605,0.0030548134818673134,0.0026849640998989344,0.0022721632849425077,0.00010251961066387594,0.00023239805886987597,0.0031842633616179228,0.0015611198032274842,0.0007988433353602886,0.0015579259488731623,0.000619739992544055,0.001020401599816978,0.000677475065458566,0.0004725324979517609,0.0007595798815600574,0.004412132780998945,0.0016845155041664839,0.0002475926303304732,0.001641055685468018,0.0009821720886975527,0.0005950644263066351,0.0012470439542084932,0.002847851486876607,0.0010940787615254521,0.02170887589454651,0.0007312586531043053,0.00032538623781874776,0.0004890224081464112,0.015328546054661274,0.05367673188447952,0.17093518376350403,0.0,0.0],[0.2403336465358734,0.0001781165337888524,0.00010781524906633422,0.00017709941312205046,8.438069198746234e-05,0.00020199076971039176,0.0018268481362611055,0.0007388218655250967,9.985754877561703e-05,9.417594264959916e-05,0.0009214045712724328,0.0010250461054965854,0.0008628041832707822,0.0026549336034804583,0.012094724923372269,0.004080743994563818,0.0026218851562589407,0.001427703071385622,0.0008801055373623967,0.002177478512749076,0.0027612484991550446,0.00023172161309048533,0.0022550690919160843,0.0011537609389051795,0.0025924835354089737,0.0018510294612497091,0.032664984464645386,0.00894603505730629,0.003944267053157091,0.0036023466382175684,0.0002469825267326087,0.012293053790926933,0.0008297981694340706,0.0035115396603941917,0.002737395465373993,0.02929087169468403,0.0035382560454308987,0.0036259132903069258,0.003018616233021021,0.01683848910033703,0.0006826173048466444,0.0006005943869240582,0.007876895368099213,0.0035984304267913103,0.0017729619285091758,0.005669893231242895,0.0044765896163880825,0.0024801800027489662,0.002846281975507736,0.002715112641453743,0.009174877777695656,0.014156402088701725,0.0033396263606846333,0.0004891835269518197,0.004462025128304958,0.006571979261934757,0.0018069196958094835,0.00335577130317688,0.006478373426944017,0.002012560609728098,0.030228136107325554,0.006763162557035685,0.0028179199434816837,0.004700673744082451,0.034875381737947464,0.06749432533979416,0.11542164534330368,0.2446081042289734,0.0],[0.4740223288536072,9.834145021159202e-05,0.00020457568462006748,4.511119914241135e-05,0.00010149120498681441,4.366564826341346e-05,0.0005429265438579023,0.00037522916682064533,0.0001247544278157875,0.0002047432353720069,0.00022537948098033667,0.0009370330371893942,0.00023416946351062506,0.0011735022999346256,0.002154513029381633,0.0021202934440225363,0.0026210169307887554,0.0011007750872522593,0.0011732925195246935,0.005655472166836262,0.005132987163960934,0.0012503773905336857,0.0008027937728911638,0.00040573859587311745,0.003810229478403926,0.0006298157386481762,0.010219225659966469,0.002768125617876649,0.0010008190292865038,0.003366616554558277,0.0002986495092045516,0.0029937082435935736,0.00047281841398216784,0.0009052302339114249,0.0018476146506145597,0.004808714613318443,0.0011268571252003312,0.029345324262976646,0.006110916845500469,0.005288955755531788,0.0005022675031796098,0.0010747353080660105,0.004380478989332914,0.0057923984713852406,0.0060228887014091015,0.006887315306812525,0.0010286137694492936,0.002990549197420478,0.0013058918993920088,0.0011522785061970353,0.004705952480435371,0.007053709588944912,0.0038807301316410303,0.0009195806924253702,0.005167498718947172,0.0013610897585749626,0.0013101256918162107,0.003508665133267641,0.006304759532213211,0.010473692789673805,0.016291256994009018,0.0010949551360681653,0.0010285190073773265,0.002661746693775058,0.026315944269299507,0.028453506529331207,0.09819179028272629,0.08004092425107956,0.09435401111841202]],\"type\":\"heatmap\",\"xaxis\":\"x\",\"yaxis\":\"y\",\"hovertemplate\":\"x: %{x}\\u003cbr\\u003ey: %{y}\\u003cbr\\u003ecolor: %{z}\\u003cextra\\u003e\\u003c\\u002fextra\\u003e\"}],                        {\"template\":{\"data\":{\"histogram2dcontour\":[{\"type\":\"histogram2dcontour\",\"colorbar\":{\"outlinewidth\":0,\"ticks\":\"\"},\"colorscale\":[[0.0,\"#0d0887\"],[0.1111111111111111,\"#46039f\"],[0.2222222222222222,\"#7201a8\"],[0.3333333333333333,\"#9c179e\"],[0.4444444444444444,\"#bd3786\"],[0.5555555555555556,\"#d8576b\"],[0.6666666666666666,\"#ed7953\"],[0.7777777777777778,\"#fb9f3a\"],[0.8888888888888888,\"#fdca26\"],[1.0,\"#f0f921\"]]}],\"choropleth\":[{\"type\":\"choropleth\",\"colorbar\":{\"outlinewidth\":0,\"ticks\":\"\"}}],\"histogram2d\":[{\"type\":\"histogram2d\",\"colorbar\":{\"outlinewidth\":0,\"ticks\":\"\"},\"colorscale\":[[0.0,\"#0d0887\"],[0.1111111111111111,\"#46039f\"],[0.2222222222222222,\"#7201a8\"],[0.3333333333333333,\"#9c179e\"],[0.4444444444444444,\"#bd3786\"],[0.5555555555555556,\"#d8576b\"],[0.6666666666666666,\"#ed7953\"],[0.7777777777777778,\"#fb9f3a\"],[0.8888888888888888,\"#fdca26\"],[1.0,\"#f0f921\"]]}],\"heatmap\":[{\"type\":\"heatmap\",\"colorbar\":{\"outlinewidth\":0,\"ticks\":\"\"},\"colorscale\":[[0.0,\"#0d0887\"],[0.1111111111111111,\"#46039f\"],[0.2222222222222222,\"#7201a8\"],[0.3333333333333333,\"#9c179e\"],[0.4444444444444444,\"#bd3786\"],[0.5555555555555556,\"#d8576b\"],[0.6666666666666666,\"#ed7953\"],[0.7777777777777778,\"#fb9f3a\"],[0.8888888888888888,\"#fdca26\"],[1.0,\"#f0f921\"]]}],\"heatmapgl\":[{\"type\":\"heatmapgl\",\"colorbar\":{\"outlinewidth\":0,\"ticks\":\"\"},\"colorscale\":[[0.0,\"#0d0887\"],[0.1111111111111111,\"#46039f\"],[0.2222222222222222,\"#7201a8\"],[0.3333333333333333,\"#9c179e\"],[0.4444444444444444,\"#bd3786\"],[0.5555555555555556,\"#d8576b\"],[0.6666666666666666,\"#ed7953\"],[0.7777777777777778,\"#fb9f3a\"],[0.8888888888888888,\"#fdca26\"],[1.0,\"#f0f921\"]]}],\"contourcarpet\":[{\"type\":\"contourcarpet\",\"colorbar\":{\"outlinewidth\":0,\"ticks\":\"\"}}],\"contour\":[{\"type\":\"contour\",\"colorbar\":{\"outlinewidth\":0,\"ticks\":\"\"},\"colorscale\":[[0.0,\"#0d0887\"],[0.1111111111111111,\"#46039f\"],[0.2222222222222222,\"#7201a8\"],[0.3333333333333333,\"#9c179e\"],[0.4444444444444444,\"#bd3786\"],[0.5555555555555556,\"#d8576b\"],[0.6666666666666666,\"#ed7953\"],[0.7777777777777778,\"#fb9f3a\"],[0.8888888888888888,\"#fdca26\"],[1.0,\"#f0f921\"]]}],\"surface\":[{\"type\":\"surface\",\"colorbar\":{\"outlinewidth\":0,\"ticks\":\"\"},\"colorscale\":[[0.0,\"#0d0887\"],[0.1111111111111111,\"#46039f\"],[0.2222222222222222,\"#7201a8\"],[0.3333333333333333,\"#9c179e\"],[0.4444444444444444,\"#bd3786\"],[0.5555555555555556,\"#d8576b\"],[0.6666666666666666,\"#ed7953\"],[0.7777777777777778,\"#fb9f3a\"],[0.8888888888888888,\"#fdca26\"],[1.0,\"#f0f921\"]]}],\"mesh3d\":[{\"type\":\"mesh3d\",\"colorbar\":{\"outlinewidth\":0,\"ticks\":\"\"}}],\"scatter\":[{\"fillpattern\":{\"fillmode\":\"overlay\",\"size\":10,\"solidity\":0.2},\"type\":\"scatter\"}],\"parcoords\":[{\"type\":\"parcoords\",\"line\":{\"colorbar\":{\"outlinewidth\":0,\"ticks\":\"\"}}}],\"scatterpolargl\":[{\"type\":\"scatterpolargl\",\"marker\":{\"colorbar\":{\"outlinewidth\":0,\"ticks\":\"\"}}}],\"bar\":[{\"error_x\":{\"color\":\"#2a3f5f\"},\"error_y\":{\"color\":\"#2a3f5f\"},\"marker\":{\"line\":{\"color\":\"#E5ECF6\",\"width\":0.5},\"pattern\":{\"fillmode\":\"overlay\",\"size\":10,\"solidity\":0.2}},\"type\":\"bar\"}],\"scattergeo\":[{\"type\":\"scattergeo\",\"marker\":{\"colorbar\":{\"outlinewidth\":0,\"ticks\":\"\"}}}],\"scatterpolar\":[{\"type\":\"scatterpolar\",\"marker\":{\"colorbar\":{\"outlinewidth\":0,\"ticks\":\"\"}}}],\"histogram\":[{\"marker\":{\"pattern\":{\"fillmode\":\"overlay\",\"size\":10,\"solidity\":0.2}},\"type\":\"histogram\"}],\"scattergl\":[{\"type\":\"scattergl\",\"marker\":{\"colorbar\":{\"outlinewidth\":0,\"ticks\":\"\"}}}],\"scatter3d\":[{\"type\":\"scatter3d\",\"line\":{\"colorbar\":{\"outlinewidth\":0,\"ticks\":\"\"}},\"marker\":{\"colorbar\":{\"outlinewidth\":0,\"ticks\":\"\"}}}],\"scattermapbox\":[{\"type\":\"scattermapbox\",\"marker\":{\"colorbar\":{\"outlinewidth\":0,\"ticks\":\"\"}}}],\"scatterternary\":[{\"type\":\"scatterternary\",\"marker\":{\"colorbar\":{\"outlinewidth\":0,\"ticks\":\"\"}}}],\"scattercarpet\":[{\"type\":\"scattercarpet\",\"marker\":{\"colorbar\":{\"outlinewidth\":0,\"ticks\":\"\"}}}],\"carpet\":[{\"aaxis\":{\"endlinecolor\":\"#2a3f5f\",\"gridcolor\":\"white\",\"linecolor\":\"white\",\"minorgridcolor\":\"white\",\"startlinecolor\":\"#2a3f5f\"},\"baxis\":{\"endlinecolor\":\"#2a3f5f\",\"gridcolor\":\"white\",\"linecolor\":\"white\",\"minorgridcolor\":\"white\",\"startlinecolor\":\"#2a3f5f\"},\"type\":\"carpet\"}],\"table\":[{\"cells\":{\"fill\":{\"color\":\"#EBF0F8\"},\"line\":{\"color\":\"white\"}},\"header\":{\"fill\":{\"color\":\"#C8D4E3\"},\"line\":{\"color\":\"white\"}},\"type\":\"table\"}],\"barpolar\":[{\"marker\":{\"line\":{\"color\":\"#E5ECF6\",\"width\":0.5},\"pattern\":{\"fillmode\":\"overlay\",\"size\":10,\"solidity\":0.2}},\"type\":\"barpolar\"}],\"pie\":[{\"automargin\":true,\"type\":\"pie\"}]},\"layout\":{\"autotypenumbers\":\"strict\",\"colorway\":[\"#636efa\",\"#EF553B\",\"#00cc96\",\"#ab63fa\",\"#FFA15A\",\"#19d3f3\",\"#FF6692\",\"#B6E880\",\"#FF97FF\",\"#FECB52\"],\"font\":{\"color\":\"#2a3f5f\"},\"hovermode\":\"closest\",\"hoverlabel\":{\"align\":\"left\"},\"paper_bgcolor\":\"white\",\"plot_bgcolor\":\"#E5ECF6\",\"polar\":{\"bgcolor\":\"#E5ECF6\",\"angularaxis\":{\"gridcolor\":\"white\",\"linecolor\":\"white\",\"ticks\":\"\"},\"radialaxis\":{\"gridcolor\":\"white\",\"linecolor\":\"white\",\"ticks\":\"\"}},\"ternary\":{\"bgcolor\":\"#E5ECF6\",\"aaxis\":{\"gridcolor\":\"white\",\"linecolor\":\"white\",\"ticks\":\"\"},\"baxis\":{\"gridcolor\":\"white\",\"linecolor\":\"white\",\"ticks\":\"\"},\"caxis\":{\"gridcolor\":\"white\",\"linecolor\":\"white\",\"ticks\":\"\"}},\"coloraxis\":{\"colorbar\":{\"outlinewidth\":0,\"ticks\":\"\"}},\"colorscale\":{\"sequential\":[[0.0,\"#0d0887\"],[0.1111111111111111,\"#46039f\"],[0.2222222222222222,\"#7201a8\"],[0.3333333333333333,\"#9c179e\"],[0.4444444444444444,\"#bd3786\"],[0.5555555555555556,\"#d8576b\"],[0.6666666666666666,\"#ed7953\"],[0.7777777777777778,\"#fb9f3a\"],[0.8888888888888888,\"#fdca26\"],[1.0,\"#f0f921\"]],\"sequentialminus\":[[0.0,\"#0d0887\"],[0.1111111111111111,\"#46039f\"],[0.2222222222222222,\"#7201a8\"],[0.3333333333333333,\"#9c179e\"],[0.4444444444444444,\"#bd3786\"],[0.5555555555555556,\"#d8576b\"],[0.6666666666666666,\"#ed7953\"],[0.7777777777777778,\"#fb9f3a\"],[0.8888888888888888,\"#fdca26\"],[1.0,\"#f0f921\"]],\"diverging\":[[0,\"#8e0152\"],[0.1,\"#c51b7d\"],[0.2,\"#de77ae\"],[0.3,\"#f1b6da\"],[0.4,\"#fde0ef\"],[0.5,\"#f7f7f7\"],[0.6,\"#e6f5d0\"],[0.7,\"#b8e186\"],[0.8,\"#7fbc41\"],[0.9,\"#4d9221\"],[1,\"#276419\"]]},\"xaxis\":{\"gridcolor\":\"white\",\"linecolor\":\"white\",\"ticks\":\"\",\"title\":{\"standoff\":15},\"zerolinecolor\":\"white\",\"automargin\":true,\"zerolinewidth\":2},\"yaxis\":{\"gridcolor\":\"white\",\"linecolor\":\"white\",\"ticks\":\"\",\"title\":{\"standoff\":15},\"zerolinecolor\":\"white\",\"automargin\":true,\"zerolinewidth\":2},\"scene\":{\"xaxis\":{\"backgroundcolor\":\"#E5ECF6\",\"gridcolor\":\"white\",\"linecolor\":\"white\",\"showbackground\":true,\"ticks\":\"\",\"zerolinecolor\":\"white\",\"gridwidth\":2},\"yaxis\":{\"backgroundcolor\":\"#E5ECF6\",\"gridcolor\":\"white\",\"linecolor\":\"white\",\"showbackground\":true,\"ticks\":\"\",\"zerolinecolor\":\"white\",\"gridwidth\":2},\"zaxis\":{\"backgroundcolor\":\"#E5ECF6\",\"gridcolor\":\"white\",\"linecolor\":\"white\",\"showbackground\":true,\"ticks\":\"\",\"zerolinecolor\":\"white\",\"gridwidth\":2}},\"shapedefaults\":{\"line\":{\"color\":\"#2a3f5f\"}},\"annotationdefaults\":{\"arrowcolor\":\"#2a3f5f\",\"arrowhead\":0,\"arrowwidth\":1},\"geo\":{\"bgcolor\":\"white\",\"landcolor\":\"#E5ECF6\",\"subunitcolor\":\"white\",\"showland\":true,\"showlakes\":true,\"lakecolor\":\"white\"},\"title\":{\"x\":0.05},\"mapbox\":{\"style\":\"light\"}}},\"xaxis\":{\"anchor\":\"y\",\"domain\":[0.0,1.0]},\"yaxis\":{\"anchor\":\"x\",\"domain\":[0.0,1.0],\"autorange\":\"reversed\"},\"coloraxis\":{\"colorscale\":[[0.0,\"#0d0887\"],[0.1111111111111111,\"#46039f\"],[0.2222222222222222,\"#7201a8\"],[0.3333333333333333,\"#9c179e\"],[0.4444444444444444,\"#bd3786\"],[0.5555555555555556,\"#d8576b\"],[0.6666666666666666,\"#ed7953\"],[0.7777777777777778,\"#fb9f3a\"],[0.8888888888888888,\"#fdca26\"],[1.0,\"#f0f921\"]]},\"title\":{\"text\":\"Head Pattern\"},\"width\":1400,\"height\":1400},                        {\"responsive\": true}                    ).then(function(){\n",
              "                            \n",
              "var gd = document.getElementById('f36b8ef8-9a76-4c80-b3a4-02c784d75d4f');\n",
              "var x = new MutationObserver(function (mutations, observer) {{\n",
              "        var display = window.getComputedStyle(gd).display;\n",
              "        if (!display || display === 'none') {{\n",
              "            console.log([gd, 'removed!']);\n",
              "            Plotly.purge(gd);\n",
              "            observer.disconnect();\n",
              "        }}\n",
              "}});\n",
              "\n",
              "// Listen for the removal of the full notebook cells\n",
              "var notebookContainer = gd.closest('#notebook-container');\n",
              "if (notebookContainer) {{\n",
              "    x.observe(notebookContainer, {childList: true});\n",
              "}}\n",
              "\n",
              "// Listen for the clearing of the current output cell\n",
              "var outputEl = gd.closest('.output');\n",
              "if (outputEl) {{\n",
              "    x.observe(outputEl, {childList: true});\n",
              "}}\n",
              "\n",
              "                        })                };                });            </script>        </div>"
            ]
          },
          "metadata": {},
          "output_type": "display_data"
        }
      ],
      "source": [
        "plot_toks = [f\"{tok} ({i})\" for i, tok in enumerate(model.to_str_tokens(prompts[-1]))]\n",
        "fig = px.imshow(patterns[458-28, 0], x=plot_toks, y=plot_toks, aspect='auto', title='Head Pattern')\n",
        "fig.update_layout(width=1400, height=1400)"
      ]
    },
    {
      "cell_type": "code",
      "execution_count": 71,
      "metadata": {
        "colab": {
          "base_uri": "https://localhost:8080/",
          "height": 417
        },
        "id": "DpoRA4EQW6dT",
        "outputId": "4393779c-9117-49c4-8c65-8aadc9f244ad"
      },
      "outputs": [
        {
          "data": {
            "application/vnd.plotly.v1+json": {
              "config": {
                "plotlyServerURL": "https://plot.ly"
              },
              "data": [
                {
                  "coloraxis": "coloraxis",
                  "hovertemplate": "x: %{x}<br>y: %{y}<br>color: %{z}<extra></extra>",
                  "name": "0",
                  "type": "heatmap",
                  "x": [
                    "<bos> (0)",
                    "A (1)",
                    " highly (2)",
                    " knowledgeable (3)",
                    " and (4)",
                    " intelligent (5)",
                    " AI (6)",
                    " answers (7)",
                    " multiple (8)",
                    "- (9)",
                    "choice (10)",
                    " questions (11)",
                    " about (12)",
                    " Biology (13)",
                    ". (14)",
                    " Which (15)",
                    " of (16)",
                    " the (17)",
                    " following (18)",
                    " theories (19)",
                    " is (20)",
                    " based (21)",
                    " on (22)",
                    " the (23)",
                    " notion (24)",
                    " that (25)",
                    " mitochondria (26)",
                    " and (27)",
                    " chlor (28)",
                    "oplasts (29)",
                    " evolved (30)",
                    " from (31)",
                    " prokary (32)",
                    "otic (33)",
                    " cells (34)",
                    "?: (35)",
                    "\n\n (36)",
                    "( (37)",
                    "A (38)",
                    ") (39)",
                    " Fluid (40)",
                    " mosaic (41)",
                    " model (42)",
                    "\n (43)",
                    "( (44)",
                    "B (45)",
                    ") (46)",
                    " End (47)",
                    "osy (48)",
                    "mb (49)",
                    "iotic (50)",
                    " model (51)",
                    "\n (52)",
                    "( (53)",
                    "C (54)",
                    ") (55)",
                    " Taxonomic (56)",
                    " model (57)",
                    "\n (58)",
                    "( (59)",
                    "D (60)",
                    ") (61)",
                    " Respiration (62)",
                    " feedback (63)",
                    " model (64)",
                    "\n (65)",
                    "Answer (66)",
                    ": (67)",
                    " ( (68)"
                  ],
                  "xaxis": "x",
                  "yaxis": "y",
                  "z": [
                    [
                      0.4740223288536072,
                      0.00009834145021159202,
                      0.00020457568462006748,
                      0.00004511119914241135,
                      0.00010149120498681441,
                      0.00004366564826341346,
                      0.0005429265438579023,
                      0.00037522916682064533,
                      0.0001247544278157875,
                      0.0002047432353720069,
                      0.00022537948098033667,
                      0.0009370330371893942,
                      0.00023416946351062506,
                      0.0011735022999346256,
                      0.002154513029381633,
                      0.0021202934440225363,
                      0.0026210169307887554,
                      0.0011007750872522593,
                      0.0011732925195246935,
                      0.005655472166836262,
                      0.005132987163960934,
                      0.0012503773905336857,
                      0.0008027937728911638,
                      0.00040573859587311745,
                      0.003810229478403926,
                      0.0006298157386481762,
                      0.010219225659966469,
                      0.002768125617876649,
                      0.0010008190292865038,
                      0.003366616554558277,
                      0.0002986495092045516,
                      0.0029937082435935736,
                      0.00047281841398216784,
                      0.0009052302339114249,
                      0.0018476146506145597,
                      0.004808714613318443,
                      0.0011268571252003312,
                      0.029345324262976646,
                      0.006110916845500469,
                      0.005288955755531788,
                      0.0005022675031796098,
                      0.0010747353080660105,
                      0.004380478989332914,
                      0.0057923984713852406,
                      0.0060228887014091015,
                      0.006887315306812525,
                      0.0010286137694492936,
                      0.002990549197420478,
                      0.0013058918993920088,
                      0.0011522785061970353,
                      0.004705952480435371,
                      0.007053709588944912,
                      0.0038807301316410303,
                      0.0009195806924253702,
                      0.005167498718947172,
                      0.0013610897585749626,
                      0.0013101256918162107,
                      0.003508665133267641,
                      0.006304759532213211,
                      0.010473692789673805,
                      0.016291256994009018,
                      0.0010949551360681653,
                      0.0010285190073773265,
                      0.002661746693775058,
                      0.026315944269299507,
                      0.028453506529331207,
                      0.09819179028272629,
                      0.08004092425107956,
                      0.09435401111841202
                    ]
                  ]
                }
              ],
              "layout": {
                "coloraxis": {
                  "colorscale": [
                    [
                      0,
                      "#0d0887"
                    ],
                    [
                      0.1111111111111111,
                      "#46039f"
                    ],
                    [
                      0.2222222222222222,
                      "#7201a8"
                    ],
                    [
                      0.3333333333333333,
                      "#9c179e"
                    ],
                    [
                      0.4444444444444444,
                      "#bd3786"
                    ],
                    [
                      0.5555555555555556,
                      "#d8576b"
                    ],
                    [
                      0.6666666666666666,
                      "#ed7953"
                    ],
                    [
                      0.7777777777777778,
                      "#fb9f3a"
                    ],
                    [
                      0.8888888888888888,
                      "#fdca26"
                    ],
                    [
                      1,
                      "#f0f921"
                    ]
                  ]
                },
                "height": 400,
                "margin": {
                  "t": 60
                },
                "template": {
                  "data": {
                    "bar": [
                      {
                        "error_x": {
                          "color": "#2a3f5f"
                        },
                        "error_y": {
                          "color": "#2a3f5f"
                        },
                        "marker": {
                          "line": {
                            "color": "#E5ECF6",
                            "width": 0.5
                          },
                          "pattern": {
                            "fillmode": "overlay",
                            "size": 10,
                            "solidity": 0.2
                          }
                        },
                        "type": "bar"
                      }
                    ],
                    "barpolar": [
                      {
                        "marker": {
                          "line": {
                            "color": "#E5ECF6",
                            "width": 0.5
                          },
                          "pattern": {
                            "fillmode": "overlay",
                            "size": 10,
                            "solidity": 0.2
                          }
                        },
                        "type": "barpolar"
                      }
                    ],
                    "carpet": [
                      {
                        "aaxis": {
                          "endlinecolor": "#2a3f5f",
                          "gridcolor": "white",
                          "linecolor": "white",
                          "minorgridcolor": "white",
                          "startlinecolor": "#2a3f5f"
                        },
                        "baxis": {
                          "endlinecolor": "#2a3f5f",
                          "gridcolor": "white",
                          "linecolor": "white",
                          "minorgridcolor": "white",
                          "startlinecolor": "#2a3f5f"
                        },
                        "type": "carpet"
                      }
                    ],
                    "choropleth": [
                      {
                        "colorbar": {
                          "outlinewidth": 0,
                          "ticks": ""
                        },
                        "type": "choropleth"
                      }
                    ],
                    "contour": [
                      {
                        "colorbar": {
                          "outlinewidth": 0,
                          "ticks": ""
                        },
                        "colorscale": [
                          [
                            0,
                            "#0d0887"
                          ],
                          [
                            0.1111111111111111,
                            "#46039f"
                          ],
                          [
                            0.2222222222222222,
                            "#7201a8"
                          ],
                          [
                            0.3333333333333333,
                            "#9c179e"
                          ],
                          [
                            0.4444444444444444,
                            "#bd3786"
                          ],
                          [
                            0.5555555555555556,
                            "#d8576b"
                          ],
                          [
                            0.6666666666666666,
                            "#ed7953"
                          ],
                          [
                            0.7777777777777778,
                            "#fb9f3a"
                          ],
                          [
                            0.8888888888888888,
                            "#fdca26"
                          ],
                          [
                            1,
                            "#f0f921"
                          ]
                        ],
                        "type": "contour"
                      }
                    ],
                    "contourcarpet": [
                      {
                        "colorbar": {
                          "outlinewidth": 0,
                          "ticks": ""
                        },
                        "type": "contourcarpet"
                      }
                    ],
                    "heatmap": [
                      {
                        "colorbar": {
                          "outlinewidth": 0,
                          "ticks": ""
                        },
                        "colorscale": [
                          [
                            0,
                            "#0d0887"
                          ],
                          [
                            0.1111111111111111,
                            "#46039f"
                          ],
                          [
                            0.2222222222222222,
                            "#7201a8"
                          ],
                          [
                            0.3333333333333333,
                            "#9c179e"
                          ],
                          [
                            0.4444444444444444,
                            "#bd3786"
                          ],
                          [
                            0.5555555555555556,
                            "#d8576b"
                          ],
                          [
                            0.6666666666666666,
                            "#ed7953"
                          ],
                          [
                            0.7777777777777778,
                            "#fb9f3a"
                          ],
                          [
                            0.8888888888888888,
                            "#fdca26"
                          ],
                          [
                            1,
                            "#f0f921"
                          ]
                        ],
                        "type": "heatmap"
                      }
                    ],
                    "heatmapgl": [
                      {
                        "colorbar": {
                          "outlinewidth": 0,
                          "ticks": ""
                        },
                        "colorscale": [
                          [
                            0,
                            "#0d0887"
                          ],
                          [
                            0.1111111111111111,
                            "#46039f"
                          ],
                          [
                            0.2222222222222222,
                            "#7201a8"
                          ],
                          [
                            0.3333333333333333,
                            "#9c179e"
                          ],
                          [
                            0.4444444444444444,
                            "#bd3786"
                          ],
                          [
                            0.5555555555555556,
                            "#d8576b"
                          ],
                          [
                            0.6666666666666666,
                            "#ed7953"
                          ],
                          [
                            0.7777777777777778,
                            "#fb9f3a"
                          ],
                          [
                            0.8888888888888888,
                            "#fdca26"
                          ],
                          [
                            1,
                            "#f0f921"
                          ]
                        ],
                        "type": "heatmapgl"
                      }
                    ],
                    "histogram": [
                      {
                        "marker": {
                          "pattern": {
                            "fillmode": "overlay",
                            "size": 10,
                            "solidity": 0.2
                          }
                        },
                        "type": "histogram"
                      }
                    ],
                    "histogram2d": [
                      {
                        "colorbar": {
                          "outlinewidth": 0,
                          "ticks": ""
                        },
                        "colorscale": [
                          [
                            0,
                            "#0d0887"
                          ],
                          [
                            0.1111111111111111,
                            "#46039f"
                          ],
                          [
                            0.2222222222222222,
                            "#7201a8"
                          ],
                          [
                            0.3333333333333333,
                            "#9c179e"
                          ],
                          [
                            0.4444444444444444,
                            "#bd3786"
                          ],
                          [
                            0.5555555555555556,
                            "#d8576b"
                          ],
                          [
                            0.6666666666666666,
                            "#ed7953"
                          ],
                          [
                            0.7777777777777778,
                            "#fb9f3a"
                          ],
                          [
                            0.8888888888888888,
                            "#fdca26"
                          ],
                          [
                            1,
                            "#f0f921"
                          ]
                        ],
                        "type": "histogram2d"
                      }
                    ],
                    "histogram2dcontour": [
                      {
                        "colorbar": {
                          "outlinewidth": 0,
                          "ticks": ""
                        },
                        "colorscale": [
                          [
                            0,
                            "#0d0887"
                          ],
                          [
                            0.1111111111111111,
                            "#46039f"
                          ],
                          [
                            0.2222222222222222,
                            "#7201a8"
                          ],
                          [
                            0.3333333333333333,
                            "#9c179e"
                          ],
                          [
                            0.4444444444444444,
                            "#bd3786"
                          ],
                          [
                            0.5555555555555556,
                            "#d8576b"
                          ],
                          [
                            0.6666666666666666,
                            "#ed7953"
                          ],
                          [
                            0.7777777777777778,
                            "#fb9f3a"
                          ],
                          [
                            0.8888888888888888,
                            "#fdca26"
                          ],
                          [
                            1,
                            "#f0f921"
                          ]
                        ],
                        "type": "histogram2dcontour"
                      }
                    ],
                    "mesh3d": [
                      {
                        "colorbar": {
                          "outlinewidth": 0,
                          "ticks": ""
                        },
                        "type": "mesh3d"
                      }
                    ],
                    "parcoords": [
                      {
                        "line": {
                          "colorbar": {
                            "outlinewidth": 0,
                            "ticks": ""
                          }
                        },
                        "type": "parcoords"
                      }
                    ],
                    "pie": [
                      {
                        "automargin": true,
                        "type": "pie"
                      }
                    ],
                    "scatter": [
                      {
                        "fillpattern": {
                          "fillmode": "overlay",
                          "size": 10,
                          "solidity": 0.2
                        },
                        "type": "scatter"
                      }
                    ],
                    "scatter3d": [
                      {
                        "line": {
                          "colorbar": {
                            "outlinewidth": 0,
                            "ticks": ""
                          }
                        },
                        "marker": {
                          "colorbar": {
                            "outlinewidth": 0,
                            "ticks": ""
                          }
                        },
                        "type": "scatter3d"
                      }
                    ],
                    "scattercarpet": [
                      {
                        "marker": {
                          "colorbar": {
                            "outlinewidth": 0,
                            "ticks": ""
                          }
                        },
                        "type": "scattercarpet"
                      }
                    ],
                    "scattergeo": [
                      {
                        "marker": {
                          "colorbar": {
                            "outlinewidth": 0,
                            "ticks": ""
                          }
                        },
                        "type": "scattergeo"
                      }
                    ],
                    "scattergl": [
                      {
                        "marker": {
                          "colorbar": {
                            "outlinewidth": 0,
                            "ticks": ""
                          }
                        },
                        "type": "scattergl"
                      }
                    ],
                    "scattermapbox": [
                      {
                        "marker": {
                          "colorbar": {
                            "outlinewidth": 0,
                            "ticks": ""
                          }
                        },
                        "type": "scattermapbox"
                      }
                    ],
                    "scatterpolar": [
                      {
                        "marker": {
                          "colorbar": {
                            "outlinewidth": 0,
                            "ticks": ""
                          }
                        },
                        "type": "scatterpolar"
                      }
                    ],
                    "scatterpolargl": [
                      {
                        "marker": {
                          "colorbar": {
                            "outlinewidth": 0,
                            "ticks": ""
                          }
                        },
                        "type": "scatterpolargl"
                      }
                    ],
                    "scatterternary": [
                      {
                        "marker": {
                          "colorbar": {
                            "outlinewidth": 0,
                            "ticks": ""
                          }
                        },
                        "type": "scatterternary"
                      }
                    ],
                    "surface": [
                      {
                        "colorbar": {
                          "outlinewidth": 0,
                          "ticks": ""
                        },
                        "colorscale": [
                          [
                            0,
                            "#0d0887"
                          ],
                          [
                            0.1111111111111111,
                            "#46039f"
                          ],
                          [
                            0.2222222222222222,
                            "#7201a8"
                          ],
                          [
                            0.3333333333333333,
                            "#9c179e"
                          ],
                          [
                            0.4444444444444444,
                            "#bd3786"
                          ],
                          [
                            0.5555555555555556,
                            "#d8576b"
                          ],
                          [
                            0.6666666666666666,
                            "#ed7953"
                          ],
                          [
                            0.7777777777777778,
                            "#fb9f3a"
                          ],
                          [
                            0.8888888888888888,
                            "#fdca26"
                          ],
                          [
                            1,
                            "#f0f921"
                          ]
                        ],
                        "type": "surface"
                      }
                    ],
                    "table": [
                      {
                        "cells": {
                          "fill": {
                            "color": "#EBF0F8"
                          },
                          "line": {
                            "color": "white"
                          }
                        },
                        "header": {
                          "fill": {
                            "color": "#C8D4E3"
                          },
                          "line": {
                            "color": "white"
                          }
                        },
                        "type": "table"
                      }
                    ]
                  },
                  "layout": {
                    "annotationdefaults": {
                      "arrowcolor": "#2a3f5f",
                      "arrowhead": 0,
                      "arrowwidth": 1
                    },
                    "autotypenumbers": "strict",
                    "coloraxis": {
                      "colorbar": {
                        "outlinewidth": 0,
                        "ticks": ""
                      }
                    },
                    "colorscale": {
                      "diverging": [
                        [
                          0,
                          "#8e0152"
                        ],
                        [
                          0.1,
                          "#c51b7d"
                        ],
                        [
                          0.2,
                          "#de77ae"
                        ],
                        [
                          0.3,
                          "#f1b6da"
                        ],
                        [
                          0.4,
                          "#fde0ef"
                        ],
                        [
                          0.5,
                          "#f7f7f7"
                        ],
                        [
                          0.6,
                          "#e6f5d0"
                        ],
                        [
                          0.7,
                          "#b8e186"
                        ],
                        [
                          0.8,
                          "#7fbc41"
                        ],
                        [
                          0.9,
                          "#4d9221"
                        ],
                        [
                          1,
                          "#276419"
                        ]
                      ],
                      "sequential": [
                        [
                          0,
                          "#0d0887"
                        ],
                        [
                          0.1111111111111111,
                          "#46039f"
                        ],
                        [
                          0.2222222222222222,
                          "#7201a8"
                        ],
                        [
                          0.3333333333333333,
                          "#9c179e"
                        ],
                        [
                          0.4444444444444444,
                          "#bd3786"
                        ],
                        [
                          0.5555555555555556,
                          "#d8576b"
                        ],
                        [
                          0.6666666666666666,
                          "#ed7953"
                        ],
                        [
                          0.7777777777777778,
                          "#fb9f3a"
                        ],
                        [
                          0.8888888888888888,
                          "#fdca26"
                        ],
                        [
                          1,
                          "#f0f921"
                        ]
                      ],
                      "sequentialminus": [
                        [
                          0,
                          "#0d0887"
                        ],
                        [
                          0.1111111111111111,
                          "#46039f"
                        ],
                        [
                          0.2222222222222222,
                          "#7201a8"
                        ],
                        [
                          0.3333333333333333,
                          "#9c179e"
                        ],
                        [
                          0.4444444444444444,
                          "#bd3786"
                        ],
                        [
                          0.5555555555555556,
                          "#d8576b"
                        ],
                        [
                          0.6666666666666666,
                          "#ed7953"
                        ],
                        [
                          0.7777777777777778,
                          "#fb9f3a"
                        ],
                        [
                          0.8888888888888888,
                          "#fdca26"
                        ],
                        [
                          1,
                          "#f0f921"
                        ]
                      ]
                    },
                    "colorway": [
                      "#636efa",
                      "#EF553B",
                      "#00cc96",
                      "#ab63fa",
                      "#FFA15A",
                      "#19d3f3",
                      "#FF6692",
                      "#B6E880",
                      "#FF97FF",
                      "#FECB52"
                    ],
                    "font": {
                      "color": "#2a3f5f"
                    },
                    "geo": {
                      "bgcolor": "white",
                      "lakecolor": "white",
                      "landcolor": "#E5ECF6",
                      "showlakes": true,
                      "showland": true,
                      "subunitcolor": "white"
                    },
                    "hoverlabel": {
                      "align": "left"
                    },
                    "hovermode": "closest",
                    "mapbox": {
                      "style": "light"
                    },
                    "paper_bgcolor": "white",
                    "plot_bgcolor": "#E5ECF6",
                    "polar": {
                      "angularaxis": {
                        "gridcolor": "white",
                        "linecolor": "white",
                        "ticks": ""
                      },
                      "bgcolor": "#E5ECF6",
                      "radialaxis": {
                        "gridcolor": "white",
                        "linecolor": "white",
                        "ticks": ""
                      }
                    },
                    "scene": {
                      "xaxis": {
                        "backgroundcolor": "#E5ECF6",
                        "gridcolor": "white",
                        "gridwidth": 2,
                        "linecolor": "white",
                        "showbackground": true,
                        "ticks": "",
                        "zerolinecolor": "white"
                      },
                      "yaxis": {
                        "backgroundcolor": "#E5ECF6",
                        "gridcolor": "white",
                        "gridwidth": 2,
                        "linecolor": "white",
                        "showbackground": true,
                        "ticks": "",
                        "zerolinecolor": "white"
                      },
                      "zaxis": {
                        "backgroundcolor": "#E5ECF6",
                        "gridcolor": "white",
                        "gridwidth": 2,
                        "linecolor": "white",
                        "showbackground": true,
                        "ticks": "",
                        "zerolinecolor": "white"
                      }
                    },
                    "shapedefaults": {
                      "line": {
                        "color": "#2a3f5f"
                      }
                    },
                    "ternary": {
                      "aaxis": {
                        "gridcolor": "white",
                        "linecolor": "white",
                        "ticks": ""
                      },
                      "baxis": {
                        "gridcolor": "white",
                        "linecolor": "white",
                        "ticks": ""
                      },
                      "bgcolor": "#E5ECF6",
                      "caxis": {
                        "gridcolor": "white",
                        "linecolor": "white",
                        "ticks": ""
                      }
                    },
                    "title": {
                      "x": 0.05
                    },
                    "xaxis": {
                      "automargin": true,
                      "gridcolor": "white",
                      "linecolor": "white",
                      "ticks": "",
                      "title": {
                        "standoff": 15
                      },
                      "zerolinecolor": "white",
                      "zerolinewidth": 2
                    },
                    "yaxis": {
                      "automargin": true,
                      "gridcolor": "white",
                      "linecolor": "white",
                      "ticks": "",
                      "title": {
                        "standoff": 15
                      },
                      "zerolinecolor": "white",
                      "zerolinewidth": 2
                    }
                  }
                },
                "width": 1400,
                "xaxis": {
                  "anchor": "y",
                  "domain": [
                    0,
                    1
                  ]
                },
                "yaxis": {
                  "anchor": "x",
                  "autorange": "reversed",
                  "domain": [
                    0,
                    1
                  ]
                }
              }
            },
            "text/html": [
              "<div>                            <div id=\"d86d28b1-11fa-44f3-915d-28b8082badb2\" class=\"plotly-graph-div\" style=\"height:400px; width:1400px;\"></div>            <script type=\"text/javascript\">                require([\"plotly\"], function(Plotly) {                    window.PLOTLYENV=window.PLOTLYENV || {};                                    if (document.getElementById(\"d86d28b1-11fa-44f3-915d-28b8082badb2\")) {                    Plotly.newPlot(                        \"d86d28b1-11fa-44f3-915d-28b8082badb2\",                        [{\"coloraxis\":\"coloraxis\",\"name\":\"0\",\"x\":[\"\\u003cbos\\u003e (0)\",\"A (1)\",\" highly (2)\",\" knowledgeable (3)\",\" and (4)\",\" intelligent (5)\",\" AI (6)\",\" answers (7)\",\" multiple (8)\",\"- (9)\",\"choice (10)\",\" questions (11)\",\" about (12)\",\" Biology (13)\",\". (14)\",\" Which (15)\",\" of (16)\",\" the (17)\",\" following (18)\",\" theories (19)\",\" is (20)\",\" based (21)\",\" on (22)\",\" the (23)\",\" notion (24)\",\" that (25)\",\" mitochondria (26)\",\" and (27)\",\" chlor (28)\",\"oplasts (29)\",\" evolved (30)\",\" from (31)\",\" prokary (32)\",\"otic (33)\",\" cells (34)\",\"?: (35)\",\"\\n\\n (36)\",\"( (37)\",\"A (38)\",\") (39)\",\" Fluid (40)\",\" mosaic (41)\",\" model (42)\",\"\\n (43)\",\"( (44)\",\"B (45)\",\") (46)\",\" End (47)\",\"osy (48)\",\"mb (49)\",\"iotic (50)\",\" model (51)\",\"\\n (52)\",\"( (53)\",\"C (54)\",\") (55)\",\" Taxonomic (56)\",\" model (57)\",\"\\n (58)\",\"( (59)\",\"D (60)\",\") (61)\",\" Respiration (62)\",\" feedback (63)\",\" model (64)\",\"\\n (65)\",\"Answer (66)\",\": (67)\",\" ( (68)\"],\"z\":[[0.4740223288536072,9.834145021159202e-05,0.00020457568462006748,4.511119914241135e-05,0.00010149120498681441,4.366564826341346e-05,0.0005429265438579023,0.00037522916682064533,0.0001247544278157875,0.0002047432353720069,0.00022537948098033667,0.0009370330371893942,0.00023416946351062506,0.0011735022999346256,0.002154513029381633,0.0021202934440225363,0.0026210169307887554,0.0011007750872522593,0.0011732925195246935,0.005655472166836262,0.005132987163960934,0.0012503773905336857,0.0008027937728911638,0.00040573859587311745,0.003810229478403926,0.0006298157386481762,0.010219225659966469,0.002768125617876649,0.0010008190292865038,0.003366616554558277,0.0002986495092045516,0.0029937082435935736,0.00047281841398216784,0.0009052302339114249,0.0018476146506145597,0.004808714613318443,0.0011268571252003312,0.029345324262976646,0.006110916845500469,0.005288955755531788,0.0005022675031796098,0.0010747353080660105,0.004380478989332914,0.0057923984713852406,0.0060228887014091015,0.006887315306812525,0.0010286137694492936,0.002990549197420478,0.0013058918993920088,0.0011522785061970353,0.004705952480435371,0.007053709588944912,0.0038807301316410303,0.0009195806924253702,0.005167498718947172,0.0013610897585749626,0.0013101256918162107,0.003508665133267641,0.006304759532213211,0.010473692789673805,0.016291256994009018,0.0010949551360681653,0.0010285190073773265,0.002661746693775058,0.026315944269299507,0.028453506529331207,0.09819179028272629,0.08004092425107956,0.09435401111841202]],\"type\":\"heatmap\",\"xaxis\":\"x\",\"yaxis\":\"y\",\"hovertemplate\":\"x: %{x}\\u003cbr\\u003ey: %{y}\\u003cbr\\u003ecolor: %{z}\\u003cextra\\u003e\\u003c\\u002fextra\\u003e\"}],                        {\"template\":{\"data\":{\"histogram2dcontour\":[{\"type\":\"histogram2dcontour\",\"colorbar\":{\"outlinewidth\":0,\"ticks\":\"\"},\"colorscale\":[[0.0,\"#0d0887\"],[0.1111111111111111,\"#46039f\"],[0.2222222222222222,\"#7201a8\"],[0.3333333333333333,\"#9c179e\"],[0.4444444444444444,\"#bd3786\"],[0.5555555555555556,\"#d8576b\"],[0.6666666666666666,\"#ed7953\"],[0.7777777777777778,\"#fb9f3a\"],[0.8888888888888888,\"#fdca26\"],[1.0,\"#f0f921\"]]}],\"choropleth\":[{\"type\":\"choropleth\",\"colorbar\":{\"outlinewidth\":0,\"ticks\":\"\"}}],\"histogram2d\":[{\"type\":\"histogram2d\",\"colorbar\":{\"outlinewidth\":0,\"ticks\":\"\"},\"colorscale\":[[0.0,\"#0d0887\"],[0.1111111111111111,\"#46039f\"],[0.2222222222222222,\"#7201a8\"],[0.3333333333333333,\"#9c179e\"],[0.4444444444444444,\"#bd3786\"],[0.5555555555555556,\"#d8576b\"],[0.6666666666666666,\"#ed7953\"],[0.7777777777777778,\"#fb9f3a\"],[0.8888888888888888,\"#fdca26\"],[1.0,\"#f0f921\"]]}],\"heatmap\":[{\"type\":\"heatmap\",\"colorbar\":{\"outlinewidth\":0,\"ticks\":\"\"},\"colorscale\":[[0.0,\"#0d0887\"],[0.1111111111111111,\"#46039f\"],[0.2222222222222222,\"#7201a8\"],[0.3333333333333333,\"#9c179e\"],[0.4444444444444444,\"#bd3786\"],[0.5555555555555556,\"#d8576b\"],[0.6666666666666666,\"#ed7953\"],[0.7777777777777778,\"#fb9f3a\"],[0.8888888888888888,\"#fdca26\"],[1.0,\"#f0f921\"]]}],\"heatmapgl\":[{\"type\":\"heatmapgl\",\"colorbar\":{\"outlinewidth\":0,\"ticks\":\"\"},\"colorscale\":[[0.0,\"#0d0887\"],[0.1111111111111111,\"#46039f\"],[0.2222222222222222,\"#7201a8\"],[0.3333333333333333,\"#9c179e\"],[0.4444444444444444,\"#bd3786\"],[0.5555555555555556,\"#d8576b\"],[0.6666666666666666,\"#ed7953\"],[0.7777777777777778,\"#fb9f3a\"],[0.8888888888888888,\"#fdca26\"],[1.0,\"#f0f921\"]]}],\"contourcarpet\":[{\"type\":\"contourcarpet\",\"colorbar\":{\"outlinewidth\":0,\"ticks\":\"\"}}],\"contour\":[{\"type\":\"contour\",\"colorbar\":{\"outlinewidth\":0,\"ticks\":\"\"},\"colorscale\":[[0.0,\"#0d0887\"],[0.1111111111111111,\"#46039f\"],[0.2222222222222222,\"#7201a8\"],[0.3333333333333333,\"#9c179e\"],[0.4444444444444444,\"#bd3786\"],[0.5555555555555556,\"#d8576b\"],[0.6666666666666666,\"#ed7953\"],[0.7777777777777778,\"#fb9f3a\"],[0.8888888888888888,\"#fdca26\"],[1.0,\"#f0f921\"]]}],\"surface\":[{\"type\":\"surface\",\"colorbar\":{\"outlinewidth\":0,\"ticks\":\"\"},\"colorscale\":[[0.0,\"#0d0887\"],[0.1111111111111111,\"#46039f\"],[0.2222222222222222,\"#7201a8\"],[0.3333333333333333,\"#9c179e\"],[0.4444444444444444,\"#bd3786\"],[0.5555555555555556,\"#d8576b\"],[0.6666666666666666,\"#ed7953\"],[0.7777777777777778,\"#fb9f3a\"],[0.8888888888888888,\"#fdca26\"],[1.0,\"#f0f921\"]]}],\"mesh3d\":[{\"type\":\"mesh3d\",\"colorbar\":{\"outlinewidth\":0,\"ticks\":\"\"}}],\"scatter\":[{\"fillpattern\":{\"fillmode\":\"overlay\",\"size\":10,\"solidity\":0.2},\"type\":\"scatter\"}],\"parcoords\":[{\"type\":\"parcoords\",\"line\":{\"colorbar\":{\"outlinewidth\":0,\"ticks\":\"\"}}}],\"scatterpolargl\":[{\"type\":\"scatterpolargl\",\"marker\":{\"colorbar\":{\"outlinewidth\":0,\"ticks\":\"\"}}}],\"bar\":[{\"error_x\":{\"color\":\"#2a3f5f\"},\"error_y\":{\"color\":\"#2a3f5f\"},\"marker\":{\"line\":{\"color\":\"#E5ECF6\",\"width\":0.5},\"pattern\":{\"fillmode\":\"overlay\",\"size\":10,\"solidity\":0.2}},\"type\":\"bar\"}],\"scattergeo\":[{\"type\":\"scattergeo\",\"marker\":{\"colorbar\":{\"outlinewidth\":0,\"ticks\":\"\"}}}],\"scatterpolar\":[{\"type\":\"scatterpolar\",\"marker\":{\"colorbar\":{\"outlinewidth\":0,\"ticks\":\"\"}}}],\"histogram\":[{\"marker\":{\"pattern\":{\"fillmode\":\"overlay\",\"size\":10,\"solidity\":0.2}},\"type\":\"histogram\"}],\"scattergl\":[{\"type\":\"scattergl\",\"marker\":{\"colorbar\":{\"outlinewidth\":0,\"ticks\":\"\"}}}],\"scatter3d\":[{\"type\":\"scatter3d\",\"line\":{\"colorbar\":{\"outlinewidth\":0,\"ticks\":\"\"}},\"marker\":{\"colorbar\":{\"outlinewidth\":0,\"ticks\":\"\"}}}],\"scattermapbox\":[{\"type\":\"scattermapbox\",\"marker\":{\"colorbar\":{\"outlinewidth\":0,\"ticks\":\"\"}}}],\"scatterternary\":[{\"type\":\"scatterternary\",\"marker\":{\"colorbar\":{\"outlinewidth\":0,\"ticks\":\"\"}}}],\"scattercarpet\":[{\"type\":\"scattercarpet\",\"marker\":{\"colorbar\":{\"outlinewidth\":0,\"ticks\":\"\"}}}],\"carpet\":[{\"aaxis\":{\"endlinecolor\":\"#2a3f5f\",\"gridcolor\":\"white\",\"linecolor\":\"white\",\"minorgridcolor\":\"white\",\"startlinecolor\":\"#2a3f5f\"},\"baxis\":{\"endlinecolor\":\"#2a3f5f\",\"gridcolor\":\"white\",\"linecolor\":\"white\",\"minorgridcolor\":\"white\",\"startlinecolor\":\"#2a3f5f\"},\"type\":\"carpet\"}],\"table\":[{\"cells\":{\"fill\":{\"color\":\"#EBF0F8\"},\"line\":{\"color\":\"white\"}},\"header\":{\"fill\":{\"color\":\"#C8D4E3\"},\"line\":{\"color\":\"white\"}},\"type\":\"table\"}],\"barpolar\":[{\"marker\":{\"line\":{\"color\":\"#E5ECF6\",\"width\":0.5},\"pattern\":{\"fillmode\":\"overlay\",\"size\":10,\"solidity\":0.2}},\"type\":\"barpolar\"}],\"pie\":[{\"automargin\":true,\"type\":\"pie\"}]},\"layout\":{\"autotypenumbers\":\"strict\",\"colorway\":[\"#636efa\",\"#EF553B\",\"#00cc96\",\"#ab63fa\",\"#FFA15A\",\"#19d3f3\",\"#FF6692\",\"#B6E880\",\"#FF97FF\",\"#FECB52\"],\"font\":{\"color\":\"#2a3f5f\"},\"hovermode\":\"closest\",\"hoverlabel\":{\"align\":\"left\"},\"paper_bgcolor\":\"white\",\"plot_bgcolor\":\"#E5ECF6\",\"polar\":{\"bgcolor\":\"#E5ECF6\",\"angularaxis\":{\"gridcolor\":\"white\",\"linecolor\":\"white\",\"ticks\":\"\"},\"radialaxis\":{\"gridcolor\":\"white\",\"linecolor\":\"white\",\"ticks\":\"\"}},\"ternary\":{\"bgcolor\":\"#E5ECF6\",\"aaxis\":{\"gridcolor\":\"white\",\"linecolor\":\"white\",\"ticks\":\"\"},\"baxis\":{\"gridcolor\":\"white\",\"linecolor\":\"white\",\"ticks\":\"\"},\"caxis\":{\"gridcolor\":\"white\",\"linecolor\":\"white\",\"ticks\":\"\"}},\"coloraxis\":{\"colorbar\":{\"outlinewidth\":0,\"ticks\":\"\"}},\"colorscale\":{\"sequential\":[[0.0,\"#0d0887\"],[0.1111111111111111,\"#46039f\"],[0.2222222222222222,\"#7201a8\"],[0.3333333333333333,\"#9c179e\"],[0.4444444444444444,\"#bd3786\"],[0.5555555555555556,\"#d8576b\"],[0.6666666666666666,\"#ed7953\"],[0.7777777777777778,\"#fb9f3a\"],[0.8888888888888888,\"#fdca26\"],[1.0,\"#f0f921\"]],\"sequentialminus\":[[0.0,\"#0d0887\"],[0.1111111111111111,\"#46039f\"],[0.2222222222222222,\"#7201a8\"],[0.3333333333333333,\"#9c179e\"],[0.4444444444444444,\"#bd3786\"],[0.5555555555555556,\"#d8576b\"],[0.6666666666666666,\"#ed7953\"],[0.7777777777777778,\"#fb9f3a\"],[0.8888888888888888,\"#fdca26\"],[1.0,\"#f0f921\"]],\"diverging\":[[0,\"#8e0152\"],[0.1,\"#c51b7d\"],[0.2,\"#de77ae\"],[0.3,\"#f1b6da\"],[0.4,\"#fde0ef\"],[0.5,\"#f7f7f7\"],[0.6,\"#e6f5d0\"],[0.7,\"#b8e186\"],[0.8,\"#7fbc41\"],[0.9,\"#4d9221\"],[1,\"#276419\"]]},\"xaxis\":{\"gridcolor\":\"white\",\"linecolor\":\"white\",\"ticks\":\"\",\"title\":{\"standoff\":15},\"zerolinecolor\":\"white\",\"automargin\":true,\"zerolinewidth\":2},\"yaxis\":{\"gridcolor\":\"white\",\"linecolor\":\"white\",\"ticks\":\"\",\"title\":{\"standoff\":15},\"zerolinecolor\":\"white\",\"automargin\":true,\"zerolinewidth\":2},\"scene\":{\"xaxis\":{\"backgroundcolor\":\"#E5ECF6\",\"gridcolor\":\"white\",\"linecolor\":\"white\",\"showbackground\":true,\"ticks\":\"\",\"zerolinecolor\":\"white\",\"gridwidth\":2},\"yaxis\":{\"backgroundcolor\":\"#E5ECF6\",\"gridcolor\":\"white\",\"linecolor\":\"white\",\"showbackground\":true,\"ticks\":\"\",\"zerolinecolor\":\"white\",\"gridwidth\":2},\"zaxis\":{\"backgroundcolor\":\"#E5ECF6\",\"gridcolor\":\"white\",\"linecolor\":\"white\",\"showbackground\":true,\"ticks\":\"\",\"zerolinecolor\":\"white\",\"gridwidth\":2}},\"shapedefaults\":{\"line\":{\"color\":\"#2a3f5f\"}},\"annotationdefaults\":{\"arrowcolor\":\"#2a3f5f\",\"arrowhead\":0,\"arrowwidth\":1},\"geo\":{\"bgcolor\":\"white\",\"landcolor\":\"#E5ECF6\",\"subunitcolor\":\"white\",\"showland\":true,\"showlakes\":true,\"lakecolor\":\"white\"},\"title\":{\"x\":0.05},\"mapbox\":{\"style\":\"light\"}}},\"xaxis\":{\"anchor\":\"y\",\"domain\":[0.0,1.0]},\"yaxis\":{\"anchor\":\"x\",\"domain\":[0.0,1.0],\"autorange\":\"reversed\"},\"coloraxis\":{\"colorscale\":[[0.0,\"#0d0887\"],[0.1111111111111111,\"#46039f\"],[0.2222222222222222,\"#7201a8\"],[0.3333333333333333,\"#9c179e\"],[0.4444444444444444,\"#bd3786\"],[0.5555555555555556,\"#d8576b\"],[0.6666666666666666,\"#ed7953\"],[0.7777777777777778,\"#fb9f3a\"],[0.8888888888888888,\"#fdca26\"],[1.0,\"#f0f921\"]]},\"margin\":{\"t\":60},\"width\":1400,\"height\":400},                        {\"responsive\": true}                    ).then(function(){\n",
              "                            \n",
              "var gd = document.getElementById('d86d28b1-11fa-44f3-915d-28b8082badb2');\n",
              "var x = new MutationObserver(function (mutations, observer) {{\n",
              "        var display = window.getComputedStyle(gd).display;\n",
              "        if (!display || display === 'none') {{\n",
              "            console.log([gd, 'removed!']);\n",
              "            Plotly.purge(gd);\n",
              "            observer.disconnect();\n",
              "        }}\n",
              "}});\n",
              "\n",
              "// Listen for the removal of the full notebook cells\n",
              "var notebookContainer = gd.closest('#notebook-container');\n",
              "if (notebookContainer) {{\n",
              "    x.observe(notebookContainer, {childList: true});\n",
              "}}\n",
              "\n",
              "// Listen for the clearing of the current output cell\n",
              "var outputEl = gd.closest('.output');\n",
              "if (outputEl) {{\n",
              "    x.observe(outputEl, {childList: true});\n",
              "}}\n",
              "\n",
              "                        })                };                });            </script>        </div>"
            ]
          },
          "metadata": {},
          "output_type": "display_data"
        }
      ],
      "source": [
        "letter_idxs = [38, 44, 50, 57]\n",
        "\n",
        "plot_toks = [f\"{tok} ({i})\" for i, tok in enumerate(model.to_str_tokens(prompts[-1]))]\n",
        "fig = px.imshow(patterns[458-28, 0, -1, None], x=plot_toks, aspect='auto')\n",
        "fig.update_layout(width=1400, height=400)"
      ]
    },
    {
      "cell_type": "code",
      "execution_count": null,
      "metadata": {
        "id": "5vZQG6wwPjNN"
      },
      "outputs": [],
      "source": [
        "top_k_values, top_k_indices = torch.topk(dla, 10)"
      ]
    },
    {
      "cell_type": "code",
      "execution_count": null,
      "metadata": {
        "id": "e7MhcuFLPjNN"
      },
      "outputs": [],
      "source": [
        "_, large_mag_indices = torch.topk(torch.abs(dla), 20)\n",
        "large_mag_values = dla[large_mag_indices]"
      ]
    },
    {
      "cell_type": "code",
      "execution_count": null,
      "metadata": {
        "id": "cYsvXQZEPjNN"
      },
      "outputs": [],
      "source": [
        "top_labels = [component_labels[i] for i in top_k_indices]"
      ]
    },
    {
      "cell_type": "code",
      "execution_count": null,
      "metadata": {
        "id": "biKxjVegPjNO",
        "outputId": "f27f701b-6924-457f-c9b9-d3e999fc4618"
      },
      "outputs": [
        {
          "data": {
            "application/vnd.plotly.v1+json": {
              "config": {
                "plotlyServerURL": "https://plot.ly"
              },
              "data": [
                {
                  "alignmentgroup": "True",
                  "hovertemplate": "x=%{x}<br>y=%{y}<extra></extra>",
                  "legendgroup": "",
                  "marker": {
                    "color": "#636efa",
                    "pattern": {
                      "shape": ""
                    }
                  },
                  "name": "",
                  "offsetgroup": "",
                  "orientation": "v",
                  "showlegend": false,
                  "textposition": "auto",
                  "type": "bar",
                  "x": [
                    "L0H12",
                    "L0H15",
                    "L0H3",
                    "L0H10",
                    "L0H11",
                    "L0H14",
                    "L0H2",
                    "L27H8",
                    "L26H14",
                    "L25H8",
                    "L0H7",
                    "27_mlp_out",
                    "18_mlp_out",
                    "21_mlp_out",
                    "23_mlp_out",
                    "22_mlp_out",
                    "L25H12",
                    "L0H9",
                    "20_mlp_out",
                    "L25H2"
                  ],
                  "xaxis": "x",
                  "y": [
                    459,
                    96.375,
                    60.375,
                    51.09375,
                    15.78125,
                    14.296875,
                    9.4140625,
                    7.9179688,
                    4.171875,
                    3.6425781,
                    3.6328125,
                    3.5,
                    3.2304688,
                    3.0839844,
                    3.0527344,
                    3.0410156,
                    3.0019531,
                    2.5566406,
                    1.9960938,
                    1.8564453
                  ],
                  "yaxis": "y"
                }
              ],
              "layout": {
                "barmode": "relative",
                "legend": {
                  "tracegroupgap": 0
                },
                "margin": {
                  "t": 60
                },
                "template": {
                  "data": {
                    "bar": [
                      {
                        "error_x": {
                          "color": "#2a3f5f"
                        },
                        "error_y": {
                          "color": "#2a3f5f"
                        },
                        "marker": {
                          "line": {
                            "color": "#E5ECF6",
                            "width": 0.5
                          },
                          "pattern": {
                            "fillmode": "overlay",
                            "size": 10,
                            "solidity": 0.2
                          }
                        },
                        "type": "bar"
                      }
                    ],
                    "barpolar": [
                      {
                        "marker": {
                          "line": {
                            "color": "#E5ECF6",
                            "width": 0.5
                          },
                          "pattern": {
                            "fillmode": "overlay",
                            "size": 10,
                            "solidity": 0.2
                          }
                        },
                        "type": "barpolar"
                      }
                    ],
                    "carpet": [
                      {
                        "aaxis": {
                          "endlinecolor": "#2a3f5f",
                          "gridcolor": "white",
                          "linecolor": "white",
                          "minorgridcolor": "white",
                          "startlinecolor": "#2a3f5f"
                        },
                        "baxis": {
                          "endlinecolor": "#2a3f5f",
                          "gridcolor": "white",
                          "linecolor": "white",
                          "minorgridcolor": "white",
                          "startlinecolor": "#2a3f5f"
                        },
                        "type": "carpet"
                      }
                    ],
                    "choropleth": [
                      {
                        "colorbar": {
                          "outlinewidth": 0,
                          "ticks": ""
                        },
                        "type": "choropleth"
                      }
                    ],
                    "contour": [
                      {
                        "colorbar": {
                          "outlinewidth": 0,
                          "ticks": ""
                        },
                        "colorscale": [
                          [
                            0,
                            "#0d0887"
                          ],
                          [
                            0.1111111111111111,
                            "#46039f"
                          ],
                          [
                            0.2222222222222222,
                            "#7201a8"
                          ],
                          [
                            0.3333333333333333,
                            "#9c179e"
                          ],
                          [
                            0.4444444444444444,
                            "#bd3786"
                          ],
                          [
                            0.5555555555555556,
                            "#d8576b"
                          ],
                          [
                            0.6666666666666666,
                            "#ed7953"
                          ],
                          [
                            0.7777777777777778,
                            "#fb9f3a"
                          ],
                          [
                            0.8888888888888888,
                            "#fdca26"
                          ],
                          [
                            1,
                            "#f0f921"
                          ]
                        ],
                        "type": "contour"
                      }
                    ],
                    "contourcarpet": [
                      {
                        "colorbar": {
                          "outlinewidth": 0,
                          "ticks": ""
                        },
                        "type": "contourcarpet"
                      }
                    ],
                    "heatmap": [
                      {
                        "colorbar": {
                          "outlinewidth": 0,
                          "ticks": ""
                        },
                        "colorscale": [
                          [
                            0,
                            "#0d0887"
                          ],
                          [
                            0.1111111111111111,
                            "#46039f"
                          ],
                          [
                            0.2222222222222222,
                            "#7201a8"
                          ],
                          [
                            0.3333333333333333,
                            "#9c179e"
                          ],
                          [
                            0.4444444444444444,
                            "#bd3786"
                          ],
                          [
                            0.5555555555555556,
                            "#d8576b"
                          ],
                          [
                            0.6666666666666666,
                            "#ed7953"
                          ],
                          [
                            0.7777777777777778,
                            "#fb9f3a"
                          ],
                          [
                            0.8888888888888888,
                            "#fdca26"
                          ],
                          [
                            1,
                            "#f0f921"
                          ]
                        ],
                        "type": "heatmap"
                      }
                    ],
                    "heatmapgl": [
                      {
                        "colorbar": {
                          "outlinewidth": 0,
                          "ticks": ""
                        },
                        "colorscale": [
                          [
                            0,
                            "#0d0887"
                          ],
                          [
                            0.1111111111111111,
                            "#46039f"
                          ],
                          [
                            0.2222222222222222,
                            "#7201a8"
                          ],
                          [
                            0.3333333333333333,
                            "#9c179e"
                          ],
                          [
                            0.4444444444444444,
                            "#bd3786"
                          ],
                          [
                            0.5555555555555556,
                            "#d8576b"
                          ],
                          [
                            0.6666666666666666,
                            "#ed7953"
                          ],
                          [
                            0.7777777777777778,
                            "#fb9f3a"
                          ],
                          [
                            0.8888888888888888,
                            "#fdca26"
                          ],
                          [
                            1,
                            "#f0f921"
                          ]
                        ],
                        "type": "heatmapgl"
                      }
                    ],
                    "histogram": [
                      {
                        "marker": {
                          "pattern": {
                            "fillmode": "overlay",
                            "size": 10,
                            "solidity": 0.2
                          }
                        },
                        "type": "histogram"
                      }
                    ],
                    "histogram2d": [
                      {
                        "colorbar": {
                          "outlinewidth": 0,
                          "ticks": ""
                        },
                        "colorscale": [
                          [
                            0,
                            "#0d0887"
                          ],
                          [
                            0.1111111111111111,
                            "#46039f"
                          ],
                          [
                            0.2222222222222222,
                            "#7201a8"
                          ],
                          [
                            0.3333333333333333,
                            "#9c179e"
                          ],
                          [
                            0.4444444444444444,
                            "#bd3786"
                          ],
                          [
                            0.5555555555555556,
                            "#d8576b"
                          ],
                          [
                            0.6666666666666666,
                            "#ed7953"
                          ],
                          [
                            0.7777777777777778,
                            "#fb9f3a"
                          ],
                          [
                            0.8888888888888888,
                            "#fdca26"
                          ],
                          [
                            1,
                            "#f0f921"
                          ]
                        ],
                        "type": "histogram2d"
                      }
                    ],
                    "histogram2dcontour": [
                      {
                        "colorbar": {
                          "outlinewidth": 0,
                          "ticks": ""
                        },
                        "colorscale": [
                          [
                            0,
                            "#0d0887"
                          ],
                          [
                            0.1111111111111111,
                            "#46039f"
                          ],
                          [
                            0.2222222222222222,
                            "#7201a8"
                          ],
                          [
                            0.3333333333333333,
                            "#9c179e"
                          ],
                          [
                            0.4444444444444444,
                            "#bd3786"
                          ],
                          [
                            0.5555555555555556,
                            "#d8576b"
                          ],
                          [
                            0.6666666666666666,
                            "#ed7953"
                          ],
                          [
                            0.7777777777777778,
                            "#fb9f3a"
                          ],
                          [
                            0.8888888888888888,
                            "#fdca26"
                          ],
                          [
                            1,
                            "#f0f921"
                          ]
                        ],
                        "type": "histogram2dcontour"
                      }
                    ],
                    "mesh3d": [
                      {
                        "colorbar": {
                          "outlinewidth": 0,
                          "ticks": ""
                        },
                        "type": "mesh3d"
                      }
                    ],
                    "parcoords": [
                      {
                        "line": {
                          "colorbar": {
                            "outlinewidth": 0,
                            "ticks": ""
                          }
                        },
                        "type": "parcoords"
                      }
                    ],
                    "pie": [
                      {
                        "automargin": true,
                        "type": "pie"
                      }
                    ],
                    "scatter": [
                      {
                        "fillpattern": {
                          "fillmode": "overlay",
                          "size": 10,
                          "solidity": 0.2
                        },
                        "type": "scatter"
                      }
                    ],
                    "scatter3d": [
                      {
                        "line": {
                          "colorbar": {
                            "outlinewidth": 0,
                            "ticks": ""
                          }
                        },
                        "marker": {
                          "colorbar": {
                            "outlinewidth": 0,
                            "ticks": ""
                          }
                        },
                        "type": "scatter3d"
                      }
                    ],
                    "scattercarpet": [
                      {
                        "marker": {
                          "colorbar": {
                            "outlinewidth": 0,
                            "ticks": ""
                          }
                        },
                        "type": "scattercarpet"
                      }
                    ],
                    "scattergeo": [
                      {
                        "marker": {
                          "colorbar": {
                            "outlinewidth": 0,
                            "ticks": ""
                          }
                        },
                        "type": "scattergeo"
                      }
                    ],
                    "scattergl": [
                      {
                        "marker": {
                          "colorbar": {
                            "outlinewidth": 0,
                            "ticks": ""
                          }
                        },
                        "type": "scattergl"
                      }
                    ],
                    "scattermapbox": [
                      {
                        "marker": {
                          "colorbar": {
                            "outlinewidth": 0,
                            "ticks": ""
                          }
                        },
                        "type": "scattermapbox"
                      }
                    ],
                    "scatterpolar": [
                      {
                        "marker": {
                          "colorbar": {
                            "outlinewidth": 0,
                            "ticks": ""
                          }
                        },
                        "type": "scatterpolar"
                      }
                    ],
                    "scatterpolargl": [
                      {
                        "marker": {
                          "colorbar": {
                            "outlinewidth": 0,
                            "ticks": ""
                          }
                        },
                        "type": "scatterpolargl"
                      }
                    ],
                    "scatterternary": [
                      {
                        "marker": {
                          "colorbar": {
                            "outlinewidth": 0,
                            "ticks": ""
                          }
                        },
                        "type": "scatterternary"
                      }
                    ],
                    "surface": [
                      {
                        "colorbar": {
                          "outlinewidth": 0,
                          "ticks": ""
                        },
                        "colorscale": [
                          [
                            0,
                            "#0d0887"
                          ],
                          [
                            0.1111111111111111,
                            "#46039f"
                          ],
                          [
                            0.2222222222222222,
                            "#7201a8"
                          ],
                          [
                            0.3333333333333333,
                            "#9c179e"
                          ],
                          [
                            0.4444444444444444,
                            "#bd3786"
                          ],
                          [
                            0.5555555555555556,
                            "#d8576b"
                          ],
                          [
                            0.6666666666666666,
                            "#ed7953"
                          ],
                          [
                            0.7777777777777778,
                            "#fb9f3a"
                          ],
                          [
                            0.8888888888888888,
                            "#fdca26"
                          ],
                          [
                            1,
                            "#f0f921"
                          ]
                        ],
                        "type": "surface"
                      }
                    ],
                    "table": [
                      {
                        "cells": {
                          "fill": {
                            "color": "#EBF0F8"
                          },
                          "line": {
                            "color": "white"
                          }
                        },
                        "header": {
                          "fill": {
                            "color": "#C8D4E3"
                          },
                          "line": {
                            "color": "white"
                          }
                        },
                        "type": "table"
                      }
                    ]
                  },
                  "layout": {
                    "annotationdefaults": {
                      "arrowcolor": "#2a3f5f",
                      "arrowhead": 0,
                      "arrowwidth": 1
                    },
                    "autotypenumbers": "strict",
                    "coloraxis": {
                      "colorbar": {
                        "outlinewidth": 0,
                        "ticks": ""
                      }
                    },
                    "colorscale": {
                      "diverging": [
                        [
                          0,
                          "#8e0152"
                        ],
                        [
                          0.1,
                          "#c51b7d"
                        ],
                        [
                          0.2,
                          "#de77ae"
                        ],
                        [
                          0.3,
                          "#f1b6da"
                        ],
                        [
                          0.4,
                          "#fde0ef"
                        ],
                        [
                          0.5,
                          "#f7f7f7"
                        ],
                        [
                          0.6,
                          "#e6f5d0"
                        ],
                        [
                          0.7,
                          "#b8e186"
                        ],
                        [
                          0.8,
                          "#7fbc41"
                        ],
                        [
                          0.9,
                          "#4d9221"
                        ],
                        [
                          1,
                          "#276419"
                        ]
                      ],
                      "sequential": [
                        [
                          0,
                          "#0d0887"
                        ],
                        [
                          0.1111111111111111,
                          "#46039f"
                        ],
                        [
                          0.2222222222222222,
                          "#7201a8"
                        ],
                        [
                          0.3333333333333333,
                          "#9c179e"
                        ],
                        [
                          0.4444444444444444,
                          "#bd3786"
                        ],
                        [
                          0.5555555555555556,
                          "#d8576b"
                        ],
                        [
                          0.6666666666666666,
                          "#ed7953"
                        ],
                        [
                          0.7777777777777778,
                          "#fb9f3a"
                        ],
                        [
                          0.8888888888888888,
                          "#fdca26"
                        ],
                        [
                          1,
                          "#f0f921"
                        ]
                      ],
                      "sequentialminus": [
                        [
                          0,
                          "#0d0887"
                        ],
                        [
                          0.1111111111111111,
                          "#46039f"
                        ],
                        [
                          0.2222222222222222,
                          "#7201a8"
                        ],
                        [
                          0.3333333333333333,
                          "#9c179e"
                        ],
                        [
                          0.4444444444444444,
                          "#bd3786"
                        ],
                        [
                          0.5555555555555556,
                          "#d8576b"
                        ],
                        [
                          0.6666666666666666,
                          "#ed7953"
                        ],
                        [
                          0.7777777777777778,
                          "#fb9f3a"
                        ],
                        [
                          0.8888888888888888,
                          "#fdca26"
                        ],
                        [
                          1,
                          "#f0f921"
                        ]
                      ]
                    },
                    "colorway": [
                      "#636efa",
                      "#EF553B",
                      "#00cc96",
                      "#ab63fa",
                      "#FFA15A",
                      "#19d3f3",
                      "#FF6692",
                      "#B6E880",
                      "#FF97FF",
                      "#FECB52"
                    ],
                    "font": {
                      "color": "#2a3f5f"
                    },
                    "geo": {
                      "bgcolor": "white",
                      "lakecolor": "white",
                      "landcolor": "#E5ECF6",
                      "showlakes": true,
                      "showland": true,
                      "subunitcolor": "white"
                    },
                    "hoverlabel": {
                      "align": "left"
                    },
                    "hovermode": "closest",
                    "mapbox": {
                      "style": "light"
                    },
                    "paper_bgcolor": "white",
                    "plot_bgcolor": "#E5ECF6",
                    "polar": {
                      "angularaxis": {
                        "gridcolor": "white",
                        "linecolor": "white",
                        "ticks": ""
                      },
                      "bgcolor": "#E5ECF6",
                      "radialaxis": {
                        "gridcolor": "white",
                        "linecolor": "white",
                        "ticks": ""
                      }
                    },
                    "scene": {
                      "xaxis": {
                        "backgroundcolor": "#E5ECF6",
                        "gridcolor": "white",
                        "gridwidth": 2,
                        "linecolor": "white",
                        "showbackground": true,
                        "ticks": "",
                        "zerolinecolor": "white"
                      },
                      "yaxis": {
                        "backgroundcolor": "#E5ECF6",
                        "gridcolor": "white",
                        "gridwidth": 2,
                        "linecolor": "white",
                        "showbackground": true,
                        "ticks": "",
                        "zerolinecolor": "white"
                      },
                      "zaxis": {
                        "backgroundcolor": "#E5ECF6",
                        "gridcolor": "white",
                        "gridwidth": 2,
                        "linecolor": "white",
                        "showbackground": true,
                        "ticks": "",
                        "zerolinecolor": "white"
                      }
                    },
                    "shapedefaults": {
                      "line": {
                        "color": "#2a3f5f"
                      }
                    },
                    "ternary": {
                      "aaxis": {
                        "gridcolor": "white",
                        "linecolor": "white",
                        "ticks": ""
                      },
                      "baxis": {
                        "gridcolor": "white",
                        "linecolor": "white",
                        "ticks": ""
                      },
                      "bgcolor": "#E5ECF6",
                      "caxis": {
                        "gridcolor": "white",
                        "linecolor": "white",
                        "ticks": ""
                      }
                    },
                    "title": {
                      "x": 0.05
                    },
                    "xaxis": {
                      "automargin": true,
                      "gridcolor": "white",
                      "linecolor": "white",
                      "ticks": "",
                      "title": {
                        "standoff": 15
                      },
                      "zerolinecolor": "white",
                      "zerolinewidth": 2
                    },
                    "yaxis": {
                      "automargin": true,
                      "gridcolor": "white",
                      "linecolor": "white",
                      "ticks": "",
                      "title": {
                        "standoff": 15
                      },
                      "zerolinecolor": "white",
                      "zerolinewidth": 2
                    }
                  }
                },
                "xaxis": {
                  "anchor": "y",
                  "domain": [
                    0,
                    1
                  ],
                  "title": {
                    "text": "x"
                  }
                },
                "yaxis": {
                  "anchor": "x",
                  "domain": [
                    0,
                    1
                  ],
                  "title": {
                    "text": "y"
                  }
                }
              }
            },
            "text/html": [
              "<div>                            <div id=\"de8beb7a-8e72-4b79-a9a0-4e3dc2e2c26f\" class=\"plotly-graph-div\" style=\"height:525px; width:100%;\"></div>            <script type=\"text/javascript\">                require([\"plotly\"], function(Plotly) {                    window.PLOTLYENV=window.PLOTLYENV || {};                                    if (document.getElementById(\"de8beb7a-8e72-4b79-a9a0-4e3dc2e2c26f\")) {                    Plotly.newPlot(                        \"de8beb7a-8e72-4b79-a9a0-4e3dc2e2c26f\",                        [{\"alignmentgroup\":\"True\",\"hovertemplate\":\"x=%{x}\\u003cbr\\u003ey=%{y}\\u003cextra\\u003e\\u003c\\u002fextra\\u003e\",\"legendgroup\":\"\",\"marker\":{\"color\":\"#636efa\",\"pattern\":{\"shape\":\"\"}},\"name\":\"\",\"offsetgroup\":\"\",\"orientation\":\"v\",\"showlegend\":false,\"textposition\":\"auto\",\"x\":[\"L0H12\",\"L0H15\",\"L0H3\",\"L0H10\",\"L0H11\",\"L0H14\",\"L0H2\",\"L27H8\",\"L26H14\",\"L25H8\",\"L0H7\",\"27_mlp_out\",\"18_mlp_out\",\"21_mlp_out\",\"23_mlp_out\",\"22_mlp_out\",\"L25H12\",\"L0H9\",\"20_mlp_out\",\"L25H2\"],\"xaxis\":\"x\",\"y\":[459.0,96.375,60.375,51.09375,15.78125,14.296875,9.4140625,7.9179688,4.171875,3.6425781,3.6328125,3.5,3.2304688,3.0839844,3.0527344,3.0410156,3.0019531,2.5566406,1.9960938,1.8564453],\"yaxis\":\"y\",\"type\":\"bar\"}],                        {\"template\":{\"data\":{\"histogram2dcontour\":[{\"type\":\"histogram2dcontour\",\"colorbar\":{\"outlinewidth\":0,\"ticks\":\"\"},\"colorscale\":[[0.0,\"#0d0887\"],[0.1111111111111111,\"#46039f\"],[0.2222222222222222,\"#7201a8\"],[0.3333333333333333,\"#9c179e\"],[0.4444444444444444,\"#bd3786\"],[0.5555555555555556,\"#d8576b\"],[0.6666666666666666,\"#ed7953\"],[0.7777777777777778,\"#fb9f3a\"],[0.8888888888888888,\"#fdca26\"],[1.0,\"#f0f921\"]]}],\"choropleth\":[{\"type\":\"choropleth\",\"colorbar\":{\"outlinewidth\":0,\"ticks\":\"\"}}],\"histogram2d\":[{\"type\":\"histogram2d\",\"colorbar\":{\"outlinewidth\":0,\"ticks\":\"\"},\"colorscale\":[[0.0,\"#0d0887\"],[0.1111111111111111,\"#46039f\"],[0.2222222222222222,\"#7201a8\"],[0.3333333333333333,\"#9c179e\"],[0.4444444444444444,\"#bd3786\"],[0.5555555555555556,\"#d8576b\"],[0.6666666666666666,\"#ed7953\"],[0.7777777777777778,\"#fb9f3a\"],[0.8888888888888888,\"#fdca26\"],[1.0,\"#f0f921\"]]}],\"heatmap\":[{\"type\":\"heatmap\",\"colorbar\":{\"outlinewidth\":0,\"ticks\":\"\"},\"colorscale\":[[0.0,\"#0d0887\"],[0.1111111111111111,\"#46039f\"],[0.2222222222222222,\"#7201a8\"],[0.3333333333333333,\"#9c179e\"],[0.4444444444444444,\"#bd3786\"],[0.5555555555555556,\"#d8576b\"],[0.6666666666666666,\"#ed7953\"],[0.7777777777777778,\"#fb9f3a\"],[0.8888888888888888,\"#fdca26\"],[1.0,\"#f0f921\"]]}],\"heatmapgl\":[{\"type\":\"heatmapgl\",\"colorbar\":{\"outlinewidth\":0,\"ticks\":\"\"},\"colorscale\":[[0.0,\"#0d0887\"],[0.1111111111111111,\"#46039f\"],[0.2222222222222222,\"#7201a8\"],[0.3333333333333333,\"#9c179e\"],[0.4444444444444444,\"#bd3786\"],[0.5555555555555556,\"#d8576b\"],[0.6666666666666666,\"#ed7953\"],[0.7777777777777778,\"#fb9f3a\"],[0.8888888888888888,\"#fdca26\"],[1.0,\"#f0f921\"]]}],\"contourcarpet\":[{\"type\":\"contourcarpet\",\"colorbar\":{\"outlinewidth\":0,\"ticks\":\"\"}}],\"contour\":[{\"type\":\"contour\",\"colorbar\":{\"outlinewidth\":0,\"ticks\":\"\"},\"colorscale\":[[0.0,\"#0d0887\"],[0.1111111111111111,\"#46039f\"],[0.2222222222222222,\"#7201a8\"],[0.3333333333333333,\"#9c179e\"],[0.4444444444444444,\"#bd3786\"],[0.5555555555555556,\"#d8576b\"],[0.6666666666666666,\"#ed7953\"],[0.7777777777777778,\"#fb9f3a\"],[0.8888888888888888,\"#fdca26\"],[1.0,\"#f0f921\"]]}],\"surface\":[{\"type\":\"surface\",\"colorbar\":{\"outlinewidth\":0,\"ticks\":\"\"},\"colorscale\":[[0.0,\"#0d0887\"],[0.1111111111111111,\"#46039f\"],[0.2222222222222222,\"#7201a8\"],[0.3333333333333333,\"#9c179e\"],[0.4444444444444444,\"#bd3786\"],[0.5555555555555556,\"#d8576b\"],[0.6666666666666666,\"#ed7953\"],[0.7777777777777778,\"#fb9f3a\"],[0.8888888888888888,\"#fdca26\"],[1.0,\"#f0f921\"]]}],\"mesh3d\":[{\"type\":\"mesh3d\",\"colorbar\":{\"outlinewidth\":0,\"ticks\":\"\"}}],\"scatter\":[{\"fillpattern\":{\"fillmode\":\"overlay\",\"size\":10,\"solidity\":0.2},\"type\":\"scatter\"}],\"parcoords\":[{\"type\":\"parcoords\",\"line\":{\"colorbar\":{\"outlinewidth\":0,\"ticks\":\"\"}}}],\"scatterpolargl\":[{\"type\":\"scatterpolargl\",\"marker\":{\"colorbar\":{\"outlinewidth\":0,\"ticks\":\"\"}}}],\"bar\":[{\"error_x\":{\"color\":\"#2a3f5f\"},\"error_y\":{\"color\":\"#2a3f5f\"},\"marker\":{\"line\":{\"color\":\"#E5ECF6\",\"width\":0.5},\"pattern\":{\"fillmode\":\"overlay\",\"size\":10,\"solidity\":0.2}},\"type\":\"bar\"}],\"scattergeo\":[{\"type\":\"scattergeo\",\"marker\":{\"colorbar\":{\"outlinewidth\":0,\"ticks\":\"\"}}}],\"scatterpolar\":[{\"type\":\"scatterpolar\",\"marker\":{\"colorbar\":{\"outlinewidth\":0,\"ticks\":\"\"}}}],\"histogram\":[{\"marker\":{\"pattern\":{\"fillmode\":\"overlay\",\"size\":10,\"solidity\":0.2}},\"type\":\"histogram\"}],\"scattergl\":[{\"type\":\"scattergl\",\"marker\":{\"colorbar\":{\"outlinewidth\":0,\"ticks\":\"\"}}}],\"scatter3d\":[{\"type\":\"scatter3d\",\"line\":{\"colorbar\":{\"outlinewidth\":0,\"ticks\":\"\"}},\"marker\":{\"colorbar\":{\"outlinewidth\":0,\"ticks\":\"\"}}}],\"scattermapbox\":[{\"type\":\"scattermapbox\",\"marker\":{\"colorbar\":{\"outlinewidth\":0,\"ticks\":\"\"}}}],\"scatterternary\":[{\"type\":\"scatterternary\",\"marker\":{\"colorbar\":{\"outlinewidth\":0,\"ticks\":\"\"}}}],\"scattercarpet\":[{\"type\":\"scattercarpet\",\"marker\":{\"colorbar\":{\"outlinewidth\":0,\"ticks\":\"\"}}}],\"carpet\":[{\"aaxis\":{\"endlinecolor\":\"#2a3f5f\",\"gridcolor\":\"white\",\"linecolor\":\"white\",\"minorgridcolor\":\"white\",\"startlinecolor\":\"#2a3f5f\"},\"baxis\":{\"endlinecolor\":\"#2a3f5f\",\"gridcolor\":\"white\",\"linecolor\":\"white\",\"minorgridcolor\":\"white\",\"startlinecolor\":\"#2a3f5f\"},\"type\":\"carpet\"}],\"table\":[{\"cells\":{\"fill\":{\"color\":\"#EBF0F8\"},\"line\":{\"color\":\"white\"}},\"header\":{\"fill\":{\"color\":\"#C8D4E3\"},\"line\":{\"color\":\"white\"}},\"type\":\"table\"}],\"barpolar\":[{\"marker\":{\"line\":{\"color\":\"#E5ECF6\",\"width\":0.5},\"pattern\":{\"fillmode\":\"overlay\",\"size\":10,\"solidity\":0.2}},\"type\":\"barpolar\"}],\"pie\":[{\"automargin\":true,\"type\":\"pie\"}]},\"layout\":{\"autotypenumbers\":\"strict\",\"colorway\":[\"#636efa\",\"#EF553B\",\"#00cc96\",\"#ab63fa\",\"#FFA15A\",\"#19d3f3\",\"#FF6692\",\"#B6E880\",\"#FF97FF\",\"#FECB52\"],\"font\":{\"color\":\"#2a3f5f\"},\"hovermode\":\"closest\",\"hoverlabel\":{\"align\":\"left\"},\"paper_bgcolor\":\"white\",\"plot_bgcolor\":\"#E5ECF6\",\"polar\":{\"bgcolor\":\"#E5ECF6\",\"angularaxis\":{\"gridcolor\":\"white\",\"linecolor\":\"white\",\"ticks\":\"\"},\"radialaxis\":{\"gridcolor\":\"white\",\"linecolor\":\"white\",\"ticks\":\"\"}},\"ternary\":{\"bgcolor\":\"#E5ECF6\",\"aaxis\":{\"gridcolor\":\"white\",\"linecolor\":\"white\",\"ticks\":\"\"},\"baxis\":{\"gridcolor\":\"white\",\"linecolor\":\"white\",\"ticks\":\"\"},\"caxis\":{\"gridcolor\":\"white\",\"linecolor\":\"white\",\"ticks\":\"\"}},\"coloraxis\":{\"colorbar\":{\"outlinewidth\":0,\"ticks\":\"\"}},\"colorscale\":{\"sequential\":[[0.0,\"#0d0887\"],[0.1111111111111111,\"#46039f\"],[0.2222222222222222,\"#7201a8\"],[0.3333333333333333,\"#9c179e\"],[0.4444444444444444,\"#bd3786\"],[0.5555555555555556,\"#d8576b\"],[0.6666666666666666,\"#ed7953\"],[0.7777777777777778,\"#fb9f3a\"],[0.8888888888888888,\"#fdca26\"],[1.0,\"#f0f921\"]],\"sequentialminus\":[[0.0,\"#0d0887\"],[0.1111111111111111,\"#46039f\"],[0.2222222222222222,\"#7201a8\"],[0.3333333333333333,\"#9c179e\"],[0.4444444444444444,\"#bd3786\"],[0.5555555555555556,\"#d8576b\"],[0.6666666666666666,\"#ed7953\"],[0.7777777777777778,\"#fb9f3a\"],[0.8888888888888888,\"#fdca26\"],[1.0,\"#f0f921\"]],\"diverging\":[[0,\"#8e0152\"],[0.1,\"#c51b7d\"],[0.2,\"#de77ae\"],[0.3,\"#f1b6da\"],[0.4,\"#fde0ef\"],[0.5,\"#f7f7f7\"],[0.6,\"#e6f5d0\"],[0.7,\"#b8e186\"],[0.8,\"#7fbc41\"],[0.9,\"#4d9221\"],[1,\"#276419\"]]},\"xaxis\":{\"gridcolor\":\"white\",\"linecolor\":\"white\",\"ticks\":\"\",\"title\":{\"standoff\":15},\"zerolinecolor\":\"white\",\"automargin\":true,\"zerolinewidth\":2},\"yaxis\":{\"gridcolor\":\"white\",\"linecolor\":\"white\",\"ticks\":\"\",\"title\":{\"standoff\":15},\"zerolinecolor\":\"white\",\"automargin\":true,\"zerolinewidth\":2},\"scene\":{\"xaxis\":{\"backgroundcolor\":\"#E5ECF6\",\"gridcolor\":\"white\",\"linecolor\":\"white\",\"showbackground\":true,\"ticks\":\"\",\"zerolinecolor\":\"white\",\"gridwidth\":2},\"yaxis\":{\"backgroundcolor\":\"#E5ECF6\",\"gridcolor\":\"white\",\"linecolor\":\"white\",\"showbackground\":true,\"ticks\":\"\",\"zerolinecolor\":\"white\",\"gridwidth\":2},\"zaxis\":{\"backgroundcolor\":\"#E5ECF6\",\"gridcolor\":\"white\",\"linecolor\":\"white\",\"showbackground\":true,\"ticks\":\"\",\"zerolinecolor\":\"white\",\"gridwidth\":2}},\"shapedefaults\":{\"line\":{\"color\":\"#2a3f5f\"}},\"annotationdefaults\":{\"arrowcolor\":\"#2a3f5f\",\"arrowhead\":0,\"arrowwidth\":1},\"geo\":{\"bgcolor\":\"white\",\"landcolor\":\"#E5ECF6\",\"subunitcolor\":\"white\",\"showland\":true,\"showlakes\":true,\"lakecolor\":\"white\"},\"title\":{\"x\":0.05},\"mapbox\":{\"style\":\"light\"}}},\"xaxis\":{\"anchor\":\"y\",\"domain\":[0.0,1.0],\"title\":{\"text\":\"x\"}},\"yaxis\":{\"anchor\":\"x\",\"domain\":[0.0,1.0],\"title\":{\"text\":\"y\"}},\"legend\":{\"tracegroupgap\":0},\"margin\":{\"t\":60},\"barmode\":\"relative\"},                        {\"responsive\": true}                    ).then(function(){\n",
              "                            \n",
              "var gd = document.getElementById('de8beb7a-8e72-4b79-a9a0-4e3dc2e2c26f');\n",
              "var x = new MutationObserver(function (mutations, observer) {{\n",
              "        var display = window.getComputedStyle(gd).display;\n",
              "        if (!display || display === 'none') {{\n",
              "            console.log([gd, 'removed!']);\n",
              "            Plotly.purge(gd);\n",
              "            observer.disconnect();\n",
              "        }}\n",
              "}});\n",
              "\n",
              "// Listen for the removal of the full notebook cells\n",
              "var notebookContainer = gd.closest('#notebook-container');\n",
              "if (notebookContainer) {{\n",
              "    x.observe(notebookContainer, {childList: true});\n",
              "}}\n",
              "\n",
              "// Listen for the clearing of the current output cell\n",
              "var outputEl = gd.closest('.output');\n",
              "if (outputEl) {{\n",
              "    x.observe(outputEl, {childList: true});\n",
              "}}\n",
              "\n",
              "                        })                };                });            </script>        </div>"
            ]
          },
          "metadata": {},
          "output_type": "display_data"
        }
      ],
      "source": [
        "fig = px.bar(y=top_k_values, x=top_labels)\n",
        "fig.show()"
      ]
    },
    {
      "cell_type": "code",
      "execution_count": null,
      "metadata": {
        "id": "H7TOJQK5PjNO",
        "outputId": "465475f0-2ed9-4090-8c79-ceed9ac33cad"
      },
      "outputs": [
        {
          "data": {
            "application/vnd.plotly.v1+json": {
              "config": {
                "plotlyServerURL": "https://plot.ly"
              },
              "data": [
                {
                  "alignmentgroup": "True",
                  "hovertemplate": "x=%{x}<br>y=%{y}<extra></extra>",
                  "legendgroup": "",
                  "marker": {
                    "color": "#636efa",
                    "pattern": {
                      "shape": ""
                    }
                  },
                  "name": "",
                  "offsetgroup": "",
                  "orientation": "v",
                  "showlegend": false,
                  "textposition": "auto",
                  "type": "bar",
                  "x": [
                    "L0H12",
                    "L0H4",
                    "L0H15",
                    "L0H3",
                    "L0H10",
                    "L0H11",
                    "L0H6",
                    "L0H14",
                    "0_mlp_out",
                    "L0H2",
                    "26_mlp_out",
                    "L27H8",
                    "L26H14",
                    "L25H8",
                    "L0H7",
                    "27_mlp_out",
                    "18_mlp_out",
                    "21_mlp_out",
                    "23_mlp_out",
                    "22_mlp_out"
                  ],
                  "xaxis": "x",
                  "y": [
                    459,
                    -231,
                    96.375,
                    60.375,
                    51.09375,
                    15.78125,
                    -15.203125,
                    14.296875,
                    -12.3984375,
                    9.4140625,
                    -8.5703125,
                    7.9179688,
                    4.171875,
                    3.6425781,
                    3.6328125,
                    3.5,
                    3.2304688,
                    3.0839844,
                    3.0527344,
                    3.0410156
                  ],
                  "yaxis": "y"
                }
              ],
              "layout": {
                "barmode": "relative",
                "legend": {
                  "tracegroupgap": 0
                },
                "margin": {
                  "t": 60
                },
                "template": {
                  "data": {
                    "bar": [
                      {
                        "error_x": {
                          "color": "#2a3f5f"
                        },
                        "error_y": {
                          "color": "#2a3f5f"
                        },
                        "marker": {
                          "line": {
                            "color": "#E5ECF6",
                            "width": 0.5
                          },
                          "pattern": {
                            "fillmode": "overlay",
                            "size": 10,
                            "solidity": 0.2
                          }
                        },
                        "type": "bar"
                      }
                    ],
                    "barpolar": [
                      {
                        "marker": {
                          "line": {
                            "color": "#E5ECF6",
                            "width": 0.5
                          },
                          "pattern": {
                            "fillmode": "overlay",
                            "size": 10,
                            "solidity": 0.2
                          }
                        },
                        "type": "barpolar"
                      }
                    ],
                    "carpet": [
                      {
                        "aaxis": {
                          "endlinecolor": "#2a3f5f",
                          "gridcolor": "white",
                          "linecolor": "white",
                          "minorgridcolor": "white",
                          "startlinecolor": "#2a3f5f"
                        },
                        "baxis": {
                          "endlinecolor": "#2a3f5f",
                          "gridcolor": "white",
                          "linecolor": "white",
                          "minorgridcolor": "white",
                          "startlinecolor": "#2a3f5f"
                        },
                        "type": "carpet"
                      }
                    ],
                    "choropleth": [
                      {
                        "colorbar": {
                          "outlinewidth": 0,
                          "ticks": ""
                        },
                        "type": "choropleth"
                      }
                    ],
                    "contour": [
                      {
                        "colorbar": {
                          "outlinewidth": 0,
                          "ticks": ""
                        },
                        "colorscale": [
                          [
                            0,
                            "#0d0887"
                          ],
                          [
                            0.1111111111111111,
                            "#46039f"
                          ],
                          [
                            0.2222222222222222,
                            "#7201a8"
                          ],
                          [
                            0.3333333333333333,
                            "#9c179e"
                          ],
                          [
                            0.4444444444444444,
                            "#bd3786"
                          ],
                          [
                            0.5555555555555556,
                            "#d8576b"
                          ],
                          [
                            0.6666666666666666,
                            "#ed7953"
                          ],
                          [
                            0.7777777777777778,
                            "#fb9f3a"
                          ],
                          [
                            0.8888888888888888,
                            "#fdca26"
                          ],
                          [
                            1,
                            "#f0f921"
                          ]
                        ],
                        "type": "contour"
                      }
                    ],
                    "contourcarpet": [
                      {
                        "colorbar": {
                          "outlinewidth": 0,
                          "ticks": ""
                        },
                        "type": "contourcarpet"
                      }
                    ],
                    "heatmap": [
                      {
                        "colorbar": {
                          "outlinewidth": 0,
                          "ticks": ""
                        },
                        "colorscale": [
                          [
                            0,
                            "#0d0887"
                          ],
                          [
                            0.1111111111111111,
                            "#46039f"
                          ],
                          [
                            0.2222222222222222,
                            "#7201a8"
                          ],
                          [
                            0.3333333333333333,
                            "#9c179e"
                          ],
                          [
                            0.4444444444444444,
                            "#bd3786"
                          ],
                          [
                            0.5555555555555556,
                            "#d8576b"
                          ],
                          [
                            0.6666666666666666,
                            "#ed7953"
                          ],
                          [
                            0.7777777777777778,
                            "#fb9f3a"
                          ],
                          [
                            0.8888888888888888,
                            "#fdca26"
                          ],
                          [
                            1,
                            "#f0f921"
                          ]
                        ],
                        "type": "heatmap"
                      }
                    ],
                    "heatmapgl": [
                      {
                        "colorbar": {
                          "outlinewidth": 0,
                          "ticks": ""
                        },
                        "colorscale": [
                          [
                            0,
                            "#0d0887"
                          ],
                          [
                            0.1111111111111111,
                            "#46039f"
                          ],
                          [
                            0.2222222222222222,
                            "#7201a8"
                          ],
                          [
                            0.3333333333333333,
                            "#9c179e"
                          ],
                          [
                            0.4444444444444444,
                            "#bd3786"
                          ],
                          [
                            0.5555555555555556,
                            "#d8576b"
                          ],
                          [
                            0.6666666666666666,
                            "#ed7953"
                          ],
                          [
                            0.7777777777777778,
                            "#fb9f3a"
                          ],
                          [
                            0.8888888888888888,
                            "#fdca26"
                          ],
                          [
                            1,
                            "#f0f921"
                          ]
                        ],
                        "type": "heatmapgl"
                      }
                    ],
                    "histogram": [
                      {
                        "marker": {
                          "pattern": {
                            "fillmode": "overlay",
                            "size": 10,
                            "solidity": 0.2
                          }
                        },
                        "type": "histogram"
                      }
                    ],
                    "histogram2d": [
                      {
                        "colorbar": {
                          "outlinewidth": 0,
                          "ticks": ""
                        },
                        "colorscale": [
                          [
                            0,
                            "#0d0887"
                          ],
                          [
                            0.1111111111111111,
                            "#46039f"
                          ],
                          [
                            0.2222222222222222,
                            "#7201a8"
                          ],
                          [
                            0.3333333333333333,
                            "#9c179e"
                          ],
                          [
                            0.4444444444444444,
                            "#bd3786"
                          ],
                          [
                            0.5555555555555556,
                            "#d8576b"
                          ],
                          [
                            0.6666666666666666,
                            "#ed7953"
                          ],
                          [
                            0.7777777777777778,
                            "#fb9f3a"
                          ],
                          [
                            0.8888888888888888,
                            "#fdca26"
                          ],
                          [
                            1,
                            "#f0f921"
                          ]
                        ],
                        "type": "histogram2d"
                      }
                    ],
                    "histogram2dcontour": [
                      {
                        "colorbar": {
                          "outlinewidth": 0,
                          "ticks": ""
                        },
                        "colorscale": [
                          [
                            0,
                            "#0d0887"
                          ],
                          [
                            0.1111111111111111,
                            "#46039f"
                          ],
                          [
                            0.2222222222222222,
                            "#7201a8"
                          ],
                          [
                            0.3333333333333333,
                            "#9c179e"
                          ],
                          [
                            0.4444444444444444,
                            "#bd3786"
                          ],
                          [
                            0.5555555555555556,
                            "#d8576b"
                          ],
                          [
                            0.6666666666666666,
                            "#ed7953"
                          ],
                          [
                            0.7777777777777778,
                            "#fb9f3a"
                          ],
                          [
                            0.8888888888888888,
                            "#fdca26"
                          ],
                          [
                            1,
                            "#f0f921"
                          ]
                        ],
                        "type": "histogram2dcontour"
                      }
                    ],
                    "mesh3d": [
                      {
                        "colorbar": {
                          "outlinewidth": 0,
                          "ticks": ""
                        },
                        "type": "mesh3d"
                      }
                    ],
                    "parcoords": [
                      {
                        "line": {
                          "colorbar": {
                            "outlinewidth": 0,
                            "ticks": ""
                          }
                        },
                        "type": "parcoords"
                      }
                    ],
                    "pie": [
                      {
                        "automargin": true,
                        "type": "pie"
                      }
                    ],
                    "scatter": [
                      {
                        "fillpattern": {
                          "fillmode": "overlay",
                          "size": 10,
                          "solidity": 0.2
                        },
                        "type": "scatter"
                      }
                    ],
                    "scatter3d": [
                      {
                        "line": {
                          "colorbar": {
                            "outlinewidth": 0,
                            "ticks": ""
                          }
                        },
                        "marker": {
                          "colorbar": {
                            "outlinewidth": 0,
                            "ticks": ""
                          }
                        },
                        "type": "scatter3d"
                      }
                    ],
                    "scattercarpet": [
                      {
                        "marker": {
                          "colorbar": {
                            "outlinewidth": 0,
                            "ticks": ""
                          }
                        },
                        "type": "scattercarpet"
                      }
                    ],
                    "scattergeo": [
                      {
                        "marker": {
                          "colorbar": {
                            "outlinewidth": 0,
                            "ticks": ""
                          }
                        },
                        "type": "scattergeo"
                      }
                    ],
                    "scattergl": [
                      {
                        "marker": {
                          "colorbar": {
                            "outlinewidth": 0,
                            "ticks": ""
                          }
                        },
                        "type": "scattergl"
                      }
                    ],
                    "scattermapbox": [
                      {
                        "marker": {
                          "colorbar": {
                            "outlinewidth": 0,
                            "ticks": ""
                          }
                        },
                        "type": "scattermapbox"
                      }
                    ],
                    "scatterpolar": [
                      {
                        "marker": {
                          "colorbar": {
                            "outlinewidth": 0,
                            "ticks": ""
                          }
                        },
                        "type": "scatterpolar"
                      }
                    ],
                    "scatterpolargl": [
                      {
                        "marker": {
                          "colorbar": {
                            "outlinewidth": 0,
                            "ticks": ""
                          }
                        },
                        "type": "scatterpolargl"
                      }
                    ],
                    "scatterternary": [
                      {
                        "marker": {
                          "colorbar": {
                            "outlinewidth": 0,
                            "ticks": ""
                          }
                        },
                        "type": "scatterternary"
                      }
                    ],
                    "surface": [
                      {
                        "colorbar": {
                          "outlinewidth": 0,
                          "ticks": ""
                        },
                        "colorscale": [
                          [
                            0,
                            "#0d0887"
                          ],
                          [
                            0.1111111111111111,
                            "#46039f"
                          ],
                          [
                            0.2222222222222222,
                            "#7201a8"
                          ],
                          [
                            0.3333333333333333,
                            "#9c179e"
                          ],
                          [
                            0.4444444444444444,
                            "#bd3786"
                          ],
                          [
                            0.5555555555555556,
                            "#d8576b"
                          ],
                          [
                            0.6666666666666666,
                            "#ed7953"
                          ],
                          [
                            0.7777777777777778,
                            "#fb9f3a"
                          ],
                          [
                            0.8888888888888888,
                            "#fdca26"
                          ],
                          [
                            1,
                            "#f0f921"
                          ]
                        ],
                        "type": "surface"
                      }
                    ],
                    "table": [
                      {
                        "cells": {
                          "fill": {
                            "color": "#EBF0F8"
                          },
                          "line": {
                            "color": "white"
                          }
                        },
                        "header": {
                          "fill": {
                            "color": "#C8D4E3"
                          },
                          "line": {
                            "color": "white"
                          }
                        },
                        "type": "table"
                      }
                    ]
                  },
                  "layout": {
                    "annotationdefaults": {
                      "arrowcolor": "#2a3f5f",
                      "arrowhead": 0,
                      "arrowwidth": 1
                    },
                    "autotypenumbers": "strict",
                    "coloraxis": {
                      "colorbar": {
                        "outlinewidth": 0,
                        "ticks": ""
                      }
                    },
                    "colorscale": {
                      "diverging": [
                        [
                          0,
                          "#8e0152"
                        ],
                        [
                          0.1,
                          "#c51b7d"
                        ],
                        [
                          0.2,
                          "#de77ae"
                        ],
                        [
                          0.3,
                          "#f1b6da"
                        ],
                        [
                          0.4,
                          "#fde0ef"
                        ],
                        [
                          0.5,
                          "#f7f7f7"
                        ],
                        [
                          0.6,
                          "#e6f5d0"
                        ],
                        [
                          0.7,
                          "#b8e186"
                        ],
                        [
                          0.8,
                          "#7fbc41"
                        ],
                        [
                          0.9,
                          "#4d9221"
                        ],
                        [
                          1,
                          "#276419"
                        ]
                      ],
                      "sequential": [
                        [
                          0,
                          "#0d0887"
                        ],
                        [
                          0.1111111111111111,
                          "#46039f"
                        ],
                        [
                          0.2222222222222222,
                          "#7201a8"
                        ],
                        [
                          0.3333333333333333,
                          "#9c179e"
                        ],
                        [
                          0.4444444444444444,
                          "#bd3786"
                        ],
                        [
                          0.5555555555555556,
                          "#d8576b"
                        ],
                        [
                          0.6666666666666666,
                          "#ed7953"
                        ],
                        [
                          0.7777777777777778,
                          "#fb9f3a"
                        ],
                        [
                          0.8888888888888888,
                          "#fdca26"
                        ],
                        [
                          1,
                          "#f0f921"
                        ]
                      ],
                      "sequentialminus": [
                        [
                          0,
                          "#0d0887"
                        ],
                        [
                          0.1111111111111111,
                          "#46039f"
                        ],
                        [
                          0.2222222222222222,
                          "#7201a8"
                        ],
                        [
                          0.3333333333333333,
                          "#9c179e"
                        ],
                        [
                          0.4444444444444444,
                          "#bd3786"
                        ],
                        [
                          0.5555555555555556,
                          "#d8576b"
                        ],
                        [
                          0.6666666666666666,
                          "#ed7953"
                        ],
                        [
                          0.7777777777777778,
                          "#fb9f3a"
                        ],
                        [
                          0.8888888888888888,
                          "#fdca26"
                        ],
                        [
                          1,
                          "#f0f921"
                        ]
                      ]
                    },
                    "colorway": [
                      "#636efa",
                      "#EF553B",
                      "#00cc96",
                      "#ab63fa",
                      "#FFA15A",
                      "#19d3f3",
                      "#FF6692",
                      "#B6E880",
                      "#FF97FF",
                      "#FECB52"
                    ],
                    "font": {
                      "color": "#2a3f5f"
                    },
                    "geo": {
                      "bgcolor": "white",
                      "lakecolor": "white",
                      "landcolor": "#E5ECF6",
                      "showlakes": true,
                      "showland": true,
                      "subunitcolor": "white"
                    },
                    "hoverlabel": {
                      "align": "left"
                    },
                    "hovermode": "closest",
                    "mapbox": {
                      "style": "light"
                    },
                    "paper_bgcolor": "white",
                    "plot_bgcolor": "#E5ECF6",
                    "polar": {
                      "angularaxis": {
                        "gridcolor": "white",
                        "linecolor": "white",
                        "ticks": ""
                      },
                      "bgcolor": "#E5ECF6",
                      "radialaxis": {
                        "gridcolor": "white",
                        "linecolor": "white",
                        "ticks": ""
                      }
                    },
                    "scene": {
                      "xaxis": {
                        "backgroundcolor": "#E5ECF6",
                        "gridcolor": "white",
                        "gridwidth": 2,
                        "linecolor": "white",
                        "showbackground": true,
                        "ticks": "",
                        "zerolinecolor": "white"
                      },
                      "yaxis": {
                        "backgroundcolor": "#E5ECF6",
                        "gridcolor": "white",
                        "gridwidth": 2,
                        "linecolor": "white",
                        "showbackground": true,
                        "ticks": "",
                        "zerolinecolor": "white"
                      },
                      "zaxis": {
                        "backgroundcolor": "#E5ECF6",
                        "gridcolor": "white",
                        "gridwidth": 2,
                        "linecolor": "white",
                        "showbackground": true,
                        "ticks": "",
                        "zerolinecolor": "white"
                      }
                    },
                    "shapedefaults": {
                      "line": {
                        "color": "#2a3f5f"
                      }
                    },
                    "ternary": {
                      "aaxis": {
                        "gridcolor": "white",
                        "linecolor": "white",
                        "ticks": ""
                      },
                      "baxis": {
                        "gridcolor": "white",
                        "linecolor": "white",
                        "ticks": ""
                      },
                      "bgcolor": "#E5ECF6",
                      "caxis": {
                        "gridcolor": "white",
                        "linecolor": "white",
                        "ticks": ""
                      }
                    },
                    "title": {
                      "x": 0.05
                    },
                    "xaxis": {
                      "automargin": true,
                      "gridcolor": "white",
                      "linecolor": "white",
                      "ticks": "",
                      "title": {
                        "standoff": 15
                      },
                      "zerolinecolor": "white",
                      "zerolinewidth": 2
                    },
                    "yaxis": {
                      "automargin": true,
                      "gridcolor": "white",
                      "linecolor": "white",
                      "ticks": "",
                      "title": {
                        "standoff": 15
                      },
                      "zerolinecolor": "white",
                      "zerolinewidth": 2
                    }
                  }
                },
                "xaxis": {
                  "anchor": "y",
                  "domain": [
                    0,
                    1
                  ],
                  "title": {
                    "text": "x"
                  }
                },
                "yaxis": {
                  "anchor": "x",
                  "domain": [
                    0,
                    1
                  ],
                  "title": {
                    "text": "y"
                  }
                }
              }
            },
            "text/html": [
              "<div>                            <div id=\"258d1034-10f3-42d0-9925-02f804ea2be1\" class=\"plotly-graph-div\" style=\"height:525px; width:100%;\"></div>            <script type=\"text/javascript\">                require([\"plotly\"], function(Plotly) {                    window.PLOTLYENV=window.PLOTLYENV || {};                                    if (document.getElementById(\"258d1034-10f3-42d0-9925-02f804ea2be1\")) {                    Plotly.newPlot(                        \"258d1034-10f3-42d0-9925-02f804ea2be1\",                        [{\"alignmentgroup\":\"True\",\"hovertemplate\":\"x=%{x}\\u003cbr\\u003ey=%{y}\\u003cextra\\u003e\\u003c\\u002fextra\\u003e\",\"legendgroup\":\"\",\"marker\":{\"color\":\"#636efa\",\"pattern\":{\"shape\":\"\"}},\"name\":\"\",\"offsetgroup\":\"\",\"orientation\":\"v\",\"showlegend\":false,\"textposition\":\"auto\",\"x\":[\"L0H12\",\"L0H4\",\"L0H15\",\"L0H3\",\"L0H10\",\"L0H11\",\"L0H6\",\"L0H14\",\"0_mlp_out\",\"L0H2\",\"26_mlp_out\",\"L27H8\",\"L26H14\",\"L25H8\",\"L0H7\",\"27_mlp_out\",\"18_mlp_out\",\"21_mlp_out\",\"23_mlp_out\",\"22_mlp_out\"],\"xaxis\":\"x\",\"y\":[459.0,-231.0,96.375,60.375,51.09375,15.78125,-15.203125,14.296875,-12.3984375,9.4140625,-8.5703125,7.9179688,4.171875,3.6425781,3.6328125,3.5,3.2304688,3.0839844,3.0527344,3.0410156],\"yaxis\":\"y\",\"type\":\"bar\"}],                        {\"template\":{\"data\":{\"histogram2dcontour\":[{\"type\":\"histogram2dcontour\",\"colorbar\":{\"outlinewidth\":0,\"ticks\":\"\"},\"colorscale\":[[0.0,\"#0d0887\"],[0.1111111111111111,\"#46039f\"],[0.2222222222222222,\"#7201a8\"],[0.3333333333333333,\"#9c179e\"],[0.4444444444444444,\"#bd3786\"],[0.5555555555555556,\"#d8576b\"],[0.6666666666666666,\"#ed7953\"],[0.7777777777777778,\"#fb9f3a\"],[0.8888888888888888,\"#fdca26\"],[1.0,\"#f0f921\"]]}],\"choropleth\":[{\"type\":\"choropleth\",\"colorbar\":{\"outlinewidth\":0,\"ticks\":\"\"}}],\"histogram2d\":[{\"type\":\"histogram2d\",\"colorbar\":{\"outlinewidth\":0,\"ticks\":\"\"},\"colorscale\":[[0.0,\"#0d0887\"],[0.1111111111111111,\"#46039f\"],[0.2222222222222222,\"#7201a8\"],[0.3333333333333333,\"#9c179e\"],[0.4444444444444444,\"#bd3786\"],[0.5555555555555556,\"#d8576b\"],[0.6666666666666666,\"#ed7953\"],[0.7777777777777778,\"#fb9f3a\"],[0.8888888888888888,\"#fdca26\"],[1.0,\"#f0f921\"]]}],\"heatmap\":[{\"type\":\"heatmap\",\"colorbar\":{\"outlinewidth\":0,\"ticks\":\"\"},\"colorscale\":[[0.0,\"#0d0887\"],[0.1111111111111111,\"#46039f\"],[0.2222222222222222,\"#7201a8\"],[0.3333333333333333,\"#9c179e\"],[0.4444444444444444,\"#bd3786\"],[0.5555555555555556,\"#d8576b\"],[0.6666666666666666,\"#ed7953\"],[0.7777777777777778,\"#fb9f3a\"],[0.8888888888888888,\"#fdca26\"],[1.0,\"#f0f921\"]]}],\"heatmapgl\":[{\"type\":\"heatmapgl\",\"colorbar\":{\"outlinewidth\":0,\"ticks\":\"\"},\"colorscale\":[[0.0,\"#0d0887\"],[0.1111111111111111,\"#46039f\"],[0.2222222222222222,\"#7201a8\"],[0.3333333333333333,\"#9c179e\"],[0.4444444444444444,\"#bd3786\"],[0.5555555555555556,\"#d8576b\"],[0.6666666666666666,\"#ed7953\"],[0.7777777777777778,\"#fb9f3a\"],[0.8888888888888888,\"#fdca26\"],[1.0,\"#f0f921\"]]}],\"contourcarpet\":[{\"type\":\"contourcarpet\",\"colorbar\":{\"outlinewidth\":0,\"ticks\":\"\"}}],\"contour\":[{\"type\":\"contour\",\"colorbar\":{\"outlinewidth\":0,\"ticks\":\"\"},\"colorscale\":[[0.0,\"#0d0887\"],[0.1111111111111111,\"#46039f\"],[0.2222222222222222,\"#7201a8\"],[0.3333333333333333,\"#9c179e\"],[0.4444444444444444,\"#bd3786\"],[0.5555555555555556,\"#d8576b\"],[0.6666666666666666,\"#ed7953\"],[0.7777777777777778,\"#fb9f3a\"],[0.8888888888888888,\"#fdca26\"],[1.0,\"#f0f921\"]]}],\"surface\":[{\"type\":\"surface\",\"colorbar\":{\"outlinewidth\":0,\"ticks\":\"\"},\"colorscale\":[[0.0,\"#0d0887\"],[0.1111111111111111,\"#46039f\"],[0.2222222222222222,\"#7201a8\"],[0.3333333333333333,\"#9c179e\"],[0.4444444444444444,\"#bd3786\"],[0.5555555555555556,\"#d8576b\"],[0.6666666666666666,\"#ed7953\"],[0.7777777777777778,\"#fb9f3a\"],[0.8888888888888888,\"#fdca26\"],[1.0,\"#f0f921\"]]}],\"mesh3d\":[{\"type\":\"mesh3d\",\"colorbar\":{\"outlinewidth\":0,\"ticks\":\"\"}}],\"scatter\":[{\"fillpattern\":{\"fillmode\":\"overlay\",\"size\":10,\"solidity\":0.2},\"type\":\"scatter\"}],\"parcoords\":[{\"type\":\"parcoords\",\"line\":{\"colorbar\":{\"outlinewidth\":0,\"ticks\":\"\"}}}],\"scatterpolargl\":[{\"type\":\"scatterpolargl\",\"marker\":{\"colorbar\":{\"outlinewidth\":0,\"ticks\":\"\"}}}],\"bar\":[{\"error_x\":{\"color\":\"#2a3f5f\"},\"error_y\":{\"color\":\"#2a3f5f\"},\"marker\":{\"line\":{\"color\":\"#E5ECF6\",\"width\":0.5},\"pattern\":{\"fillmode\":\"overlay\",\"size\":10,\"solidity\":0.2}},\"type\":\"bar\"}],\"scattergeo\":[{\"type\":\"scattergeo\",\"marker\":{\"colorbar\":{\"outlinewidth\":0,\"ticks\":\"\"}}}],\"scatterpolar\":[{\"type\":\"scatterpolar\",\"marker\":{\"colorbar\":{\"outlinewidth\":0,\"ticks\":\"\"}}}],\"histogram\":[{\"marker\":{\"pattern\":{\"fillmode\":\"overlay\",\"size\":10,\"solidity\":0.2}},\"type\":\"histogram\"}],\"scattergl\":[{\"type\":\"scattergl\",\"marker\":{\"colorbar\":{\"outlinewidth\":0,\"ticks\":\"\"}}}],\"scatter3d\":[{\"type\":\"scatter3d\",\"line\":{\"colorbar\":{\"outlinewidth\":0,\"ticks\":\"\"}},\"marker\":{\"colorbar\":{\"outlinewidth\":0,\"ticks\":\"\"}}}],\"scattermapbox\":[{\"type\":\"scattermapbox\",\"marker\":{\"colorbar\":{\"outlinewidth\":0,\"ticks\":\"\"}}}],\"scatterternary\":[{\"type\":\"scatterternary\",\"marker\":{\"colorbar\":{\"outlinewidth\":0,\"ticks\":\"\"}}}],\"scattercarpet\":[{\"type\":\"scattercarpet\",\"marker\":{\"colorbar\":{\"outlinewidth\":0,\"ticks\":\"\"}}}],\"carpet\":[{\"aaxis\":{\"endlinecolor\":\"#2a3f5f\",\"gridcolor\":\"white\",\"linecolor\":\"white\",\"minorgridcolor\":\"white\",\"startlinecolor\":\"#2a3f5f\"},\"baxis\":{\"endlinecolor\":\"#2a3f5f\",\"gridcolor\":\"white\",\"linecolor\":\"white\",\"minorgridcolor\":\"white\",\"startlinecolor\":\"#2a3f5f\"},\"type\":\"carpet\"}],\"table\":[{\"cells\":{\"fill\":{\"color\":\"#EBF0F8\"},\"line\":{\"color\":\"white\"}},\"header\":{\"fill\":{\"color\":\"#C8D4E3\"},\"line\":{\"color\":\"white\"}},\"type\":\"table\"}],\"barpolar\":[{\"marker\":{\"line\":{\"color\":\"#E5ECF6\",\"width\":0.5},\"pattern\":{\"fillmode\":\"overlay\",\"size\":10,\"solidity\":0.2}},\"type\":\"barpolar\"}],\"pie\":[{\"automargin\":true,\"type\":\"pie\"}]},\"layout\":{\"autotypenumbers\":\"strict\",\"colorway\":[\"#636efa\",\"#EF553B\",\"#00cc96\",\"#ab63fa\",\"#FFA15A\",\"#19d3f3\",\"#FF6692\",\"#B6E880\",\"#FF97FF\",\"#FECB52\"],\"font\":{\"color\":\"#2a3f5f\"},\"hovermode\":\"closest\",\"hoverlabel\":{\"align\":\"left\"},\"paper_bgcolor\":\"white\",\"plot_bgcolor\":\"#E5ECF6\",\"polar\":{\"bgcolor\":\"#E5ECF6\",\"angularaxis\":{\"gridcolor\":\"white\",\"linecolor\":\"white\",\"ticks\":\"\"},\"radialaxis\":{\"gridcolor\":\"white\",\"linecolor\":\"white\",\"ticks\":\"\"}},\"ternary\":{\"bgcolor\":\"#E5ECF6\",\"aaxis\":{\"gridcolor\":\"white\",\"linecolor\":\"white\",\"ticks\":\"\"},\"baxis\":{\"gridcolor\":\"white\",\"linecolor\":\"white\",\"ticks\":\"\"},\"caxis\":{\"gridcolor\":\"white\",\"linecolor\":\"white\",\"ticks\":\"\"}},\"coloraxis\":{\"colorbar\":{\"outlinewidth\":0,\"ticks\":\"\"}},\"colorscale\":{\"sequential\":[[0.0,\"#0d0887\"],[0.1111111111111111,\"#46039f\"],[0.2222222222222222,\"#7201a8\"],[0.3333333333333333,\"#9c179e\"],[0.4444444444444444,\"#bd3786\"],[0.5555555555555556,\"#d8576b\"],[0.6666666666666666,\"#ed7953\"],[0.7777777777777778,\"#fb9f3a\"],[0.8888888888888888,\"#fdca26\"],[1.0,\"#f0f921\"]],\"sequentialminus\":[[0.0,\"#0d0887\"],[0.1111111111111111,\"#46039f\"],[0.2222222222222222,\"#7201a8\"],[0.3333333333333333,\"#9c179e\"],[0.4444444444444444,\"#bd3786\"],[0.5555555555555556,\"#d8576b\"],[0.6666666666666666,\"#ed7953\"],[0.7777777777777778,\"#fb9f3a\"],[0.8888888888888888,\"#fdca26\"],[1.0,\"#f0f921\"]],\"diverging\":[[0,\"#8e0152\"],[0.1,\"#c51b7d\"],[0.2,\"#de77ae\"],[0.3,\"#f1b6da\"],[0.4,\"#fde0ef\"],[0.5,\"#f7f7f7\"],[0.6,\"#e6f5d0\"],[0.7,\"#b8e186\"],[0.8,\"#7fbc41\"],[0.9,\"#4d9221\"],[1,\"#276419\"]]},\"xaxis\":{\"gridcolor\":\"white\",\"linecolor\":\"white\",\"ticks\":\"\",\"title\":{\"standoff\":15},\"zerolinecolor\":\"white\",\"automargin\":true,\"zerolinewidth\":2},\"yaxis\":{\"gridcolor\":\"white\",\"linecolor\":\"white\",\"ticks\":\"\",\"title\":{\"standoff\":15},\"zerolinecolor\":\"white\",\"automargin\":true,\"zerolinewidth\":2},\"scene\":{\"xaxis\":{\"backgroundcolor\":\"#E5ECF6\",\"gridcolor\":\"white\",\"linecolor\":\"white\",\"showbackground\":true,\"ticks\":\"\",\"zerolinecolor\":\"white\",\"gridwidth\":2},\"yaxis\":{\"backgroundcolor\":\"#E5ECF6\",\"gridcolor\":\"white\",\"linecolor\":\"white\",\"showbackground\":true,\"ticks\":\"\",\"zerolinecolor\":\"white\",\"gridwidth\":2},\"zaxis\":{\"backgroundcolor\":\"#E5ECF6\",\"gridcolor\":\"white\",\"linecolor\":\"white\",\"showbackground\":true,\"ticks\":\"\",\"zerolinecolor\":\"white\",\"gridwidth\":2}},\"shapedefaults\":{\"line\":{\"color\":\"#2a3f5f\"}},\"annotationdefaults\":{\"arrowcolor\":\"#2a3f5f\",\"arrowhead\":0,\"arrowwidth\":1},\"geo\":{\"bgcolor\":\"white\",\"landcolor\":\"#E5ECF6\",\"subunitcolor\":\"white\",\"showland\":true,\"showlakes\":true,\"lakecolor\":\"white\"},\"title\":{\"x\":0.05},\"mapbox\":{\"style\":\"light\"}}},\"xaxis\":{\"anchor\":\"y\",\"domain\":[0.0,1.0],\"title\":{\"text\":\"x\"}},\"yaxis\":{\"anchor\":\"x\",\"domain\":[0.0,1.0],\"title\":{\"text\":\"y\"}},\"legend\":{\"tracegroupgap\":0},\"margin\":{\"t\":60},\"barmode\":\"relative\"},                        {\"responsive\": true}                    ).then(function(){\n",
              "                            \n",
              "var gd = document.getElementById('258d1034-10f3-42d0-9925-02f804ea2be1');\n",
              "var x = new MutationObserver(function (mutations, observer) {{\n",
              "        var display = window.getComputedStyle(gd).display;\n",
              "        if (!display || display === 'none') {{\n",
              "            console.log([gd, 'removed!']);\n",
              "            Plotly.purge(gd);\n",
              "            observer.disconnect();\n",
              "        }}\n",
              "}});\n",
              "\n",
              "// Listen for the removal of the full notebook cells\n",
              "var notebookContainer = gd.closest('#notebook-container');\n",
              "if (notebookContainer) {{\n",
              "    x.observe(notebookContainer, {childList: true});\n",
              "}}\n",
              "\n",
              "// Listen for the clearing of the current output cell\n",
              "var outputEl = gd.closest('.output');\n",
              "if (outputEl) {{\n",
              "    x.observe(outputEl, {childList: true});\n",
              "}}\n",
              "\n",
              "                        })                };                });            </script>        </div>"
            ]
          },
          "metadata": {},
          "output_type": "display_data"
        }
      ],
      "source": [
        "top_labels = [component_labels[i] for i in large_mag_indices]\n",
        "fig = px.bar(y=large_mag_values, x=top_labels)\n",
        "fig.show()"
      ]
    },
    {
      "cell_type": "code",
      "execution_count": null,
      "metadata": {
        "id": "4QTWyHQWPjNO"
      },
      "outputs": [],
      "source": [
        "correct_dir = # unembed(anwer) - mean(unembed(all))"
      ]
    }
  ],
  "metadata": {
    "accelerator": "GPU",
    "colab": {
      "gpuType": "L4",
      "machine_shape": "hm",
      "provenance": []
    },
    "kernelspec": {
      "display_name": "Python 3",
      "name": "python3"
    },
    "language_info": {
      "codemirror_mode": {
        "name": "ipython",
        "version": 3
      },
      "file_extension": ".py",
      "mimetype": "text/x-python",
      "name": "python",
      "nbconvert_exporter": "python",
      "pygments_lexer": "ipython3",
      "version": "3.11.5"
    },
    "widgets": {
      "application/vnd.jupyter.widget-state+json": {
        "04fccfc223f741a1902cf028f232d0b6": {
          "model_module": "@jupyter-widgets/controls",
          "model_module_version": "1.5.0",
          "model_name": "DescriptionStyleModel",
          "state": {
            "_model_module": "@jupyter-widgets/controls",
            "_model_module_version": "1.5.0",
            "_model_name": "DescriptionStyleModel",
            "_view_count": null,
            "_view_module": "@jupyter-widgets/base",
            "_view_module_version": "1.2.0",
            "_view_name": "StyleView",
            "description_width": ""
          }
        },
        "0e54ca4b712a419490d82bee4f3a830e": {
          "model_module": "@jupyter-widgets/base",
          "model_module_version": "1.2.0",
          "model_name": "LayoutModel",
          "state": {
            "_model_module": "@jupyter-widgets/base",
            "_model_module_version": "1.2.0",
            "_model_name": "LayoutModel",
            "_view_count": null,
            "_view_module": "@jupyter-widgets/base",
            "_view_module_version": "1.2.0",
            "_view_name": "LayoutView",
            "align_content": null,
            "align_items": null,
            "align_self": null,
            "border": null,
            "bottom": null,
            "display": null,
            "flex": null,
            "flex_flow": null,
            "grid_area": null,
            "grid_auto_columns": null,
            "grid_auto_flow": null,
            "grid_auto_rows": null,
            "grid_column": null,
            "grid_gap": null,
            "grid_row": null,
            "grid_template_areas": null,
            "grid_template_columns": null,
            "grid_template_rows": null,
            "height": null,
            "justify_content": null,
            "justify_items": null,
            "left": null,
            "margin": null,
            "max_height": null,
            "max_width": null,
            "min_height": null,
            "min_width": null,
            "object_fit": null,
            "object_position": null,
            "order": null,
            "overflow": null,
            "overflow_x": null,
            "overflow_y": null,
            "padding": null,
            "right": null,
            "top": null,
            "visibility": null,
            "width": null
          }
        },
        "2703b69563c4444b94d67e91425dac36": {
          "model_module": "@jupyter-widgets/controls",
          "model_module_version": "1.5.0",
          "model_name": "HTMLModel",
          "state": {
            "_dom_classes": [],
            "_model_module": "@jupyter-widgets/controls",
            "_model_module_version": "1.5.0",
            "_model_name": "HTMLModel",
            "_view_count": null,
            "_view_module": "@jupyter-widgets/controls",
            "_view_module_version": "1.5.0",
            "_view_name": "HTMLView",
            "description": "",
            "description_tooltip": null,
            "layout": "IPY_MODEL_0e54ca4b712a419490d82bee4f3a830e",
            "placeholder": "​",
            "style": "IPY_MODEL_f252d65eb47c40db8f77be7903831ab2",
            "value": "Loading checkpoint shards: 100%"
          }
        },
        "2c2d2f8d73fb44689fd77efa460f1db0": {
          "model_module": "@jupyter-widgets/base",
          "model_module_version": "1.2.0",
          "model_name": "LayoutModel",
          "state": {
            "_model_module": "@jupyter-widgets/base",
            "_model_module_version": "1.2.0",
            "_model_name": "LayoutModel",
            "_view_count": null,
            "_view_module": "@jupyter-widgets/base",
            "_view_module_version": "1.2.0",
            "_view_name": "LayoutView",
            "align_content": null,
            "align_items": null,
            "align_self": null,
            "border": null,
            "bottom": null,
            "display": null,
            "flex": null,
            "flex_flow": null,
            "grid_area": null,
            "grid_auto_columns": null,
            "grid_auto_flow": null,
            "grid_auto_rows": null,
            "grid_column": null,
            "grid_gap": null,
            "grid_row": null,
            "grid_template_areas": null,
            "grid_template_columns": null,
            "grid_template_rows": null,
            "height": null,
            "justify_content": null,
            "justify_items": null,
            "left": null,
            "margin": null,
            "max_height": null,
            "max_width": null,
            "min_height": null,
            "min_width": null,
            "object_fit": null,
            "object_position": null,
            "order": null,
            "overflow": null,
            "overflow_x": null,
            "overflow_y": null,
            "padding": null,
            "right": null,
            "top": null,
            "visibility": null,
            "width": null
          }
        },
        "341f9b58831d4848af5e7de8a8ef523c": {
          "model_module": "@jupyter-widgets/base",
          "model_module_version": "1.2.0",
          "model_name": "LayoutModel",
          "state": {
            "_model_module": "@jupyter-widgets/base",
            "_model_module_version": "1.2.0",
            "_model_name": "LayoutModel",
            "_view_count": null,
            "_view_module": "@jupyter-widgets/base",
            "_view_module_version": "1.2.0",
            "_view_name": "LayoutView",
            "align_content": null,
            "align_items": null,
            "align_self": null,
            "border": null,
            "bottom": null,
            "display": null,
            "flex": null,
            "flex_flow": null,
            "grid_area": null,
            "grid_auto_columns": null,
            "grid_auto_flow": null,
            "grid_auto_rows": null,
            "grid_column": null,
            "grid_gap": null,
            "grid_row": null,
            "grid_template_areas": null,
            "grid_template_columns": null,
            "grid_template_rows": null,
            "height": null,
            "justify_content": null,
            "justify_items": null,
            "left": null,
            "margin": null,
            "max_height": null,
            "max_width": null,
            "min_height": null,
            "min_width": null,
            "object_fit": null,
            "object_position": null,
            "order": null,
            "overflow": null,
            "overflow_x": null,
            "overflow_y": null,
            "padding": null,
            "right": null,
            "top": null,
            "visibility": null,
            "width": null
          }
        },
        "34a9ed4a739b4812894ae49b25fa812a": {
          "model_module": "@jupyter-widgets/controls",
          "model_module_version": "1.5.0",
          "model_name": "ProgressStyleModel",
          "state": {
            "_model_module": "@jupyter-widgets/controls",
            "_model_module_version": "1.5.0",
            "_model_name": "ProgressStyleModel",
            "_view_count": null,
            "_view_module": "@jupyter-widgets/base",
            "_view_module_version": "1.2.0",
            "_view_name": "StyleView",
            "bar_color": null,
            "description_width": ""
          }
        },
        "37f47dc0aa134d7d8d2bc27f4735a1d2": {
          "model_module": "@jupyter-widgets/controls",
          "model_module_version": "1.5.0",
          "model_name": "HTMLModel",
          "state": {
            "_dom_classes": [],
            "_model_module": "@jupyter-widgets/controls",
            "_model_module_version": "1.5.0",
            "_model_name": "HTMLModel",
            "_view_count": null,
            "_view_module": "@jupyter-widgets/controls",
            "_view_module_version": "1.5.0",
            "_view_name": "HTMLView",
            "description": "",
            "description_tooltip": null,
            "layout": "IPY_MODEL_c999ab242d6b4f169740e350212b2333",
            "placeholder": "​",
            "style": "IPY_MODEL_04fccfc223f741a1902cf028f232d0b6",
            "value": " 10/10 [00:02&lt;00:00,  6.83it/s]"
          }
        },
        "63ef9ed75ef942388a46c8a674040055": {
          "model_module": "@jupyter-widgets/controls",
          "model_module_version": "1.5.0",
          "model_name": "HBoxModel",
          "state": {
            "_dom_classes": [],
            "_model_module": "@jupyter-widgets/controls",
            "_model_module_version": "1.5.0",
            "_model_name": "HBoxModel",
            "_view_count": null,
            "_view_module": "@jupyter-widgets/controls",
            "_view_module_version": "1.5.0",
            "_view_name": "HBoxView",
            "box_style": "",
            "children": [
              "IPY_MODEL_ce9339584ffd4e3eb744dd0b45cf8bf8",
              "IPY_MODEL_db7c772287cc498c93034ced61ae2e8a",
              "IPY_MODEL_37f47dc0aa134d7d8d2bc27f4735a1d2"
            ],
            "layout": "IPY_MODEL_a765b9a9d98a4d46beabff997bae3de0"
          }
        },
        "64d7a3f3c6e74c46b44c8d1eac9dbdc4": {
          "model_module": "@jupyter-widgets/controls",
          "model_module_version": "1.5.0",
          "model_name": "HBoxModel",
          "state": {
            "_dom_classes": [],
            "_model_module": "@jupyter-widgets/controls",
            "_model_module_version": "1.5.0",
            "_model_name": "HBoxModel",
            "_view_count": null,
            "_view_module": "@jupyter-widgets/controls",
            "_view_module_version": "1.5.0",
            "_view_name": "HBoxView",
            "box_style": "",
            "children": [
              "IPY_MODEL_2703b69563c4444b94d67e91425dac36",
              "IPY_MODEL_75a2f8b3dca4440fb0bdbfc54466a925",
              "IPY_MODEL_c5f64d92cdfe4d589000998826bfd8a8"
            ],
            "layout": "IPY_MODEL_341f9b58831d4848af5e7de8a8ef523c"
          }
        },
        "75a2f8b3dca4440fb0bdbfc54466a925": {
          "model_module": "@jupyter-widgets/controls",
          "model_module_version": "1.5.0",
          "model_name": "FloatProgressModel",
          "state": {
            "_dom_classes": [],
            "_model_module": "@jupyter-widgets/controls",
            "_model_module_version": "1.5.0",
            "_model_name": "FloatProgressModel",
            "_view_count": null,
            "_view_module": "@jupyter-widgets/controls",
            "_view_module_version": "1.5.0",
            "_view_name": "ProgressView",
            "bar_style": "success",
            "description": "",
            "description_tooltip": null,
            "layout": "IPY_MODEL_ce1e025a4a724c919efb3954bf49b372",
            "max": 4,
            "min": 0,
            "orientation": "horizontal",
            "style": "IPY_MODEL_34a9ed4a739b4812894ae49b25fa812a",
            "value": 4
          }
        },
        "79a958b524944db3bb3b10dec8634d28": {
          "model_module": "@jupyter-widgets/controls",
          "model_module_version": "1.5.0",
          "model_name": "DescriptionStyleModel",
          "state": {
            "_model_module": "@jupyter-widgets/controls",
            "_model_module_version": "1.5.0",
            "_model_name": "DescriptionStyleModel",
            "_view_count": null,
            "_view_module": "@jupyter-widgets/base",
            "_view_module_version": "1.2.0",
            "_view_name": "StyleView",
            "description_width": ""
          }
        },
        "7a38bc65b9f84536a45f4abe93552445": {
          "model_module": "@jupyter-widgets/controls",
          "model_module_version": "1.5.0",
          "model_name": "ProgressStyleModel",
          "state": {
            "_model_module": "@jupyter-widgets/controls",
            "_model_module_version": "1.5.0",
            "_model_name": "ProgressStyleModel",
            "_view_count": null,
            "_view_module": "@jupyter-widgets/base",
            "_view_module_version": "1.2.0",
            "_view_name": "StyleView",
            "bar_color": null,
            "description_width": ""
          }
        },
        "a765b9a9d98a4d46beabff997bae3de0": {
          "model_module": "@jupyter-widgets/base",
          "model_module_version": "1.2.0",
          "model_name": "LayoutModel",
          "state": {
            "_model_module": "@jupyter-widgets/base",
            "_model_module_version": "1.2.0",
            "_model_name": "LayoutModel",
            "_view_count": null,
            "_view_module": "@jupyter-widgets/base",
            "_view_module_version": "1.2.0",
            "_view_name": "LayoutView",
            "align_content": null,
            "align_items": null,
            "align_self": null,
            "border": null,
            "bottom": null,
            "display": null,
            "flex": null,
            "flex_flow": null,
            "grid_area": null,
            "grid_auto_columns": null,
            "grid_auto_flow": null,
            "grid_auto_rows": null,
            "grid_column": null,
            "grid_gap": null,
            "grid_row": null,
            "grid_template_areas": null,
            "grid_template_columns": null,
            "grid_template_rows": null,
            "height": null,
            "justify_content": null,
            "justify_items": null,
            "left": null,
            "margin": null,
            "max_height": null,
            "max_width": null,
            "min_height": null,
            "min_width": null,
            "object_fit": null,
            "object_position": null,
            "order": null,
            "overflow": null,
            "overflow_x": null,
            "overflow_y": null,
            "padding": null,
            "right": null,
            "top": null,
            "visibility": null,
            "width": null
          }
        },
        "b5f31d0446c5469f8d1912a11dce78a0": {
          "model_module": "@jupyter-widgets/controls",
          "model_module_version": "1.5.0",
          "model_name": "DescriptionStyleModel",
          "state": {
            "_model_module": "@jupyter-widgets/controls",
            "_model_module_version": "1.5.0",
            "_model_name": "DescriptionStyleModel",
            "_view_count": null,
            "_view_module": "@jupyter-widgets/base",
            "_view_module_version": "1.2.0",
            "_view_name": "StyleView",
            "description_width": ""
          }
        },
        "c2d51ced7054455687044955d9f3395b": {
          "model_module": "@jupyter-widgets/base",
          "model_module_version": "1.2.0",
          "model_name": "LayoutModel",
          "state": {
            "_model_module": "@jupyter-widgets/base",
            "_model_module_version": "1.2.0",
            "_model_name": "LayoutModel",
            "_view_count": null,
            "_view_module": "@jupyter-widgets/base",
            "_view_module_version": "1.2.0",
            "_view_name": "LayoutView",
            "align_content": null,
            "align_items": null,
            "align_self": null,
            "border": null,
            "bottom": null,
            "display": null,
            "flex": null,
            "flex_flow": null,
            "grid_area": null,
            "grid_auto_columns": null,
            "grid_auto_flow": null,
            "grid_auto_rows": null,
            "grid_column": null,
            "grid_gap": null,
            "grid_row": null,
            "grid_template_areas": null,
            "grid_template_columns": null,
            "grid_template_rows": null,
            "height": null,
            "justify_content": null,
            "justify_items": null,
            "left": null,
            "margin": null,
            "max_height": null,
            "max_width": null,
            "min_height": null,
            "min_width": null,
            "object_fit": null,
            "object_position": null,
            "order": null,
            "overflow": null,
            "overflow_x": null,
            "overflow_y": null,
            "padding": null,
            "right": null,
            "top": null,
            "visibility": null,
            "width": null
          }
        },
        "c5f64d92cdfe4d589000998826bfd8a8": {
          "model_module": "@jupyter-widgets/controls",
          "model_module_version": "1.5.0",
          "model_name": "HTMLModel",
          "state": {
            "_dom_classes": [],
            "_model_module": "@jupyter-widgets/controls",
            "_model_module_version": "1.5.0",
            "_model_name": "HTMLModel",
            "_view_count": null,
            "_view_module": "@jupyter-widgets/controls",
            "_view_module_version": "1.5.0",
            "_view_name": "HTMLView",
            "description": "",
            "description_tooltip": null,
            "layout": "IPY_MODEL_cf31691074b14e05a8d9ddf3d771d391",
            "placeholder": "​",
            "style": "IPY_MODEL_79a958b524944db3bb3b10dec8634d28",
            "value": " 4/4 [00:59&lt;00:00, 13.40s/it]"
          }
        },
        "c999ab242d6b4f169740e350212b2333": {
          "model_module": "@jupyter-widgets/base",
          "model_module_version": "1.2.0",
          "model_name": "LayoutModel",
          "state": {
            "_model_module": "@jupyter-widgets/base",
            "_model_module_version": "1.2.0",
            "_model_name": "LayoutModel",
            "_view_count": null,
            "_view_module": "@jupyter-widgets/base",
            "_view_module_version": "1.2.0",
            "_view_name": "LayoutView",
            "align_content": null,
            "align_items": null,
            "align_self": null,
            "border": null,
            "bottom": null,
            "display": null,
            "flex": null,
            "flex_flow": null,
            "grid_area": null,
            "grid_auto_columns": null,
            "grid_auto_flow": null,
            "grid_auto_rows": null,
            "grid_column": null,
            "grid_gap": null,
            "grid_row": null,
            "grid_template_areas": null,
            "grid_template_columns": null,
            "grid_template_rows": null,
            "height": null,
            "justify_content": null,
            "justify_items": null,
            "left": null,
            "margin": null,
            "max_height": null,
            "max_width": null,
            "min_height": null,
            "min_width": null,
            "object_fit": null,
            "object_position": null,
            "order": null,
            "overflow": null,
            "overflow_x": null,
            "overflow_y": null,
            "padding": null,
            "right": null,
            "top": null,
            "visibility": null,
            "width": null
          }
        },
        "ce1e025a4a724c919efb3954bf49b372": {
          "model_module": "@jupyter-widgets/base",
          "model_module_version": "1.2.0",
          "model_name": "LayoutModel",
          "state": {
            "_model_module": "@jupyter-widgets/base",
            "_model_module_version": "1.2.0",
            "_model_name": "LayoutModel",
            "_view_count": null,
            "_view_module": "@jupyter-widgets/base",
            "_view_module_version": "1.2.0",
            "_view_name": "LayoutView",
            "align_content": null,
            "align_items": null,
            "align_self": null,
            "border": null,
            "bottom": null,
            "display": null,
            "flex": null,
            "flex_flow": null,
            "grid_area": null,
            "grid_auto_columns": null,
            "grid_auto_flow": null,
            "grid_auto_rows": null,
            "grid_column": null,
            "grid_gap": null,
            "grid_row": null,
            "grid_template_areas": null,
            "grid_template_columns": null,
            "grid_template_rows": null,
            "height": null,
            "justify_content": null,
            "justify_items": null,
            "left": null,
            "margin": null,
            "max_height": null,
            "max_width": null,
            "min_height": null,
            "min_width": null,
            "object_fit": null,
            "object_position": null,
            "order": null,
            "overflow": null,
            "overflow_x": null,
            "overflow_y": null,
            "padding": null,
            "right": null,
            "top": null,
            "visibility": null,
            "width": null
          }
        },
        "ce9339584ffd4e3eb744dd0b45cf8bf8": {
          "model_module": "@jupyter-widgets/controls",
          "model_module_version": "1.5.0",
          "model_name": "HTMLModel",
          "state": {
            "_dom_classes": [],
            "_model_module": "@jupyter-widgets/controls",
            "_model_module_version": "1.5.0",
            "_model_name": "HTMLModel",
            "_view_count": null,
            "_view_module": "@jupyter-widgets/controls",
            "_view_module_version": "1.5.0",
            "_view_name": "HTMLView",
            "description": "",
            "description_tooltip": null,
            "layout": "IPY_MODEL_c2d51ced7054455687044955d9f3395b",
            "placeholder": "​",
            "style": "IPY_MODEL_b5f31d0446c5469f8d1912a11dce78a0",
            "value": "100%"
          }
        },
        "cf31691074b14e05a8d9ddf3d771d391": {
          "model_module": "@jupyter-widgets/base",
          "model_module_version": "1.2.0",
          "model_name": "LayoutModel",
          "state": {
            "_model_module": "@jupyter-widgets/base",
            "_model_module_version": "1.2.0",
            "_model_name": "LayoutModel",
            "_view_count": null,
            "_view_module": "@jupyter-widgets/base",
            "_view_module_version": "1.2.0",
            "_view_name": "LayoutView",
            "align_content": null,
            "align_items": null,
            "align_self": null,
            "border": null,
            "bottom": null,
            "display": null,
            "flex": null,
            "flex_flow": null,
            "grid_area": null,
            "grid_auto_columns": null,
            "grid_auto_flow": null,
            "grid_auto_rows": null,
            "grid_column": null,
            "grid_gap": null,
            "grid_row": null,
            "grid_template_areas": null,
            "grid_template_columns": null,
            "grid_template_rows": null,
            "height": null,
            "justify_content": null,
            "justify_items": null,
            "left": null,
            "margin": null,
            "max_height": null,
            "max_width": null,
            "min_height": null,
            "min_width": null,
            "object_fit": null,
            "object_position": null,
            "order": null,
            "overflow": null,
            "overflow_x": null,
            "overflow_y": null,
            "padding": null,
            "right": null,
            "top": null,
            "visibility": null,
            "width": null
          }
        },
        "db7c772287cc498c93034ced61ae2e8a": {
          "model_module": "@jupyter-widgets/controls",
          "model_module_version": "1.5.0",
          "model_name": "FloatProgressModel",
          "state": {
            "_dom_classes": [],
            "_model_module": "@jupyter-widgets/controls",
            "_model_module_version": "1.5.0",
            "_model_name": "FloatProgressModel",
            "_view_count": null,
            "_view_module": "@jupyter-widgets/controls",
            "_view_module_version": "1.5.0",
            "_view_name": "ProgressView",
            "bar_style": "success",
            "description": "",
            "description_tooltip": null,
            "layout": "IPY_MODEL_2c2d2f8d73fb44689fd77efa460f1db0",
            "max": 10,
            "min": 0,
            "orientation": "horizontal",
            "style": "IPY_MODEL_7a38bc65b9f84536a45f4abe93552445",
            "value": 10
          }
        },
        "f252d65eb47c40db8f77be7903831ab2": {
          "model_module": "@jupyter-widgets/controls",
          "model_module_version": "1.5.0",
          "model_name": "DescriptionStyleModel",
          "state": {
            "_model_module": "@jupyter-widgets/controls",
            "_model_module_version": "1.5.0",
            "_model_name": "DescriptionStyleModel",
            "_view_count": null,
            "_view_module": "@jupyter-widgets/base",
            "_view_module_version": "1.2.0",
            "_view_name": "StyleView",
            "description_width": ""
          }
        }
      }
    }
  },
  "nbformat": 4,
  "nbformat_minor": 0
}
